{
 "cells": [
  {
   "cell_type": "markdown",
   "id": "9fb48609-3720-4c4c-9369-9fe051d62317",
   "metadata": {},
   "source": [
    "# Looking at Summary Statistics with Classics"
   ]
  },
  {
   "cell_type": "code",
   "execution_count": null,
   "id": "43298459-baac-4653-95c9-4985bb456202",
   "metadata": {},
   "outputs": [],
   "source": [
    "import pandas as pd"
   ]
  },
  {
   "cell_type": "code",
   "execution_count": null,
   "id": "f36d96da-ad39-4243-b96b-221897c935a5",
   "metadata": {},
   "outputs": [],
   "source": [
    "df = pd.read_csv('data/classics.csv')"
   ]
  },
  {
   "cell_type": "code",
   "execution_count": null,
   "id": "51fc9f9b-16aa-4783-903e-03abac998247",
   "metadata": {},
   "outputs": [],
   "source": [
    "df.describe()"
   ]
  },
  {
   "cell_type": "code",
   "execution_count": null,
   "id": "4298afd1-57be-49e0-bc1b-538cc3dbf64e",
   "metadata": {},
   "outputs": [],
   "source": [
    "df['metrics.statistics.words'].describe()"
   ]
  },
  {
   "cell_type": "code",
   "execution_count": null,
   "id": "204f05b4-dd49-4980-b5c0-ebc9d16067d6",
   "metadata": {},
   "outputs": [],
   "source": [
    "df['metrics.sentiments.polarity'].describe()"
   ]
  },
  {
   "cell_type": "code",
   "execution_count": null,
   "id": "117541a8-da73-4b14-a18d-dff2f1c5071d",
   "metadata": {},
   "outputs": [],
   "source": [
    "df['metrics.sentiments.polarity'].count()"
   ]
  },
  {
   "cell_type": "code",
   "execution_count": null,
   "id": "cd1bcfb8-9397-40b9-8d1c-f94725d201a4",
   "metadata": {},
   "outputs": [],
   "source": [
    "df['metrics.sentiments.polarity'].mean()"
   ]
  },
  {
   "cell_type": "code",
   "execution_count": null,
   "id": "aa07d4b7-c05e-4ec0-8832-3c4d3bebcc15",
   "metadata": {},
   "outputs": [],
   "source": [
    "df2 = df.sort_values(by='metrics.sentiments.polarity').copy()"
   ]
  },
  {
   "cell_type": "code",
   "execution_count": null,
   "id": "ae81cecb-ea75-4ef6-bc3e-cbbb1bd4d357",
   "metadata": {},
   "outputs": [],
   "source": [
    "df2['metrics.sentiments.polarity']"
   ]
  },
  {
   "cell_type": "code",
   "execution_count": null,
   "id": "4be78a76-4821-4d80-a3bd-2822368fb8fb",
   "metadata": {},
   "outputs": [],
   "source": [
    "df2 = df.sort_values(by='metrics.sentiments.polarity',ignore_index=True).copy()"
   ]
  },
  {
   "cell_type": "code",
   "execution_count": null,
   "id": "fd811d48-b009-4d93-a6ad-9072c75b99e8",
   "metadata": {},
   "outputs": [],
   "source": [
    "df2['metrics.sentiments.polarity']"
   ]
  },
  {
   "cell_type": "code",
   "execution_count": null,
   "id": "200235e3-2ba1-4b93-b9e2-1d1b7d97c6df",
   "metadata": {},
   "outputs": [],
   "source": [
    "df2.loc[int(0.1*1005):int(0.9*1005),'metrics.sentiments.polarity'].mean()"
   ]
  },
  {
   "cell_type": "code",
   "execution_count": null,
   "id": "a5488b8e-633d-4745-99e4-638c6f7e2991",
   "metadata": {},
   "outputs": [],
   "source": [
    "df['metrics.sentiments.polarity'].median()"
   ]
  },
  {
   "cell_type": "code",
   "execution_count": null,
   "id": "298239f0-a0bf-45cd-a44c-7a0ad3218ae7",
   "metadata": {},
   "outputs": [],
   "source": [
    "df['metrics.sentiments.polarity'].std()"
   ]
  },
  {
   "cell_type": "code",
   "execution_count": null,
   "id": "051925d5-ca58-438b-a847-e2c12a325d50",
   "metadata": {},
   "outputs": [],
   "source": [
    "df['metrics.sentiments.polarity'].quantile()"
   ]
  },
  {
   "cell_type": "markdown",
   "id": "bfffb4a3-a8d1-4a60-97b2-96d30fbd0976",
   "metadata": {},
   "source": [
    "default above is the 50% quantile --> the median"
   ]
  },
  {
   "cell_type": "code",
   "execution_count": null,
   "id": "7a38c225-2b9e-48e6-9d1a-66e41c9c70da",
   "metadata": {},
   "outputs": [],
   "source": [
    "df['metrics.sentiments.polarity'].quantile(0.25)"
   ]
  },
  {
   "cell_type": "code",
   "execution_count": null,
   "id": "1fa2fc35-5bf6-4f5c-994f-bbefd5a19d95",
   "metadata": {},
   "outputs": [],
   "source": [
    "df['metrics.sentiments.polarity'].quantile(0.75)"
   ]
  },
  {
   "cell_type": "code",
   "execution_count": null,
   "id": "3a54ce09-72a5-411e-836c-7739ccef5d8d",
   "metadata": {},
   "outputs": [],
   "source": [
    "df['metrics.sentiments.polarity'].plot(kind='box')"
   ]
  },
  {
   "cell_type": "markdown",
   "id": "a44a2cd3-a8e4-4e94-934b-a9276712619f",
   "metadata": {},
   "source": [
    "Here the box goes from Q1 to Q3 (0.07 to 0.13), the whiskers extend to show the range but no more than 1.5 * IQR (Q3-Q1).  Data outside that range is shown as separate dots."
   ]
  },
  {
   "cell_type": "code",
   "execution_count": null,
   "id": "d5d1c07f-134b-4f39-945a-d2e3e37d8a45",
   "metadata": {},
   "outputs": [],
   "source": [
    "df[df['metrics.sentiments.polarity']<0]"
   ]
  },
  {
   "cell_type": "code",
   "execution_count": null,
   "id": "b087f78f-6103-409d-9eb4-3988e7a4269b",
   "metadata": {},
   "outputs": [],
   "source": [
    "df[['metrics.statistics.sentences','metrics.statistics.words']].corr()"
   ]
  },
  {
   "cell_type": "code",
   "execution_count": null,
   "id": "013e5f4b-5c60-4580-b428-d511f82b5bdd",
   "metadata": {},
   "outputs": [],
   "source": [
    "import numpy as np"
   ]
  },
  {
   "cell_type": "code",
   "execution_count": null,
   "id": "9268284c-bcc9-4e42-9f12-3c674776a7f5",
   "metadata": {},
   "outputs": [],
   "source": [
    "np.corrcoef(df['metrics.statistics.sentences'],df['metrics.statistics.words'])"
   ]
  },
  {
   "cell_type": "markdown",
   "id": "5e88b8de-4c63-4838-8bb1-0886a6d7714d",
   "metadata": {},
   "source": [
    "very good correlation there"
   ]
  },
  {
   "cell_type": "code",
   "execution_count": null,
   "id": "1b4b81b9-6819-458b-858b-094e1f0176c3",
   "metadata": {},
   "outputs": [],
   "source": [
    "df[['metrics.statistics.average sentence per word','metrics.statistics.words']].corr()"
   ]
  },
  {
   "cell_type": "code",
   "execution_count": null,
   "id": "ca1465d6-c373-4229-bdd4-0e66999633ba",
   "metadata": {},
   "outputs": [],
   "source": [
    "df[['bibliography.author.birth','metrics.statistics.words']].corr()"
   ]
  },
  {
   "cell_type": "code",
   "execution_count": null,
   "id": "7af73176-052f-449a-904a-3539c489964b",
   "metadata": {},
   "outputs": [],
   "source": [
    "df.info()"
   ]
  },
  {
   "cell_type": "code",
   "execution_count": null,
   "id": "dffa5a9c-ade5-4847-a690-fc4e08606a00",
   "metadata": {},
   "outputs": [],
   "source": [
    "df3 = df[['metadata.downloads','bibliography.author.birth',\n",
    "          'bibliography.author.death','bibliography.publication.year',\n",
    "          'metrics.difficulty.automated readability index',\n",
    "          'metrics.difficulty.coleman liau index',\n",
    "          'metrics.difficulty.dale chall readability score']].copy()"
   ]
  },
  {
   "cell_type": "code",
   "execution_count": null,
   "id": "15aa15dd-7fdd-47a0-bf33-bcb08079aa95",
   "metadata": {},
   "outputs": [],
   "source": [
    "df3.corr()"
   ]
  },
  {
   "cell_type": "code",
   "execution_count": null,
   "id": "6c1c1de1-d076-4943-82dd-edb9755b479c",
   "metadata": {},
   "outputs": [],
   "source": [
    "df3.corr()['metadata.downloads'].sort_values(ascending=False)"
   ]
  },
  {
   "cell_type": "code",
   "execution_count": null,
   "id": "3a653c05-b55a-4919-acac-65ca81880588",
   "metadata": {},
   "outputs": [],
   "source": [
    "df.plot(kind='scatter',\n",
    "        x='metrics.statistics.sentences',\n",
    "        y='metrics.statistics.words')"
   ]
  },
  {
   "cell_type": "code",
   "execution_count": null,
   "id": "e4d29c4f-8764-46a8-b1b4-1acba0471bc7",
   "metadata": {},
   "outputs": [],
   "source": [
    "df.plot(kind='scatter',\n",
    "        x='metrics.statistics.average sentence per word',\n",
    "        y='metrics.statistics.words')"
   ]
  },
  {
   "cell_type": "code",
   "execution_count": null,
   "id": "d1023b41-c235-4e04-be6b-4654744bbaab",
   "metadata": {},
   "outputs": [],
   "source": [
    "df.plot(kind='scatter',\n",
    "        x='bibliography.author.birth',\n",
    "        y='metrics.statistics.words')"
   ]
  },
  {
   "cell_type": "markdown",
   "id": "ec6eaeae-ee6e-4792-a3da-dc9d77a496e6",
   "metadata": {},
   "source": [
    "by looking at this, we might find that there's more to our data than we thought\n",
    "\n",
    "To me, I thought at first that maybe I was making the wrong plot because of year 0 or -500? But of course that makes sense..."
   ]
  },
  {
   "cell_type": "code",
   "execution_count": null,
   "id": "3b9442df-ab0b-47b3-bcbb-c72647c4c862",
   "metadata": {},
   "outputs": [],
   "source": [
    "df[df['bibliography.author.birth'] < -500]"
   ]
  },
  {
   "cell_type": "code",
   "execution_count": null,
   "id": "f86197cf-34b1-46ba-b850-2c44a8e7488c",
   "metadata": {},
   "outputs": [],
   "source": [
    "df.plot(kind='scatter',\n",
    "        x='metrics.statistics.sentences',\n",
    "        y='metrics.statistics.words')"
   ]
  },
  {
   "cell_type": "code",
   "execution_count": null,
   "id": "faf83ecb-6721-466b-9589-075af6fc5e7c",
   "metadata": {},
   "outputs": [],
   "source": [
    "df[df['metrics.statistics.sentences'] > 50000].count()"
   ]
  },
  {
   "cell_type": "code",
   "execution_count": null,
   "id": "6909762f-8863-4ef9-9130-59ee2a6572e8",
   "metadata": {},
   "outputs": [],
   "source": [
    "df[df['metrics.statistics.sentences'] > 50000]"
   ]
  },
  {
   "cell_type": "code",
   "execution_count": null,
   "id": "aa94156c-d545-490c-82dc-654bfdacf5ff",
   "metadata": {},
   "outputs": [],
   "source": [
    "df[df['metrics.statistics.sentences'] < 50000].plot(kind='scatter',\n",
    "        x='metrics.statistics.sentences',\n",
    "        y='metrics.statistics.words')"
   ]
  },
  {
   "cell_type": "code",
   "execution_count": null,
   "id": "f7b2e40f-71b1-4c01-8e5b-3b7479a299e2",
   "metadata": {},
   "outputs": [],
   "source": [
    "df[df['metrics.statistics.sentences'] < 50000].plot(kind='hexbin',\n",
    "                                                    cmap='gist_stern_r',\n",
    "        x='metrics.statistics.sentences',\n",
    "        y='metrics.statistics.words')"
   ]
  },
  {
   "cell_type": "code",
   "execution_count": null,
   "id": "3b82a599-59aa-413f-8fac-ed1e84edc243",
   "metadata": {},
   "outputs": [],
   "source": [
    "df[(df['metrics.statistics.sentences'] < 20000) & \n",
    "  (df['metrics.statistics.sentences'] < 2000)].plot(kind='hexbin',\n",
    "                                                    cmap='gist_stern_r',\n",
    "        x='metrics.statistics.sentences',\n",
    "        y='metrics.statistics.words')"
   ]
  },
  {
   "cell_type": "code",
   "execution_count": null,
   "id": "7d726ee2-44c5-4726-af4c-720d8ea84323",
   "metadata": {},
   "outputs": [],
   "source": [
    "df['metrics.sentiments.polarity'].plot(kind='hist')"
   ]
  },
  {
   "cell_type": "code",
   "execution_count": null,
   "id": "2d9fdf6a-27f2-4dbf-8644-bc3062e44bc4",
   "metadata": {},
   "outputs": [],
   "source": [
    "df['metrics.sentiments.polarity'].plot(kind='hist',bins=25)\n",
    "print('Mean: ',df['metrics.sentiments.polarity'].mean())\n",
    "print('Median: ',df['metrics.sentiments.polarity'].median())\n",
    "print('Mode: ',df['metrics.sentiments.polarity'].mode())"
   ]
  },
  {
   "cell_type": "code",
   "execution_count": null,
   "id": "85f89cbf-7e3d-4d52-9604-cca60356680f",
   "metadata": {},
   "outputs": [],
   "source": [
    "df['metrics.sentiments.polarity'].plot(kind='hist',bins=25)\n",
    "print('Mean: ',df['metrics.sentiments.polarity'].mean())\n",
    "print('Median: ',df['metrics.sentiments.polarity'].median())\n",
    "print('Mode: ',df[['metrics.sentiments.polarity']].mode(axis=1))"
   ]
  },
  {
   "cell_type": "code",
   "execution_count": null,
   "id": "51c8f69b-5564-45b0-80c1-6b2d68cfb825",
   "metadata": {},
   "outputs": [],
   "source": [
    "df['bibliography.author.birth'].plot(kind='hist',bins=25)\n",
    "print('Mean: ',df['bibliography.author.birth'].mean())\n",
    "print('Median: ',df['bibliography.author.birth'].median())\n",
    "print('Mode: ',df['bibliography.author.birth'].mode())"
   ]
  },
  {
   "cell_type": "code",
   "execution_count": null,
   "id": "cd2b28b2-db83-43de-8bdc-bece376216e6",
   "metadata": {},
   "outputs": [],
   "source": []
  }
 ],
 "metadata": {
  "kernelspec": {
   "display_name": "Python 3 (ipykernel)",
   "language": "python",
   "name": "python3"
  },
  "language_info": {
   "codemirror_mode": {
    "name": "ipython",
    "version": 3
   },
   "file_extension": ".py",
   "mimetype": "text/x-python",
   "name": "python",
   "nbconvert_exporter": "python",
   "pygments_lexer": "ipython3",
   "version": "3.9.6"
  }
 },
 "nbformat": 4,
 "nbformat_minor": 5
}
