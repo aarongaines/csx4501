{
 "cells": [
  {
   "cell_type": "markdown",
   "metadata": {},
   "source": [
    "Instructions\n",
    "\n",
    "### Step 1: Make a new Jupyter notebook\n",
    "\n",
    "### Step 2: Get a CORGIS dataset\n",
    "\n",
    "    In class this week, I looked at the Classics dataset from CORGIS: The Collection of Really Great, Interesting, Situated Datasets\n",
    "    Chose another dataset from CORGIS [here](https://corgis-edu.github.io/corgis/csv) and download the CSV file\n",
    "        If you go to any topic's page, you'll find the csv file download link under \"Download\"\n",
    "\n",
    "### Step 2: Look at descriptive statistics of this dataset\n",
    "\n",
    "    Use pandas in your notebook to import this data into a dataframe\n",
    "    Print descriptive statistics about the columns using the \"describe\" method\n",
    "    Choose a numerical column (which I'll call COL1) and calculate the mean, median, mode, and trimmed mean.\n",
    "        Don't use the \"describe\" method, but you can use other convenient pandas methods to do this if you want\n",
    "        For the trimmed mean, you can choose what to trim, but comment on the amount you're choosing to trim.\n",
    "    Plot a histogram of COL1 data and comment on the relative locations of the mean, median, mode, and trimmed mean.\n",
    "    Calculate the mean absolute deviation, the standard deviation, and the interquartile range (the difference of the 75% and 25% quantile)\n",
    "        Comment as well on how they compare to each other and to the histogram plot.\n",
    "    Plot a box plot of COL1\n",
    "        Comment on how the locations of the calculated median and the 25% and 75% quantiles match with features in the plot\n",
    "    Make a new column in your dataframe called \"COL1_mean_split\"\n",
    "        The values in the \"COL1_mean_split\" column should be equal to either 0, 1, or 2.  For any given row:\n",
    "            If the COL1 value < 0.5 * (COL1 mean), set the COL1_mean_split value to 0\n",
    "            If the COL1 value >= 0.5 * (COL1 mean) and COL1 value < (COL1 mean), set the COL1_mean_split value to 1\n",
    "            If the COL1 value >= (COL1 mean), set the COL1_mean_split value to 2\n",
    "    Make a bar plot showing the count of the values of 0, 1, and 2 in the COL1_mean_split column\n",
    "    Make another box plot of the COL1 values grouped by COL1_mean_split values\n",
    "        There should be three boxes in the plot, one for each group of rows corresponding to COL1_mean_split values of 0, 1, or 2\n",
    "    Choose another numerical column (COL3)\n",
    "        Calculate the correlation between COL1 and COL3\n",
    "        Make a scatter plot of COL1 vs COL3 and comment on whether the calculated correlation value makes sense.\n",
    "        Make a hexagonal binning plot of COL1 vs COL3\n",
    "    BONUS POINT (optional):\n",
    "        Make a facet grid using the seaborn library, where you plot a hexagonal binning plot of COL1 and COL3 grouped into different facets based on the three values of COL1_mean_split\n",
    "\n",
    "### Step 3: When you are done, commit the notebook to your \"csx4501\" repository on GitHub and submit the url for your repository."
   ]
  },
  {
   "cell_type": "code",
   "execution_count": 21,
   "metadata": {},
   "outputs": [],
   "source": [
    "import pandas as pd\n",
    "import matplotlib_inline\n",
    "import matplotlib.pyplot as plt\n",
    "\n",
    "data = pd.read_csv('finance.csv')"
   ]
  },
  {
   "cell_type": "code",
   "execution_count": 3,
   "metadata": {},
   "outputs": [
    {
     "data": {
      "text/html": [
       "<div>\n",
       "<style scoped>\n",
       "    .dataframe tbody tr th:only-of-type {\n",
       "        vertical-align: middle;\n",
       "    }\n",
       "\n",
       "    .dataframe tbody tr th {\n",
       "        vertical-align: top;\n",
       "    }\n",
       "\n",
       "    .dataframe thead th {\n",
       "        text-align: right;\n",
       "    }\n",
       "</style>\n",
       "<table border=\"1\" class=\"dataframe\">\n",
       "  <thead>\n",
       "    <tr style=\"text-align: right;\">\n",
       "      <th></th>\n",
       "      <th>Year</th>\n",
       "      <th>Totals.Capital outlay</th>\n",
       "      <th>Totals.Revenue</th>\n",
       "      <th>Totals.Expenditure</th>\n",
       "      <th>Totals.General expenditure</th>\n",
       "      <th>Totals.General revenue</th>\n",
       "      <th>Totals.Insurance trust  revenue</th>\n",
       "      <th>Totals.Intergovernmental</th>\n",
       "      <th>Totals.License tax</th>\n",
       "      <th>Totals.Selective sales tax</th>\n",
       "      <th>...</th>\n",
       "      <th>Details.Welfare.Welfare Institution Total Expenditure</th>\n",
       "      <th>Details.Natural Resources.Parks.Parks Total Expenditure</th>\n",
       "      <th>Details.Transportation.Highways.Highways Total Expenditure</th>\n",
       "      <th>Totals. Debt at end of fiscal year</th>\n",
       "      <th>Details.Insurance benefits and repayments</th>\n",
       "      <th>Details.Interest on debt</th>\n",
       "      <th>Details.Interest on general debt</th>\n",
       "      <th>Details.Miscellaneous general revenue</th>\n",
       "      <th>Details.Other taxes</th>\n",
       "      <th>Details.Police protection</th>\n",
       "    </tr>\n",
       "  </thead>\n",
       "  <tbody>\n",
       "    <tr>\n",
       "      <th>count</th>\n",
       "      <td>1051.000000</td>\n",
       "      <td>1.051000e+03</td>\n",
       "      <td>1.051000e+03</td>\n",
       "      <td>1.051000e+03</td>\n",
       "      <td>1.051000e+03</td>\n",
       "      <td>1.051000e+03</td>\n",
       "      <td>1.051000e+03</td>\n",
       "      <td>1.051000e+03</td>\n",
       "      <td>1.051000e+03</td>\n",
       "      <td>1.051000e+03</td>\n",
       "      <td>...</td>\n",
       "      <td>1.051000e+03</td>\n",
       "      <td>1.051000e+03</td>\n",
       "      <td>1.051000e+03</td>\n",
       "      <td>1.051000e+03</td>\n",
       "      <td>1.051000e+03</td>\n",
       "      <td>1.051000e+03</td>\n",
       "      <td>1.051000e+03</td>\n",
       "      <td>1.051000e+03</td>\n",
       "      <td>1.051000e+03</td>\n",
       "      <td>1.051000e+03</td>\n",
       "    </tr>\n",
       "    <tr>\n",
       "      <th>mean</th>\n",
       "      <td>2004.660324</td>\n",
       "      <td>1.897134e+06</td>\n",
       "      <td>3.214530e+07</td>\n",
       "      <td>3.016482e+07</td>\n",
       "      <td>2.601980e+07</td>\n",
       "      <td>2.611299e+07</td>\n",
       "      <td>5.734721e+06</td>\n",
       "      <td>8.127423e+06</td>\n",
       "      <td>8.052776e+05</td>\n",
       "      <td>2.106018e+06</td>\n",
       "      <td>...</td>\n",
       "      <td>7.749695e+06</td>\n",
       "      <td>1.054444e+05</td>\n",
       "      <td>1.851621e+06</td>\n",
       "      <td>1.569157e+07</td>\n",
       "      <td>3.683345e+06</td>\n",
       "      <td>7.383553e+05</td>\n",
       "      <td>7.059350e+05</td>\n",
       "      <td>2.054346e+06</td>\n",
       "      <td>6.716348e+05</td>\n",
       "      <td>2.306463e+05</td>\n",
       "    </tr>\n",
       "    <tr>\n",
       "      <th>std</th>\n",
       "      <td>9.106656</td>\n",
       "      <td>2.870673e+06</td>\n",
       "      <td>5.438942e+07</td>\n",
       "      <td>4.926051e+07</td>\n",
       "      <td>4.221715e+07</td>\n",
       "      <td>4.257791e+07</td>\n",
       "      <td>1.205031e+07</td>\n",
       "      <td>1.313870e+07</td>\n",
       "      <td>1.420171e+06</td>\n",
       "      <td>3.270740e+06</td>\n",
       "      <td>...</td>\n",
       "      <td>1.413716e+07</td>\n",
       "      <td>1.831275e+05</td>\n",
       "      <td>2.718455e+06</td>\n",
       "      <td>2.713353e+07</td>\n",
       "      <td>6.420024e+06</td>\n",
       "      <td>1.327405e+06</td>\n",
       "      <td>1.239537e+06</td>\n",
       "      <td>3.107746e+06</td>\n",
       "      <td>1.190691e+06</td>\n",
       "      <td>3.642294e+05</td>\n",
       "    </tr>\n",
       "    <tr>\n",
       "      <th>min</th>\n",
       "      <td>1992.000000</td>\n",
       "      <td>1.075010e+05</td>\n",
       "      <td>1.756015e+06</td>\n",
       "      <td>1.564882e+06</td>\n",
       "      <td>1.489533e+06</td>\n",
       "      <td>1.518437e+06</td>\n",
       "      <td>-3.057854e+06</td>\n",
       "      <td>4.122110e+05</td>\n",
       "      <td>5.483100e+04</td>\n",
       "      <td>5.634800e+04</td>\n",
       "      <td>...</td>\n",
       "      <td>1.914680e+05</td>\n",
       "      <td>4.297000e+03</td>\n",
       "      <td>1.570050e+05</td>\n",
       "      <td>4.857870e+05</td>\n",
       "      <td>7.534900e+04</td>\n",
       "      <td>1.958400e+04</td>\n",
       "      <td>1.958400e+04</td>\n",
       "      <td>1.133920e+05</td>\n",
       "      <td>0.000000e+00</td>\n",
       "      <td>4.953000e+03</td>\n",
       "    </tr>\n",
       "    <tr>\n",
       "      <th>25%</th>\n",
       "      <td>1997.000000</td>\n",
       "      <td>5.854825e+05</td>\n",
       "      <td>8.600680e+06</td>\n",
       "      <td>7.908556e+06</td>\n",
       "      <td>7.010340e+06</td>\n",
       "      <td>7.277203e+06</td>\n",
       "      <td>1.009524e+06</td>\n",
       "      <td>2.166264e+06</td>\n",
       "      <td>2.164310e+05</td>\n",
       "      <td>5.752545e+05</td>\n",
       "      <td>...</td>\n",
       "      <td>1.658130e+06</td>\n",
       "      <td>2.783150e+04</td>\n",
       "      <td>6.533915e+05</td>\n",
       "      <td>3.580874e+06</td>\n",
       "      <td>7.434435e+05</td>\n",
       "      <td>1.759635e+05</td>\n",
       "      <td>1.700795e+05</td>\n",
       "      <td>5.639710e+05</td>\n",
       "      <td>1.015030e+05</td>\n",
       "      <td>5.637550e+04</td>\n",
       "    </tr>\n",
       "    <tr>\n",
       "      <th>50%</th>\n",
       "      <td>2002.000000</td>\n",
       "      <td>1.175827e+06</td>\n",
       "      <td>1.792744e+07</td>\n",
       "      <td>1.682284e+07</td>\n",
       "      <td>1.480797e+07</td>\n",
       "      <td>1.490660e+07</td>\n",
       "      <td>2.363675e+06</td>\n",
       "      <td>4.246338e+06</td>\n",
       "      <td>4.365300e+05</td>\n",
       "      <td>1.253416e+06</td>\n",
       "      <td>...</td>\n",
       "      <td>3.537787e+06</td>\n",
       "      <td>5.668000e+04</td>\n",
       "      <td>1.213571e+06</td>\n",
       "      <td>7.112560e+06</td>\n",
       "      <td>1.661962e+06</td>\n",
       "      <td>3.547030e+05</td>\n",
       "      <td>3.332750e+05</td>\n",
       "      <td>1.204621e+06</td>\n",
       "      <td>2.970940e+05</td>\n",
       "      <td>1.288010e+05</td>\n",
       "    </tr>\n",
       "    <tr>\n",
       "      <th>75%</th>\n",
       "      <td>2014.000000</td>\n",
       "      <td>2.135430e+06</td>\n",
       "      <td>3.671037e+07</td>\n",
       "      <td>3.445796e+07</td>\n",
       "      <td>3.002829e+07</td>\n",
       "      <td>2.969924e+07</td>\n",
       "      <td>6.182907e+06</td>\n",
       "      <td>9.401104e+06</td>\n",
       "      <td>8.807885e+05</td>\n",
       "      <td>2.517735e+06</td>\n",
       "      <td>...</td>\n",
       "      <td>8.370548e+06</td>\n",
       "      <td>1.245245e+05</td>\n",
       "      <td>2.213276e+06</td>\n",
       "      <td>1.634219e+07</td>\n",
       "      <td>4.365773e+06</td>\n",
       "      <td>8.029520e+05</td>\n",
       "      <td>8.029520e+05</td>\n",
       "      <td>2.602960e+06</td>\n",
       "      <td>7.942965e+05</td>\n",
       "      <td>2.718625e+05</td>\n",
       "    </tr>\n",
       "    <tr>\n",
       "      <th>max</th>\n",
       "      <td>2019.000000</td>\n",
       "      <td>6.444118e+07</td>\n",
       "      <td>1.095862e+09</td>\n",
       "      <td>9.300366e+08</td>\n",
       "      <td>8.276535e+08</td>\n",
       "      <td>8.648634e+08</td>\n",
       "      <td>2.233112e+08</td>\n",
       "      <td>2.407888e+08</td>\n",
       "      <td>2.966758e+07</td>\n",
       "      <td>7.137166e+07</td>\n",
       "      <td>...</td>\n",
       "      <td>2.079262e+08</td>\n",
       "      <td>4.472668e+06</td>\n",
       "      <td>6.361972e+07</td>\n",
       "      <td>4.831171e+08</td>\n",
       "      <td>9.119805e+07</td>\n",
       "      <td>2.758960e+07</td>\n",
       "      <td>2.677566e+07</td>\n",
       "      <td>7.346321e+07</td>\n",
       "      <td>2.554201e+07</td>\n",
       "      <td>8.038265e+06</td>\n",
       "    </tr>\n",
       "  </tbody>\n",
       "</table>\n",
       "<p>8 rows × 30 columns</p>\n",
       "</div>"
      ],
      "text/plain": [
       "              Year  Totals.Capital outlay  Totals.Revenue  Totals.Expenditure  \\\n",
       "count  1051.000000           1.051000e+03    1.051000e+03        1.051000e+03   \n",
       "mean   2004.660324           1.897134e+06    3.214530e+07        3.016482e+07   \n",
       "std       9.106656           2.870673e+06    5.438942e+07        4.926051e+07   \n",
       "min    1992.000000           1.075010e+05    1.756015e+06        1.564882e+06   \n",
       "25%    1997.000000           5.854825e+05    8.600680e+06        7.908556e+06   \n",
       "50%    2002.000000           1.175827e+06    1.792744e+07        1.682284e+07   \n",
       "75%    2014.000000           2.135430e+06    3.671037e+07        3.445796e+07   \n",
       "max    2019.000000           6.444118e+07    1.095862e+09        9.300366e+08   \n",
       "\n",
       "       Totals.General expenditure  Totals.General revenue  \\\n",
       "count                1.051000e+03            1.051000e+03   \n",
       "mean                 2.601980e+07            2.611299e+07   \n",
       "std                  4.221715e+07            4.257791e+07   \n",
       "min                  1.489533e+06            1.518437e+06   \n",
       "25%                  7.010340e+06            7.277203e+06   \n",
       "50%                  1.480797e+07            1.490660e+07   \n",
       "75%                  3.002829e+07            2.969924e+07   \n",
       "max                  8.276535e+08            8.648634e+08   \n",
       "\n",
       "       Totals.Insurance trust  revenue  Totals.Intergovernmental  \\\n",
       "count                     1.051000e+03              1.051000e+03   \n",
       "mean                      5.734721e+06              8.127423e+06   \n",
       "std                       1.205031e+07              1.313870e+07   \n",
       "min                      -3.057854e+06              4.122110e+05   \n",
       "25%                       1.009524e+06              2.166264e+06   \n",
       "50%                       2.363675e+06              4.246338e+06   \n",
       "75%                       6.182907e+06              9.401104e+06   \n",
       "max                       2.233112e+08              2.407888e+08   \n",
       "\n",
       "       Totals.License tax  Totals.Selective sales tax  ...  \\\n",
       "count        1.051000e+03                1.051000e+03  ...   \n",
       "mean         8.052776e+05                2.106018e+06  ...   \n",
       "std          1.420171e+06                3.270740e+06  ...   \n",
       "min          5.483100e+04                5.634800e+04  ...   \n",
       "25%          2.164310e+05                5.752545e+05  ...   \n",
       "50%          4.365300e+05                1.253416e+06  ...   \n",
       "75%          8.807885e+05                2.517735e+06  ...   \n",
       "max          2.966758e+07                7.137166e+07  ...   \n",
       "\n",
       "       Details.Welfare.Welfare Institution Total Expenditure  \\\n",
       "count                                       1.051000e+03       \n",
       "mean                                        7.749695e+06       \n",
       "std                                         1.413716e+07       \n",
       "min                                         1.914680e+05       \n",
       "25%                                         1.658130e+06       \n",
       "50%                                         3.537787e+06       \n",
       "75%                                         8.370548e+06       \n",
       "max                                         2.079262e+08       \n",
       "\n",
       "       Details.Natural Resources.Parks.Parks Total Expenditure  \\\n",
       "count                                       1.051000e+03         \n",
       "mean                                        1.054444e+05         \n",
       "std                                         1.831275e+05         \n",
       "min                                         4.297000e+03         \n",
       "25%                                         2.783150e+04         \n",
       "50%                                         5.668000e+04         \n",
       "75%                                         1.245245e+05         \n",
       "max                                         4.472668e+06         \n",
       "\n",
       "       Details.Transportation.Highways.Highways Total Expenditure  \\\n",
       "count                                       1.051000e+03            \n",
       "mean                                        1.851621e+06            \n",
       "std                                         2.718455e+06            \n",
       "min                                         1.570050e+05            \n",
       "25%                                         6.533915e+05            \n",
       "50%                                         1.213571e+06            \n",
       "75%                                         2.213276e+06            \n",
       "max                                         6.361972e+07            \n",
       "\n",
       "       Totals. Debt at end of fiscal year  \\\n",
       "count                        1.051000e+03   \n",
       "mean                         1.569157e+07   \n",
       "std                          2.713353e+07   \n",
       "min                          4.857870e+05   \n",
       "25%                          3.580874e+06   \n",
       "50%                          7.112560e+06   \n",
       "75%                          1.634219e+07   \n",
       "max                          4.831171e+08   \n",
       "\n",
       "       Details.Insurance benefits and repayments  Details.Interest on debt  \\\n",
       "count                               1.051000e+03              1.051000e+03   \n",
       "mean                                3.683345e+06              7.383553e+05   \n",
       "std                                 6.420024e+06              1.327405e+06   \n",
       "min                                 7.534900e+04              1.958400e+04   \n",
       "25%                                 7.434435e+05              1.759635e+05   \n",
       "50%                                 1.661962e+06              3.547030e+05   \n",
       "75%                                 4.365773e+06              8.029520e+05   \n",
       "max                                 9.119805e+07              2.758960e+07   \n",
       "\n",
       "       Details.Interest on general debt  \\\n",
       "count                      1.051000e+03   \n",
       "mean                       7.059350e+05   \n",
       "std                        1.239537e+06   \n",
       "min                        1.958400e+04   \n",
       "25%                        1.700795e+05   \n",
       "50%                        3.332750e+05   \n",
       "75%                        8.029520e+05   \n",
       "max                        2.677566e+07   \n",
       "\n",
       "       Details.Miscellaneous general revenue  Details.Other taxes  \\\n",
       "count                           1.051000e+03         1.051000e+03   \n",
       "mean                            2.054346e+06         6.716348e+05   \n",
       "std                             3.107746e+06         1.190691e+06   \n",
       "min                             1.133920e+05         0.000000e+00   \n",
       "25%                             5.639710e+05         1.015030e+05   \n",
       "50%                             1.204621e+06         2.970940e+05   \n",
       "75%                             2.602960e+06         7.942965e+05   \n",
       "max                             7.346321e+07         2.554201e+07   \n",
       "\n",
       "       Details.Police protection  \n",
       "count               1.051000e+03  \n",
       "mean                2.306463e+05  \n",
       "std                 3.642294e+05  \n",
       "min                 4.953000e+03  \n",
       "25%                 5.637550e+04  \n",
       "50%                 1.288010e+05  \n",
       "75%                 2.718625e+05  \n",
       "max                 8.038265e+06  \n",
       "\n",
       "[8 rows x 30 columns]"
      ]
     },
     "execution_count": 3,
     "metadata": {},
     "output_type": "execute_result"
    }
   ],
   "source": [
    "data.describe()"
   ]
  },
  {
   "cell_type": "code",
   "execution_count": 18,
   "metadata": {},
   "outputs": [
    {
     "name": "stdout",
     "output_type": "stream",
     "text": [
      "Total Revenue mean:  32145301.488106564\n",
      "Total Revenue median:  17927436.0\n",
      "Total Revenue trimmed mean:  29850396.903686088\n",
      "Total Revenue has no mode:  0          1756015\n",
      "1          1900972\n",
      "2          1942160\n",
      "3          1952812\n",
      "4          2010008\n",
      "           ...    \n",
      "1046     344302107\n",
      "1047     404602274\n",
      "1048     430760445\n",
      "1049     436479413\n",
      "1050    1095861887\n",
      "Length: 1051, dtype: int64\n"
     ]
    }
   ],
   "source": [
    "print(\"Total Revenue mean: \", data['Totals.Revenue'].mean())\n",
    "print(\"Total Revenue median: \", data['Totals.Revenue'].median())\n",
    "print(\"Total Revenue trimmed mean: \", data.loc[int(0.1*len(data)):int(0.9*len(data)),'Totals.Revenue'].mean())\n",
    "print(\"Total Revenue has no mode: \", data['Totals.Revenue'].mode())\n",
    "#print(\"Total Revenue trimmed mean: \", data['Totals.Revenue'].mean())"
   ]
  },
  {
   "cell_type": "code",
   "execution_count": 49,
   "metadata": {},
   "outputs": [
    {
     "data": {
      "image/png": "[encoded data removed]",
      "text/plain": [
       "<Figure size 864x432 with 1 Axes>"
      ]
     },
     "metadata": {
      "needs_background": "light"
     },
     "output_type": "display_data"
    }
   ],
   "source": [
    "from cProfile import label\n",
    "\n",
    "\n",
    "plt.figure(figsize=(12,6))\n",
    "plt.hist(data['Totals.Revenue'], bins=100)\n",
    "plt.title('Total Revenue Histogram')\n",
    "plt.xlabel('Total Revenue')\n",
    "plt.ylabel('Frequency')\n",
    "plt.axvline(data['Totals.Revenue'].mean(), color='r', linestyle='dashed',  linewidth=1)\n",
    "plt.axvline(data['Totals.Revenue'].median(), color='purple', linestyle='dashed', linewidth=1)\n",
    "plt.axvline(data.loc[int(0.1*len(data)):int(0.9*len(data)),'Totals.Revenue'].mean(), color='b', linestyle='dashed', linewidth=1)\n",
    "plt.legend(['mean', 'median', 'trimmed mean'])\n",
    "plt.show()"
   ]
  },
  {
   "cell_type": "code",
   "execution_count": 59,
   "metadata": {},
   "outputs": [
    {
     "name": "stdout",
     "output_type": "stream",
     "text": [
      "Total Revenue mean absolute deviation:  26358939.954707623\n",
      "Total Revenue standard deviation:  54389418.23323047\n",
      "Total Revenue quantiles:\n",
      " 0.25     8600680.0\n",
      "0.50    17927436.0\n",
      "0.75    36710371.0\n",
      "Name: Totals.Revenue, dtype: float64\n"
     ]
    }
   ],
   "source": [
    "print('Total Revenue mean absolute deviation: ', data['Totals.Revenue'].mad())\n",
    "print('Total Revenue standard deviation: ', data['Totals.Revenue'].std())\n",
    "print('Total Revenue quantiles:\\n', data['Totals.Revenue'].quantile([0.25, 0.5, 0.75]))"
   ]
  },
  {
   "cell_type": "code",
   "execution_count": 68,
   "metadata": {},
   "outputs": [
    {
     "data": {
      "text/plain": [
       "<AxesSubplot:title={'center':'Total Revenue Box Plot'}>"
      ]
     },
     "execution_count": 68,
     "metadata": {},
     "output_type": "execute_result"
    },
    {
     "data": {
      "image/png": "[encoded data removed]",
      "text/plain": [
       "<Figure size 720x720 with 1 Axes>"
      ]
     },
     "metadata": {
      "needs_background": "light"
     },
     "output_type": "display_data"
    }
   ],
   "source": [
    "data['Totals.Revenue'].plot(kind='box', grid=True, title='Total Revenue Box Plot', figsize=(10,10))"
   ]
  },
  {
   "cell_type": "code",
   "execution_count": 69,
   "metadata": {},
   "outputs": [],
   "source": [
    "import numpy as np\n",
    "conditions = [\n",
    "    (data['Totals.Revenue'] < 0.5*data['Totals.Revenue'].mean()),\n",
    "    (data['Totals.Revenue'] >= 0.5*data['Totals.Revenue'].mean()) & (data['Totals.Revenue'] < data['Totals.Revenue'].mean()),\n",
    "    (data['Totals.Revenue'] >= data['Totals.Revenue'].mean()),\n",
    "    ]\n",
    "\n",
    "vals = [0,1,2]\n",
    "\n",
    "data['COL1_mean_split'] = np.select(conditions, vals)"
   ]
  },
  {
   "cell_type": "code",
   "execution_count": 71,
   "metadata": {},
   "outputs": [
    {
     "data": {
      "text/plain": [
       "0    481\n",
       "2    311\n",
       "1    259\n",
       "Name: COL1_mean_split, dtype: int64"
      ]
     },
     "execution_count": 71,
     "metadata": {},
     "output_type": "execute_result"
    }
   ],
   "source": [
    "data['COL1_mean_split'].value_counts()"
   ]
  },
  {
   "cell_type": "code",
   "execution_count": 73,
   "metadata": {},
   "outputs": [
    {
     "data": {
      "text/plain": [
       "<AxesSubplot:title={'center':'Total Revenue Split by Mean'}>"
      ]
     },
     "execution_count": 73,
     "metadata": {},
     "output_type": "execute_result"
    },
    {
     "data": {
      "image/png": "[encoded data removed]",
      "text/plain": [
       "<Figure size 432x288 with 1 Axes>"
      ]
     },
     "metadata": {
      "needs_background": "light"
     },
     "output_type": "display_data"
    }
   ],
   "source": [
    "data['COL1_mean_split'].value_counts().plot(kind='bar', title='Total Revenue Split by Mean')"
   ]
  },
  {
   "cell_type": "code",
   "execution_count": 96,
   "metadata": {},
   "outputs": [],
   "source": [
    "gbo = data.groupby('COL1_mean_split')['Totals.Revenue']\n",
    "g0 = gbo.get_group(0)\n",
    "g1 = gbo.get_group(1)\n",
    "g2 = gbo.get_group(2)"
   ]
  },
  {
   "cell_type": "code",
   "execution_count": 110,
   "metadata": {},
   "outputs": [
    {
     "data": {
      "image/png": "[encoded data removed]",
      "text/plain": [
       "<Figure size 864x432 with 3 Axes>"
      ]
     },
     "metadata": {
      "needs_background": "light"
     },
     "output_type": "display_data"
    }
   ],
   "source": [
    "fig, ax = plt.subplots(nrows=1, ncols=3, figsize=(12,6))\n",
    "ax[0].boxplot(g0)\n",
    "ax[1].boxplot(g1)\n",
    "ax[2].boxplot(g2)\n",
    "ax[0].set_title('Group 0')\n",
    "ax[1].set_title('Group 1')\n",
    "ax[2].set_title('Group 2')\n",
    "\n",
    "plt.show()"
   ]
  },
  {
   "cell_type": "code",
   "execution_count": 122,
   "metadata": {},
   "outputs": [
    {
     "name": "stdout",
     "output_type": "stream",
     "text": [
      "The correlation coefficient of Total Revenue and Total Expenditure is:  0.9942871815389305\n"
     ]
    }
   ],
   "source": [
    "print('The correlation coefficient of Total Revenue and Total Expenditure is: ', data['Totals.Revenue'].corr(data['Totals.Expenditure']))"
   ]
  },
  {
   "cell_type": "code",
   "execution_count": 120,
   "metadata": {},
   "outputs": [
    {
     "data": {
      "image/png": "[encoded data removed]",
      "text/plain": [
       "<Figure size 432x288 with 1 Axes>"
      ]
     },
     "metadata": {
      "needs_background": "light"
     },
     "output_type": "display_data"
    }
   ],
   "source": [
    "plt.scatter(data['Totals.Revenue'], data['Totals.Expenditure'])\n",
    "plt.xlabel('Total Revenue')\n",
    "plt.ylabel('Total Expenditure')\n",
    "plt.title('Total Revenue vs Total Expenditure')\n",
    "plt.show()"
   ]
  },
  {
   "cell_type": "markdown",
   "metadata": {},
   "source": [
    "The scatter plot above shows a clear positive correlation between Total Revenue and Total Expenditure, as is expected by the correlation calculation of 0.99"
   ]
  },
  {
   "cell_type": "code",
   "execution_count": 130,
   "metadata": {},
   "outputs": [
    {
     "data": {
      "text/plain": [
       "<matplotlib.collections.PolyCollection at 0x1d87104d730>"
      ]
     },
     "execution_count": 130,
     "metadata": {},
     "output_type": "execute_result"
    },
    {
     "data": {
      "image/png": "[encoded data removed]",
      "text/plain": [
       "<Figure size 864x432 with 1 Axes>"
      ]
     },
     "metadata": {
      "needs_background": "light"
     },
     "output_type": "display_data"
    }
   ],
   "source": [
    "plt.figure(figsize=(12,6))\n",
    "plt.hexbin(data['Totals.Revenue'], data['Totals.Expenditure'], cmap='gist_heat_r')"
   ]
  }
 ],
 "metadata": {
  "kernelspec": {
   "display_name": "Python 3.9.13 ('geoprj')",
   "language": "python",
   "name": "python3"
  },
  "language_info": {
   "codemirror_mode": {
    "name": "ipython",
    "version": 3
   },
   "file_extension": ".py",
   "mimetype": "text/x-python",
   "name": "python",
   "nbconvert_exporter": "python",
   "pygments_lexer": "ipython3",
   "version": "3.9.13"
  },
  "orig_nbformat": 4,
  "vscode": {
   "interpreter": {
    "hash": "23234625f55973f7a58126a35d86facfdbb1213f4cf262be4a4984331c60271a"
   }
  }
 },
 "nbformat": 4,
 "nbformat_minor": 2
}
