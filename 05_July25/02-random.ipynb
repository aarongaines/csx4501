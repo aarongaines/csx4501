{
 "cells": [
  {
   "cell_type": "markdown",
   "id": "6eb50d14-c3ab-4978-9329-8f7f0c6a37da",
   "metadata": {},
   "source": [
    "# Random samples"
   ]
  },
  {
   "cell_type": "code",
   "execution_count": null,
   "id": "d6378ee0-3ab9-47ca-bee0-92468839c9f7",
   "metadata": {},
   "outputs": [],
   "source": [
    "# numpy is a standard Python library for numerical computing\n",
    "import numpy as np"
   ]
  },
  {
   "cell_type": "code",
   "execution_count": null,
   "id": "76acd244-b0c5-4dd2-8a2e-8f30f0bc9019",
   "metadata": {},
   "outputs": [],
   "source": [
    "coin = ['heads','tails']"
   ]
  },
  {
   "cell_type": "code",
   "execution_count": null,
   "id": "a652cb9c-f61e-4e9e-b254-e9f7fe260e7f",
   "metadata": {},
   "outputs": [],
   "source": [
    "np.random.choice(coin)"
   ]
  },
  {
   "cell_type": "code",
   "execution_count": null,
   "id": "2653b4f2-0a3b-416d-b98e-7d7a4361e25e",
   "metadata": {},
   "outputs": [],
   "source": [
    "def flipcoin():\n",
    "    return np.random.choice(coin)"
   ]
  },
  {
   "cell_type": "code",
   "execution_count": null,
   "id": "3e14ce30-775a-41fa-b0c9-f30bca18048c",
   "metadata": {},
   "outputs": [],
   "source": [
    "flipcoin()"
   ]
  },
  {
   "cell_type": "markdown",
   "id": "c03528a6-8348-4e39-b46c-6c99417fcb9d",
   "metadata": {},
   "source": [
    "If we want to flip a coin n times:"
   ]
  },
  {
   "cell_type": "code",
   "execution_count": null,
   "id": "30cf44ee-86ce-4f37-98ec-52b907b65749",
   "metadata": {},
   "outputs": [],
   "source": [
    "def flips(n):\n",
    "    flips = []\n",
    "    for i in range(n):\n",
    "        flips.append(flipcoin())\n",
    "    return flips"
   ]
  },
  {
   "cell_type": "code",
   "execution_count": null,
   "id": "cde7c21d-54e8-4c28-917d-f66a03e349a1",
   "metadata": {},
   "outputs": [],
   "source": [
    "print(flips(20))"
   ]
  },
  {
   "cell_type": "markdown",
   "id": "d0c218c4-3519-4156-a014-c4a386754ce1",
   "metadata": {},
   "source": [
    "Computers are convenient because we can get them to do our boring repetitive work thousands and thousands (and millions!) of times"
   ]
  },
  {
   "cell_type": "markdown",
   "id": "8ff0b188-1b8f-4721-acfe-0cfc8a1dfabe",
   "metadata": {},
   "source": [
    "We can also make a function to count the number of times 'heads' came up in our trial:"
   ]
  },
  {
   "cell_type": "code",
   "execution_count": null,
   "id": "4a142547-68ab-4909-aa40-a93dd8950e2f",
   "metadata": {},
   "outputs": [],
   "source": [
    "def countheads(a):\n",
    "    headcount = 0\n",
    "    for i in a:\n",
    "        if i == 'heads':\n",
    "            headcount += 1\n",
    "    return headcount"
   ]
  },
  {
   "cell_type": "code",
   "execution_count": null,
   "id": "e70ff129-7623-43c0-bb78-a0fe67cc921f",
   "metadata": {},
   "outputs": [],
   "source": [
    "countheads(flips(500))"
   ]
  },
  {
   "cell_type": "markdown",
   "id": "d80fe084-401c-4fe2-b20a-11e31fd84d1b",
   "metadata": {},
   "source": [
    "This enables us to generalize to the distribution of heads in a given number of samples, with each sample having a given number of coin flips."
   ]
  },
  {
   "cell_type": "code",
   "execution_count": null,
   "id": "7c488b72-12b5-4c96-9025-f87d94341684",
   "metadata": {},
   "outputs": [],
   "source": [
    "def coinsamples(numsamples, numflips):\n",
    "    samples = []\n",
    "    for i in range(numsamples):\n",
    "        samples.append(countheads(flips(numflips)))\n",
    "    return samples"
   ]
  },
  {
   "cell_type": "code",
   "execution_count": null,
   "id": "8a4cfefe-7682-4a77-9e74-65379d0fe621",
   "metadata": {},
   "outputs": [],
   "source": [
    "coinsamples(10, 20)"
   ]
  },
  {
   "cell_type": "code",
   "execution_count": null,
   "id": "97b8574c-2113-4862-a884-3bca5011a0e5",
   "metadata": {},
   "outputs": [],
   "source": [
    "import matplotlib.pyplot as plt"
   ]
  },
  {
   "cell_type": "code",
   "execution_count": null,
   "id": "94e37436-ddb0-42e6-a350-ba3dc393fe4f",
   "metadata": {},
   "outputs": [],
   "source": [
    "numflips = 300\n",
    "numsamples = 100\n",
    "plt.hist(coinsamples(numsamples, numflips))\n",
    "plt.xlim(0,numflips)"
   ]
  },
  {
   "cell_type": "markdown",
   "id": "a63ea6ba-f3c3-46ae-b1be-e05179ee551b",
   "metadata": {},
   "source": [
    "Looks like a Gaussian distribution function."
   ]
  },
  {
   "cell_type": "markdown",
   "id": "5e091ff9-48ce-47a6-b79a-12221d4d67c5",
   "metadata": {},
   "source": [
    "## Gaussians"
   ]
  },
  {
   "cell_type": "code",
   "execution_count": null,
   "id": "cedd9c4e-b8d9-4717-af7c-eecf2438e0ea",
   "metadata": {},
   "outputs": [],
   "source": [
    "import numpy as np\n",
    "import matplotlib.pyplot as plt\n",
    "import scipy.stats as stats"
   ]
  },
  {
   "cell_type": "code",
   "execution_count": null,
   "id": "f703ae05-ce92-41fd-bc34-940992b07add",
   "metadata": {},
   "outputs": [],
   "source": [
    "xnums = np.linspace(-3, 3, 10000)"
   ]
  },
  {
   "cell_type": "code",
   "execution_count": null,
   "id": "b274709d-9d55-417f-ab61-d04985a2933a",
   "metadata": {},
   "outputs": [],
   "source": [
    "xnums"
   ]
  },
  {
   "cell_type": "code",
   "execution_count": null,
   "id": "a8827d87-6d96-4aee-a16c-58b3960c679e",
   "metadata": {},
   "outputs": [],
   "source": [
    "ynums = stats.norm.pdf(xnums, 0, 1)"
   ]
  },
  {
   "cell_type": "code",
   "execution_count": null,
   "id": "21a1286e-1c42-4999-aab5-d7f9cb5e82a9",
   "metadata": {},
   "outputs": [],
   "source": [
    "ynums"
   ]
  },
  {
   "cell_type": "code",
   "execution_count": null,
   "id": "0a1c9650-9a9d-4b2f-a106-895ea3c137f6",
   "metadata": {},
   "outputs": [],
   "source": [
    "plt.plot(xnums, ynums)"
   ]
  },
  {
   "cell_type": "code",
   "execution_count": null,
   "id": "c09de3f7-6161-4380-91ab-92e294aa5459",
   "metadata": {},
   "outputs": [],
   "source": [
    "def makedist(mymean=0,mystddev=1):\n",
    "    xnums = np.linspace(-3, 3, 1000)\n",
    "    ynums = stats.norm.pdf(xnums, mymean, mystddev)\n",
    "    plt.plot(xnums, ynums)\n",
    "    plt.ylim(0, 0.5)\n",
    "    plt.show()"
   ]
  },
  {
   "cell_type": "code",
   "execution_count": null,
   "id": "bb108bb2-0a99-470b-9ec8-71293db44011",
   "metadata": {},
   "outputs": [],
   "source": [
    "makedist(0.5)"
   ]
  },
  {
   "cell_type": "markdown",
   "id": "2bc4ad3d-5f68-4bdc-85d2-c9ae395c0269",
   "metadata": {},
   "source": [
    "### Random fun: we can make this a bit more interactive to get a better conceptual understanding"
   ]
  },
  {
   "cell_type": "code",
   "execution_count": null,
   "id": "93f6c831-3ce4-467f-bed6-6feba69e8283",
   "metadata": {},
   "outputs": [],
   "source": [
    "import ipywidgets"
   ]
  },
  {
   "cell_type": "code",
   "execution_count": null,
   "id": "2b27d1a5-912b-46e0-b978-2443382894ce",
   "metadata": {},
   "outputs": [],
   "source": [
    "ipywidgets.interact(makedist,mymean=(-3,3,0.2),mystddev=(0.1,3,0.2));"
   ]
  },
  {
   "cell_type": "code",
   "execution_count": null,
   "id": "b0cdc422-c45e-4ffd-b0a5-fe47a6272866",
   "metadata": {},
   "outputs": [],
   "source": [
    "np.random.seed(1)"
   ]
  },
  {
   "cell_type": "code",
   "execution_count": null,
   "id": "91d67c02-eeda-4156-bf7a-e1fb56d17b5c",
   "metadata": {},
   "outputs": [],
   "source": [
    "xnums = np.random.randn(10000)"
   ]
  },
  {
   "cell_type": "code",
   "execution_count": null,
   "id": "043b775c-aba2-4506-89d5-fe4800f91a38",
   "metadata": {},
   "outputs": [],
   "source": [
    "plt.hist(xnums);"
   ]
  },
  {
   "cell_type": "code",
   "execution_count": null,
   "id": "cfbb70e4-9023-4569-b6a8-76f8f0db3cda",
   "metadata": {},
   "outputs": [],
   "source": [
    "def makenorm(n):\n",
    "    xnums = np.random.randn(n)\n",
    "    plt.hist(xnums, bins=100)\n",
    "    plt.show()"
   ]
  },
  {
   "cell_type": "code",
   "execution_count": null,
   "id": "20846f06-e1ec-438e-989b-4232f5f46138",
   "metadata": {},
   "outputs": [],
   "source": [
    "ipywidgets.interact(makenorm,n=(0,10000,100))"
   ]
  },
  {
   "cell_type": "code",
   "execution_count": null,
   "id": "59505808-af48-4560-b938-95cc9ce248e1",
   "metadata": {},
   "outputs": [],
   "source": [
    "np.random.choice([0,1])"
   ]
  },
  {
   "cell_type": "code",
   "execution_count": null,
   "id": "788c6284-14b3-4316-b875-dbc1081dcd92",
   "metadata": {},
   "outputs": [],
   "source": [
    "def makenorm(n,flips):\n",
    "    xnums = []\n",
    "    for i in range(n):\n",
    "        xnums.append(0)\n",
    "        for j in range(flips):\n",
    "            if np.random.choice([1,0],p=[0.2,0.8]):\n",
    "                xnums[i] += 1\n",
    "    plt.hist(xnums, bins=np.arange(-0.5,40.5,1), width=0.8)\n",
    "    plt.xlim(-0.5,0.5+flips)\n",
    "    plt.show()\n",
    "makenorm(100,40)"
   ]
  },
  {
   "cell_type": "code",
   "execution_count": null,
   "id": "6be7edb6-484b-4faa-a20f-c1915335ba73",
   "metadata": {},
   "outputs": [],
   "source": [
    "def makenorm(n,flips,probheads):\n",
    "    xnums = []\n",
    "    for i in range(n):\n",
    "        xnums.append(0)\n",
    "        for j in range(flips):\n",
    "            if np.random.choice([1,0],p=[probheads, 1-probheads]):\n",
    "                xnums[i] += 1\n",
    "    plt.hist(xnums, bins=np.arange(-0.5,flips+0.5,1))\n",
    "    plt.xlim(-0.5,0.5+flips)\n",
    "    plt.show()\n",
    "makenorm(100,40,0.3)"
   ]
  },
  {
   "cell_type": "code",
   "execution_count": null,
   "id": "4c9c80ee-247a-4335-b149-7400e6557dd2",
   "metadata": {},
   "outputs": [],
   "source": [
    "ipywidgets.interact(makenorm,n=(1,1000,10),flips=(1,100,10),probheads=(0.0,1.0,0.1))"
   ]
  },
  {
   "cell_type": "code",
   "execution_count": null,
   "id": "d9460351-3ce4-4fb6-bc80-8e92d1d66222",
   "metadata": {},
   "outputs": [],
   "source": [
    "def makenorm(n,m,s):\n",
    "    xnums = s*np.random.randn(n) + m\n",
    "    print('mean = ',np.mean(xnums))\n",
    "    print('stddev = ',np.std(xnums))\n",
    "    plt.hist(xnums, bins=100)\n",
    "    plt.ylim(0,200)\n",
    "    plt.xlim(-10,10)\n",
    "    plt.show()\n",
    "    \n",
    "ipywidgets.interact(makenorm,n=(0,10000,100),m=(-3,3),s=(1,5));"
   ]
  },
  {
   "cell_type": "code",
   "execution_count": null,
   "id": "e2a3de7b-e097-48e8-85c8-8456fd1f04de",
   "metadata": {},
   "outputs": [],
   "source": [
    "x = np.random.randint(1,7,50)"
   ]
  },
  {
   "cell_type": "code",
   "execution_count": null,
   "id": "aab0f9e1-7d65-4a13-8d44-118a7ee01674",
   "metadata": {},
   "outputs": [],
   "source": [
    "x"
   ]
  },
  {
   "cell_type": "code",
   "execution_count": null,
   "id": "78178c47-77c3-4141-a413-e4bfdb92e486",
   "metadata": {},
   "outputs": [],
   "source": [
    "np.mean(x)"
   ]
  },
  {
   "cell_type": "code",
   "execution_count": null,
   "id": "fc12b69b-dd25-461b-b747-862a7e28e59f",
   "metadata": {},
   "outputs": [],
   "source": [
    "plt.hist(x);"
   ]
  },
  {
   "cell_type": "code",
   "execution_count": null,
   "id": "5ca9a0c3-65ba-4c2f-94eb-58d3a20029bf",
   "metadata": {},
   "outputs": [],
   "source": [
    "def diceroll(n):\n",
    "    x = np.random.randint(1,7,n)\n",
    "    plt.hist(x)\n",
    "    plt.show()\n",
    "    \n",
    "ipywidgets.interact(diceroll,n=(0,10000,100));"
   ]
  },
  {
   "cell_type": "markdown",
   "id": "a56a255b-494d-45a9-affd-9f26edd07c92",
   "metadata": {},
   "source": [
    "## Racial sampling\n",
    "\n",
    "[The following is based on an example from Berkeley's Data8 JupyterBook, [linked here](https://inferentialthinking.com/chapters/11/1/Assessing_a_Model.html)]\n",
    "\n",
    "Calculating random numbers from a distribution can be more than just a mathematical exercise. Statistics and coding can be used to expose racism and inequality.\n",
    "\n",
    "### Amendment VI of the United States Constitution\n",
    "“In all criminal prosecutions, the accused shall enjoy the right to a speedy and public trial, by an impartial jury of the State and district wherein the crime shall have been committed.”\n",
    " \n",
    "### The Supreme Court case of Robert Swain\n",
    "Robert Swain was a Black man convicted in Talladega County, Alabama, in 1962. His case was appealed all the way up to the U.S. Supreme Court based on the claim that Black people were systematically excluded from juries in Talladega County.  (This case also involved issues related to peremptory challenges -- I recommend reading the above link and associated references if you are interested).\n",
    "\n",
    "### A few details\n",
    "* In Talladega County, 26% of men were Black.\n",
    "* Only 8 men among the 100-member jury panel in Robert Swain's case were Black.\n",
    "* Robert Swain also pointed out that this county's jury panels over the past 10 years had only contained a small percent of Black panelists.\n",
    "* The U.S. Supreme Court wrote that “the overall percentage disparity has been small.” and Robert Swain was later sentenced to life in prison.\n",
    "\n",
    "### Our question\n",
    "* Is it reasonable to expect that a jury panel in this County could have 8% Black membership?"
   ]
  },
  {
   "cell_type": "markdown",
   "id": "e2899900-75fd-4ad7-843f-71da4e3efbfa",
   "metadata": {},
   "source": [
    "### The model\n",
    "* A hypothesis about the world\n",
    "* The panel was selected at random\n",
    "* The 8-member panel was just due to chance\n",
    "\n",
    "We can assess this model with code\n",
    "* Simulate data based on the model\n",
    "* Show what the data would be like if panel members were selected at random\n",
    "* Compare the simulated data with the real data\n",
    "* If they're not consistent, reject the model"
   ]
  },
  {
   "cell_type": "code",
   "execution_count": null,
   "id": "aefa9931-a30c-4729-8c4e-6838373062f6",
   "metadata": {},
   "outputs": [],
   "source": [
    "elems = ['b','w']\n",
    "elems_perc = [0.26, 0.74]"
   ]
  },
  {
   "cell_type": "code",
   "execution_count": null,
   "id": "56028582-edfa-4468-a9fe-2fad560804c6",
   "metadata": {},
   "outputs": [],
   "source": [
    "np.random.choice(elems, p=elems_perc)"
   ]
  },
  {
   "cell_type": "code",
   "execution_count": null,
   "id": "faa8a6a8-ce3d-42f4-9765-59e9dee7da31",
   "metadata": {},
   "outputs": [],
   "source": [
    "panelsize = 100\n",
    "panel = []\n",
    "for i in range(panelsize):\n",
    "    race = np.random.choice(elems, p=elems_perc)\n",
    "    panel.append(race)\n",
    "print('Number of Black members on the panel: ', panel.count('b'))"
   ]
  },
  {
   "cell_type": "code",
   "execution_count": null,
   "id": "a8f90224-285e-4990-b3e0-117b590eee47",
   "metadata": {},
   "outputs": [],
   "source": [
    "print(panel)"
   ]
  },
  {
   "cell_type": "code",
   "execution_count": null,
   "id": "504124cb-0e2b-4a22-b9f0-6b3ac5bbefc6",
   "metadata": {},
   "outputs": [],
   "source": [
    "numpanels = 10000\n",
    "numblackmembers = []\n",
    "\n",
    "for i in range(numpanels):\n",
    "    panelsize = 100\n",
    "    panel = []\n",
    "    for i in range(panelsize):\n",
    "        race = np.random.choice(elems, p=elems_perc)\n",
    "        panel.append(race)\n",
    "    numblackmembers.append(panel.count('b'))\n",
    "    \n",
    "plt.hist(numblackmembers, bins=np.arange(5.5, 46.5, 1), width=0.75)\n",
    "plt.xlim(5.5,46.5)\n",
    "plt.ylim(0,5)"
   ]
  },
  {
   "cell_type": "code",
   "execution_count": null,
   "id": "f8493655-f824-49e9-9d1e-8d7475605ab8",
   "metadata": {},
   "outputs": [],
   "source": [
    "plt.hist(numblackmembers, bins=np.arange(5.5, 46.5, 1), width=0.75)\n",
    "plt.xlim(5.5,46.5)\n",
    "#plt.ylim(0,5)"
   ]
  }
 ],
 "metadata": {
  "kernelspec": {
   "display_name": "Python 3 (ipykernel)",
   "language": "python",
   "name": "python3"
  },
  "language_info": {
   "codemirror_mode": {
    "name": "ipython",
    "version": 3
   },
   "file_extension": ".py",
   "mimetype": "text/x-python",
   "name": "python",
   "nbconvert_exporter": "python",
   "pygments_lexer": "ipython3",
   "version": "3.9.6"
  }
 },
 "nbformat": 4,
 "nbformat_minor": 5
}
