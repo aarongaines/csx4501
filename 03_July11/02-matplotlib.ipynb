{
 "cells": [
  {
   "cell_type": "markdown",
   "metadata": {
    "slideshow": {
     "slide_type": "slide"
    }
   },
   "source": [
    "# Matplotlib"
   ]
  },
  {
   "cell_type": "markdown",
   "metadata": {
    "slideshow": {
     "slide_type": "slide"
    }
   },
   "source": [
    "https://matplotlib.org/\n",
    "\n",
    "* \"Matplotlib is a comprehensive library for creating static, animated, and interactive visualizations in Python.\"\n",
    "* \"Matplotlib makes easy things easy and hard things possible.\"\n",
    "\n",
    "* Matplotlib was built on the NumPy and SciPy frameworks and initially made to enable interactive Matlab-like plotting via gnuplot from iPython\n",
    "\n",
    "* Gained early traction with support from the Space Telescope Institute and JPL\n",
    "\n",
    "* Easily one of the go-to libraries for academic publishing needs\n",
    "  * Create publication-ready graphics in a range of formats\n",
    "  * Powerful options to customize all aspects of a figure\n",
    "  \n",
    "* Matplotlib underlies the plotting capabilities of other libraries such as Pandas, Seaborn, and plotnine"
   ]
  },
  {
   "cell_type": "markdown",
   "metadata": {
    "slideshow": {
     "slide_type": "slide"
    }
   },
   "source": [
    "<p style=\"text-align:center;\">\n",
    "    <img src=\"https://matplotlib.org/stable/_images/sphx_glr_anatomy_001_2_0x.png\" alt=\"Matplotlib Anatomy of a Figure\" width=\"500\"/>\n",
    "</p>\n",
    "<a href=\"https://matplotlib.org/stable/gallery/showcase/anatomy.html\">Anatomy of a Figure</a>"
   ]
  },
  {
   "cell_type": "code",
   "execution_count": null,
   "metadata": {
    "slideshow": {
     "slide_type": "slide"
    }
   },
   "outputs": [],
   "source": [
    "%matplotlib inline\n",
    "import matplotlib.pyplot as plt\n",
    "import numpy as np"
   ]
  },
  {
   "cell_type": "code",
   "execution_count": null,
   "metadata": {
    "slideshow": {
     "slide_type": "slide"
    }
   },
   "outputs": [],
   "source": [
    "plt.plot([1,2,3,4])"
   ]
  },
  {
   "cell_type": "code",
   "execution_count": null,
   "metadata": {
    "slideshow": {
     "slide_type": "slide"
    }
   },
   "outputs": [],
   "source": [
    "plt.plot([1,2,3,4]);"
   ]
  },
  {
   "cell_type": "code",
   "execution_count": null,
   "metadata": {
    "slideshow": {
     "slide_type": "slide"
    }
   },
   "outputs": [],
   "source": [
    "plt.plot([1,2,3,4])\n",
    "plt.show()"
   ]
  },
  {
   "cell_type": "code",
   "execution_count": null,
   "metadata": {
    "slideshow": {
     "slide_type": "slide"
    }
   },
   "outputs": [],
   "source": [
    "plt.plot([1,2,3,4],[2,4,6,8]);"
   ]
  },
  {
   "cell_type": "code",
   "execution_count": null,
   "metadata": {
    "slideshow": {
     "slide_type": "slide"
    }
   },
   "outputs": [],
   "source": [
    "plt.plot([1,2,3,4],[2,4,6,8],color='green',marker='o',linestyle='');"
   ]
  },
  {
   "cell_type": "code",
   "execution_count": null,
   "metadata": {
    "slideshow": {
     "slide_type": "slide"
    }
   },
   "outputs": [],
   "source": [
    "# np is our abbrevation for numpy\n",
    "# linspace(start, end, ntotal) will make an evenly spaced array of numbers\n",
    "# starting with \"start\", going up to and including \"end\", and consisting of \"ntotal\" number of data points\n",
    "\n",
    "x = np.linspace(0.5, 3.5, 10)\n",
    "y = np.cos(x)"
   ]
  },
  {
   "cell_type": "code",
   "execution_count": null,
   "metadata": {
    "slideshow": {
     "slide_type": "slide"
    }
   },
   "outputs": [],
   "source": [
    "plt.plot(x,y)\n",
    "plt.show()"
   ]
  },
  {
   "cell_type": "code",
   "execution_count": null,
   "metadata": {
    "slideshow": {
     "slide_type": "slide"
    }
   },
   "outputs": [],
   "source": [
    "plt.plot(x,y,'bo')\n",
    "plt.show()"
   ]
  },
  {
   "cell_type": "code",
   "execution_count": null,
   "metadata": {
    "slideshow": {
     "slide_type": "slide"
    }
   },
   "outputs": [],
   "source": [
    "plt.plot(x,y,'bo')\n",
    "plt.ylabel('cos(x)')\n",
    "plt.show()"
   ]
  },
  {
   "cell_type": "markdown",
   "metadata": {},
   "source": [
    "https://matplotlib.org/stable/api/_as_gen/matplotlib.pyplot.plot.html"
   ]
  },
  {
   "cell_type": "code",
   "execution_count": null,
   "metadata": {},
   "outputs": [],
   "source": [
    "x2 = np.linspace(0.5, 3.5, 10)\n",
    "y2 = np.cos(2*np.pi/3*(x-0.5))"
   ]
  },
  {
   "cell_type": "code",
   "execution_count": null,
   "metadata": {},
   "outputs": [],
   "source": [
    "plt.plot(x,y,'bo')\n",
    "plt.plot(x2,y2,'ks')\n",
    "plt.ylabel('cos(x)')\n",
    "plt.show()"
   ]
  },
  {
   "cell_type": "code",
   "execution_count": null,
   "metadata": {},
   "outputs": [],
   "source": [
    "plt.plot(x,y,'b')\n",
    "plt.plot(x2,y2,'k')\n",
    "plt.ylabel('cos(x)')\n",
    "plt.show()"
   ]
  },
  {
   "cell_type": "code",
   "execution_count": null,
   "metadata": {},
   "outputs": [],
   "source": [
    "plt.plot(x,y,'b')\n",
    "plt.plot(x2,y2,'k')\n",
    "plt.ylabel('y')\n",
    "plt.xlabel('x')\n",
    "plt.show()"
   ]
  },
  {
   "cell_type": "code",
   "execution_count": null,
   "metadata": {},
   "outputs": [],
   "source": [
    "plt.plot(x,y,'b')\n",
    "plt.plot(x2,y2,'k')\n",
    "plt.ylabel('y',fontsize=16)\n",
    "plt.xlabel('x',fontsize=16)\n",
    "plt.title('cosines',fontsize=16)\n",
    "plt.show()"
   ]
  },
  {
   "cell_type": "code",
   "execution_count": null,
   "metadata": {},
   "outputs": [],
   "source": [
    "plt.plot(x,y,'b')\n",
    "plt.plot(x2,y2,'k')\n",
    "plt.ylabel('y',fontsize=16)\n",
    "plt.xlabel('x',fontsize=16)\n",
    "plt.title('cosines',fontsize=16)\n",
    "plt.savefig('cosines.png')"
   ]
  },
  {
   "cell_type": "code",
   "execution_count": null,
   "metadata": {},
   "outputs": [],
   "source": [
    "x = np.linspace(0, 2*np.pi, 100)\n",
    "y1 = 3 + np.cos(x)\n",
    "y2 = 1 + 0.5*np.cos(1+x/0.75)\n",
    "\n",
    "plt.plot(x, y1, color='green', linestyle='-', linewidth=1)\n",
    "plt.plot(x, y2, color='blue', linestyle='-', linewidth=1)\n",
    "\n",
    "plt.ylim(0,4.5)\n",
    "plt.yticks([0, 1, 2, 3, 4], fontsize=14)\n",
    "\n",
    "plt.xlabel('x', fontsize=16)\n",
    "plt.ylabel('y', fontsize=16)\n",
    "\n",
    "plt.title('sinusoids', fontsize=16)\n",
    "\n",
    "plt.text(3,0,'addedtext')\n",
    "\n",
    "plt.annotate('Spine', xy=(6.28, 1.5), xytext=(5.5, 1.0),\n",
    "            weight='bold', color='blue',\n",
    "            arrowprops=dict(arrowstyle='->',\n",
    "                            connectionstyle=\"arc3\",\n",
    "                            color='blue'))\n",
    "\n",
    "plt.show();"
   ]
  },
  {
   "cell_type": "markdown",
   "metadata": {},
   "source": [
    "## Exercise:\n",
    "\n",
    "Follow the instructions in the comments below.  Consult the documentation as needed (https://matplotlib.org/stable/api/_as_gen/matplotlib.pyplot.plot.html)"
   ]
  },
  {
   "cell_type": "code",
   "execution_count": null,
   "metadata": {},
   "outputs": [],
   "source": [
    "x = np.linspace(0, 2*np.pi, 100)\n",
    "y1 = 3 + np.cos(x)\n",
    "y2 = 1 + 0.5*np.cos(1+x/0.75)\n",
    "\n",
    "# Make these lines dashed\n",
    "plt.plot(x, y1, color='green', linestyle='-', linewidth=1)\n",
    "plt.plot(x, y2, color='blue', linestyle='-', linewidth=1)\n",
    "\n",
    "plt.ylim(0,4.5)\n",
    "# Make the x axis range from 0 to 2pi\n",
    "\n",
    "plt.yticks([0, 1, 2, 3, 4], fontsize=14)\n",
    "# Make the xticks at (0, pi, 2pi)\n",
    "\n",
    "plt.xlabel('x', fontsize=16)\n",
    "plt.ylabel('y', fontsize=16)\n",
    "\n",
    "# Change this title to be \"Anatomy of a figure\"\n",
    "plt.title('sinusoids', fontsize=16)\n",
    "\n",
    "# Shift the following text to be below the title, make it more descriptive, color it blue \n",
    "plt.text(3,0,'addedtext')\n",
    "\n",
    "# Use this annotation command to make another annotation pointing to the green line\n",
    "plt.annotate('Spine', xy=(6.28, 1.5), xytext=(5.5, 1.0),\n",
    "            weight='bold', color='blue',\n",
    "            arrowprops=dict(arrowstyle='->',\n",
    "                            connectionstyle=\"arc3\",\n",
    "                            color='blue'))\n",
    "\n",
    "plt.show();"
   ]
  },
  {
   "cell_type": "markdown",
   "metadata": {},
   "source": [
    "Only execute the following code cell if you are ready to view a solution."
   ]
  },
  {
   "cell_type": "code",
   "execution_count": null,
   "metadata": {},
   "outputs": [],
   "source": [
    "%load \"helpers/anatomy_figure.py\""
   ]
  },
  {
   "cell_type": "markdown",
   "metadata": {},
   "source": [
    "# pyplot vs figure and axes"
   ]
  },
  {
   "cell_type": "code",
   "execution_count": null,
   "metadata": {},
   "outputs": [],
   "source": [
    "x = np.linspace(0, 2*np.pi, 100)\n",
    "y1 = 3 + np.cos(x)\n",
    "y2 = 1 + 0.5*np.cos(1+x/0.75)"
   ]
  },
  {
   "cell_type": "code",
   "execution_count": null,
   "metadata": {},
   "outputs": [],
   "source": [
    "plt.plot(x,y1,x,y2)\n",
    "plt.show()"
   ]
  },
  {
   "cell_type": "code",
   "execution_count": null,
   "metadata": {},
   "outputs": [],
   "source": [
    "fig = plt.figure()\n",
    "ax = fig.add_axes([0,0,1,1])\n",
    "\n",
    "ax.plot(x,y1,x,y2)\n",
    "\n",
    "plt.show()"
   ]
  },
  {
   "cell_type": "code",
   "execution_count": null,
   "metadata": {},
   "outputs": [],
   "source": [
    "fig = plt.figure()\n",
    "ax = fig.add_subplot(111)\n",
    "\n",
    "ax.plot(x,y1,x,y2)\n",
    "\n",
    "plt.show()"
   ]
  },
  {
   "cell_type": "code",
   "execution_count": null,
   "metadata": {},
   "outputs": [],
   "source": [
    "fig = plt.figure(figsize=(8,8))\n",
    "ax = fig.add_subplot(1, 1, 1)\n",
    "\n",
    "ax.plot(x,y1,x,y2)\n",
    "\n",
    "plt.show()"
   ]
  },
  {
   "cell_type": "code",
   "execution_count": null,
   "metadata": {},
   "outputs": [],
   "source": [
    "fig,ax = plt.subplots(1,1,figsize=(8,8))\n",
    "\n",
    "ax.plot(x,y1,x,y2)\n",
    "\n",
    "plt.show()"
   ]
  },
  {
   "cell_type": "code",
   "execution_count": null,
   "metadata": {},
   "outputs": [],
   "source": [
    "fig,ax = plt.subplots(2,1,figsize=(8,8))\n",
    "\n",
    "ax[0].plot(x,y1)\n",
    "ax[1].plot(x,y2)\n",
    "\n",
    "plt.show()"
   ]
  },
  {
   "cell_type": "markdown",
   "metadata": {},
   "source": [
    "## Exercise:\n",
    "\n",
    "Convert the *Anatomy* figure code (included below) to use figure and axes rather than just `plt`\n",
    "\n",
    "The following documentation may be useful: https://matplotlib.org/stable/api/axes_api.html"
   ]
  },
  {
   "cell_type": "code",
   "execution_count": null,
   "metadata": {},
   "outputs": [],
   "source": [
    "x = np.linspace(0, 2*np.pi, 100)\n",
    "y1 = 3 + np.cos(x)\n",
    "y2 = 1 + 0.5*np.cos(1+x/0.75)\n",
    "\n",
    "# Make these lines dashed\n",
    "plt.plot(x, y1, color='green', linestyle='--', linewidth=1)\n",
    "plt.plot(x, y2, color='blue', linestyle='--', linewidth=1)\n",
    "\n",
    "plt.ylim(0,4.5)\n",
    "# Make the x axis range from 0 to 2pi\n",
    "plt.xlim(0,2*np.pi)\n",
    "\n",
    "plt.yticks([0, 1, 2, 3, 4], fontsize=14)\n",
    "# Make the xticks at (0, pi, 2pi)\n",
    "plt.xticks([0,np.pi,2*np.pi])\n",
    "\n",
    "plt.xlabel('x', fontsize=16)\n",
    "plt.ylabel('y', fontsize=16)\n",
    "\n",
    "# Change this title to be \"Anatomy of a figure\"\n",
    "plt.title('Anatomy of a figure', fontsize=16)\n",
    "\n",
    "# Shift the following text to be below the title, make it more descriptive, color it blue \n",
    "plt.text(3,4.3,'Title',color='blue')\n",
    "\n",
    "# Use this annotation command to make another annotation pointing to the green line\n",
    "plt.annotate('Spine', xy=(6.28, 1.5), xytext=(5.5, 1.0),\n",
    "            weight='bold', color='blue',\n",
    "            arrowprops=dict(arrowstyle='->',\n",
    "                            connectionstyle=\"arc3\",\n",
    "                            color='blue'))\n",
    "plt.annotate('Green line', xy=(0.8, 3.8), xytext=(1.5, 3.4),\n",
    "            weight='bold', color='blue',\n",
    "            arrowprops=dict(arrowstyle='->',\n",
    "                            connectionstyle=\"arc3\",\n",
    "                            color='blue'))\n",
    "\n",
    "plt.show();"
   ]
  },
  {
   "cell_type": "markdown",
   "metadata": {},
   "source": [
    "Only execute the following code cell if you are ready to view a solution."
   ]
  },
  {
   "cell_type": "code",
   "execution_count": null,
   "metadata": {},
   "outputs": [],
   "source": [
    "%load \"helpers/anatomy_figure_axes.py\""
   ]
  },
  {
   "cell_type": "markdown",
   "metadata": {},
   "source": [
    "# Creating different types of plots"
   ]
  },
  {
   "cell_type": "code",
   "execution_count": null,
   "metadata": {},
   "outputs": [],
   "source": [
    "x = np.linspace(0.5, 3.5, 10)\n",
    "y = np.cos(x)"
   ]
  },
  {
   "cell_type": "code",
   "execution_count": null,
   "metadata": {},
   "outputs": [],
   "source": [
    "plt.scatter(x,y)\n",
    "plt.show()"
   ]
  },
  {
   "cell_type": "code",
   "execution_count": null,
   "metadata": {},
   "outputs": [],
   "source": [
    "plt.bar(x,y)\n",
    "plt.show()"
   ]
  },
  {
   "cell_type": "code",
   "execution_count": null,
   "metadata": {},
   "outputs": [],
   "source": [
    "plt.bar(x,y,width=0.2)\n",
    "plt.show()"
   ]
  },
  {
   "cell_type": "code",
   "execution_count": null,
   "metadata": {},
   "outputs": [],
   "source": [
    "plt.barh(x,y,height=0.2)\n",
    "plt.show()"
   ]
  },
  {
   "cell_type": "code",
   "execution_count": null,
   "metadata": {},
   "outputs": [],
   "source": [
    "x = np.linspace(0, 4*np.pi, 100)\n",
    "y = np.linspace(-2, 2, 100)\n",
    "Xgrid, Ygrid = np.meshgrid(x,y)\n",
    "\n",
    "f = np.exp(-Ygrid**2) * np.cos(Xgrid)\n",
    "\n",
    "plt.contourf(f)\n",
    "\n",
    "plt.show()"
   ]
  },
  {
   "cell_type": "code",
   "execution_count": null,
   "metadata": {},
   "outputs": [],
   "source": [
    "x = np.linspace(0, 4*np.pi, 100)\n",
    "y = np.linspace(-2, 2, 100)\n",
    "Xgrid, Ygrid = np.meshgrid(x,y)\n",
    "\n",
    "f = np.exp(-Ygrid**2) * np.cos(Xgrid)\n",
    "\n",
    "plt.contourf(Xgrid, Ygrid, f)\n",
    "\n",
    "plt.show()"
   ]
  },
  {
   "cell_type": "code",
   "execution_count": null,
   "metadata": {},
   "outputs": [],
   "source": [
    "x = np.linspace(0, 4*np.pi, 100)\n",
    "y = np.linspace(-2, 2, 100)\n",
    "Xgrid, Ygrid = np.meshgrid(x,y)\n",
    "\n",
    "f = np.exp(-Ygrid**2) * np.cos(Xgrid)\n",
    "\n",
    "plt.contourf(Xgrid, Ygrid, f)\n",
    "ax = plt.gca()\n",
    "ax.set_xticks([0,2*np.pi,4*np.pi])\n",
    "ax.set_xticklabels(['0','$2\\pi$','$4\\pi$'])\n",
    "\n",
    "plt.show()"
   ]
  },
  {
   "cell_type": "code",
   "execution_count": null,
   "metadata": {},
   "outputs": [],
   "source": [
    "np.random.seed(19680801)\n",
    "data = np.random.randn(2, 100)\n",
    "\n",
    "fig, axs = plt.subplots(2, 2, figsize=(6, 6))\n",
    "axs[0, 0].hist(data[0])\n",
    "axs[1, 0].scatter(data[0], data[1])\n",
    "axs[0, 1].plot(data[0], data[1])\n",
    "axs[1, 1].hist2d(data[0], data[1])\n",
    "\n",
    "plt.show()"
   ]
  },
  {
   "cell_type": "markdown",
   "metadata": {},
   "source": [
    "## Exercise:"
   ]
  },
  {
   "cell_type": "code",
   "execution_count": null,
   "metadata": {},
   "outputs": [],
   "source": [
    "np.random.seed(19680801)\n",
    "data = np.random.randn(2, 100)\n",
    "\n",
    "fig, axs = plt.subplots(2, 2, figsize=(6, 6))\n",
    "\n",
    "# for hist, use the parameters \"width\" and \"bins\" to experiment with different hist plots\n",
    "axs[0, 0].hist(data[0])\n",
    "\n",
    "# give this scatter plot y range of (-3.5,3.5), x range of (-4,4), and make the points green\n",
    "axs[1, 0].scatter(data[0], data[1])\n",
    "\n",
    "# make the lines dotted\n",
    "axs[0, 1].plot(data[0], data[1])\n",
    "\n",
    "axs[1, 1].hist2d(data[0], data[1])\n",
    "\n",
    "plt.show()"
   ]
  },
  {
   "cell_type": "markdown",
   "metadata": {},
   "source": [
    "Only execute the following code cell if you are ready to view a solution."
   ]
  },
  {
   "cell_type": "code",
   "execution_count": null,
   "metadata": {},
   "outputs": [],
   "source": [
    "%load \"helpers/quad_figure.py\""
   ]
  },
  {
   "cell_type": "code",
   "execution_count": null,
   "metadata": {},
   "outputs": [],
   "source": [
    "from matplotlib import cm\n",
    "\n",
    "fig = plt.figure()\n",
    "ax = fig.add_subplot(projection='3d')\n",
    "\n",
    "# Make data.\n",
    "X = np.arange(-5, 5, 0.25)\n",
    "Y = np.arange(-5, 5, 0.25)\n",
    "X, Y = np.meshgrid(X, Y)\n",
    "R = np.sqrt(X**2 + Y**2)\n",
    "Z = np.sin(R)\n",
    "\n",
    "# Plot the surface.\n",
    "surf = ax.plot_surface(X, Y, Z, cmap=cm.coolwarm, linewidth=0, antialiased=False)\n",
    "\n",
    "# Customize the z axis.\n",
    "ax.set_zlim(-1.01, 1.01)\n",
    "\n",
    "plt.show()"
   ]
  },
  {
   "cell_type": "markdown",
   "metadata": {},
   "source": [
    "## Change the below cell to make a 3D plot of the data used for the contour plot above"
   ]
  },
  {
   "cell_type": "code",
   "execution_count": null,
   "metadata": {},
   "outputs": [],
   "source": [
    "from matplotlib import cm\n",
    "\n",
    "fig = plt.figure()\n",
    "ax = fig.add_subplot(projection='3d')\n",
    "\n",
    "# Make data.\n",
    "X = np.arange(-5, 5, 0.25)\n",
    "Y = np.arange(-5, 5, 0.25)\n",
    "X, Y = np.meshgrid(X, Y)\n",
    "R = np.sqrt(X**2 + Y**2)\n",
    "Z = np.sin(R)\n",
    "\n",
    "# Plot the surface.\n",
    "surf = ax.plot_surface(X, Y, Z, cmap=cm.coolwarm, linewidth=0, antialiased=False)\n",
    "\n",
    "# Customize the z axis.\n",
    "ax.set_zlim(-1.01, 1.01)\n",
    "\n",
    "plt.show()"
   ]
  },
  {
   "cell_type": "markdown",
   "metadata": {},
   "source": [
    "Only execute the following code cell if you are ready to view a solution."
   ]
  },
  {
   "cell_type": "code",
   "execution_count": null,
   "metadata": {},
   "outputs": [],
   "source": [
    "%load \"helpers/3d-figure.py\""
   ]
  }
 ],
 "metadata": {
  "kernelspec": {
   "display_name": "Python 3 (ipykernel)",
   "language": "python",
   "name": "python3"
  },
  "language_info": {
   "codemirror_mode": {
    "name": "ipython",
    "version": 3
   },
   "file_extension": ".py",
   "mimetype": "text/x-python",
   "name": "python",
   "nbconvert_exporter": "python",
   "pygments_lexer": "ipython3",
   "version": "3.9.6"
  },
  "toc": {
   "base_numbering": 1,
   "nav_menu": {},
   "number_sections": true,
   "sideBar": true,
   "skip_h1_title": false,
   "title_cell": "Table of Contents",
   "title_sidebar": "Contents",
   "toc_cell": false,
   "toc_position": {},
   "toc_section_display": true,
   "toc_window_display": false
  }
 },
 "nbformat": 4,
 "nbformat_minor": 4
}
