{
 "cells": [
  {
   "cell_type": "markdown",
   "id": "53a75286-8e9a-4574-a9cd-deadf632e1d1",
   "metadata": {},
   "source": [
    "# Instructions"
   ]
  },
  {
   "cell_type": "markdown",
   "id": "64e3cf6e-cf51-4531-baa3-c576b50d555b",
   "metadata": {},
   "source": [
    "The following assignment is intended to help you gain familiarity with the some software infrastructure and to help you practice (potentially completely new) Python skills.\n",
    "\n",
    "It's not intended to make you tear your hair out in consternation!  If you want hints or guidance on the basics, please post in Slack\n",
    "\n",
    "1. Join our Slack channel\n",
    "    * [click here if you need the link to join](https://join.slack.com/t/slack-rwi6743/shared_invite/zt-1batoi4rr-fTrKMVOAWFYqTOYm8bOkEQ)\n",
    "1. Make a new repository on GitHub to store assignments from this class.\n",
    "    * Go to GitHub (https://github.com) and log in. \n",
    "        * Create a GitHub account if you need one \n",
    "    * Click on \"Repositories\" and \"New\" \n",
    "    * Name your repo \"csx4501\", make it public, and select the \"Add a README file\" option\n",
    "    * Clone the new repo to your computer\n",
    "        * e.g. by using the GitHub Desktop application (https://desktop.github.com/)\n",
    "1. Copy this assignment file into the folder you just cloned.\n",
    "1. Carry out the subsequent exercises (below) in that file and save it.\n",
    "    * You will need to have Python and Jupyter installed on your computer.\n",
    "    * Contact me if you're having difficulties.\n",
    "1. Customize your repo's README file\n",
    "    * Go to the folder on your computer with the cloned files\n",
    "    * Open the README in a text editor\n",
    "    * Add a profile of yourself, a description of the course, project ideas, and your objectives for the class.\n",
    "    * Style your text\n",
    "        * Here's one [markdown guide](https://guides.github.com/features/mastering-markdown) for guidance\n",
    "1. Push your completed assignment and README files to your GitHub repository\n",
    "    1. In GitHub Desktop app, make sure that the \"Current Repository\" shown at the top is your new csx4501 repository\n",
    "    1. The changed files should show up on the left.\n",
    "    1. Add a commit summary and description on the bottom-left, then click the blue Commit button.\n",
    "    1. In the main window, click the blue button \"Push origin\" to push your changed files to GitHub.\n",
    "    1. After you push successfully, verify that your files are in your GitHub repository by visiting the website for your repository\n",
    "1. Finish the assignment by submitting a link to your GitHub repository on the Canvas site"
   ]
  },
  {
   "cell_type": "markdown",
   "id": "49b9267a-d050-4671-a643-1103fd47c690",
   "metadata": {},
   "source": [
    "# Python exercises"
   ]
  },
  {
   "cell_type": "code",
   "execution_count": null,
   "id": "31728919-ffb3-44c6-ba97-d00489c96274",
   "metadata": {},
   "outputs": [],
   "source": [
    "# Do at least three mathematical calculations with `+`, `-`, `*`, `/`, and/or `%`.\n",
    "a = 1 + 2\n",
    "b = a - 1\n",
    "c = a / b\n",
    "print(c)"
   ]
  },
  {
   "cell_type": "code",
   "execution_count": null,
   "id": "8fe34a6d-a4f7-4111-a95a-257a7de52103",
   "metadata": {},
   "outputs": [],
   "source": [
    "# Assign a number to the variable `a`,\n",
    "# do a mathematical calculation to determine whether a is odd or even,\n",
    "# and print out either \"a is even\" or \"a is odd\" as appropriate.\n",
    "a = 5\n",
    "if a % 2 == 0:\n",
    "    print(\"a is even\")\n",
    "else:\n",
    "    print(\"a is odd\")\n"
   ]
  },
  {
   "cell_type": "code",
   "execution_count": null,
   "id": "a70653e6-0a18-4155-8b4b-c6835f72e4e6",
   "metadata": {},
   "outputs": [],
   "source": [
    "# Using the given list,\n",
    "# 1. print the list\n",
    "# 2. print the 0th element \n",
    "# 3. print the 5th element \n",
    "# 4. print the last element \n",
    "# 5. print the length\n",
    "#        look at https://python.readthedocs.io/en/stable/library/functions.html\n",
    "#        specifically `len()`\n",
    "# 6. print all the elements\n",
    "# 7. print all the elements less than 8\n",
    "# 8. print out the elements in reverse order\n",
    "#        look at https://python-reference.readthedocs.io/en/latest/docs/list/\n",
    "#        specifically `reverse`\n",
    "# 9. append the next fibonacci number and print out the new list\n",
    "#        look again at the docs, this time for `append`\n",
    "#        [elements in the fibonacci sequence are equal to the sum of the previous two elements]\n",
    "\n",
    "a = [1, 1, 2, 3, 5, 8, 13, 21, 34, 55, 89]\n",
    "# 1 print the list\n",
    "print(a)\n",
    "# 2 print the 0th element\n",
    "print(a[0])\n",
    "# 3 print the 5th element\n",
    "print(a[5])\n",
    "# 4 print the last element\n",
    "print(a[-1])\n",
    "# 5 print the length\n",
    "print(len(a))\n",
    "\n",
    "\n"
   ]
  },
  {
   "cell_type": "code",
   "execution_count": null,
   "id": "22203dab-ac71-45fa-9922-c649c7810488",
   "metadata": {},
   "outputs": [],
   "source": [
    "# Using the below lists\n",
    "# 1. print out all the elements that are contained in both lists\n",
    "# 2. print out the elements that are contained in either list a or list b but not both\n",
    "\n",
    "a = [1, 1, 2, 3, 5, 8, 13, 21, 34, 55, 89]\n",
    "b = [1, 2, 3, 4, 5, 6, 7, 8, 9, 10, 11, 12, 13]\n",
    "\n",
    "print(a + b)\n",
    "\n",
    "x = [i for i in a if i in a and i not in b]\n",
    "y = [i for i in b if i in b and i not in a]\n",
    "print(x,y)"
   ]
  },
  {
   "cell_type": "code",
   "execution_count": 42,
   "id": "ad4f7b2a-5cc1-4a65-a5b5-1f2994f42fab",
   "metadata": {},
   "outputs": [
    {
     "name": "stdout",
     "output_type": "stream",
     "text": [
      "4\n",
      "January has 7 letters\n",
      "February has 8 letters\n",
      "March has 5 letters\n",
      "April has 5 letters\n",
      "May has 4 letters\n"
     ]
    }
   ],
   "source": [
    "# Using the below dictionary\n",
    "# add a new item to the dictionary,\n",
    "# print an element from the dictionary,\n",
    "# print out the message \"<key> has <value> letters\" for every <key>/<value> pair\n",
    "\n",
    "a = {'January': 7, 'February': 8, 'March': 5, 'April': 5}\n",
    "\n",
    "a['May'] = 3\n",
    "\n",
    "print(a['May'])\n",
    "\n",
    "for key, value in a.items():\n",
    "    print(key, \"has\", value, \"letters\")"
   ]
  },
  {
   "cell_type": "code",
   "execution_count": 40,
   "id": "3005621c-e50c-436a-a033-9aadae71eafb",
   "metadata": {},
   "outputs": [
    {
     "name": "stdout",
     "output_type": "stream",
     "text": [
      "[0, 9]\n",
      "[2, 7]\n",
      "[4, 5]\n",
      "[6, 3]\n",
      "[8, 1]\n",
      "[10, -1]\n",
      "[12, -3]\n",
      "[14, -5]\n",
      "[16, -7]\n",
      "[18, -9]\n"
     ]
    }
   ],
   "source": [
    "# Write a function that takes as input a list of numbers \n",
    "# and prints a new list of only the first and last elements of the given list.\n",
    "# Execute it with several examples.\n",
    "\n",
    "def first_last(a):\n",
    "    return [a[0], a[-1]]\n",
    "\n",
    "ex = [0, 1, 2, 3, 4, 5, 6, 7, 8, 9]\n",
    "\n",
    "for i in ex:\n",
    "    print(first_last(ex))\n",
    "    ex[0] += 2\n",
    "    ex[-1] -= 2\n",
    "\n"
   ]
  },
  {
   "cell_type": "code",
   "execution_count": null,
   "id": "4a607e0a-2e1b-4e44-af40-4571f2e0b4f0",
   "metadata": {},
   "outputs": [],
   "source": [
    "# Write a function that takes a string as input\n",
    "# and prints out \"Yes\" or \"No\" depending on whether the\n",
    "# string is a palindrome (spelled the same forwards and backwards).  \n",
    "# Execute it with several examples.\n",
    "\n",
    "def reversed_string(a):\n",
    "    if a == a[::-1]:\n",
    "        return \"Yes\"\n",
    "    else:\n",
    "        return \"No\"\n",
    "a = \"apple\"\n",
    "b = \"racecar\"\n",
    "\n",
    "print(reversed_string(a))\n",
    "\n",
    "print(reversed_string(b))"
   ]
  },
  {
   "cell_type": "markdown",
   "id": "86f9df9a-822a-42be-a778-541173a4fefe",
   "metadata": {},
   "source": [
    "Check out the Python documentation for `random` and `string`:\n",
    "* https://python.readthedocs.io/en/stable/library/random.html\n",
    "* https://python.readthedocs.io/en/stable/library/string.html\n",
    "\n",
    "It's overkill for what you need here, but if you search for the specific attributes and methods mentioned below, you will be able to find useful information."
   ]
  },
  {
   "cell_type": "code",
   "execution_count": null,
   "id": "c221f184-1e0b-491f-97a8-f9fb30458926",
   "metadata": {},
   "outputs": [],
   "source": [
    "import random\n",
    "\n",
    "# Write a function that sets a random seed and prints three random numbers between 0 and 1\n",
    "# You may find it useful to look up:\n",
    "# random.seed and random.random\n",
    "\n",
    "\n",
    "def random_numbers(seed = random.random(), r = 3):\n",
    "\n",
    "    random.seed(seed)\n",
    "\n",
    "    for i in range(r):\n",
    "        n = random.random()\n",
    "\n",
    "        print(n)\n",
    "\n",
    "\n",
    "random_numbers()"
   ]
  },
  {
   "cell_type": "code",
   "execution_count": null,
   "id": "fc7c0629-729b-4c7e-9edb-266fbacb3be7",
   "metadata": {},
   "outputs": [],
   "source": [
    "# Write a function that takes an integer as input\n",
    "# and prints a random alphabetical character, alphabetical string,\n",
    "# and alphabetical string of a fixed length equal to the input integer.\n",
    "# You may find it useful to look up:\n",
    "# string.ascii_letters, random.randint, random.choice\n",
    "import string\n",
    "import random\n",
    "\n",
    "def random_string(n = random.randint(1, 20)):\n",
    "    a = string.ascii_letters\n",
    "    b = \"\"\n",
    "    for i in range(n):\n",
    "        b += random.choice(a)\n",
    "    return b\n",
    "\n",
    "\n",
    "\n",
    "print(random_string())"
   ]
  },
  {
   "cell_type": "code",
   "execution_count": null,
   "id": "c738c817-00aa-4597-b5c8-f38af11275cb",
   "metadata": {},
   "outputs": [],
   "source": [
    "# Print the words in the following sentence that are longer than 6 characters\n",
    "# Note: you may find it useful to look at \n",
    "# `split` in https://python-reference.readthedocs.io/en/latest/docs/str/\n",
    "\n",
    "ml_sentence = '''\n",
    "A computer program is said to learn \n",
    "from experience E with respect to some class of tasks T \n",
    "and performance measure P if its performance at tasks in T \n",
    "as measured by P improves with experience E.\n",
    "'''\n",
    "\n",
    "for i in ml_sentence.split(' '):\n",
    "    if len(i) > 6:\n",
    "        print(i)"
   ]
  },
  {
   "cell_type": "code",
   "execution_count": null,
   "id": "25e1bc45-95db-4e39-8abf-614660bc17ba",
   "metadata": {},
   "outputs": [],
   "source": [
    "# Print 5 random words from following sentence:\n",
    "\n",
    "ml_sentence = '''\n",
    "A computer program is said to learn \n",
    "from experience E with respect to some class of tasks T \n",
    "and performance measure P if its performance at tasks in T \n",
    "as measured by P improves with experience E.\n",
    "'''\n",
    "\n",
    "for i in range(5):\n",
    "    print(random.choice(ml_sentence.split(' ')))\n"
   ]
  },
  {
   "cell_type": "code",
   "execution_count": null,
   "id": "8ef4c496-014c-4459-941d-afb431501191",
   "metadata": {},
   "outputs": [],
   "source": [
    "# Using the above 'ml_sentence', make a dictionary with\n",
    "# the dictionary keys equal to the unique words in the sentence,\n",
    "# and the value for each key equal to the number of times each word occurs.\n",
    "# e.g. 'hello my hello friend' would lead to the dictionary {'hello': 2, 'my': 1, 'friend': 1}\n",
    "\n",
    "# My preferred built in method for this is to use the `Counter` class\n",
    "from collections import Counter\n",
    "print(Counter(ml_sentence.replace('\\n', '').split(' ')))\n",
    "\n",
    "\n",
    "def count_words(sentence_list):\n",
    "\n",
    "    sentence_dict = {}\n",
    "\n",
    "    for i in sentence_list:\n",
    "\n",
    "        if i in sentence_dict:\n",
    "            sentence_dict[i] += 1\n",
    "        else:\n",
    "            sentence_dict[i] = 1\n",
    "\n",
    "    return sentence_dict\n",
    "\n",
    "ml_sentence_list = ml_sentence.replace('\\n', '').split(' ')\n",
    "\n",
    "print(count_words(ml_sentence_list))"
   ]
  },
  {
   "cell_type": "code",
   "execution_count": null,
   "id": "33eaaa90-e336-4367-b072-58a8a71dada8",
   "metadata": {},
   "outputs": [],
   "source": [
    "# Time to roll up our sleeves and make a similar dictionary for all the words in Macbeth.\n",
    "# I am going to do the first part (and you can execute this cell as is to see what happens),\n",
    "# you just need to adapt your code from above to make the dictionary at the end\n",
    "\n",
    "# Here we import libraries that can grab data from the web (via requests) and form a list of words using NLTK.\n",
    "import requests\n",
    "from nltk.tokenize import word_tokenize\n",
    "from collections import Counter\n",
    "\n",
    "# Here we get the text of Macbeth from Project Gutenberg (https://www.gutenberg.org/) \n",
    "# and \"tokenize\" the text (split it up into words)\n",
    "target_url = \"https://www.gutenberg.org/files/1533/1533-0.txt\"\n",
    "response = requests.get(target_url)\n",
    "text_string = response.text\n",
    "text_string = text_string.lower()\n",
    "text_words = word_tokenize(text_string)\n",
    "\n",
    "# Here we print the first 10 words\n",
    "print(text_words[0:10])\n",
    "\n",
    "# Put in your code here to make the dictionary with the <word> : <word counts> pairs\n",
    "c = Counter(text_words)\n",
    "d = count_words(text_words)\n",
    "\n",
    "# Check out some entries in the dictionary (such as 'Macbeth', 'sword', 'thy')\n",
    "print(c.get('sword'))\n",
    "print(d['sword'])"
   ]
  },
  {
   "cell_type": "markdown",
   "id": "4940bcc8-b6db-4ddd-a0ec-3dcdf5fa4183",
   "metadata": {},
   "source": [
    "# End"
   ]
  }
 ],
 "metadata": {
  "kernelspec": {
   "display_name": "Python 3.9.5 ('geoprj')",
   "language": "python",
   "name": "python3"
  },
  "language_info": {
   "codemirror_mode": {
    "name": "ipython",
    "version": 3
   },
   "file_extension": ".py",
   "mimetype": "text/x-python",
   "name": "python",
   "nbconvert_exporter": "python",
   "pygments_lexer": "ipython3",
   "version": "3.9.5"
  },
  "vscode": {
   "interpreter": {
    "hash": "23234625f55973f7a58126a35d86facfdbb1213f4cf262be4a4984331c60271a"
   }
  }
 },
 "nbformat": 4,
 "nbformat_minor": 5
}
