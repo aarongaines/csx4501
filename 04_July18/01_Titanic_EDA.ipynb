{
 "cells": [
  {
   "cell_type": "markdown",
   "id": "0df8dd28-4f1d-4f25-b707-bf91adfa539c",
   "metadata": {},
   "source": [
    "# Exploratory Data Analysis with the Titanic Dataset\n",
    "\n",
    "This dataset is the training dataset from Kaggle's [\"Titanic - Machine Learning from Disaster\"](https://www.kaggle.com/c/titanic)"
   ]
  },
  {
   "cell_type": "markdown",
   "id": "8ee3984c-b7ae-466f-9b76-e6e0c08f1912",
   "metadata": {},
   "source": [
    "## Import modules to use Pandas and Matplotlib"
   ]
  },
  {
   "cell_type": "code",
   "execution_count": null,
   "id": "f5f032ad-7e1d-479d-a27d-bec9570b3467",
   "metadata": {},
   "outputs": [],
   "source": [
    "import pandas as pd\n",
    "import matplotlib.pyplot as plt"
   ]
  },
  {
   "cell_type": "markdown",
   "id": "9884cdec-0352-4c04-bf32-96f397abdd71",
   "metadata": {},
   "source": [
    "## Import the data"
   ]
  },
  {
   "cell_type": "markdown",
   "id": "25f09e60-bcd8-4ff2-bcf7-c590af2ea0d0",
   "metadata": {},
   "source": [
    "The dataset is contained in a CSV file, \"data/titanic.csv\"."
   ]
  },
  {
   "cell_type": "code",
   "execution_count": null,
   "id": "873d972f-7cb3-4672-828a-b894727d4c37",
   "metadata": {},
   "outputs": [],
   "source": [
    "df = pd.read_csv('data/titanic.csv')"
   ]
  },
  {
   "cell_type": "markdown",
   "id": "b6858774-051b-4bc0-8db0-64dd9750fddf",
   "metadata": {},
   "source": [
    "## Look at the data\n",
    "\n",
    "* look at snapshots of the dataframe\n",
    "  * `df`, `df.head()`, `df.tail()`, `df.sample()`\n",
    "* look at the sizes\n",
    "  * `df.shape`: look at the size of the data\n",
    "* look at column names\n",
    "  * `df.columns`: look at column names\n",
    "* look at summary information\n",
    "  * `df.describe()`: statistical summary info\n",
    "  * `df.info()`: data types, sizes, column labels, null values"
   ]
  },
  {
   "cell_type": "code",
   "execution_count": null,
   "id": "37bb6448-ea16-4def-bb05-a595b22822a5",
   "metadata": {
    "tags": []
   },
   "outputs": [],
   "source": [
    "df"
   ]
  },
  {
   "cell_type": "code",
   "execution_count": null,
   "id": "fca7461e-1140-4f1d-b85c-fc49dc7f812d",
   "metadata": {
    "tags": []
   },
   "outputs": [],
   "source": [
    "df.head()"
   ]
  },
  {
   "cell_type": "code",
   "execution_count": null,
   "id": "bc0a94b9-f7a2-4c37-a43e-e3b0249d9f48",
   "metadata": {},
   "outputs": [],
   "source": [
    "df.shape"
   ]
  },
  {
   "cell_type": "markdown",
   "id": "36bc7c18-eb65-4fce-8fbe-bb09354b5ff3",
   "metadata": {},
   "source": [
    "-> There are 891 passengers, 12 columns of features"
   ]
  },
  {
   "cell_type": "code",
   "execution_count": null,
   "id": "082d86be-b910-40ed-8b86-321a07e74e7e",
   "metadata": {},
   "outputs": [],
   "source": [
    "df.columns"
   ]
  },
  {
   "cell_type": "markdown",
   "id": "ecdf92d5-9b8e-4faf-8171-05f072843443",
   "metadata": {},
   "source": [
    "-> These are the column names\n",
    "\n",
    "Let's consult information from the Kaggle site to get more information."
   ]
  },
  {
   "cell_type": "markdown",
   "id": "3ef174eb-3a41-4705-b9d6-1ebfc8d58219",
   "metadata": {
    "tags": []
   },
   "source": [
    "| Variable | Definition | Key| \n",
    "| :-- | :-- | :-- |\n",
    "| survival | Survival | 0 = No, 1 = Yes| \n",
    "| pclass | Ticket class | 1 = 1st, 2 = 2nd, 3 = 3rd| \n",
    "| sex | Sex | | \n",
    "| Age | Age in years | | \n",
    "| sibsp | # of siblings / spouses aboard the Titanic | | \n",
    "| parch | # of parents / children aboard the Titanic | | \n",
    "| ticket | Ticket number | | \n",
    "| fare | Passenger fare | | \n",
    "| cabin | Cabin number | | \n",
    "| embarked | Port of Embarkation | C = Cherbourg, Q = Queenstown, S = Southampton| "
   ]
  },
  {
   "cell_type": "markdown",
   "id": "b2da4e26-d542-4500-82b2-365d921553d2",
   "metadata": {
    "tags": []
   },
   "source": [
    "**Variable Notes**\n",
    "\n",
    "pclass: A proxy for socio-economic status (SES)\n",
    "* 1st = Upper\n",
    "* 2nd = Middle\n",
    "* 3rd = Lower\n",
    "\n",
    "age: Age is fractional if less than 1. If the age is estimated, is it in the form of xx.5\n",
    "\n",
    "sibsp: The dataset defines family relations in this way...\n",
    "* Sibling = brother, sister, stepbrother, stepsister\n",
    "* Spouse = husband, wife (mistresses and fiancés were ignored)\n",
    "\n",
    "parch: The dataset defines family relations in this way...\n",
    "* Parent = mother, father\n",
    "* Child = daughter, son, stepdaughter, stepson\n",
    "* Some children travelled only with a nanny, therefore parch=0 for them."
   ]
  },
  {
   "cell_type": "code",
   "execution_count": null,
   "id": "6170cb7e-f77b-4229-a39f-2c6d45632e3a",
   "metadata": {},
   "outputs": [],
   "source": [
    "df.describe()"
   ]
  },
  {
   "cell_type": "markdown",
   "id": "d5367773-8eb4-4b7e-a58d-9d642791bc11",
   "metadata": {},
   "source": [
    "-> What information does this show?\n",
    "* average survival rate is 38%\n",
    "* age range is 0.42 to 80 yrs old, with mean of ~30\n",
    "* at least 50% don't have siblings or spouses\n",
    "* fare has higher stdev than mean -> varies a lot!"
   ]
  },
  {
   "cell_type": "code",
   "execution_count": null,
   "id": "32b7a769-e88e-4bb0-95b1-886624cb8a09",
   "metadata": {},
   "outputs": [],
   "source": [
    "df.info()"
   ]
  },
  {
   "cell_type": "markdown",
   "id": "447a0a09-cd76-49c6-ae5e-4927ae705b3b",
   "metadata": {},
   "source": [
    "-> We can see the columns with lots of null values.\n",
    "\n",
    "-> Some data types also don't make sense:  PassengerId, Survived, and Pclass do not have numerical value, so the numbers are not really meant to be integers."
   ]
  },
  {
   "cell_type": "markdown",
   "id": "f8cc6648-2713-4108-a776-64872eea4038",
   "metadata": {},
   "source": [
    "<table class=\"table table-striped\">\n",
    "  <thead>\n",
    "    <tr>\n",
    "      <th>Pandas Type</th>\n",
    "      <th>Native Python Type</th>\n",
    "      <th>Description</th>\n",
    "    </tr>\n",
    "  </thead>\n",
    "  <tbody>\n",
    "    <tr>\n",
    "      <td>object</td>\n",
    "      <td>string</td>\n",
    "      <td>The most general dtype. Will be assigned to your column if column has mixed types (numbers and strings).</td>\n",
    "    </tr>\n",
    "    <tr>\n",
    "      <td>int64</td>\n",
    "      <td>int</td>\n",
    "      <td>Numeric characters. 64 refers to the memory allocated to hold this character.</td>\n",
    "    </tr>\n",
    "    <tr>\n",
    "      <td>float64</td>\n",
    "      <td>float</td>\n",
    "      <td>Numeric characters with decimals. If a column contains numbers and NaNs (see below), pandas will default to float64, in case your missing value has a decimal.</td>\n",
    "    </tr>\n",
    "    <tr>\n",
    "      <td>datetime64, timedelta[ns]</td>\n",
    "      <td>N/A (but see the <a href=\"http://doc.python.org/2/library/datetime.html\">datetime</a> module in Python’s standard library)</td>\n",
    "      <td>Values meant to hold time data. Look into these for time series experiments.</td>\n",
    "    </tr>\n",
    "  </tbody>\n",
    "</table>"
   ]
  },
  {
   "cell_type": "markdown",
   "id": "bff6420e-3323-4fa2-bc69-5bbd221707e2",
   "metadata": {},
   "source": [
    "Let's change a column's datatype from int to string (which becomes an object to pandas):"
   ]
  },
  {
   "cell_type": "code",
   "execution_count": null,
   "id": "1f706d44-244c-427f-b640-8d24db5be561",
   "metadata": {},
   "outputs": [],
   "source": [
    "df['Survived'].astype(str)"
   ]
  },
  {
   "cell_type": "code",
   "execution_count": null,
   "id": "6df076ba-ee4c-4c08-856d-55791c71409a",
   "metadata": {},
   "outputs": [],
   "source": [
    "df.info()"
   ]
  },
  {
   "cell_type": "markdown",
   "id": "95c172f5-eb31-4704-8e1e-48859611e093",
   "metadata": {},
   "source": [
    "Whoops!  The astype function returned a view, but it didn't change the underlying dataframe.  To do that, we need to explicitly assign the returned dataframe column back into the `df['Survived']` column."
   ]
  },
  {
   "cell_type": "code",
   "execution_count": null,
   "id": "217aec76-545c-4a91-964d-7f05bc619db5",
   "metadata": {},
   "outputs": [],
   "source": [
    "df['Survived'] = df['Survived'].astype(str)"
   ]
  },
  {
   "cell_type": "code",
   "execution_count": null,
   "id": "b01eefa7-ad89-4e95-82e9-b1524eb3afb0",
   "metadata": {},
   "outputs": [],
   "source": [
    "df.info()"
   ]
  },
  {
   "cell_type": "code",
   "execution_count": null,
   "id": "2cfdbcf2-863c-445a-bf8c-b7203eaac1b3",
   "metadata": {},
   "outputs": [],
   "source": [
    "# Change the other two columns too\n",
    "df['PassengerId'] = df['PassengerId'].astype(str)\n",
    "df['Pclass'] = df['Pclass'].astype(str)"
   ]
  },
  {
   "cell_type": "markdown",
   "id": "a8f090d6-9e8f-4512-8654-3e42f22871d7",
   "metadata": {},
   "source": [
    "## Visualization\n",
    "\n",
    "Now for some fun stuff.  Let's try to make some simple plots to see what observations we can make."
   ]
  },
  {
   "cell_type": "code",
   "execution_count": null,
   "id": "8afe475c-0fe2-44ef-8ea3-b6fe75b4ef8e",
   "metadata": {},
   "outputs": [],
   "source": [
    "df['Fare']"
   ]
  },
  {
   "cell_type": "code",
   "execution_count": null,
   "id": "d2301a82-ddb7-40cc-94d7-41d852d7a1bf",
   "metadata": {},
   "outputs": [],
   "source": [
    "df['Fare'].plot()"
   ]
  },
  {
   "cell_type": "markdown",
   "id": "d216e0ef-2ed9-48c6-abd0-6903033df0d7",
   "metadata": {},
   "source": [
    "This shows Index vs Fare, i.e., what the value of every Fare was.  We can get a sense of what all the fares were from this, but really we probably want to see a distribution of values."
   ]
  },
  {
   "cell_type": "code",
   "execution_count": null,
   "id": "c4f8e25c-cacf-42d2-a7f3-9f549c02fa43",
   "metadata": {},
   "outputs": [],
   "source": [
    "df['Fare'].plot(kind='hist')"
   ]
  },
  {
   "cell_type": "markdown",
   "id": "a15086e4-aae9-4cf8-a1d2-d23b56476acd",
   "metadata": {},
   "source": [
    "It looks like there are a bunch of low cost tickets, or maybe just a few very *very* expensive tickets.\n",
    "\n",
    "**Our first look at potentially suspicious values:**  Are there any 0 values?"
   ]
  },
  {
   "cell_type": "code",
   "execution_count": null,
   "id": "c78fbba7-dda6-4128-96ba-eccf10e4ff6d",
   "metadata": {},
   "outputs": [],
   "source": [
    "df.loc[df['Fare']==0]"
   ]
  },
  {
   "cell_type": "markdown",
   "id": "1902cd12-80c3-4749-b067-c0eb103db3b7",
   "metadata": {},
   "source": [
    "A brief search of some names shows that Mr Lionel Leonard, William Cahoone Johnson Jr., Alfred Johnson, and William Henry Tornquist were American Line employees.  It may make sense that they would have traveled on complementary fare.\n",
    "\n",
    "... more investigation may be warranted.\n",
    "\n",
    "But let's looks at the columns that have 'NaN'."
   ]
  },
  {
   "cell_type": "code",
   "execution_count": null,
   "id": "618be5dc-cbb6-40f5-b1d9-96bcd644f7ea",
   "metadata": {},
   "outputs": [],
   "source": [
    "df.isna()"
   ]
  },
  {
   "cell_type": "code",
   "execution_count": null,
   "id": "fcfb8ec8-12de-4015-9892-ff197262ef0a",
   "metadata": {},
   "outputs": [],
   "source": [
    "df.isna().sum()"
   ]
  },
  {
   "cell_type": "code",
   "execution_count": null,
   "id": "f4a1930f-7d4a-447f-8a9a-9b9396601df6",
   "metadata": {},
   "outputs": [],
   "source": [
    "df.shape"
   ]
  },
  {
   "cell_type": "code",
   "execution_count": null,
   "id": "439d436d-d116-4f7c-8a15-c5a01b11155b",
   "metadata": {},
   "outputs": [],
   "source": [
    "df.isna().sum() / df.shape[0]"
   ]
  },
  {
   "cell_type": "markdown",
   "id": "15ec57a8-a223-4c7c-a748-8820b11314fa",
   "metadata": {},
   "source": [
    "* 20% of age data is missing\n",
    "* 77% of cabin data is missing\n",
    "* 0.2% of embarked data is missing"
   ]
  },
  {
   "cell_type": "markdown",
   "id": "530b4be3-85b5-418d-81dc-8a5944cccf10",
   "metadata": {},
   "source": [
    "If we want to use those data columns, we would potentially stop here and try to figure out how we need/want to deal with the values that are missing.  For example, we could:\n",
    "* drop the column completely\n",
    "* drop the rows with NaNs\n",
    "* fill the NaNs with other values (a useful value like mean or median, the previous or next row's value, a constant, or the result of an operation)"
   ]
  },
  {
   "cell_type": "markdown",
   "id": "c4178e71-0fda-49ae-998c-4ea0d5c4fc12",
   "metadata": {},
   "source": [
    "Let's see how Age is related to Survived.\n",
    "\n",
    "*Warning: I'm going to start with some inconvenient plots... just because that's exploratory work for ya.*"
   ]
  },
  {
   "cell_type": "code",
   "execution_count": null,
   "id": "e156456b-7261-4f07-8c79-a133696e7b1f",
   "metadata": {},
   "outputs": [],
   "source": [
    "df.groupby('Survived').plot(kind='box',y='Age');"
   ]
  },
  {
   "cell_type": "code",
   "execution_count": null,
   "id": "718b0790-5cd5-4a6b-bd37-12e2a7e10c8d",
   "metadata": {},
   "outputs": [],
   "source": [
    "df.groupby('Survived').boxplot(column='Age',subplots=False)"
   ]
  },
  {
   "cell_type": "code",
   "execution_count": null,
   "id": "ed27b792-9412-4b8f-8b57-d5aa6ad87e28",
   "metadata": {},
   "outputs": [],
   "source": [
    "df.boxplot(column='Age',by='Survived')"
   ]
  },
  {
   "cell_type": "code",
   "execution_count": null,
   "id": "1628a294-32b1-4048-92bc-50b75daace7c",
   "metadata": {},
   "outputs": [],
   "source": [
    "numcols = ['Age','SibSp','Parch','Fare']\n",
    "\n",
    "#for i in numcols:\n",
    "df.groupby('Survived').boxplot(column=numcols,subplots=False)\n",
    "df.boxplot(column=numcols,by='Survived')"
   ]
  },
  {
   "cell_type": "code",
   "execution_count": null,
   "id": "e2bd599c-e4c9-4843-8700-39070d75f608",
   "metadata": {},
   "outputs": [],
   "source": [
    "df.plot(kind='hist',x='Age',y='Survived')"
   ]
  },
  {
   "cell_type": "code",
   "execution_count": null,
   "id": "29c81ed4-d3eb-4659-a0db-9aa67144fd10",
   "metadata": {},
   "outputs": [],
   "source": [
    "df.groupby('Survived')['Age'].value_counts()"
   ]
  },
  {
   "cell_type": "code",
   "execution_count": null,
   "id": "d56f8cec-8f30-446a-87bd-cd23c6969f8e",
   "metadata": {},
   "outputs": [],
   "source": []
  },
  {
   "cell_type": "code",
   "execution_count": null,
   "id": "825c12fc-8fea-46b1-aa75-0594d2ddc96a",
   "metadata": {},
   "outputs": [],
   "source": []
  },
  {
   "cell_type": "markdown",
   "id": "da762627-9356-4914-a98d-b941fcaf4aed",
   "metadata": {},
   "source": [
    "**OK**.  Let's pause and re-group.\n",
    "\n",
    "Here are the variables we might like to look at:\n",
    "* `df.loc[df['Survived'] == '0', 'Age']`: the Age values of those who did not survive\n",
    "* `df.loc[df['Survived'] == '1', 'Age']`: the Age values of those who did survive\n",
    "\n",
    "Let's use matplotlib to do a histogram of these."
   ]
  },
  {
   "cell_type": "code",
   "execution_count": null,
   "id": "96702391-2aea-401d-a5c8-ca81d7e82055",
   "metadata": {},
   "outputs": [],
   "source": [
    "a = df.loc[df['Survived'] == '0', 'Age']\n",
    "plt.hist(a);"
   ]
  },
  {
   "cell_type": "markdown",
   "id": "7930c9cd-d54b-4a49-abf6-ebc86ef05ced",
   "metadata": {},
   "source": [
    "That's a little more straight-forward."
   ]
  },
  {
   "cell_type": "code",
   "execution_count": null,
   "id": "b793f29c-23d5-4529-a972-db60e679047b",
   "metadata": {},
   "outputs": [],
   "source": [
    "fig,ax = plt.subplots(2,1)\n",
    "\n",
    "a = df.loc[df['Survived'] == '0', 'Age']\n",
    "b = df.loc[df['Survived'] == '1', 'Age']\n",
    "\n",
    "a.plot.hist(ax=ax[0],width=5)\n",
    "b.plot.hist(ax=ax[1],width=5)"
   ]
  },
  {
   "cell_type": "markdown",
   "id": "08cf4a1a-cef8-4571-a556-8deda29920ae",
   "metadata": {},
   "source": [
    "And it would be nice to plot the bars next to each other too to directly compare them."
   ]
  },
  {
   "cell_type": "code",
   "execution_count": null,
   "id": "2943deb6-400f-4ccc-a0be-6e89d344c8de",
   "metadata": {},
   "outputs": [],
   "source": [
    "a = df.loc[df['Survived'] == '0', 'Age']\n",
    "b = df.loc[df['Survived'] == '1', 'Age']\n",
    "plt.hist([a,b]);"
   ]
  },
  {
   "cell_type": "code",
   "execution_count": null,
   "id": "fdcb1bb3-e31a-48b7-b547-ce1665b82885",
   "metadata": {},
   "outputs": [],
   "source": [
    "a = df.loc[(df['Survived'] == '0') & (df['Age'] > 18), 'Age']\n",
    "b = df.loc[(df['Survived'] == '1') & (df['Age'] > 18), 'Age']\n",
    "plt.hist([a,b]);"
   ]
  },
  {
   "cell_type": "code",
   "execution_count": null,
   "id": "be36c5aa-af0c-407c-9e99-f234958724b4",
   "metadata": {},
   "outputs": [],
   "source": [
    "a = df.loc[(df['Survived'] == '0') & (df['Age'] < 18), 'Age']\n",
    "b = df.loc[(df['Survived'] == '1') & (df['Age'] < 18), 'Age']\n",
    "plt.hist([a,b]);"
   ]
  },
  {
   "cell_type": "markdown",
   "id": "b6d2ad04-8c50-41ae-82c2-ad3f1449ea69",
   "metadata": {},
   "source": [
    "Now that we have a method down for Age, let's apply it to other variables: Sex, Fare, and Pclass."
   ]
  },
  {
   "cell_type": "code",
   "execution_count": null,
   "id": "42c2f8ef-cc43-45fe-b642-9710015988ce",
   "metadata": {},
   "outputs": [],
   "source": [
    "a = df.loc[df['Survived'] == '0', 'Sex']\n",
    "b = df.loc[df['Survived'] == '1', 'Sex']\n",
    "plt.hist([a,b]);"
   ]
  },
  {
   "cell_type": "code",
   "execution_count": null,
   "id": "444aaccb-91b0-42b2-9eab-9fd46d807975",
   "metadata": {},
   "outputs": [],
   "source": [
    "a = df.loc[df['Survived'] == '0', 'Fare']\n",
    "b = df.loc[df['Survived'] == '1', 'Fare']\n",
    "plt.hist([a,b]);"
   ]
  },
  {
   "cell_type": "markdown",
   "id": "7f31815b-8222-4678-a0ee-335649a9b0b6",
   "metadata": {},
   "source": [
    "Sometimes the scales for some values (like the large values here near 0) might make it hard to get a good comparison at other values (like the smaller values for 200+)."
   ]
  },
  {
   "cell_type": "code",
   "execution_count": null,
   "id": "12f03ae6-420f-420f-80b9-b987c6e5952f",
   "metadata": {},
   "outputs": [],
   "source": [
    "a = df.loc[(df['Survived'] == '0') & (df['Fare'] > 50), 'Fare']\n",
    "b = df.loc[(df['Survived'] == '1') & (df['Fare'] > 50), 'Fare']\n",
    "plt.hist([a,b]);"
   ]
  },
  {
   "cell_type": "code",
   "execution_count": null,
   "id": "92b16fb5-4904-4613-837a-917b4917437b",
   "metadata": {},
   "outputs": [],
   "source": [
    "a = df.loc[(df['Survived'] == '0') & (df['Fare'] < 50), 'Fare']\n",
    "b = df.loc[(df['Survived'] == '1') & (df['Fare'] < 50), 'Fare']\n",
    "plt.hist([a,b]);"
   ]
  },
  {
   "cell_type": "markdown",
   "id": "785b337f-8b20-48f8-a465-edf4ad1cafeb",
   "metadata": {},
   "source": [
    "In this dataset, 'Pclass' also acts as an indicator for socio-economic status."
   ]
  },
  {
   "cell_type": "code",
   "execution_count": null,
   "id": "ce5249e4-e50f-4d62-997d-358c6804cf9a",
   "metadata": {},
   "outputs": [],
   "source": [
    "a = df.loc[df['Survived'] == '0', 'Pclass']\n",
    "b = df.loc[df['Survived'] == '1', 'Pclass']\n",
    "plt.hist([a,b]);"
   ]
  },
  {
   "cell_type": "code",
   "execution_count": null,
   "id": "5544df7a-c221-4720-8eb6-c5233682a244",
   "metadata": {},
   "outputs": [],
   "source": []
  }
 ],
 "metadata": {
  "kernelspec": {
   "display_name": "Python 3 (ipykernel)",
   "language": "python",
   "name": "python3"
  },
  "language_info": {
   "codemirror_mode": {
    "name": "ipython",
    "version": 3
   },
   "file_extension": ".py",
   "mimetype": "text/x-python",
   "name": "python",
   "nbconvert_exporter": "python",
   "pygments_lexer": "ipython3",
   "version": "3.9.6"
  }
 },
 "nbformat": 4,
 "nbformat_minor": 5
}
