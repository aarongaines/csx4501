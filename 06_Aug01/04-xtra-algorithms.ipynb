{
 "cells": [
  {
   "cell_type": "markdown",
   "id": "124b5170-8d7c-4e6a-bdd9-670b2263ff3b",
   "metadata": {},
   "source": [
    "# Illustrating a few types of Classification\n",
    "* Logistic Regression\n",
    "* K-Nearest Neighbors\n",
    "* Decision Trees"
   ]
  },
  {
   "cell_type": "code",
   "execution_count": null,
   "id": "28b9994d-905c-4e3d-b9d0-c9fd5e9a6c73",
   "metadata": {},
   "outputs": [],
   "source": [
    "import pandas as pd\n",
    "import matplotlib.pyplot as plt\n",
    "import numpy as np\n",
    "import ipywidgets\n",
    "import plotly.graph_objects as go\n",
    "\n",
    "import sklearn.datasets\n",
    "import sklearn.cluster\n",
    "import sklearn.linear_model\n",
    "import sklearn.neighbors\n",
    "import sklearn.tree"
   ]
  },
  {
   "cell_type": "markdown",
   "id": "a8c7eceb-5947-4655-a7c7-253edd727f44",
   "metadata": {},
   "source": [
    "## Make some data"
   ]
  },
  {
   "cell_type": "markdown",
   "id": "0c4c9f7d-e62a-4f0f-a33a-027c39b10037",
   "metadata": {},
   "source": [
    "This will make 3 clusters of points in a 2D space, with y being a label of 0, 1, or 2."
   ]
  },
  {
   "cell_type": "code",
   "execution_count": null,
   "id": "824f00de-93ad-4ecf-80e8-3723d12799bf",
   "metadata": {},
   "outputs": [],
   "source": [
    "x, y = sklearn.datasets.make_blobs(n_samples=300, centers=3, cluster_std=1.00, random_state=0)"
   ]
  },
  {
   "cell_type": "markdown",
   "id": "87c47c23-1867-48e4-88bf-2e837198c6d1",
   "metadata": {},
   "source": [
    "## Supervised: Classification"
   ]
  },
  {
   "cell_type": "markdown",
   "id": "370d362f-14d8-4a2d-a0ce-19bb99d03cf8",
   "metadata": {},
   "source": [
    "For supervised learning, we'll assume that we do know what the labels are.\n",
    "* Include `y`\n",
    "\n",
    "We will train a classification algorithm called Logistic Regression."
   ]
  },
  {
   "cell_type": "code",
   "execution_count": null,
   "id": "4ce31ea7-2002-41f3-ae4c-59fd1779f5ac",
   "metadata": {},
   "outputs": [],
   "source": [
    "# Choose the model\n",
    "\n",
    "model = sklearn.linear_model.LogisticRegression()\n",
    "# model = sklearn.neighbors.KNeighborsClassifier(n_neighbors = 1)\n",
    "# model = sklearn.tree.DecisionTreeClassifier(max_depth=4)"
   ]
  },
  {
   "cell_type": "code",
   "execution_count": null,
   "id": "b0415710-b8bd-445b-b06d-58a00f8b59e0",
   "metadata": {},
   "outputs": [],
   "source": [
    "# Train the model\n",
    "\n",
    "model.fit(x, y)"
   ]
  },
  {
   "cell_type": "markdown",
   "id": "6d374f54-e996-4672-bdc6-039ea2d4bf02",
   "metadata": {},
   "source": [
    "The model training \"learns\" the optimum parameters of the logistic equation to establish classification boundaries in the $(x_0, x_1)$ space."
   ]
  },
  {
   "cell_type": "code",
   "execution_count": null,
   "id": "33c8bad1-d33d-490b-b98a-6e8809b3a5ab",
   "metadata": {},
   "outputs": [],
   "source": [
    "model.intercept_"
   ]
  },
  {
   "cell_type": "code",
   "execution_count": null,
   "id": "ffc2299b-ce01-45ed-9b92-3161b49d05d5",
   "metadata": {},
   "outputs": [],
   "source": [
    "model.coef_"
   ]
  },
  {
   "cell_type": "markdown",
   "id": "1587db6f-1ff2-4566-8a6d-377a6aebb4c3",
   "metadata": {},
   "source": [
    "In order to look at the predictions:\n",
    "* Make a 2D grid of points\n",
    "* Plot the predicted values for each point of the grid\n",
    "* Plot the actual x and y data as scatter points on top of that"
   ]
  },
  {
   "cell_type": "code",
   "execution_count": null,
   "id": "45ae82dd-b519-4033-b3ce-7c04867df0bb",
   "metadata": {},
   "outputs": [],
   "source": [
    "dx = 0.04\n",
    "dy = 0.04\n",
    "x_min = x[:, 0].min() - 1\n",
    "x_max = x[:, 0].max() + 1\n",
    "y_min = x[:, 1].min() - 1\n",
    "y_max = x[:, 1].max() + 1\n",
    "xx, yy = np.meshgrid(np.arange(x_min, x_max, dx),\n",
    "                      np.arange(y_min, y_max, dy))\n",
    "\n",
    "Z = model.predict(np.c_[xx.ravel(), yy.ravel()])\n",
    "\n",
    "Z = Z.reshape(xx.shape)\n",
    "\n",
    "plt.figure(figsize=(8, 6))\n",
    "plt.contourf(xx, yy, Z, cmap=\"RdBu_r\")\n",
    "\n",
    "plt.scatter(x[:,0], x[:,1], c = y)"
   ]
  },
  {
   "cell_type": "code",
   "execution_count": null,
   "id": "0aef562a-f48a-4954-aed6-8b8477ee752a",
   "metadata": {},
   "outputs": [],
   "source": [
    "y_pred = model.predict(x)"
   ]
  },
  {
   "cell_type": "code",
   "execution_count": null,
   "id": "7e2ff08a-cb12-4675-88ca-d0af00b8ed32",
   "metadata": {},
   "outputs": [],
   "source": [
    "print(sklearn.metrics.confusion_matrix(y, y_pred))"
   ]
  },
  {
   "cell_type": "code",
   "execution_count": null,
   "id": "bc6bc17a-e897-456d-84a1-d3fd0e3fe1e1",
   "metadata": {},
   "outputs": [],
   "source": [
    "print(f\"Accuracy: {sklearn.metrics.accuracy_score(y, y_pred):.2%}\")\n",
    "print(f\"Precision: {sklearn.metrics.precision_score(y, y_pred, average='micro'):.2%}\")\n",
    "print(f\"Recall: {sklearn.metrics.recall_score(y, y_pred, average='micro'):.2%}\")"
   ]
  },
  {
   "cell_type": "markdown",
   "id": "ae6939fa-7683-4428-8a4a-e339469fba62",
   "metadata": {},
   "source": [
    "## Tree model representations"
   ]
  },
  {
   "cell_type": "code",
   "execution_count": null,
   "id": "885c332d-1663-4f6c-9a64-559a88b2ede0",
   "metadata": {},
   "outputs": [],
   "source": [
    "text_representation = sklearn.tree.export_text(model)\n",
    "print(text_representation)"
   ]
  },
  {
   "cell_type": "code",
   "execution_count": null,
   "id": "7520aed5-6e50-444d-96f9-36742e74c1ae",
   "metadata": {},
   "outputs": [],
   "source": [
    "plt.figure(figsize=(12,8))\n",
    "sklearn.tree.plot_tree(model, \n",
    "               feature_names=['x0', 'x1'],  \n",
    "               class_names=['blob1', 'blob2', 'blob3'],\n",
    "               filled=True);"
   ]
  },
  {
   "cell_type": "code",
   "execution_count": null,
   "id": "1bc9ba45-2a69-437e-b9bf-11ab2bb0920f",
   "metadata": {},
   "outputs": [],
   "source": [
    "import dtreeviz.trees"
   ]
  },
  {
   "cell_type": "code",
   "execution_count": null,
   "id": "55db05bb-d7ae-4c34-83be-92c136fee8f8",
   "metadata": {},
   "outputs": [],
   "source": [
    "dtreeviz.trees.dtreeviz(model,\n",
    "                        x,\n",
    "                        y,\n",
    "                        feature_names=['x0', 'x1'],\n",
    "                        class_names=['blob1', 'blob2', 'blob3'])"
   ]
  }
 ],
 "metadata": {
  "kernelspec": {
   "display_name": "Python 3 (ipykernel)",
   "language": "python",
   "name": "python3"
  },
  "language_info": {
   "codemirror_mode": {
    "name": "ipython",
    "version": 3
   },
   "file_extension": ".py",
   "mimetype": "text/x-python",
   "name": "python",
   "nbconvert_exporter": "python",
   "pygments_lexer": "ipython3",
   "version": "3.9.6"
  }
 },
 "nbformat": 4,
 "nbformat_minor": 5
}
