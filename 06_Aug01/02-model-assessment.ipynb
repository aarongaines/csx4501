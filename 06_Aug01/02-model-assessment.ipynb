{
 "cells": [
  {
   "cell_type": "markdown",
   "id": "124b5170-8d7c-4e6a-bdd9-670b2263ff3b",
   "metadata": {},
   "source": [
    "# Assessing our models (in reverse order)\n",
    "* Supervised: Regression\n",
    "    * mean squared error (MSE) and coefficient of determination (R^2)\n",
    "* Supervised: Classification\n",
    "    * accuracy, precision, recall, confusion matrix\n",
    "* Unsupervised: Clustering \n",
    "    * inertia, silhoette coefficient"
   ]
  },
  {
   "cell_type": "code",
   "execution_count": null,
   "id": "28b9994d-905c-4e3d-b9d0-c9fd5e9a6c73",
   "metadata": {},
   "outputs": [],
   "source": [
    "import pandas as pd\n",
    "import matplotlib.pyplot as plt\n",
    "import numpy as np\n",
    "\n",
    "import sklearn.datasets\n",
    "import sklearn.cluster\n",
    "import sklearn.linear_model\n",
    "import sklearn.metrics"
   ]
  },
  {
   "cell_type": "markdown",
   "id": "a8c7eceb-5947-4655-a7c7-253edd727f44",
   "metadata": {},
   "source": [
    "## Make some data - same as before but streamlined"
   ]
  },
  {
   "cell_type": "code",
   "execution_count": null,
   "id": "824f00de-93ad-4ecf-80e8-3723d12799bf",
   "metadata": {},
   "outputs": [],
   "source": [
    "x, y = sklearn.datasets.make_blobs(n_samples=300, centers=3, cluster_std=0.60, random_state=0)\n",
    "y_4regression = -3 + 2*x[:, 0] + 5*x[:, 1]"
   ]
  },
  {
   "cell_type": "markdown",
   "id": "e33bee7b-ca56-4486-bd2e-becc5be10e58",
   "metadata": {},
   "source": [
    "## Supervised: Regression"
   ]
  },
  {
   "cell_type": "markdown",
   "id": "40c08aa6-d2a5-4507-959c-2e1125df33b3",
   "metadata": {},
   "source": [
    "Regression is also supervised learning, and we need labels for our data.\n",
    "* Regression is for continuous `y` values -> use `y_4regression`\n",
    "\n",
    "We will train a linear regression algorithm."
   ]
  },
  {
   "cell_type": "code",
   "execution_count": null,
   "id": "d14c868e-ef6e-4744-b9c4-9700259c3dd3",
   "metadata": {},
   "outputs": [],
   "source": [
    "# Choose the model\n",
    "\n",
    "model = sklearn.linear_model.LinearRegression()"
   ]
  },
  {
   "cell_type": "code",
   "execution_count": null,
   "id": "8376ceab-2595-4a13-83d6-0de515b40bf2",
   "metadata": {},
   "outputs": [],
   "source": [
    "# Train the model\n",
    "\n",
    "model.fit(x, y_4regression)"
   ]
  },
  {
   "cell_type": "markdown",
   "id": "cd18be8a-713e-4d10-a400-def8f4383a39",
   "metadata": {},
   "source": [
    "Did the model \"learn\" the coefficients of our equation?\n",
    "* $y_{4regression} = -3 + 2x_0 + 5x_1$?"
   ]
  },
  {
   "cell_type": "code",
   "execution_count": null,
   "id": "ecdf9aea-6e03-4ae2-867d-f8f73294c077",
   "metadata": {},
   "outputs": [],
   "source": [
    "model.intercept_"
   ]
  },
  {
   "cell_type": "code",
   "execution_count": null,
   "id": "eaf685f3-8366-49df-8d15-bea7705c61f0",
   "metadata": {},
   "outputs": [],
   "source": [
    "model.coef_"
   ]
  },
  {
   "cell_type": "markdown",
   "id": "e3eea598-6990-44cd-8bd0-811caaa82af5",
   "metadata": {},
   "source": [
    "To assess the error, we need to compare the predicted y values against the dataset's actual y values.\n",
    "* Make predictions with the model for all x"
   ]
  },
  {
   "cell_type": "code",
   "execution_count": null,
   "id": "7e737804-1e45-4897-b80c-855d5ac8565b",
   "metadata": {},
   "outputs": [],
   "source": [
    "y_pred = model.predict(x)"
   ]
  },
  {
   "cell_type": "code",
   "execution_count": null,
   "id": "009b3df2-6913-4cdc-996a-940fccd31586",
   "metadata": {},
   "outputs": [],
   "source": [
    "# The mean squared error\n",
    "print(\"Mean squared error: %.2f\" % \n",
    "      sklearn.metrics.mean_squared_error(y_4regression, y_pred))\n",
    "\n",
    "# The coefficient of determination: 1 is perfect prediction\n",
    "print(\"Coefficient of determination R^2: %.2f\" % \n",
    "      sklearn.metrics.r2_score(y_4regression, y_pred))"
   ]
  },
  {
   "cell_type": "markdown",
   "id": "802c333c-9fa4-4004-9f2e-b4d143ec0cda",
   "metadata": {},
   "source": [
    "Those are some mighty fine values! -- Perfect!  More on this later."
   ]
  },
  {
   "cell_type": "markdown",
   "id": "09f9d352-e09f-4379-baa0-5cb7878ceea9",
   "metadata": {},
   "source": [
    "## Supervised: Classification"
   ]
  },
  {
   "cell_type": "markdown",
   "id": "7cada331-dbc9-4877-8883-71ba2a7716c2",
   "metadata": {},
   "source": [
    "For supervised learning, we'll assume that we do know what the labels are.\n",
    "* Include `y`\n",
    "\n",
    "We will train a classification algorithm called Logistic Regression."
   ]
  },
  {
   "cell_type": "code",
   "execution_count": null,
   "id": "eba358ea-b4ca-41db-95bf-15f669d4f491",
   "metadata": {},
   "outputs": [],
   "source": [
    "# Choose the model\n",
    "\n",
    "model = sklearn.linear_model.LogisticRegression()"
   ]
  },
  {
   "cell_type": "code",
   "execution_count": null,
   "id": "9ee6284f-418a-4683-808a-7644f5d404e9",
   "metadata": {},
   "outputs": [],
   "source": [
    "# Train the model\n",
    "\n",
    "model.fit(x, y)"
   ]
  },
  {
   "cell_type": "markdown",
   "id": "1537c676-b675-4b51-b0b1-a785123d4b0b",
   "metadata": {},
   "source": [
    "The model training \"learns\" the optimum parameters of the logistic equation to establish classification boundaries in the $(x_0, x_1)$ space."
   ]
  },
  {
   "cell_type": "code",
   "execution_count": null,
   "id": "33f7e8a4-7183-4e46-a8f3-679ec2f4eb49",
   "metadata": {},
   "outputs": [],
   "source": [
    "model.intercept_"
   ]
  },
  {
   "cell_type": "code",
   "execution_count": null,
   "id": "f7cb3858-7578-4b57-9466-b9ce04e9cdb9",
   "metadata": {},
   "outputs": [],
   "source": [
    "model.coef_"
   ]
  },
  {
   "cell_type": "markdown",
   "id": "6d7f2443-b774-40b6-a81b-8012aa950602",
   "metadata": {},
   "source": [
    "To assess the error, we need to compare the predicted y values against the dataset's actual y values.\n",
    "* Make predictions with the model for all x"
   ]
  },
  {
   "cell_type": "code",
   "execution_count": null,
   "id": "9373b01a-556a-42c5-84b9-def41e023401",
   "metadata": {},
   "outputs": [],
   "source": [
    "y_pred = model.predict(x)"
   ]
  },
  {
   "cell_type": "markdown",
   "id": "e29280d8-97e5-469f-b947-9f4c12f4ae3c",
   "metadata": {},
   "source": [
    "For classification, we assess the confusion matrix:"
   ]
  },
  {
   "cell_type": "code",
   "execution_count": null,
   "id": "18acf535-5e39-4458-83fe-b3a0d7a1aeb9",
   "metadata": {},
   "outputs": [],
   "source": [
    "cm = sklearn.metrics.confusion_matrix(y, y_pred)\n",
    "print(cm)"
   ]
  },
  {
   "cell_type": "markdown",
   "id": "7223ae2f-be8c-4faf-84eb-3143b9855675",
   "metadata": {},
   "source": [
    "Again perfect classification.\n",
    "\n",
    "But to demonstrate additional quantitative metrics:"
   ]
  },
  {
   "cell_type": "code",
   "execution_count": null,
   "id": "608215d4-a9f5-4784-94d4-1a5d2c01df47",
   "metadata": {},
   "outputs": [],
   "source": [
    "cm = sklearn.metrics.classification_report(y, y_pred)\n",
    "print(cm)"
   ]
  },
  {
   "cell_type": "code",
   "execution_count": null,
   "id": "70ea83fa-7cfe-472f-acac-639236cfdec5",
   "metadata": {},
   "outputs": [],
   "source": [
    "print(f\"Accuracy: {sklearn.metrics.accuracy_score(y, y_pred):.2%}\")\n",
    "print(f\"Precision: {sklearn.metrics.precision_score(y, y_pred, average='micro'):.2%}\")\n",
    "print(f\"Recall: {sklearn.metrics.recall_score(y, y_pred, average='micro'):.2%}\")"
   ]
  },
  {
   "cell_type": "markdown",
   "id": "fb1b94ca-60fb-483d-974c-2973a102e326",
   "metadata": {},
   "source": [
    "In contrast with binary classification, calculating precision and recall (and etc) for multi-class classification problems can be computed in slightly different ways depending on how one does averaging. \n",
    "\n",
    "A macro-average will compute the metric independently for each class and then take the average (hence treating all classes equally), whereas a micro-average will aggregate the contributions of all classes to compute the average metric. \n",
    "\n",
    "In a multi-class classification setup, micro-average is preferable if you suspect there might be class imbalance (i.e you may have many more examples of one class than of other classes)."
   ]
  },
  {
   "cell_type": "markdown",
   "id": "5e72b0ad-9dd3-4a95-9a82-cdc92ad3f544",
   "metadata": {},
   "source": [
    "## Unsupervised: Clustering"
   ]
  },
  {
   "cell_type": "markdown",
   "id": "e059c684-0c1a-4d77-bad5-f41caca81913",
   "metadata": {},
   "source": [
    "For unsupervised learning, we'll assume that we do not know what any labels are.\n",
    "* Ignore `y`\n",
    "\n",
    "We create an object for our model by calling \"KMeans\" with the number of clusters we want to look for"
   ]
  },
  {
   "cell_type": "code",
   "execution_count": null,
   "id": "dc1d0878-254d-4cc3-ae06-b110b53ddeff",
   "metadata": {},
   "outputs": [],
   "source": [
    "# Choose the model\n",
    "\n",
    "model = sklearn.cluster.KMeans(n_clusters=3)"
   ]
  },
  {
   "cell_type": "markdown",
   "id": "a2a68d27-d723-4935-bce7-2b3fc59221f7",
   "metadata": {},
   "source": [
    "We then call the fit method, and pass in the data in which to identify clusters."
   ]
  },
  {
   "cell_type": "code",
   "execution_count": null,
   "id": "5b910c51-ad6a-43da-9fd9-0617442ac5a4",
   "metadata": {},
   "outputs": [],
   "source": [
    "# Train the model\n",
    "\n",
    "model.fit(x)"
   ]
  },
  {
   "cell_type": "markdown",
   "id": "4cdbcbc7-a60d-4cc7-ba06-733cd1d74fc7",
   "metadata": {},
   "source": [
    "The model now has an attribute `labels_` that stores the values of which cluster every point belongs to."
   ]
  },
  {
   "cell_type": "code",
   "execution_count": null,
   "id": "6ed6e43a-bc83-4190-b021-a465e0ef6732",
   "metadata": {},
   "outputs": [],
   "source": [
    "model.labels_"
   ]
  },
  {
   "cell_type": "markdown",
   "id": "ce639bf4-9fac-469b-822f-d0f05e7bf1d8",
   "metadata": {},
   "source": [
    "To assess \"goodness\".... there are no labeled data to compare our predictions against.\n",
    "\n",
    "What to do?\n",
    "* measure the 'quality' of the model itself, for example:\n",
    "  * Inertia\n",
    "      * the within-cluster sum-of-squares\n",
    "      * this is what clustering minimizes when it's being trained\n",
    "  * Silhouette Coefficient\n",
    "      * from scikit-learn docs: *\"The score is bounded between -1 for incorrect clustering and +1 for highly dense clustering. Scores around zero indicate overlapping clusters.  The score is higher when clusters are dense and well separated, which relates to a standard concept of a cluster.\"*\n",
    "* note that clustering can be done for supervised learning too, in which case ground truth class values for each sample can be used."
   ]
  },
  {
   "cell_type": "code",
   "execution_count": null,
   "id": "8ec8cde9-d46b-4f3e-a5c4-a9808097592d",
   "metadata": {},
   "outputs": [],
   "source": [
    "sklearn.metrics.silhouette_score(x, model.labels_, metric='euclidean')"
   ]
  },
  {
   "cell_type": "code",
   "execution_count": null,
   "id": "9b939135-fea0-4f60-b69c-a528b300f7b1",
   "metadata": {},
   "outputs": [],
   "source": [
    "model.inertia_"
   ]
  },
  {
   "cell_type": "markdown",
   "id": "7564afe3-8d66-4d99-9551-f1fcfad3febd",
   "metadata": {},
   "source": [
    "Really the inertia only makes sense as a relative value, with higher or lower values on the same dataset representing higher or lower within-cluster sum-of-squares."
   ]
  },
  {
   "cell_type": "markdown",
   "id": "77bcefa9-0568-4c8a-945b-784d027d356a",
   "metadata": {},
   "source": [
    "## Note\n",
    "\n",
    "There are many, many metrics.  See for example [the docs for sklearn-metrics-metrics](https://scikit-learn.org/stable/modules/classes.html#sklearn-metrics-metrics)"
   ]
  },
  {
   "cell_type": "markdown",
   "id": "99add224-02cc-4258-8613-59b5e03aa31b",
   "metadata": {},
   "source": [
    "Regarding inertia, let's look at how it changes when we change the number of identified clusters:"
   ]
  },
  {
   "cell_type": "code",
   "execution_count": null,
   "id": "5f9d284b-583b-4256-a020-b1312c057684",
   "metadata": {},
   "outputs": [],
   "source": [
    "inertia_scores = []\n",
    "cluster_num = []\n",
    "for n in range(1,10):\n",
    "    cluster_num.append(n)\n",
    "    model = sklearn.cluster.KMeans(n_clusters=n)\n",
    "    model.fit(x)\n",
    "    inertia_scores.append(model.inertia_)\n",
    "    \n",
    "plt.plot(cluster_num,inertia_scores,'ko')"
   ]
  },
  {
   "cell_type": "markdown",
   "id": "2cce5408-a722-487d-9c02-d6dc003ced6d",
   "metadata": {},
   "source": [
    "We can use this as a guide for choosing an appropriate number of clusters."
   ]
  }
 ],
 "metadata": {
  "kernelspec": {
   "display_name": "Python 3 (ipykernel)",
   "language": "python",
   "name": "python3"
  },
  "language_info": {
   "codemirror_mode": {
    "name": "ipython",
    "version": 3
   },
   "file_extension": ".py",
   "mimetype": "text/x-python",
   "name": "python",
   "nbconvert_exporter": "python",
   "pygments_lexer": "ipython3",
   "version": "3.9.6"
  }
 },
 "nbformat": 4,
 "nbformat_minor": 5
}
