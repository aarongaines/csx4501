{
 "cells": [
  {
   "cell_type": "markdown",
   "id": "124b5170-8d7c-4e6a-bdd9-670b2263ff3b",
   "metadata": {},
   "source": [
    "# Illustrating a few types of Machine Learning\n",
    "* Unsupervised: Clustering \n",
    "* Supervised: Classification\n",
    "* Supervised: Regression"
   ]
  },
  {
   "cell_type": "markdown",
   "id": "772c068f-8004-44d1-8aa4-eaa9beece683",
   "metadata": {},
   "source": [
    "## Scikit-learn"
   ]
  },
  {
   "cell_type": "markdown",
   "id": "60c5dfac-1f98-47de-9704-c5ee19871057",
   "metadata": {},
   "source": [
    "<img src=\"images/scikit-learn.png\" width=500>\n",
    "\n",
    "https://scikit-learn.org/stable/index.html\n",
    "<br>"
   ]
  },
  {
   "cell_type": "code",
   "execution_count": null,
   "id": "99ded3f5-3098-460d-a93c-395c605d96d3",
   "metadata": {},
   "outputs": [],
   "source": [
    "# You may need to run the following to install packages\n",
    "# !pip install scikit-learn ipywidgets plotly"
   ]
  },
  {
   "cell_type": "code",
   "execution_count": null,
   "id": "28b9994d-905c-4e3d-b9d0-c9fd5e9a6c73",
   "metadata": {},
   "outputs": [],
   "source": [
    "import pandas as pd\n",
    "import matplotlib.pyplot as plt\n",
    "import numpy as np\n",
    "import ipywidgets\n",
    "import plotly.graph_objects as go\n",
    "\n",
    "import sklearn.datasets\n",
    "import sklearn.cluster\n",
    "import sklearn.linear_model"
   ]
  },
  {
   "cell_type": "markdown",
   "id": "a8c7eceb-5947-4655-a7c7-253edd727f44",
   "metadata": {},
   "source": [
    "## Make some data"
   ]
  },
  {
   "cell_type": "markdown",
   "id": "0c4c9f7d-e62a-4f0f-a33a-027c39b10037",
   "metadata": {},
   "source": [
    "This will make 3 clusters of points in a 2D space, with y being a label of 0, 1, or 2."
   ]
  },
  {
   "cell_type": "code",
   "execution_count": null,
   "id": "824f00de-93ad-4ecf-80e8-3723d12799bf",
   "metadata": {},
   "outputs": [],
   "source": [
    "x, y = sklearn.datasets.make_blobs(n_samples=300, centers=3, cluster_std=0.60, random_state=0)"
   ]
  },
  {
   "cell_type": "code",
   "execution_count": null,
   "id": "fac946e0-4000-49d6-b199-dcbe80fe2725",
   "metadata": {},
   "outputs": [],
   "source": [
    "# first 5 elements of x\n",
    "print(x[:5])"
   ]
  },
  {
   "cell_type": "code",
   "execution_count": null,
   "id": "32a79888-f4b7-4fae-bf6d-05d793f0d11d",
   "metadata": {},
   "outputs": [],
   "source": [
    "# first 5 elements of y (the labels)\n",
    "y[:5]"
   ]
  },
  {
   "cell_type": "code",
   "execution_count": null,
   "id": "6438e217-fb58-432d-9a75-ee7a0dcf31d8",
   "metadata": {},
   "outputs": [],
   "source": [
    "# this is a list of colors to use for plotting\n",
    "ourcolors = ['red','blue','black','green','yellow','magenta','orange','brown','grey','aqua']"
   ]
  },
  {
   "cell_type": "code",
   "execution_count": null,
   "id": "c5d44569-9068-42c5-9ac8-dcebe527cddc",
   "metadata": {},
   "outputs": [],
   "source": [
    "plt.scatter(x[:,0],\n",
    "            x[:,1],\n",
    "            color=[ourcolors[i] for i in y])\n",
    "plt.show()"
   ]
  },
  {
   "cell_type": "markdown",
   "id": "81a12c70-a97d-40be-a928-4fc351fc1b9f",
   "metadata": {},
   "source": [
    "For our ML examples:\n",
    "* Unsupervised\n",
    "    * We'll assume that we **do not** have access to the labels y\n",
    "* Supervised\n",
    "    * We'll assume that we **do** have access to the labels y\n",
    "    * Discrete values of labels -> Classification\n",
    "    * Continuous values of labels -> Regression\n",
    "        * We need some continuously-valued labels to showcase regression\n",
    "        * Set here $y_{4regression} = -3 + 2x_0 + 5x_1$"
   ]
  },
  {
   "cell_type": "code",
   "execution_count": null,
   "id": "4ab332a9-4cd6-4689-bafc-716ebfb160e0",
   "metadata": {},
   "outputs": [],
   "source": [
    "y_4regression = -3 + 2*x[:, 0] + 5*x[:, 1]"
   ]
  },
  {
   "cell_type": "code",
   "execution_count": null,
   "id": "66d90bf8-1790-43ed-b732-6e751761e811",
   "metadata": {},
   "outputs": [],
   "source": [
    "fig = plt.figure(figsize=(12,8))\n",
    "ax = fig.add_subplot(projection='3d')\n",
    "\n",
    "ax.scatter(x[:, 0], x[:, 1], y_4regression)"
   ]
  },
  {
   "cell_type": "markdown",
   "id": "1c36b632-4592-4709-8a79-efcc2f559fdd",
   "metadata": {},
   "source": [
    "There are 2 features here, $x_0$ and $x_1$.\n",
    "\n",
    "It's kind of hard to visualize trends in 3D.  Let's:\n",
    "* Make two 2D plots showing how y varies with each component of x\n",
    "* Calculate the correlation coefficients\n",
    "* Make a more interactive 3D plot using Plotly"
   ]
  },
  {
   "cell_type": "code",
   "execution_count": null,
   "id": "716c9443-8519-415c-91ca-97fdf7e669e8",
   "metadata": {},
   "outputs": [],
   "source": [
    "plt.scatter(x[:,0], y_4regression)"
   ]
  },
  {
   "cell_type": "code",
   "execution_count": null,
   "id": "0689e828-5efc-4277-8c2d-7ede5549bec9",
   "metadata": {},
   "outputs": [],
   "source": [
    "plt.scatter(x[:,1], y_4regression)"
   ]
  },
  {
   "cell_type": "code",
   "execution_count": null,
   "id": "1fc3332e-9c2f-410c-a242-e81d3f9aef97",
   "metadata": {},
   "outputs": [],
   "source": [
    "np.corrcoef(x[:,0], y_4regression)"
   ]
  },
  {
   "cell_type": "code",
   "execution_count": null,
   "id": "424d1620-c3d9-4a58-bdb6-131b80d54641",
   "metadata": {},
   "outputs": [],
   "source": [
    "np.corrcoef(x[:,1], y_4regression)"
   ]
  },
  {
   "cell_type": "code",
   "execution_count": null,
   "id": "33846717-5b9d-4a5e-ad74-ab13dd1df4c0",
   "metadata": {},
   "outputs": [],
   "source": [
    "fig = go.Figure(data=[go.Scatter3d(x=x[:, 0],\n",
    "                                   y=x[:, 1],\n",
    "                                   z=y_4regression,\n",
    "                                   mode='markers',\n",
    "                                   marker=dict(\n",
    "                                       size=2,\n",
    "    ))])\n",
    "fig.show()"
   ]
  },
  {
   "cell_type": "markdown",
   "id": "5e72b0ad-9dd3-4a95-9a82-cdc92ad3f544",
   "metadata": {},
   "source": [
    "## Unsupervised: Clustering"
   ]
  },
  {
   "cell_type": "markdown",
   "id": "e059c684-0c1a-4d77-bad5-f41caca81913",
   "metadata": {},
   "source": [
    "For unsupervised learning, we'll assume that we do not know what any labels are.\n",
    "* Ignore `y`\n",
    "\n",
    "We create an object for our model by calling \"KMeans\" with the number of clusters we want to look for"
   ]
  },
  {
   "cell_type": "code",
   "execution_count": null,
   "id": "dc1d0878-254d-4cc3-ae06-b110b53ddeff",
   "metadata": {},
   "outputs": [],
   "source": [
    "# Choose the model\n",
    "\n",
    "model = sklearn.cluster.KMeans(n_clusters=3)"
   ]
  },
  {
   "cell_type": "markdown",
   "id": "a2a68d27-d723-4935-bce7-2b3fc59221f7",
   "metadata": {},
   "source": [
    "We then call the fit method, and pass in the data in which to identify clusters."
   ]
  },
  {
   "cell_type": "code",
   "execution_count": null,
   "id": "5b910c51-ad6a-43da-9fd9-0617442ac5a4",
   "metadata": {},
   "outputs": [],
   "source": [
    "# Train the model\n",
    "\n",
    "model.fit(x)"
   ]
  },
  {
   "cell_type": "markdown",
   "id": "4cdbcbc7-a60d-4cc7-ba06-733cd1d74fc7",
   "metadata": {},
   "source": [
    "The model now has an attribute `labels_` that stores the values of which cluster every point belongs to."
   ]
  },
  {
   "cell_type": "code",
   "execution_count": null,
   "id": "6ed6e43a-bc83-4190-b021-a465e0ef6732",
   "metadata": {},
   "outputs": [],
   "source": [
    "model.labels_"
   ]
  },
  {
   "cell_type": "markdown",
   "id": "ce639bf4-9fac-469b-822f-d0f05e7bf1d8",
   "metadata": {},
   "source": [
    "Example x value:"
   ]
  },
  {
   "cell_type": "code",
   "execution_count": null,
   "id": "819b1051-736e-4cfd-a126-84891143faa3",
   "metadata": {},
   "outputs": [],
   "source": [
    "x[[0]]"
   ]
  },
  {
   "cell_type": "markdown",
   "id": "85921847-f6a4-4e1f-a483-8abcfb4dbd66",
   "metadata": {},
   "source": [
    "And an example of its predicted cluster:"
   ]
  },
  {
   "cell_type": "code",
   "execution_count": null,
   "id": "239cbe09-9a8c-4ffb-9211-a55a2a086b6c",
   "metadata": {},
   "outputs": [],
   "source": [
    "model.predict(x[[0]])"
   ]
  },
  {
   "cell_type": "markdown",
   "id": "0653f090-cad6-4015-bb6e-6f0960e923bc",
   "metadata": {},
   "source": [
    "We can plot the clusters that have been identified by the model by again coloring them.\n",
    "\n",
    "Color is now the **model label**, not the y-value."
   ]
  },
  {
   "cell_type": "code",
   "execution_count": null,
   "id": "b9634327-192b-4360-9ace-c2b32db0ac63",
   "metadata": {},
   "outputs": [],
   "source": [
    "plt.scatter(x[:,0],\n",
    "            x[:,1],\n",
    "            color=[ourcolors[i] for i in model.labels_])"
   ]
  },
  {
   "cell_type": "markdown",
   "id": "d8534947-666e-4de1-9a60-721796b9d4e7",
   "metadata": {},
   "source": [
    "The following allows us to interactively see the identified clusters when using KMeans to identify different numbers of clusters."
   ]
  },
  {
   "cell_type": "code",
   "execution_count": null,
   "id": "804982d6-d444-4674-9ecf-313485a3f093",
   "metadata": {},
   "outputs": [],
   "source": [
    "def plotblobs(n):\n",
    "    model = sklearn.cluster.KMeans(n_clusters=n)\n",
    "    model.fit(x)\n",
    "    plt.scatter(x[:,0], x[:,1], color=[ourcolors[i] for i in model.labels_])\n",
    "    \n",
    "ipywidgets.interact(plotblobs,n=(1,10));"
   ]
  },
  {
   "cell_type": "markdown",
   "id": "87c47c23-1867-48e4-88bf-2e837198c6d1",
   "metadata": {},
   "source": [
    "## Supervised: Classification"
   ]
  },
  {
   "cell_type": "markdown",
   "id": "370d362f-14d8-4a2d-a0ce-19bb99d03cf8",
   "metadata": {},
   "source": [
    "For supervised learning, we'll assume that we do know what the labels are.\n",
    "* Include `y`\n",
    "\n",
    "We will train a classification algorithm called Logistic Regression."
   ]
  },
  {
   "cell_type": "code",
   "execution_count": null,
   "id": "4ce31ea7-2002-41f3-ae4c-59fd1779f5ac",
   "metadata": {},
   "outputs": [],
   "source": [
    "# Choose the model\n",
    "\n",
    "model = sklearn.linear_model.LogisticRegression()"
   ]
  },
  {
   "cell_type": "code",
   "execution_count": null,
   "id": "b0415710-b8bd-445b-b06d-58a00f8b59e0",
   "metadata": {},
   "outputs": [],
   "source": [
    "# Train the model\n",
    "\n",
    "model.fit(x, y)"
   ]
  },
  {
   "cell_type": "markdown",
   "id": "6d374f54-e996-4672-bdc6-039ea2d4bf02",
   "metadata": {},
   "source": [
    "The model training \"learns\" the optimum parameters of the logistic equation to establish classification boundaries in the $(x_0, x_1)$ space."
   ]
  },
  {
   "cell_type": "code",
   "execution_count": null,
   "id": "33c8bad1-d33d-490b-b98a-6e8809b3a5ab",
   "metadata": {},
   "outputs": [],
   "source": [
    "model.intercept_"
   ]
  },
  {
   "cell_type": "code",
   "execution_count": null,
   "id": "ffc2299b-ce01-45ed-9b92-3161b49d05d5",
   "metadata": {},
   "outputs": [],
   "source": [
    "model.coef_"
   ]
  },
  {
   "cell_type": "markdown",
   "id": "1587db6f-1ff2-4566-8a6d-377a6aebb4c3",
   "metadata": {},
   "source": [
    "In order to look at the predictions, let's make a 2D grid of points and plot the predicted values for each point on that grid."
   ]
  },
  {
   "cell_type": "code",
   "execution_count": null,
   "id": "f60db329-0113-45df-8ac8-dd08fd82ec81",
   "metadata": {},
   "outputs": [],
   "source": [
    "dx = 0.04\n",
    "dy = 0.04\n",
    "x_min = x[:, 0].min() - 1\n",
    "x_max = x[:, 0].max() + 1\n",
    "y_min = x[:, 1].min() - 1\n",
    "y_max = x[:, 1].max() + 1\n",
    "xx, yy = np.meshgrid(np.arange(x_min, x_max, dx),\n",
    "                      np.arange(y_min, y_max, dy))\n",
    "\n",
    "Z = model.predict(np.c_[xx.ravel(), yy.ravel()])\n",
    "\n",
    "Z = Z.reshape(xx.shape)\n",
    "\n",
    "plt.figure(figsize=(8, 6))\n",
    "plt.contourf(xx, yy, Z, cmap=\"RdBu_r\")"
   ]
  },
  {
   "cell_type": "markdown",
   "id": "5d3b8e5d-a852-4f5d-bedc-d74d205543a1",
   "metadata": {},
   "source": [
    "We can plot the actual x and y data as scatter points on top of this to see how good the classifier did."
   ]
  },
  {
   "cell_type": "code",
   "execution_count": null,
   "id": "45ae82dd-b519-4033-b3ce-7c04867df0bb",
   "metadata": {},
   "outputs": [],
   "source": [
    "dx = 0.04\n",
    "dy = 0.04\n",
    "x_min = x[:, 0].min() - 1\n",
    "x_max = x[:, 0].max() + 1\n",
    "y_min = x[:, 1].min() - 1\n",
    "y_max = x[:, 1].max() + 1\n",
    "xx, yy = np.meshgrid(np.arange(x_min, x_max, dx),\n",
    "                      np.arange(y_min, y_max, dy))\n",
    "\n",
    "Z = model.predict(np.c_[xx.ravel(), yy.ravel()])\n",
    "\n",
    "Z = Z.reshape(xx.shape)\n",
    "\n",
    "plt.figure(figsize=(8, 6))\n",
    "plt.contourf(xx, yy, Z, cmap=\"RdBu_r\")\n",
    "\n",
    "plt.scatter(x[:,0], x[:,1], c = y)"
   ]
  },
  {
   "cell_type": "markdown",
   "id": "a1485a97-1d23-4cff-a51e-0d576f9077e3",
   "metadata": {},
   "source": [
    "## Supervised: Regression"
   ]
  },
  {
   "cell_type": "markdown",
   "id": "7a1ea099-e5a7-4f4e-9b40-324a417722df",
   "metadata": {},
   "source": [
    "Regression is also supervised learning, and we need labels for our data.\n",
    "* Regression is for continuous `y` values -> use `y_4regression`\n",
    "\n",
    "We will train a linear regression algorithm."
   ]
  },
  {
   "cell_type": "code",
   "execution_count": null,
   "id": "fc1d17f3-3c6e-41ab-80af-db1c4d328bb5",
   "metadata": {},
   "outputs": [],
   "source": [
    "# Choose the model\n",
    "\n",
    "model = sklearn.linear_model.LinearRegression()"
   ]
  },
  {
   "cell_type": "code",
   "execution_count": null,
   "id": "b7f2a530-95f8-48a0-b087-693c671526ee",
   "metadata": {},
   "outputs": [],
   "source": [
    "# Train the model\n",
    "\n",
    "model.fit(x, y_4regression)"
   ]
  },
  {
   "cell_type": "markdown",
   "id": "844d8a3a-0ad1-4257-8446-66bf572a8fc1",
   "metadata": {},
   "source": [
    "Did the model \"learn\" the coefficients of our equation?\n",
    "* $y_{4regression} = -3 + 2x_0 + 5x_1$?"
   ]
  },
  {
   "cell_type": "code",
   "execution_count": null,
   "id": "af4fc4b8-de45-486f-8cf3-0422fd2824bc",
   "metadata": {},
   "outputs": [],
   "source": [
    "model.intercept_"
   ]
  },
  {
   "cell_type": "code",
   "execution_count": null,
   "id": "09387ae6-ba22-4b74-98e2-df5bb1283b29",
   "metadata": {},
   "outputs": [],
   "source": [
    "model.coef_"
   ]
  },
  {
   "cell_type": "code",
   "execution_count": null,
   "id": "0c0a3679-2098-444f-9240-0fa5a72050bf",
   "metadata": {},
   "outputs": [],
   "source": [
    "dx = 0.04\n",
    "dy = 0.04\n",
    "x_min = x[:, 0].min() - 1\n",
    "x_max = x[:, 0].max() + 1\n",
    "y_min = x[:, 1].min() - 1\n",
    "y_max = x[:, 1].max() + 1\n",
    "xx, yy = np.meshgrid(np.arange(x_min, x_max, dx),\n",
    "                      np.arange(y_min, y_max, dy))\n",
    "\n",
    "Z = model.predict(np.c_[xx.ravel(), yy.ravel()])\n",
    "\n",
    "Z = Z.reshape(xx.shape)\n",
    "fig = plt.figure(figsize=(12,8))\n",
    "ax = fig.add_subplot(projection='3d')\n",
    "\n",
    "ax.plot_surface(xx, yy, Z, cmap=\"RdBu_r\")\n",
    "\n",
    "ax.scatter(x[:, 0], x[:, 1], y_4regression)"
   ]
  },
  {
   "cell_type": "code",
   "execution_count": null,
   "id": "fd799e9d-a21e-4c9b-8128-57d4934d3fd3",
   "metadata": {},
   "outputs": [],
   "source": [
    "fig = go.Figure(data=[go.Scatter3d(x=x[:, 0], \n",
    "                                   y=x[:, 1], \n",
    "                                   z=y_4regression, \n",
    "                                   mode='markers',\n",
    "                                   marker=dict(\n",
    "                                       size=2,\n",
    "                                   )),\n",
    "                      go.Surface(x=xx, y=yy, z=Z)])\n",
    "fig.show()"
   ]
  }
 ],
 "metadata": {
  "kernelspec": {
   "display_name": "Python 3 (ipykernel)",
   "language": "python",
   "name": "python3"
  },
  "language_info": {
   "codemirror_mode": {
    "name": "ipython",
    "version": 3
   },
   "file_extension": ".py",
   "mimetype": "text/x-python",
   "name": "python",
   "nbconvert_exporter": "python",
   "pygments_lexer": "ipython3",
   "version": "3.9.6"
  }
 },
 "nbformat": 4,
 "nbformat_minor": 5
}
