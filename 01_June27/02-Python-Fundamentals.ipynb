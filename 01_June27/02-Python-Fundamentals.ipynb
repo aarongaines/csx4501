{
 "cells": [
  {
   "cell_type": "markdown",
   "id": "5575f363-5ae5-4c67-a458-7d411e33320c",
   "metadata": {},
   "source": [
    "# Python essentials"
   ]
  },
  {
   "cell_type": "markdown",
   "id": "f12c0824-5f23-40e6-9ef0-6db540b09132",
   "metadata": {},
   "source": [
    "Python is a powerful language with many useful features.  The following introduces core concepts to get us up and running."
   ]
  },
  {
   "cell_type": "markdown",
   "id": "79047378-b182-46b1-82ec-8c566bcad092",
   "metadata": {},
   "source": [
    "## Hello World!"
   ]
  },
  {
   "cell_type": "code",
   "execution_count": null,
   "id": "0f016b8a-2bf8-4164-927f-a3a0150b91e6",
   "metadata": {},
   "outputs": [],
   "source": [
    "print(\"Hello world!\")"
   ]
  },
  {
   "cell_type": "markdown",
   "id": "e431376f-ffb6-4f27-81cf-24bd8565a385",
   "metadata": {},
   "source": [
    "This command used the `print()` function with the string `Hello world!` as the value for its input parameter."
   ]
  },
  {
   "cell_type": "markdown",
   "id": "e86afd69-be75-44ee-bf11-084c1daef5ed",
   "metadata": {},
   "source": [
    "## Variables and literals"
   ]
  },
  {
   "cell_type": "markdown",
   "id": "2d9731f5-7a77-41ee-906b-41248a6be97b",
   "metadata": {},
   "source": [
    "A variable is a named location in memory.  For example:"
   ]
  },
  {
   "cell_type": "code",
   "execution_count": null,
   "id": "671b1526-5ee5-4bda-b399-aba38721bc60",
   "metadata": {},
   "outputs": [],
   "source": [
    "a = 42"
   ]
  },
  {
   "cell_type": "markdown",
   "id": "972d54ba-196c-41c9-95c6-300519dabe2a",
   "metadata": {},
   "source": [
    "`a` is the variable, and its value is now set to 42."
   ]
  },
  {
   "cell_type": "code",
   "execution_count": null,
   "id": "7f8eb977-2e09-4ebc-9ae4-aefbf5c0aa83",
   "metadata": {},
   "outputs": [],
   "source": [
    "print(a)"
   ]
  },
  {
   "cell_type": "markdown",
   "id": "20daef58-3d09-4d92-8f99-a0402d2a59ef",
   "metadata": {},
   "source": [
    "Note that variables do not need to be defined with a specific type in Python.\n",
    "\n",
    "Also, in Jupyter notebooks, the value of a variable will be output if the variable sits alone on the last line of a cell."
   ]
  },
  {
   "cell_type": "code",
   "execution_count": null,
   "id": "97149e65-1881-4fab-9fce-f7587adff061",
   "metadata": {},
   "outputs": [],
   "source": [
    "a"
   ]
  },
  {
   "cell_type": "code",
   "execution_count": null,
   "id": "e4f01ca0-509c-4b69-b98a-3c0ae93ce12c",
   "metadata": {},
   "outputs": [],
   "source": [
    "a = \"forty two\""
   ]
  },
  {
   "cell_type": "code",
   "execution_count": null,
   "id": "ed92491c-fd80-4171-bc96-6a66aaf7427d",
   "metadata": {},
   "outputs": [],
   "source": [
    "print('The print function can take two or more input parameters: a =', a)"
   ]
  },
  {
   "cell_type": "markdown",
   "id": "b8cd6c5e-82bf-4a67-8eb7-bcd9573f68cc",
   "metadata": {},
   "source": [
    "## Operators"
   ]
  },
  {
   "cell_type": "markdown",
   "id": "c04fb452-b02f-4092-9259-93aab13ceac7",
   "metadata": {},
   "source": [
    "Python has standard arithmetic operators for common math operations:"
   ]
  },
  {
   "cell_type": "code",
   "execution_count": null,
   "id": "365c47ab-0eb7-4249-beaf-9e826ebf21f9",
   "metadata": {},
   "outputs": [],
   "source": [
    "x = 42\n",
    "y = 24\n",
    "\n",
    "# Add two operands\n",
    "print('x + y =', x+y) # Output: x + y = 66\n",
    "\n",
    "# Subtract right operand from the left\n",
    "print('x - y =', x-y) # Output: x - y = 18\n",
    "\n",
    "# Multiply two operands\n",
    "print('x * y =', x*y) # Output: x * y = 1008\n",
    "\n",
    "# Divide left operand by the right one \n",
    "print('x / y =', x/y) # Output: x / y = 1.75\n",
    "\n",
    "# Floor division (quotient)\n",
    "print('x // y =', x//y) # Output: x // y = 1\n",
    "\n",
    "# Remainder of the division of left operand by the right\n",
    "print('x % y =', x%y) # Output: x % y = 18\n",
    "\n",
    "# Left operand raised to the power of right (x^y)\n",
    "print('x ** y =', x**y) # Output: x ** y = 907784931546351634835748413459499319296"
   ]
  },
  {
   "cell_type": "markdown",
   "id": "9d7a9b26-2d13-4b47-9d66-a9e45da0290f",
   "metadata": {},
   "source": [
    "# Comments"
   ]
  },
  {
   "cell_type": "markdown",
   "id": "f3b1e019-78e6-47da-95dd-6bdd95005703",
   "metadata": {},
   "source": [
    "As you see above, Python has special notation for comments:"
   ]
  },
  {
   "cell_type": "code",
   "execution_count": null,
   "id": "ed7916f0-8bd1-42bc-929d-82f523a03a79",
   "metadata": {},
   "outputs": [],
   "source": [
    "# This is a single line comment"
   ]
  },
  {
   "cell_type": "code",
   "execution_count": null,
   "id": "886af47c-f216-4d55-9ee4-c0550e14edda",
   "metadata": {},
   "outputs": [],
   "source": [
    "# A two line\n",
    "# comment"
   ]
  },
  {
   "cell_type": "code",
   "execution_count": null,
   "id": "51f152a5-8bf2-43b9-bf80-4b11b5e1d00c",
   "metadata": {},
   "outputs": [],
   "source": [
    "'''\n",
    "A multi-line comment\n",
    "for printing \n",
    "print('Hi')\n",
    "'''\n",
    "print('Bye')"
   ]
  },
  {
   "cell_type": "code",
   "execution_count": null,
   "id": "4abadb58-fc4d-4aef-91d6-7e04dcaa290b",
   "metadata": {},
   "outputs": [],
   "source": [
    "\"\"\"\n",
    "A multi-line comment\n",
    "for printing \n",
    "print('Hi')\n",
    "\"\"\"\n",
    "print('Bye')"
   ]
  },
  {
   "cell_type": "markdown",
   "id": "f8679b86-d991-44b7-a1c5-c35db5cf236a",
   "metadata": {},
   "source": [
    "## Data structures"
   ]
  },
  {
   "cell_type": "markdown",
   "id": "d8fc76a5-2de8-41ba-a654-7c47018688ca",
   "metadata": {},
   "source": [
    "Two of the most common data structures in Python are lists and dictionaries."
   ]
  },
  {
   "cell_type": "markdown",
   "id": "7863179e-dd1b-4054-85aa-8587f8afa44d",
   "metadata": {},
   "source": [
    "### Lists"
   ]
  },
  {
   "cell_type": "code",
   "execution_count": null,
   "id": "d6079da4-3a64-489a-8670-04af6f5c736f",
   "metadata": {},
   "outputs": [],
   "source": [
    "# empty list\n",
    "my_list = []\n",
    "\n",
    "# list of integers\n",
    "my_list = [1, 2, 5]\n",
    "\n",
    "# list with mixed data types\n",
    "my_list = [1, \"Parrot\", 3.14159]"
   ]
  },
  {
   "cell_type": "markdown",
   "id": "fdf2ab47-39e9-4267-b16f-92ca34ea7a7c",
   "metadata": {},
   "source": [
    "* List\n",
    "    * an ordered collection of elements\n",
    "    * elements are placed in square brackets `[]` and separated by commas\n",
    "    * they can have elements of different types\n",
    "    * the index operator `[]` with an integer index will retrieve an element at that index\n",
    "    * negative indices can be used to count from the end of the list"
   ]
  },
  {
   "cell_type": "code",
   "execution_count": null,
   "id": "893069a3-1e42-445b-888c-ee46eee17ad0",
   "metadata": {},
   "outputs": [],
   "source": [
    "riddles = [\"Lancelot\", \"Holy Grail\", \"Blue\", \"Southwest\"]\n",
    "\n",
    "# Accessing first element\n",
    "print(riddles[0])\n",
    "\n",
    "# Accessing fourth element\n",
    "print(riddles[3])"
   ]
  },
  {
   "cell_type": "markdown",
   "id": "fbb4a2d5-44e2-4c76-b638-3fa61105943f",
   "metadata": {},
   "source": [
    "### Dictionaries"
   ]
  },
  {
   "cell_type": "code",
   "execution_count": null,
   "id": "a2212dc8-7ae4-423a-ae3b-1a1ccd024f8a",
   "metadata": {},
   "outputs": [],
   "source": [
    "# empty dictionary\n",
    "my_dict = {}\n",
    "\n",
    "# dictionary with integer keys\n",
    "my_dict = {1: 'red', 2: 'blue'}\n",
    "\n",
    "# dictionary with mixed keys\n",
    "my_dict = {'name': 'Arthur', 1: [1, 2, 5]}"
   ]
  },
  {
   "cell_type": "markdown",
   "id": "57755b06-28a6-4bd2-adfd-9778d6124ee3",
   "metadata": {},
   "source": [
    "* Dictionary\n",
    "    * an unordered collection of elements\n",
    "    * elements consist of `key: value` pairs\n",
    "    * elements are placed in curly braces `{}` and separated by commas\n",
    "    * they can have elements of different types\n",
    "    * the index operator `[]` with a key index will retrieve the value corresponding to that key    "
   ]
  },
  {
   "cell_type": "code",
   "execution_count": null,
   "id": "4f6288f7-d9d1-49e3-bc09-8b84451ee646",
   "metadata": {},
   "outputs": [],
   "source": [
    "person = {'name':'Gwen', 'age': 26, 'salary': 94534.2}\n",
    "print(person['age'])"
   ]
  },
  {
   "cell_type": "code",
   "execution_count": null,
   "id": "dbd00feb-1607-4e8a-8b52-46d9753f7083",
   "metadata": {},
   "outputs": [],
   "source": [
    "person = {'name':'Gwen', 'age': 26}\n",
    "\n",
    "# Changing age to 36\n",
    "person['age'] = 36 \n",
    "print(person) # Output: {'name': 'Gwen', 'age': 36}\n",
    "\n",
    "# Adding salary key, value pair\n",
    "person['salary'] = 94342.4\n",
    "print(person) # Output: {'name': 'Gwen', 'age': 36, 'salary': 94342.4}\n",
    "\n",
    "# Deleting age\n",
    "del person['age']\n",
    "print(person) # Output: {'name': 'Gwen', 'salary': 94342.4}\n",
    "\n",
    "# Deleting entire dictionary\n",
    "del person"
   ]
  },
  {
   "cell_type": "markdown",
   "id": "cb1e02f5-e28f-4f85-9999-a1d2df96c999",
   "metadata": {},
   "source": [
    "### Strings\n",
    "* Strings\n",
    "    * an ordered collection of characters\n",
    "    * immutable\n",
    "    * like lists, you can use the index operator `[]` with an integer index to retrieve an element at that index"
   ]
  },
  {
   "cell_type": "code",
   "execution_count": null,
   "id": "e892f55e-e2a1-4241-8c44-b6901a5d095b",
   "metadata": {},
   "outputs": [],
   "source": [
    "# all of the following are equivalent\n",
    "my_string = 'Arthur'\n",
    "print(my_string)\n",
    "\n",
    "my_string = \"Arthur\"\n",
    "print(my_string)\n",
    "\n",
    "my_string = '''Arthur'''\n",
    "print(my_string)\n",
    "\n",
    "# triple quotes string can extend multiple lines\n",
    "my_string = \"\"\"Hello, Arthur, welcome to\n",
    "           the world of [Monty] Python\"\"\"\n",
    "print(my_string)"
   ]
  },
  {
   "cell_type": "code",
   "execution_count": null,
   "id": "6e95bc85-2110-4df9-99b6-2c3c3af18193",
   "metadata": {},
   "outputs": [],
   "source": [
    "str0 = 'e.t. phone home!'\n",
    "print('str0 = ', str0) # Output: e.t. phone home!\n",
    "\n",
    "print('str0[0] = ', str0[0]) # Output: e\n",
    "\n",
    "print('str0[-1] = ', str0[-1]) # Output: !\n",
    "\n",
    "#slicing 2nd to 5th character\n",
    "print('str0[1:5] = ', str0[1:5]) # Output: .t.\n",
    "\n",
    "#slicing 6th to 2nd last character\n",
    "print('str0[5:-2] = ', str0[5:-2]) # Output: phone hom"
   ]
  },
  {
   "cell_type": "markdown",
   "id": "4f9e3ff6-a080-47e7-b39d-61c80ed37771",
   "metadata": {},
   "source": [
    "You can use the operators `+` and `*` to concatenate and duplicate strings:"
   ]
  },
  {
   "cell_type": "code",
   "execution_count": null,
   "id": "c5da912d-0bde-4fac-aae3-a61268dcbeeb",
   "metadata": {},
   "outputs": [],
   "source": [
    "str1 = 'Phone '\n",
    "str2 ='Home!'\n",
    "\n",
    "# Output: Phone Home!\n",
    "print(str1 + str2)\n",
    "\n",
    "# Phone Phone Phone\n",
    "print(str1 * 3)"
   ]
  },
  {
   "cell_type": "markdown",
   "id": "36a12053-77d7-4ef7-9ad7-1bdc295395ae",
   "metadata": {},
   "source": [
    "<div class=\"alert alert-info\">\n",
    "\n",
    "<b>Your turn:</b>\n",
    "\n",
    "1. Make a list, a dictionary, and a string, each with 5+ elements\n",
    "2. Retrieve elements from these variables using the appropriate indexing.\n",
    "\n",
    "</div>"
   ]
  },
  {
   "cell_type": "code",
   "execution_count": null,
   "id": "ba0d0e8a-141d-4a1f-bba3-e58190eb6512",
   "metadata": {},
   "outputs": [],
   "source": []
  },
  {
   "cell_type": "code",
   "execution_count": null,
   "id": "757f9eff-e5bf-46e8-86d3-f3d0d3e6c3ff",
   "metadata": {},
   "outputs": [],
   "source": []
  },
  {
   "cell_type": "code",
   "execution_count": null,
   "id": "0e3a6b99-9040-4f9b-9676-e2d1ed16f727",
   "metadata": {},
   "outputs": [],
   "source": []
  },
  {
   "cell_type": "markdown",
   "id": "c2164407-a9de-4361-8a4a-089417bbb051",
   "metadata": {},
   "source": [
    "## Flow control"
   ]
  },
  {
   "cell_type": "markdown",
   "id": "930ac570-2e52-4308-b274-3799ba68684d",
   "metadata": {},
   "source": [
    "### If/else statements\n",
    "`if`, `elif`, and `else` allow you to execute Python commands only if some condition is satisfied."
   ]
  },
  {
   "cell_type": "code",
   "execution_count": null,
   "id": "cb0f5bf2-3c86-4cb5-90d2-1c67f535a01d",
   "metadata": {},
   "outputs": [],
   "source": [
    "num = -1\n",
    "\n",
    "if num > 0:\n",
    "    print(\"Positive number\")\n",
    "elif num == 0:\n",
    "    print(\"Zero\")\n",
    "else:\n",
    "    print(\"Negative number\")\n",
    "    \n",
    "# Output: Negative number"
   ]
  },
  {
   "cell_type": "markdown",
   "id": "2159e46e-c450-41ab-881c-0670e55ddb36",
   "metadata": {},
   "source": [
    "**Note:** Python uses indentation to define blocks of code\n",
    "* this is not merely a matter of style in Python\n",
    "* a code block starts with indentation and ends with the first unindented line\n",
    "* it is up to you how many spaces you want to use for indentation, as long as you are consistent\n",
    "* you can not mix tabs and spaces -- here in Jupyter, the indentation is set automatically to 4 spaces\n",
    "    * generally, four whitespaces are used for indentation and is preferred over tabs."
   ]
  },
  {
   "cell_type": "code",
   "execution_count": null,
   "id": "ace99696-766b-46f2-a192-b2a164468732",
   "metadata": {},
   "outputs": [],
   "source": [
    "if False:\n",
    "  print(\"I am inside the body of if.\")\n",
    "  print(\"I am also inside the body of if.\")\n",
    "print(\"I am outside the body of if\")\n",
    "\n",
    "# Output: I am outside the body of if."
   ]
  },
  {
   "cell_type": "markdown",
   "id": "c6e23ff9-92b6-4cc5-b5d8-4652f784a56d",
   "metadata": {},
   "source": [
    "Mathematical conditions:\n",
    "* These are rather straight-forward, but try making a few if/elif/else statements to check the True and False values.\n",
    "* Equals: `==`\n",
    "* Does not equal: `!=`\n",
    "* Less than: `<`\n",
    "* Less than or equal to: `<=`\n",
    "* Greater than: `>`\n",
    "* Greater than or equal to: `>=`\n"
   ]
  },
  {
   "cell_type": "markdown",
   "id": "b1fd4f62-e747-44d8-82dd-559d6884a8a9",
   "metadata": {},
   "source": [
    "Boolean combinations:  You can evaluate more than one True/False condition in the statements by combining conditions with `and`, `or`, and `not`"
   ]
  },
  {
   "cell_type": "markdown",
   "id": "661abce8-9292-4e0f-b7ee-342887dd0f12",
   "metadata": {},
   "source": [
    "<div class=\"alert alert-info\">\n",
    "\n",
    "<b>Your turn:</b> Try assigning different values to `claim` below and re-executing the cell several times to make sure you can follow the logic of the resulting print statement.  Intersperse other conditions as well as boolean combinations.\n",
    "    \n",
    "</div>"
   ]
  },
  {
   "cell_type": "code",
   "execution_count": null,
   "id": "cb85a8c6-b5da-4370-a6d2-d1b34aabbcdb",
   "metadata": {},
   "outputs": [],
   "source": [
    "# Switch the value of claim to check the logic\n",
    "\n",
    "claim = 5\n",
    "if claim == 1 or claim == 2:\n",
    "    print('do not throw the grenade yet')\n",
    "elif claim == 3:\n",
    "    print('throw the grenade')\n",
    "elif claim == 5:\n",
    "    print('Silly Arthur.  3 comes after 2.')\n",
    "else:\n",
    "    print('You are too late - kaboom!')"
   ]
  },
  {
   "cell_type": "markdown",
   "id": "7322d067-f101-4c9c-aed6-5508b35ba796",
   "metadata": {},
   "source": [
    "### for loops"
   ]
  },
  {
   "cell_type": "markdown",
   "id": "e95d0dfd-9b46-45fd-8188-7ff5922d6549",
   "metadata": {},
   "source": [
    "In Python, a `for` loop is used to iterate over a sequence (list, string, etc) or other iterable objects. Iterating over a sequence is called traversal.\n",
    "\n",
    "Here's an example to find the sum of all numbers stored in a list."
   ]
  },
  {
   "cell_type": "code",
   "execution_count": null,
   "id": "b9b49e7d-0d2b-420f-abfb-cd643865e9b7",
   "metadata": {},
   "outputs": [],
   "source": [
    "numbers = [1, 1, 2, 3, 5, 8]\n",
    "\n",
    "sum = 0\n",
    "\n",
    "# iterate over the list\n",
    "for val in numbers:\n",
    "  sum = sum+val\n",
    "\n",
    "print(\"The sum is\", sum) # Output: The sum is 20"
   ]
  },
  {
   "cell_type": "markdown",
   "id": "419bf235-a390-453e-970e-d223199301c1",
   "metadata": {},
   "source": [
    "`for` loops can also be used to iterate a given number of times with the special function `range`:\n",
    "* `range(n)` returns a sequence of numbers from 0 to n (n not included)\n",
    "* `range(n,m)` returns a sequence of numbers from n to m (m not included)\n",
    "* `range(n,m,i)` returns a sequence of numbers from n to m (m not included) with an interval of i between numbers"
   ]
  },
  {
   "cell_type": "code",
   "execution_count": null,
   "id": "ea056bbb-3eff-4d42-9341-c991126fe0f9",
   "metadata": {},
   "outputs": [],
   "source": [
    "for disneytrip in range(10):\n",
    "    print(str(disneytrip) + ': Are we there yet?')"
   ]
  },
  {
   "cell_type": "markdown",
   "id": "8767956d-cbaf-407c-b08d-40d1bf3bb7e9",
   "metadata": {},
   "source": [
    "<div class=\"alert alert-info\">\n",
    "\n",
    "<b>Your turn:</b> Create a for loop that prints the sequence 1, 2, 5\n",
    "    \n",
    "</div>"
   ]
  },
  {
   "cell_type": "code",
   "execution_count": null,
   "id": "04b10b7b-1b81-460d-a569-525643db5667",
   "metadata": {},
   "outputs": [],
   "source": []
  },
  {
   "cell_type": "markdown",
   "id": "ffbc4642-4c4e-42e5-a122-3de9ed8cfcc9",
   "metadata": {},
   "source": [
    "## Functions"
   ]
  },
  {
   "cell_type": "markdown",
   "id": "90aab33e-56de-4edb-8e6a-c972094d6d6d",
   "metadata": {},
   "source": [
    "A function is a group of related statements that perform a specific task. \n",
    "\n",
    "* Functions start with the `def` keyword,\n",
    "* then the function name, \n",
    "* followed immediately by parentheses that enclose a parameter list,\n",
    "* and then a `:`\n",
    "* The function body falls on subsequent lines\n",
    "* The function ends when the indentation stops"
   ]
  },
  {
   "cell_type": "code",
   "execution_count": null,
   "id": "07200b40-c01b-42c7-98df-b79d13ff3e71",
   "metadata": {},
   "outputs": [],
   "source": [
    "def f():\n",
    "    print('Hello World!')"
   ]
  },
  {
   "cell_type": "code",
   "execution_count": null,
   "id": "996a76a4-10ff-41e7-a27f-4d7f7b76ec26",
   "metadata": {},
   "outputs": [],
   "source": [
    "# You need to call it to see any output or retrieve returned values\n",
    "f()"
   ]
  },
  {
   "cell_type": "code",
   "execution_count": null,
   "id": "c9b3ee14-6d0f-4109-93c7-b9f3e01b8f06",
   "metadata": {},
   "outputs": [],
   "source": [
    "def f2(a):\n",
    "    return a*2"
   ]
  },
  {
   "cell_type": "code",
   "execution_count": null,
   "id": "b6c4353d-9f0e-438b-802c-d859554848d1",
   "metadata": {},
   "outputs": [],
   "source": [
    "# This will return an error\n",
    "f2()"
   ]
  },
  {
   "cell_type": "code",
   "execution_count": null,
   "id": "5473c025-e6d4-458c-9e45-6f699cca3af2",
   "metadata": {},
   "outputs": [],
   "source": [
    "f2(4)"
   ]
  },
  {
   "cell_type": "markdown",
   "id": "4ccc7741-c727-43bb-9f08-a0d1b73f689e",
   "metadata": {},
   "source": [
    "Let's consider a mathematical operation that we wouldn't want to keep typing every time when run it.\n",
    "\n",
    "The following is an equation for calculating compound interest with annual contributions\n",
    "\n",
    "* p = principal\n",
    "* r = annual interest rate in percent\n",
    "* y = year of the balance\n",
    "* c = annual contribution (made at the start of the year)\n",
    "\n",
    "$$\\text{Balance}(y) = p(1 + r)^y + c\\left[\\frac{(1 + r)^{y+1} - (1 + r)}{r} \\right]$$"
   ]
  },
  {
   "cell_type": "code",
   "execution_count": null,
   "id": "18cbfff2-acbd-4e62-8d6b-d47f7ecd277c",
   "metadata": {},
   "outputs": [],
   "source": [
    "def f(p,r,y,c):\n",
    "    return p*(1 + r)**y + c*( ((1 + r)**(y+1) - (1 + r)) / r )"
   ]
  },
  {
   "cell_type": "code",
   "execution_count": null,
   "id": "3a5dab76-dbef-4c14-b93a-1554f25eeb4d",
   "metadata": {},
   "outputs": [],
   "source": [
    "year = 1\n",
    "principal = 1000\n",
    "rate = 5\n",
    "annual_contribution = 100\n",
    "f(principal, rate, year, annual_contribution)"
   ]
  },
  {
   "cell_type": "markdown",
   "id": "02a0ad86-cd86-408d-9e93-d3ad88319010",
   "metadata": {},
   "source": [
    "Functions are useful, of course, for more complicated machinations."
   ]
  },
  {
   "cell_type": "code",
   "execution_count": null,
   "id": "277e87c4-f1b9-4a1c-9831-0d39f04ba8d2",
   "metadata": {},
   "outputs": [],
   "source": [
    "def f2digit(p,r,y,c):\n",
    "    r = r/100\n",
    "    amountsaved = '{:,.2f}'.format(p*(1 + r)**y + c*( ((1 + r)**(y+1) - (1 + r)) / r ))\n",
    "    saying = \"If you save for \" + str(y) + \" years, then you'll have $\" + amountsaved + \" in your retirement.\"\n",
    "    return saying"
   ]
  },
  {
   "cell_type": "code",
   "execution_count": null,
   "id": "9087c80f-b68b-4ee7-b343-28a0aac4b384",
   "metadata": {},
   "outputs": [],
   "source": [
    "year = 45\n",
    "principal = 1000\n",
    "rate = 5\n",
    "annual_contribution = 6500\n",
    "f2digit(principal, rate, year, annual_contribution)"
   ]
  },
  {
   "cell_type": "markdown",
   "id": "9d440e75-6045-41b3-8e20-f9f22749160e",
   "metadata": {},
   "source": [
    "<div class=\"alert alert-info\">\n",
    "\n",
    "<b>Your turn:</b>\n",
    "\n",
    "1. Write your own function definition\n",
    "2. Call your function several times to make sure it works\n",
    "    \n",
    "</div>"
   ]
  },
  {
   "cell_type": "code",
   "execution_count": null,
   "id": "f9f64c05-b8fd-4de0-bb71-8b7241f7e1fc",
   "metadata": {},
   "outputs": [],
   "source": [
    "# Enter your code for #1 here:\n"
   ]
  },
  {
   "cell_type": "code",
   "execution_count": null,
   "id": "5ae45fc4-44d6-44ac-b974-40760798f195",
   "metadata": {},
   "outputs": [],
   "source": [
    "# Enter your code for #2 here:\n"
   ]
  },
  {
   "cell_type": "markdown",
   "id": "ac8f44e7-55b2-4a99-8964-c6842c39a785",
   "metadata": {},
   "source": [
    "## Methods"
   ]
  },
  {
   "cell_type": "markdown",
   "id": "1861f211-ae59-4e29-948c-88e34049d9c6",
   "metadata": {},
   "source": [
    "Variables in Python are actually objects (yes, in the object-oriented sense of object).\n",
    "\n",
    "Python variables can therefore have attributes and methods associated with them."
   ]
  },
  {
   "cell_type": "code",
   "execution_count": null,
   "id": "98eb0ff1-3fd3-487a-a626-36edc6192c3e",
   "metadata": {},
   "outputs": [],
   "source": [
    "numbers"
   ]
  },
  {
   "cell_type": "code",
   "execution_count": null,
   "id": "4f0b267d-8532-4988-94bb-39347e81ca3d",
   "metadata": {},
   "outputs": [],
   "source": [
    "type(numbers)"
   ]
  },
  {
   "cell_type": "code",
   "execution_count": null,
   "id": "11aef6c6-1a05-410c-a506-605707853577",
   "metadata": {},
   "outputs": [],
   "source": [
    "numbers.index(5)"
   ]
  },
  {
   "cell_type": "markdown",
   "id": "0f85726f-16e9-487f-88eb-85819f2a9da5",
   "metadata": {},
   "source": [
    "The `.` notation is used to denote that we are using the `index` method associated with the `numbers` list variable, and passing `5` as the input parameter to that method.\n",
    "\n",
    "It tells us that the value `5` is in the `numbers` list at index 4."
   ]
  },
  {
   "cell_type": "code",
   "execution_count": null,
   "id": "3b2786ef-ce82-4c09-b14a-f76dedd35bb7",
   "metadata": {},
   "outputs": [],
   "source": [
    "numbers[4]"
   ]
  },
  {
   "cell_type": "markdown",
   "id": "4f85dcdd-9106-42f7-ad44-7aa579c38b3d",
   "metadata": {},
   "source": [
    "The `reverse` method will reverse the elements in-place."
   ]
  },
  {
   "cell_type": "code",
   "execution_count": null,
   "id": "17713577-8fb1-4e2c-ab03-2d5ff9fdd48c",
   "metadata": {},
   "outputs": [],
   "source": [
    "numbers.reverse()"
   ]
  },
  {
   "cell_type": "code",
   "execution_count": null,
   "id": "88ff4551-a7fd-47f4-9d10-68a2e6668b3c",
   "metadata": {},
   "outputs": [],
   "source": [
    "numbers"
   ]
  },
  {
   "cell_type": "markdown",
   "id": "cd5cbeba-31df-4917-abe9-d95ef6881496",
   "metadata": {},
   "source": [
    "Strings and dictionaries also have methods."
   ]
  },
  {
   "cell_type": "code",
   "execution_count": null,
   "id": "7c07dfbf-b1d5-4275-8571-7eeb61cc73cd",
   "metadata": {},
   "outputs": [],
   "source": [
    "# 'split' splits a string into a list of elements\n",
    "# the splitting happens by default on whitespace\n",
    "\n",
    "'My name is Ben'.split()"
   ]
  },
  {
   "cell_type": "code",
   "execution_count": null,
   "id": "523cacce-d10d-43d8-8f88-b22599485223",
   "metadata": {},
   "outputs": [],
   "source": [
    "# 'join' is a string method that creates a single string from a list\n",
    "\n",
    "'-'.join(['Combo','words','are','in','this','list'])"
   ]
  },
  {
   "cell_type": "markdown",
   "id": "49559b94-a4aa-4231-a923-77505f605440",
   "metadata": {},
   "source": [
    "## Modules"
   ]
  },
  {
   "cell_type": "markdown",
   "id": "8a0267dd-d355-4891-9766-c3ba923581ae",
   "metadata": {},
   "source": [
    "A lot of coders have written Python code that you can easily reuse.  "
   ]
  },
  {
   "cell_type": "code",
   "execution_count": null,
   "id": "26ab68c8-222f-4e17-8e3d-796adc11c03c",
   "metadata": {},
   "outputs": [],
   "source": [
    "# Example:\n",
    "\n",
    "# retrieve the `math` module\n",
    "import math\n",
    "\n",
    "# use constants stored in the module\n",
    "print('pi = ', math.pi)\n",
    "\n",
    "# use functions written in the module\n",
    "print('The value of sin(pi/2) is', math.sin(math.pi/2))"
   ]
  },
  {
   "cell_type": "markdown",
   "id": "9f56c3eb-87d3-434c-a813-5d71eadecdb8",
   "metadata": {},
   "source": [
    "Some code comes standard with every Python installation.  Other code needs to be retrieved and installed.  However, once you have the code, it can dramatically expand your coding capabilities.\n",
    "\n",
    "Modules allow us to use externally developed code.\n",
    "* A module is a group of code items such as functions that are related to one another. Individual modules are often grouped together as a library.\n",
    "* Modules can be loaded using `import <modulename>`. \n",
    "* Functions that are part of the module `modulename` can then be used by typing `modulename.functionname()`. \n",
    "  * For example, `sin()` is a function that is part of the `math` module\n",
    "  * We can use to by typing `math.sin()` with some number between the parentheses.\n",
    "* Modules may also contain constants in addition to functions.\n",
    "  * The `math` module includes a constant for $\\pi$ -- `math.pi`"
   ]
  },
  {
   "cell_type": "markdown",
   "id": "8927871b-9e14-472f-aaf7-ab3758d9976b",
   "metadata": {},
   "source": [
    "We can even write our own modules!\n",
    "\n",
    "Open the included \"mymodule.py\" file and look it over before executing the following cells."
   ]
  },
  {
   "cell_type": "code",
   "execution_count": null,
   "id": "eef59a2c-38f6-40ff-a523-b618eafb38ed",
   "metadata": {},
   "outputs": [],
   "source": [
    "import mymodule"
   ]
  },
  {
   "cell_type": "code",
   "execution_count": null,
   "id": "ed19f501-567d-4545-bfc1-a0e12bb1adff",
   "metadata": {},
   "outputs": [],
   "source": [
    "mymodule.holyhandgrenade"
   ]
  },
  {
   "cell_type": "code",
   "execution_count": null,
   "id": "ec4c1cc5-114c-44cf-bf96-f5326efed1f9",
   "metadata": {},
   "outputs": [],
   "source": [
    "mymodule.compound_calculator(1000,5,1,100)"
   ]
  },
  {
   "cell_type": "markdown",
   "id": "02ecc983-f2ec-4926-9126-5cbb8a98c5ad",
   "metadata": {},
   "source": [
    "One can import select functions or variables from a module, as well as rename them with an alias."
   ]
  },
  {
   "cell_type": "code",
   "execution_count": null,
   "id": "154ad63f-542b-4ae2-ab73-4b2453fad3da",
   "metadata": {},
   "outputs": [],
   "source": [
    "import mymodule as mm"
   ]
  },
  {
   "cell_type": "code",
   "execution_count": null,
   "id": "da8cfd3a-f757-4ea2-915d-d6cb1e2d9478",
   "metadata": {},
   "outputs": [],
   "source": [
    "mm.stocksDict"
   ]
  },
  {
   "cell_type": "markdown",
   "id": "8b35322c-f2f5-4acf-b505-e34ac323b602",
   "metadata": {},
   "source": [
    "## Using other libraries"
   ]
  },
  {
   "cell_type": "markdown",
   "id": "b5a9f6ff-2e07-467f-9ef7-bd4156525793",
   "metadata": {},
   "source": [
    "We actually know enough Python now that we could follow along with some commands to use other libraries and find:"
   ]
  },
  {
   "cell_type": "markdown",
   "id": "b0cc9bc3-4479-45f5-8df7-a5664d30e2a5",
   "metadata": {},
   "source": [
    "### Other Nouns Starting With V"
   ]
  },
  {
   "cell_type": "markdown",
   "id": "2a2c24c1-d4d8-4ef1-91c7-5bf05d37414b",
   "metadata": {},
   "source": [
    "Import some libraries and gather data:"
   ]
  },
  {
   "cell_type": "code",
   "execution_count": null,
   "id": "ed0420f4-8362-4c02-a45e-e0a2d521af53",
   "metadata": {},
   "outputs": [],
   "source": [
    "import nltk\n",
    "nltk.download('words')\n",
    "nltk.download('averaged_perceptron_tagger')\n",
    "nltk.download('wordnet')\n",
    "nltk.download('omw-1.4')\n",
    "from nltk.corpus import words, wordnet\n",
    "import random\n",
    "\n",
    "print('Imports done.')"
   ]
  },
  {
   "cell_type": "markdown",
   "id": "9f7397e2-0e29-4f56-9b32-3375ce6a2857",
   "metadata": {},
   "source": [
    "Our process for getting potentially new and exciting v-words:\n",
    "* Get words that start with “v”.\n",
    "* Make a function to test if a word is a noun.\n",
    "* Make a list of all “v”-starting words that are nouns."
   ]
  },
  {
   "cell_type": "code",
   "execution_count": null,
   "id": "944c0035-0227-4a30-9462-be5acc237261",
   "metadata": {},
   "outputs": [],
   "source": [
    "# get words that start with v\n",
    "vwords = [i for i in words.words() if i[0]=='v']\n",
    "\n",
    "# function to test if something is a noun\n",
    "is_noun = lambda pos: pos[:2] == 'NN'\n",
    "\n",
    "# do the nlp stuff\n",
    "vwordsNouns = [word for (word, pos) in nltk.pos_tag(vwords) if is_noun(pos)]\n",
    "\n",
    "print('We have a v-starting noun list.')"
   ]
  },
  {
   "cell_type": "markdown",
   "id": "960103f2-315a-4aaa-9841-788af31826c4",
   "metadata": {},
   "source": [
    "Print a random sample of these words, along with the definitions (as provided by wordnet)."
   ]
  },
  {
   "cell_type": "code",
   "execution_count": null,
   "id": "e4e5176f-f1d6-4f9d-812f-cd265e7ce6c4",
   "metadata": {},
   "outputs": [],
   "source": [
    "n = 1\n",
    "for i in random.sample(vwordsNouns, n):\n",
    "    if wordnet.synsets(i):\n",
    "        print(i,':  ',wordnet.synsets(i)[0].definition())\n",
    "    else:\n",
    "        print(i,':  (?)')"
   ]
  },
  {
   "cell_type": "markdown",
   "id": "a84a03b6-ef69-4d9d-83db-659068e89a92",
   "metadata": {},
   "source": [
    "## To be continued...."
   ]
  }
 ],
 "metadata": {
  "kernelspec": {
   "display_name": "Python 3 (ipykernel)",
   "language": "python",
   "name": "python3"
  },
  "language_info": {
   "codemirror_mode": {
    "name": "ipython",
    "version": 3
   },
   "file_extension": ".py",
   "mimetype": "text/x-python",
   "name": "python",
   "nbconvert_exporter": "python",
   "pygments_lexer": "ipython3",
   "version": "3.9.6"
  }
 },
 "nbformat": 4,
 "nbformat_minor": 5
}
