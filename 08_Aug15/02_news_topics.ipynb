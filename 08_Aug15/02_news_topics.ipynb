{
 "cells": [
  {
   "cell_type": "markdown",
   "id": "4edc1037-9b05-44c6-8c07-219f69328b77",
   "metadata": {},
   "source": [
    "# Topic modeling\n",
    "\n",
    "We are going to look at data from the [20 Newsgroups](http://qwone.com/~jason/20Newsgroups/) dataset.  These are postings to newsgroups in 20 different categories.\n",
    "\n",
    "Scikit-learn has a function for downloading the data.  See: https://scikit-learn.org/stable/modules/generated/sklearn.datasets.fetch_20newsgroups.html\n",
    "\n",
    "## LDA\n",
    "\n",
    "Latent Dirichlet Allocation:  a topic model that generates topics based on a set of documents' word frequencies.\n",
    "\n",
    "* Get a \"dictionary\" that has IDs for all the words along with a record of their word frequencies.\n",
    "* Use our \"bag of words\" to generate a list for each document containing its words and their frequencies\n",
    "* Use gensim to generate an LDA model\n",
    "\n",
    "## Gensim\n",
    "\n",
    "* \"Gensim is an open-source library for unsupervised topic modeling and natural language processing, using modern statistical machine learning.\"\n",
    "* [gensim website](https://radimrehurek.com/gensim/)"
   ]
  },
  {
   "cell_type": "code",
   "execution_count": 1,
   "id": "011b5d42-d37e-4e71-ab13-d99e91048d41",
   "metadata": {},
   "outputs": [],
   "source": [
    "from sklearn.datasets import fetch_20newsgroups"
   ]
  },
  {
   "cell_type": "code",
   "execution_count": 2,
   "id": "95b361ee-d241-4bf7-b3ef-0a32dcc2e62a",
   "metadata": {},
   "outputs": [],
   "source": [
    "data = fetch_20newsgroups(remove=(\"headers\", \"footers\", \"quotes\"))"
   ]
  },
  {
   "cell_type": "code",
   "execution_count": 3,
   "id": "ad16c2c1-2207-4233-8281-307161fadbed",
   "metadata": {
    "tags": []
   },
   "outputs": [
    {
     "name": "stdout",
     "output_type": "stream",
     "text": [
      ".. _20newsgroups_dataset:\n",
      "\n",
      "The 20 newsgroups text dataset\n",
      "------------------------------\n",
      "\n",
      "The 20 newsgroups dataset comprises around 18000 newsgroups posts on\n",
      "20 topics split in two subsets: one for training (or development)\n",
      "and the other one for testing (or for performance evaluation). The split\n",
      "between the train and test set is based upon a messages posted before\n",
      "and after a specific date.\n",
      "\n",
      "This module contains two loaders. The first one,\n",
      ":func:`sklearn.datasets.fetch_20newsgroups`,\n",
      "returns a list of the raw texts that can be fed to text feature\n",
      "extractors such as :class:`~sklearn.feature_extraction.text.CountVectorizer`\n",
      "with custom parameters so as to extract feature vectors.\n",
      "The second one, :func:`sklearn.datasets.fetch_20newsgroups_vectorized`,\n",
      "returns ready-to-use features, i.e., it is not necessary to use a feature\n",
      "extractor.\n",
      "\n",
      "**Data Set Characteristics:**\n",
      "\n",
      "    =================   ==========\n",
      "    Classes                     20\n",
      "    Samples total            18846\n",
      "    Dimensionality               1\n",
      "    Features                  text\n",
      "    =================   ==========\n",
      "\n",
      "Usage\n",
      "~~~~~\n",
      "\n",
      "The :func:`sklearn.datasets.fetch_20newsgroups` function is a data\n",
      "fetching / caching functions that downloads the data archive from\n",
      "the original `20 newsgroups website`_, extracts the archive contents\n",
      "in the ``~/scikit_learn_data/20news_home`` folder and calls the\n",
      ":func:`sklearn.datasets.load_files` on either the training or\n",
      "testing set folder, or both of them::\n",
      "\n",
      "  >>> from sklearn.datasets import fetch_20newsgroups\n",
      "  >>> newsgroups_train = fetch_20newsgroups(subset='train')\n",
      "\n",
      "  >>> from pprint import pprint\n",
      "  >>> pprint(list(newsgroups_train.target_names))\n",
      "  ['alt.atheism',\n",
      "   'comp.graphics',\n",
      "   'comp.os.ms-windows.misc',\n",
      "   'comp.sys.ibm.pc.hardware',\n",
      "   'comp.sys.mac.hardware',\n",
      "   'comp.windows.x',\n",
      "   'misc.forsale',\n",
      "   'rec.autos',\n",
      "   'rec.motorcycles',\n",
      "   'rec.sport.baseball',\n",
      "   'rec.sport.hockey',\n",
      "   'sci.crypt',\n",
      "   'sci.electronics',\n",
      "   'sci.med',\n",
      "   'sci.space',\n",
      "   'soc.religion.christian',\n",
      "   'talk.politics.guns',\n",
      "   'talk.politics.mideast',\n",
      "   'talk.politics.misc',\n",
      "   'talk.religion.misc']\n",
      "\n",
      "The real data lies in the ``filenames`` and ``target`` attributes. The target\n",
      "attribute is the integer index of the category::\n",
      "\n",
      "  >>> newsgroups_train.filenames.shape\n",
      "  (11314,)\n",
      "  >>> newsgroups_train.target.shape\n",
      "  (11314,)\n",
      "  >>> newsgroups_train.target[:10]\n",
      "  array([ 7,  4,  4,  1, 14, 16, 13,  3,  2,  4])\n",
      "\n",
      "It is possible to load only a sub-selection of the categories by passing the\n",
      "list of the categories to load to the\n",
      ":func:`sklearn.datasets.fetch_20newsgroups` function::\n",
      "\n",
      "  >>> cats = ['alt.atheism', 'sci.space']\n",
      "  >>> newsgroups_train = fetch_20newsgroups(subset='train', categories=cats)\n",
      "\n",
      "  >>> list(newsgroups_train.target_names)\n",
      "  ['alt.atheism', 'sci.space']\n",
      "  >>> newsgroups_train.filenames.shape\n",
      "  (1073,)\n",
      "  >>> newsgroups_train.target.shape\n",
      "  (1073,)\n",
      "  >>> newsgroups_train.target[:10]\n",
      "  array([0, 1, 1, 1, 0, 1, 1, 0, 0, 0])\n",
      "\n",
      "Converting text to vectors\n",
      "~~~~~~~~~~~~~~~~~~~~~~~~~~\n",
      "\n",
      "In order to feed predictive or clustering models with the text data,\n",
      "one first need to turn the text into vectors of numerical values suitable\n",
      "for statistical analysis. This can be achieved with the utilities of the\n",
      "``sklearn.feature_extraction.text`` as demonstrated in the following\n",
      "example that extract `TF-IDF`_ vectors of unigram tokens\n",
      "from a subset of 20news::\n",
      "\n",
      "  >>> from sklearn.feature_extraction.text import TfidfVectorizer\n",
      "  >>> categories = ['alt.atheism', 'talk.religion.misc',\n",
      "  ...               'comp.graphics', 'sci.space']\n",
      "  >>> newsgroups_train = fetch_20newsgroups(subset='train',\n",
      "  ...                                       categories=categories)\n",
      "  >>> vectorizer = TfidfVectorizer()\n",
      "  >>> vectors = vectorizer.fit_transform(newsgroups_train.data)\n",
      "  >>> vectors.shape\n",
      "  (2034, 34118)\n",
      "\n",
      "The extracted TF-IDF vectors are very sparse, with an average of 159 non-zero\n",
      "components by sample in a more than 30000-dimensional space\n",
      "(less than .5% non-zero features)::\n",
      "\n",
      "  >>> vectors.nnz / float(vectors.shape[0])\n",
      "  159.01327...\n",
      "\n",
      ":func:`sklearn.datasets.fetch_20newsgroups_vectorized` is a function which\n",
      "returns ready-to-use token counts features instead of file names.\n",
      "\n",
      ".. _`20 newsgroups website`: http://people.csail.mit.edu/jrennie/20Newsgroups/\n",
      ".. _`TF-IDF`: https://en.wikipedia.org/wiki/Tf-idf\n",
      "\n",
      "\n",
      "Filtering text for more realistic training\n",
      "~~~~~~~~~~~~~~~~~~~~~~~~~~~~~~~~~~~~~~~~~~\n",
      "\n",
      "It is easy for a classifier to overfit on particular things that appear in the\n",
      "20 Newsgroups data, such as newsgroup headers. Many classifiers achieve very\n",
      "high F-scores, but their results would not generalize to other documents that\n",
      "aren't from this window of time.\n",
      "\n",
      "For example, let's look at the results of a multinomial Naive Bayes classifier,\n",
      "which is fast to train and achieves a decent F-score::\n",
      "\n",
      "  >>> from sklearn.naive_bayes import MultinomialNB\n",
      "  >>> from sklearn import metrics\n",
      "  >>> newsgroups_test = fetch_20newsgroups(subset='test',\n",
      "  ...                                      categories=categories)\n",
      "  >>> vectors_test = vectorizer.transform(newsgroups_test.data)\n",
      "  >>> clf = MultinomialNB(alpha=.01)\n",
      "  >>> clf.fit(vectors, newsgroups_train.target)\n",
      "  MultinomialNB(alpha=0.01, class_prior=None, fit_prior=True)\n",
      "\n",
      "  >>> pred = clf.predict(vectors_test)\n",
      "  >>> metrics.f1_score(newsgroups_test.target, pred, average='macro')\n",
      "  0.88213...\n",
      "\n",
      "(The example :ref:`sphx_glr_auto_examples_text_plot_document_classification_20newsgroups.py` shuffles\n",
      "the training and test data, instead of segmenting by time, and in that case\n",
      "multinomial Naive Bayes gets a much higher F-score of 0.88. Are you suspicious\n",
      "yet of what's going on inside this classifier?)\n",
      "\n",
      "Let's take a look at what the most informative features are:\n",
      "\n",
      "  >>> import numpy as np\n",
      "  >>> def show_top10(classifier, vectorizer, categories):\n",
      "  ...     feature_names = vectorizer.get_feature_names_out()\n",
      "  ...     for i, category in enumerate(categories):\n",
      "  ...         top10 = np.argsort(classifier.coef_[i])[-10:]\n",
      "  ...         print(\"%s: %s\" % (category, \" \".join(feature_names[top10])))\n",
      "  ...\n",
      "  >>> show_top10(clf, vectorizer, newsgroups_train.target_names)\n",
      "  alt.atheism: edu it and in you that is of to the\n",
      "  comp.graphics: edu in graphics it is for and of to the\n",
      "  sci.space: edu it that is in and space to of the\n",
      "  talk.religion.misc: not it you in is that and to of the\n",
      "\n",
      "\n",
      "You can now see many things that these features have overfit to:\n",
      "\n",
      "- Almost every group is distinguished by whether headers such as\n",
      "  ``NNTP-Posting-Host:`` and ``Distribution:`` appear more or less often.\n",
      "- Another significant feature involves whether the sender is affiliated with\n",
      "  a university, as indicated either by their headers or their signature.\n",
      "- The word \"article\" is a significant feature, based on how often people quote\n",
      "  previous posts like this: \"In article [article ID], [name] <[e-mail address]>\n",
      "  wrote:\"\n",
      "- Other features match the names and e-mail addresses of particular people who\n",
      "  were posting at the time.\n",
      "\n",
      "With such an abundance of clues that distinguish newsgroups, the classifiers\n",
      "barely have to identify topics from text at all, and they all perform at the\n",
      "same high level.\n",
      "\n",
      "For this reason, the functions that load 20 Newsgroups data provide a\n",
      "parameter called **remove**, telling it what kinds of information to strip out\n",
      "of each file. **remove** should be a tuple containing any subset of\n",
      "``('headers', 'footers', 'quotes')``, telling it to remove headers, signature\n",
      "blocks, and quotation blocks respectively.\n",
      "\n",
      "  >>> newsgroups_test = fetch_20newsgroups(subset='test',\n",
      "  ...                                      remove=('headers', 'footers', 'quotes'),\n",
      "  ...                                      categories=categories)\n",
      "  >>> vectors_test = vectorizer.transform(newsgroups_test.data)\n",
      "  >>> pred = clf.predict(vectors_test)\n",
      "  >>> metrics.f1_score(pred, newsgroups_test.target, average='macro')\n",
      "  0.77310...\n",
      "\n",
      "This classifier lost over a lot of its F-score, just because we removed\n",
      "metadata that has little to do with topic classification.\n",
      "It loses even more if we also strip this metadata from the training data:\n",
      "\n",
      "  >>> newsgroups_train = fetch_20newsgroups(subset='train',\n",
      "  ...                                       remove=('headers', 'footers', 'quotes'),\n",
      "  ...                                       categories=categories)\n",
      "  >>> vectors = vectorizer.fit_transform(newsgroups_train.data)\n",
      "  >>> clf = MultinomialNB(alpha=.01)\n",
      "  >>> clf.fit(vectors, newsgroups_train.target)\n",
      "  MultinomialNB(alpha=0.01, class_prior=None, fit_prior=True)\n",
      "\n",
      "  >>> vectors_test = vectorizer.transform(newsgroups_test.data)\n",
      "  >>> pred = clf.predict(vectors_test)\n",
      "  >>> metrics.f1_score(newsgroups_test.target, pred, average='macro')\n",
      "  0.76995...\n",
      "\n",
      "Some other classifiers cope better with this harder version of the task. Try\n",
      "running :ref:`sphx_glr_auto_examples_model_selection_grid_search_text_feature_extraction.py` with and without\n",
      "the ``--filter`` option to compare the results.\n",
      "\n",
      ".. topic:: Data Considerations\n",
      "\n",
      "  The Cleveland Indians is a major league baseball team based in Cleveland,\n",
      "  Ohio, USA. In December 2020, it was reported that \"After several months of\n",
      "  discussion sparked by the death of George Floyd and a national reckoning over\n",
      "  race and colonialism, the Cleveland Indians have decided to change their\n",
      "  name.\" Team owner Paul Dolan \"did make it clear that the team will not make\n",
      "  its informal nickname -- the Tribe -- its new team name.\" \"It’s not going to\n",
      "  be a half-step away from the Indians,\" Dolan said.\"We will not have a Native\n",
      "  American-themed name.\"\n",
      "\n",
      "  https://www.mlb.com/news/cleveland-indians-team-name-change\n",
      "\n",
      ".. topic:: Recommendation\n",
      "\n",
      "  - When evaluating text classifiers on the 20 Newsgroups data, you\n",
      "    should strip newsgroup-related metadata. In scikit-learn, you can do this\n",
      "    by setting ``remove=('headers', 'footers', 'quotes')``. The F-score will be\n",
      "    lower because it is more realistic.\n",
      "  - This text dataset contains data which may be inappropriate for certain NLP\n",
      "    applications. An example is listed in the \"Data Considerations\" section\n",
      "    above. The challenge with using current text datasets in NLP for tasks such\n",
      "    as sentence completion, clustering, and other applications is that text\n",
      "    that is culturally biased and inflammatory will propagate biases. This\n",
      "    should be taken into consideration when using the dataset, reviewing the\n",
      "    output, and the bias should be documented.\n",
      "\n",
      ".. topic:: Examples\n",
      "\n",
      "   * :ref:`sphx_glr_auto_examples_model_selection_grid_search_text_feature_extraction.py`\n",
      "\n",
      "   * :ref:`sphx_glr_auto_examples_text_plot_document_classification_20newsgroups.py`\n",
      "\n"
     ]
    }
   ],
   "source": [
    "print(data.DESCR)"
   ]
  },
  {
   "cell_type": "code",
   "execution_count": 4,
   "id": "73716a29-da6e-41cb-8436-ed5672d03e06",
   "metadata": {
    "tags": []
   },
   "outputs": [],
   "source": [
    "x = data.data"
   ]
  },
  {
   "cell_type": "code",
   "execution_count": 5,
   "id": "fae459b3-e221-441d-81c1-02ea865a25ed",
   "metadata": {},
   "outputs": [
    {
     "data": {
      "text/plain": [
       "11314"
      ]
     },
     "execution_count": 5,
     "metadata": {},
     "output_type": "execute_result"
    }
   ],
   "source": [
    "len(x)"
   ]
  },
  {
   "cell_type": "code",
   "execution_count": 6,
   "id": "0267475a-529a-48cc-a91d-b3fde92af8aa",
   "metadata": {},
   "outputs": [
    {
     "data": {
      "text/plain": [
       "'I was wondering if anyone out there could enlighten me on this car I saw\\nthe other day. It was a 2-door sports car, looked to be from the late 60s/\\nearly 70s. It was called a Bricklin. The doors were really small. In addition,\\nthe front bumper was separate from the rest of the body. This is \\nall I know. If anyone can tellme a model name, engine specs, years\\nof production, where this car is made, history, or whatever info you\\nhave on this funky looking car, please e-mail.'"
      ]
     },
     "execution_count": 6,
     "metadata": {},
     "output_type": "execute_result"
    }
   ],
   "source": [
    "x[0]"
   ]
  },
  {
   "cell_type": "code",
   "execution_count": 7,
   "id": "cc714e58-530e-4693-be86-97f4ff144588",
   "metadata": {},
   "outputs": [
    {
     "data": {
      "text/plain": [
       "['alt.atheism',\n",
       " 'comp.graphics',\n",
       " 'comp.os.ms-windows.misc',\n",
       " 'comp.sys.ibm.pc.hardware',\n",
       " 'comp.sys.mac.hardware',\n",
       " 'comp.windows.x',\n",
       " 'misc.forsale',\n",
       " 'rec.autos',\n",
       " 'rec.motorcycles',\n",
       " 'rec.sport.baseball',\n",
       " 'rec.sport.hockey',\n",
       " 'sci.crypt',\n",
       " 'sci.electronics',\n",
       " 'sci.med',\n",
       " 'sci.space',\n",
       " 'soc.religion.christian',\n",
       " 'talk.politics.guns',\n",
       " 'talk.politics.mideast',\n",
       " 'talk.politics.misc',\n",
       " 'talk.religion.misc']"
      ]
     },
     "execution_count": 7,
     "metadata": {},
     "output_type": "execute_result"
    }
   ],
   "source": [
    "data.target_names"
   ]
  },
  {
   "cell_type": "code",
   "execution_count": 8,
   "id": "eaa66e72-9d94-43dd-977a-c73fedab972d",
   "metadata": {},
   "outputs": [
    {
     "data": {
      "text/plain": [
       "array([7, 4, 4, ..., 3, 1, 8])"
      ]
     },
     "execution_count": 8,
     "metadata": {},
     "output_type": "execute_result"
    }
   ],
   "source": [
    "data.target"
   ]
  },
  {
   "cell_type": "markdown",
   "id": "7924c31b-452b-437a-a765-08e932ccec12",
   "metadata": {},
   "source": [
    "We use NLTK to pre-process the words."
   ]
  },
  {
   "cell_type": "code",
   "execution_count": 9,
   "id": "36bae2b9-1a9b-4a0d-9b72-2ba9c42c8580",
   "metadata": {},
   "outputs": [],
   "source": [
    "from nltk.tokenize import sent_tokenize, word_tokenize\n",
    "from nltk.corpus import stopwords\n",
    "from string import punctuation"
   ]
  },
  {
   "cell_type": "code",
   "execution_count": 10,
   "id": "512c234a-f674-40a7-8311-e21aa308148b",
   "metadata": {},
   "outputs": [],
   "source": [
    "myStopWords = list(punctuation) + stopwords.words('english')"
   ]
  },
  {
   "cell_type": "code",
   "execution_count": 11,
   "id": "ab39c868-8420-4873-9991-1765a22aab75",
   "metadata": {
    "tags": []
   },
   "outputs": [
    {
     "data": {
      "text/plain": [
       "['wondering',\n",
       " 'anyone',\n",
       " 'could',\n",
       " 'enlighten',\n",
       " 'car',\n",
       " 'saw',\n",
       " 'day',\n",
       " '2-door',\n",
       " 'sports',\n",
       " 'car',\n",
       " 'looked',\n",
       " 'late',\n",
       " '60s/',\n",
       " 'early',\n",
       " '70s',\n",
       " 'called',\n",
       " 'bricklin',\n",
       " 'doors',\n",
       " 'really',\n",
       " 'small',\n",
       " 'addition',\n",
       " 'front',\n",
       " 'bumper',\n",
       " 'separate',\n",
       " 'rest',\n",
       " 'body',\n",
       " 'know',\n",
       " 'anyone',\n",
       " 'tellme',\n",
       " 'model',\n",
       " 'name',\n",
       " 'engine',\n",
       " 'specs',\n",
       " 'years',\n",
       " 'production',\n",
       " 'car',\n",
       " 'made',\n",
       " 'history',\n",
       " 'whatever',\n",
       " 'info',\n",
       " 'funky',\n",
       " 'looking',\n",
       " 'car',\n",
       " 'please',\n",
       " 'e-mail']"
      ]
     },
     "execution_count": 11,
     "metadata": {},
     "output_type": "execute_result"
    }
   ],
   "source": [
    "[w for w in word_tokenize(x[0].lower()) if w not in myStopWords]"
   ]
  },
  {
   "cell_type": "code",
   "execution_count": 12,
   "id": "48a948b9-75b6-424e-94b3-6c16700b2287",
   "metadata": {},
   "outputs": [],
   "source": [
    "docs = []\n",
    "for i in x:\n",
    "    docs.append([w for w in word_tokenize(i.lower()) if w not in myStopWords])"
   ]
  },
  {
   "cell_type": "code",
   "execution_count": 13,
   "id": "8d53c1a8-cb62-4119-94bb-178619912b52",
   "metadata": {
    "tags": []
   },
   "outputs": [
    {
     "data": {
      "text/plain": [
       "['wondering',\n",
       " 'anyone',\n",
       " 'could',\n",
       " 'enlighten',\n",
       " 'car',\n",
       " 'saw',\n",
       " 'day',\n",
       " '2-door',\n",
       " 'sports',\n",
       " 'car',\n",
       " 'looked',\n",
       " 'late',\n",
       " '60s/',\n",
       " 'early',\n",
       " '70s',\n",
       " 'called',\n",
       " 'bricklin',\n",
       " 'doors',\n",
       " 'really',\n",
       " 'small',\n",
       " 'addition',\n",
       " 'front',\n",
       " 'bumper',\n",
       " 'separate',\n",
       " 'rest',\n",
       " 'body',\n",
       " 'know',\n",
       " 'anyone',\n",
       " 'tellme',\n",
       " 'model',\n",
       " 'name',\n",
       " 'engine',\n",
       " 'specs',\n",
       " 'years',\n",
       " 'production',\n",
       " 'car',\n",
       " 'made',\n",
       " 'history',\n",
       " 'whatever',\n",
       " 'info',\n",
       " 'funky',\n",
       " 'looking',\n",
       " 'car',\n",
       " 'please',\n",
       " 'e-mail']"
      ]
     },
     "execution_count": 13,
     "metadata": {},
     "output_type": "execute_result"
    }
   ],
   "source": [
    "docs[0]"
   ]
  },
  {
   "cell_type": "code",
   "execution_count": 14,
   "id": "f5b80233-5cc9-43f1-a2ed-d69815f39d98",
   "metadata": {},
   "outputs": [],
   "source": [
    "from nltk.stem.porter import PorterStemmer\n",
    "#from nltk.stem import LancasterStemmer"
   ]
  },
  {
   "cell_type": "code",
   "execution_count": 15,
   "id": "3a2e3130-fb17-4e22-b775-bf6e98f878fd",
   "metadata": {},
   "outputs": [],
   "source": [
    "# Create p_stemmer of class PorterStemmer\n",
    "p_stemmer = PorterStemmer()"
   ]
  },
  {
   "cell_type": "code",
   "execution_count": 16,
   "id": "1e877102-13db-43ed-82d1-551ec474d977",
   "metadata": {},
   "outputs": [],
   "source": [
    "docs_stemmed = []\n",
    "for i in docs:\n",
    "    docs_stemmed.append([p_stemmer.stem(w) for w in i])"
   ]
  },
  {
   "cell_type": "code",
   "execution_count": 17,
   "id": "a5436a74-4f45-4e7d-96ca-12e7ef806c45",
   "metadata": {
    "tags": []
   },
   "outputs": [
    {
     "data": {
      "text/plain": [
       "['wonder',\n",
       " 'anyon',\n",
       " 'could',\n",
       " 'enlighten',\n",
       " 'car',\n",
       " 'saw',\n",
       " 'day',\n",
       " '2-door',\n",
       " 'sport',\n",
       " 'car',\n",
       " 'look',\n",
       " 'late',\n",
       " '60s/',\n",
       " 'earli',\n",
       " '70',\n",
       " 'call',\n",
       " 'bricklin',\n",
       " 'door',\n",
       " 'realli',\n",
       " 'small',\n",
       " 'addit',\n",
       " 'front',\n",
       " 'bumper',\n",
       " 'separ',\n",
       " 'rest',\n",
       " 'bodi',\n",
       " 'know',\n",
       " 'anyon',\n",
       " 'tellm',\n",
       " 'model',\n",
       " 'name',\n",
       " 'engin',\n",
       " 'spec',\n",
       " 'year',\n",
       " 'product',\n",
       " 'car',\n",
       " 'made',\n",
       " 'histori',\n",
       " 'whatev',\n",
       " 'info',\n",
       " 'funki',\n",
       " 'look',\n",
       " 'car',\n",
       " 'pleas',\n",
       " 'e-mail']"
      ]
     },
     "execution_count": 17,
     "metadata": {},
     "output_type": "execute_result"
    }
   ],
   "source": [
    "docs_stemmed[0]"
   ]
  },
  {
   "cell_type": "markdown",
   "id": "8092a60b-32b1-4173-aa67-794881638608",
   "metadata": {},
   "source": [
    "Here we use gensim to make the dictionary and corpus structures, and to employ the LDA model to extract groups (aka topics) and the distribution of words for each topic."
   ]
  },
  {
   "cell_type": "code",
   "execution_count": 18,
   "id": "8c2294d9-ab78-42e0-83ca-321bc381503d",
   "metadata": {},
   "outputs": [
    {
     "ename": "ModuleNotFoundError",
     "evalue": "No module named 'gensim'",
     "output_type": "error",
     "traceback": [
      "\u001b[1;31m---------------------------------------------------------------------------\u001b[0m",
      "\u001b[1;31mModuleNotFoundError\u001b[0m                       Traceback (most recent call last)",
      "\u001b[1;32me:\\personal\\ucla_ext\\Intro to Data Science\\csx4501\\08_Aug15\\02_news_topics.ipynb Cell 21\u001b[0m in \u001b[0;36m<cell line: 1>\u001b[1;34m()\u001b[0m\n\u001b[1;32m----> <a href='vscode-notebook-cell:/e%3A/personal/ucla_ext/Intro%20to%20Data%20Science/csx4501/08_Aug15/02_news_topics.ipynb#X26sZmlsZQ%3D%3D?line=0'>1</a>\u001b[0m \u001b[39mfrom\u001b[39;00m \u001b[39mgensim\u001b[39;00m \u001b[39mimport\u001b[39;00m corpora, models\n\u001b[0;32m      <a href='vscode-notebook-cell:/e%3A/personal/ucla_ext/Intro%20to%20Data%20Science/csx4501/08_Aug15/02_news_topics.ipynb#X26sZmlsZQ%3D%3D?line=1'>2</a>\u001b[0m \u001b[39mimport\u001b[39;00m \u001b[39mgensim\u001b[39;00m\n",
      "\u001b[1;31mModuleNotFoundError\u001b[0m: No module named 'gensim'"
     ]
    }
   ],
   "source": [
    "from gensim import corpora, models\n",
    "import gensim"
   ]
  },
  {
   "cell_type": "code",
   "execution_count": null,
   "id": "5da8cbe2-dc2f-495a-b8b5-983e296d9b1f",
   "metadata": {},
   "outputs": [],
   "source": [
    "dictionary = corpora.Dictionary(docs_stemmed)"
   ]
  },
  {
   "cell_type": "code",
   "execution_count": null,
   "id": "bde8095b-24a9-49c7-8f10-a224696616e9",
   "metadata": {},
   "outputs": [],
   "source": [
    "len(dictionary)"
   ]
  },
  {
   "cell_type": "code",
   "execution_count": null,
   "id": "6c28ea8a-5962-49e1-aa9d-2f14900865ee",
   "metadata": {},
   "outputs": [],
   "source": [
    "dictionary.filter_extremes(no_below=10, no_above=0.5)\n",
    "# could also trim with keep_n=1000 or similar to keep only the top words"
   ]
  },
  {
   "cell_type": "code",
   "execution_count": null,
   "id": "d0932895-df99-4a9b-be70-039fdc2a50ae",
   "metadata": {},
   "outputs": [],
   "source": [
    "len(dictionary)"
   ]
  },
  {
   "cell_type": "code",
   "execution_count": null,
   "id": "0d17faa4-eca1-4647-a0f7-66163435e2b4",
   "metadata": {
    "tags": []
   },
   "outputs": [],
   "source": [
    "print(dictionary.token2id)"
   ]
  },
  {
   "cell_type": "code",
   "execution_count": null,
   "id": "679a4c55-b149-47c6-ac03-8d007b2e7e37",
   "metadata": {},
   "outputs": [],
   "source": [
    "print(dictionary.token2id['patient'])"
   ]
  },
  {
   "cell_type": "code",
   "execution_count": null,
   "id": "8b986523-2eb2-4555-935a-5de37eb9f84a",
   "metadata": {},
   "outputs": [],
   "source": [
    "dictionary[1668]"
   ]
  },
  {
   "cell_type": "code",
   "execution_count": null,
   "id": "2aa8266d-bb5d-4626-95a1-91d2df9dd084",
   "metadata": {},
   "outputs": [],
   "source": [
    "corpus = [dictionary.doc2bow(text) for text in docs_stemmed]"
   ]
  },
  {
   "cell_type": "code",
   "execution_count": null,
   "id": "5383fd9b-0267-4d5c-ab54-eb06e8c082bc",
   "metadata": {},
   "outputs": [],
   "source": [
    "print(corpus[30])"
   ]
  },
  {
   "cell_type": "code",
   "execution_count": null,
   "id": "ac1baa1f-ba7d-4242-bec7-0d95fb484e8e",
   "metadata": {},
   "outputs": [],
   "source": [
    "dictionary[276]"
   ]
  },
  {
   "cell_type": "code",
   "execution_count": null,
   "id": "6de5415e-1ef5-477c-b7a2-5ce47d6e4e36",
   "metadata": {
    "tags": []
   },
   "outputs": [],
   "source": [
    "docs_stemmed[30]"
   ]
  },
  {
   "cell_type": "code",
   "execution_count": null,
   "id": "284854d0-92a4-482e-937e-904e93e21be7",
   "metadata": {},
   "outputs": [],
   "source": [
    "wordid = corpus[30][0]\n",
    "print(dictionary[wordid[0]],wordid[1])"
   ]
  },
  {
   "cell_type": "code",
   "execution_count": null,
   "id": "ba5282e3-5ec2-47d0-b5b6-2875af2e5360",
   "metadata": {
    "tags": []
   },
   "outputs": [],
   "source": [
    "for i in corpus[30]:\n",
    "    print(dictionary[i[0]], i[1])"
   ]
  },
  {
   "cell_type": "code",
   "execution_count": null,
   "id": "f364d19a-d545-485b-bb5b-25be3cfba874",
   "metadata": {},
   "outputs": [],
   "source": [
    "ldamodel = gensim.models.ldamodel.LdaModel(corpus, \n",
    "                                           num_topics=20, \n",
    "                                           id2word = dictionary, \n",
    "                                           passes=5)"
   ]
  },
  {
   "cell_type": "code",
   "execution_count": null,
   "id": "01662301-327f-421a-9908-83ab0c969cee",
   "metadata": {},
   "outputs": [],
   "source": [
    "ldamodel.show_topics(num_topics=20)"
   ]
  },
  {
   "cell_type": "code",
   "execution_count": null,
   "id": "34abdd71-d58e-447b-a5c1-94e91090ed73",
   "metadata": {},
   "outputs": [],
   "source": [
    "for i in ldamodel.print_topics(num_topics=20, num_words=20):\n",
    "    print(i[0])\n",
    "    print(i[1])\n",
    "    print('\\n')"
   ]
  },
  {
   "cell_type": "code",
   "execution_count": null,
   "id": "75d701e5-1f5f-484e-bdd1-7bb2e5ab634a",
   "metadata": {},
   "outputs": [],
   "source": [
    "data.target_names"
   ]
  },
  {
   "cell_type": "code",
   "execution_count": null,
   "id": "5f68fcae-e88b-4759-bf47-393a9577f037",
   "metadata": {},
   "outputs": [],
   "source": [
    "import matplotlib.pyplot as plt\n",
    "import re"
   ]
  },
  {
   "cell_type": "code",
   "execution_count": null,
   "id": "9e75458a-89a5-4535-83b0-bcfcdf8472b5",
   "metadata": {},
   "outputs": [],
   "source": [
    "re.split(re.escape(' + ') + '|' + re.escape('*'), 'hi + me*4')"
   ]
  },
  {
   "cell_type": "code",
   "execution_count": null,
   "id": "190467bd-c55d-43e2-96f1-4026e4a346e0",
   "metadata": {},
   "outputs": [],
   "source": [
    "fig,ax = plt.subplots(5,4,figsize=(15,20))\n",
    "ax = ax.flatten()\n",
    "for i in ldamodel.print_topics(num_topics=20, num_words=20):\n",
    "    x = []\n",
    "    y = []\n",
    "    count = 0\n",
    "    for j in re.split(re.escape(' + ') + '|' + re.escape('*'), i[1]):\n",
    "        if count % 2 == 0:\n",
    "            y.insert(0,float(j))\n",
    "        else:\n",
    "            x.insert(0,j)\n",
    "        count += 1\n",
    "    ax[i[0]].barh(x,y,height=0.5)\n",
    "plt.tight_layout()"
   ]
  },
  {
   "cell_type": "markdown",
   "id": "7b67a169-d4ed-438d-ac19-d3f7302beb73",
   "metadata": {},
   "source": [
    "# TF-IDF (Term Frequency Inverse Document Frequency)\n",
    "\n",
    "TF-IDF is similar to bag-of-words, but it down weights words appearing frequently across lots of documents."
   ]
  },
  {
   "cell_type": "code",
   "execution_count": null,
   "id": "3416752c-d9ac-455b-b982-ddc7cce0923a",
   "metadata": {},
   "outputs": [],
   "source": [
    "#Initialize the model\n",
    "tfidf = gensim.models.TfidfModel(corpus)"
   ]
  },
  {
   "cell_type": "code",
   "execution_count": null,
   "id": "a3d709d9-a14c-408e-b2e1-67d82583e45b",
   "metadata": {
    "tags": []
   },
   "outputs": [],
   "source": [
    "corpus[30]"
   ]
  },
  {
   "cell_type": "code",
   "execution_count": null,
   "id": "2fc23d80-e01c-40cd-964c-2aa077283263",
   "metadata": {
    "tags": []
   },
   "outputs": [],
   "source": [
    "# apply transformation\n",
    "tfidf[corpus[30]]"
   ]
  },
  {
   "cell_type": "code",
   "execution_count": null,
   "id": "7a6056c0-7920-47fc-a533-9bc99e2eb4d2",
   "metadata": {},
   "outputs": [],
   "source": [
    "corpus_transformed = tfidf[corpus]"
   ]
  },
  {
   "cell_type": "code",
   "execution_count": null,
   "id": "da4e8ef0-9314-4eae-9827-e155bbdcb4c0",
   "metadata": {
    "tags": []
   },
   "outputs": [],
   "source": [
    "corpus_transformed[30]"
   ]
  },
  {
   "cell_type": "code",
   "execution_count": null,
   "id": "287fdb77-fab9-46b2-8e21-d0a315adff8b",
   "metadata": {},
   "outputs": [],
   "source": [
    "ldamodel_tfidf = gensim.models.ldamodel.LdaModel(corpus_transformed, \n",
    "                                           num_topics=20, \n",
    "                                           id2word = dictionary, \n",
    "                                           passes=5)"
   ]
  },
  {
   "cell_type": "code",
   "execution_count": null,
   "id": "7e572e6e-13cb-4e07-a360-ede842fd5d9c",
   "metadata": {},
   "outputs": [],
   "source": [
    "for i in ldamodel_tfidf.print_topics(num_topics=20, num_words=20):\n",
    "    print(i[0])\n",
    "    print(i[1])\n",
    "    print('\\n')"
   ]
  },
  {
   "cell_type": "code",
   "execution_count": null,
   "id": "649a45f0-4dec-4241-a167-24ac08a912fb",
   "metadata": {},
   "outputs": [],
   "source": [
    "fig,ax = plt.subplots(5,4,figsize=(15,20))\n",
    "ax = ax.flatten()\n",
    "for i in ldamodel_tfidf.print_topics(num_topics=20, num_words=20):\n",
    "    x = []\n",
    "    y = []\n",
    "    count = 0\n",
    "    for j in re.split(re.escape(' + ') + '|' + re.escape('*'), i[1]):\n",
    "        if count % 2 == 0:\n",
    "            y.insert(0,float(j))\n",
    "        else:\n",
    "            x.insert(0,j)\n",
    "        count += 1\n",
    "    ax[i[0]].barh(x,y,height=0.5)\n",
    "plt.tight_layout()"
   ]
  },
  {
   "cell_type": "code",
   "execution_count": null,
   "id": "10f83ec3-5c07-497d-b10f-4dd76c3eef16",
   "metadata": {},
   "outputs": [],
   "source": []
  }
 ],
 "metadata": {
  "kernelspec": {
   "display_name": "Python 3.9.13 ('geoprj')",
   "language": "python",
   "name": "python3"
  },
  "language_info": {
   "codemirror_mode": {
    "name": "ipython",
    "version": 3
   },
   "file_extension": ".py",
   "mimetype": "text/x-python",
   "name": "python",
   "nbconvert_exporter": "python",
   "pygments_lexer": "ipython3",
   "version": "3.9.13"
  },
  "vscode": {
   "interpreter": {
    "hash": "23234625f55973f7a58126a35d86facfdbb1213f4cf262be4a4984331c60271a"
   }
  }
 },
 "nbformat": 4,
 "nbformat_minor": 5
}
