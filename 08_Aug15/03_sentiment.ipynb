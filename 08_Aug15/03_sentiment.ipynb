{
 "cells": [
  {
   "cell_type": "markdown",
   "id": "b469de05-cc72-4ef5-bb6f-cbb65d155aa9",
   "metadata": {},
   "source": [
    "# Sentiment and Classification"
   ]
  },
  {
   "cell_type": "markdown",
   "id": "7be77db3-0ce7-471b-a5d2-0e89abf72168",
   "metadata": {},
   "source": [
    "For sentiment, we will look at VADER and NLTK's Sentiwordnet.\n",
    "\n",
    "* \"VADER (Valence Aware Dictionary and sEntiment Reasoner) is a lexicon and rule-based sentiment analysis tool that is specifically attuned to sentiments expressed in social media.\"\n",
    "  * https://github.com/cjhutto/vaderSentiment\n",
    "  * nice example: https://rstudio-pubs-static.s3.amazonaws.com/79360_850b2a69980c4488b1db95987a24867a.html\n",
    "  \n",
    "* Sentiwordnet is a part of the NLTK library that includes sentiment scores for words on top of the information provided by wordnet.\n",
    "  * https://www.nltk.org/howto/sentiwordnet.html"
   ]
  },
  {
   "cell_type": "markdown",
   "id": "0609e1ea-e96c-4eaf-8d45-cc1e27e93d0f",
   "metadata": {},
   "source": [
    "## VADER"
   ]
  },
  {
   "cell_type": "code",
   "execution_count": 1,
   "id": "5de7c903-55f3-4a9a-96e7-38cd17271ce1",
   "metadata": {},
   "outputs": [
    {
     "name": "stderr",
     "output_type": "stream",
     "text": [
      "[nltk_data] Downloading package vader_lexicon to\n",
      "[nltk_data]     c:\\Users\\chief\\.conda\\envs\\geoprj\\lib\\nltk_data...\n",
      "[nltk_data]   Package vader_lexicon is already up-to-date!\n",
      "[nltk_data] Downloading package stopwords to\n",
      "[nltk_data]     c:\\Users\\chief\\.conda\\envs\\geoprj\\lib\\nltk_data...\n",
      "[nltk_data]   Package stopwords is already up-to-date!\n"
     ]
    },
    {
     "data": {
      "text/plain": [
       "True"
      ]
     },
     "execution_count": 1,
     "metadata": {},
     "output_type": "execute_result"
    }
   ],
   "source": [
    "import nltk\n",
    "from nltk.sentiment import vader\n",
    "nltk.download('vader_lexicon')\n",
    "nltk.download('stopwords')"
   ]
  },
  {
   "cell_type": "code",
   "execution_count": 2,
   "id": "8d539b3e-35fb-4f6a-880d-d93d54c79065",
   "metadata": {},
   "outputs": [],
   "source": [
    "sia = vader.SentimentIntensityAnalyzer()"
   ]
  },
  {
   "cell_type": "code",
   "execution_count": 3,
   "id": "8b22e539-160e-408b-affa-aa224743f7b7",
   "metadata": {},
   "outputs": [
    {
     "data": {
      "text/plain": [
       "{'neg': 0.0, 'neu': 1.0, 'pos': 0.0, 'compound': 0.0}"
      ]
     },
     "execution_count": 3,
     "metadata": {},
     "output_type": "execute_result"
    }
   ],
   "source": [
    "sia.polarity_scores('Luke, I am your father.')"
   ]
  },
  {
   "cell_type": "code",
   "execution_count": 4,
   "id": "ca8153d0-a7d4-4e15-96df-a2ee7d3ff819",
   "metadata": {},
   "outputs": [
    {
     "data": {
      "text/plain": [
       "{'neg': 0.0, 'neu': 1.0, 'pos': 0.0, 'compound': 0.0}"
      ]
     },
     "execution_count": 4,
     "metadata": {},
     "output_type": "execute_result"
    }
   ],
   "source": [
    "sia.polarity_scores('NO!!!!!!')"
   ]
  },
  {
   "cell_type": "code",
   "execution_count": 5,
   "id": "f766b61c-4954-4542-ba9f-8a1517e5c1f8",
   "metadata": {},
   "outputs": [
    {
     "data": {
      "text/plain": [
       "{'neg': 0.787, 'neu': 0.213, 'pos': 0.0, 'compound': -0.5719}"
      ]
     },
     "execution_count": 5,
     "metadata": {},
     "output_type": "execute_result"
    }
   ],
   "source": [
    "sia.polarity_scores('I hate you.')"
   ]
  },
  {
   "cell_type": "code",
   "execution_count": 6,
   "id": "a1dd71cf-217a-46ae-a6e1-009ad6adb93d",
   "metadata": {},
   "outputs": [
    {
     "data": {
      "text/plain": [
       "{'neg': 0.816, 'neu': 0.184, 'pos': 0.0, 'compound': -0.6633}"
      ]
     },
     "execution_count": 6,
     "metadata": {},
     "output_type": "execute_result"
    }
   ],
   "source": [
    "sia.polarity_scores('I HATE you.')"
   ]
  },
  {
   "cell_type": "code",
   "execution_count": 7,
   "id": "6d2951e5-3d31-432d-af9c-fba5233e3855",
   "metadata": {},
   "outputs": [
    {
     "data": {
      "text/plain": [
       "{'neg': 0.849, 'neu': 0.151, 'pos': 0.0, 'compound': -0.765}"
      ]
     },
     "execution_count": 7,
     "metadata": {},
     "output_type": "execute_result"
    }
   ],
   "source": [
    "sia.polarity_scores('I HATE you!!!!')"
   ]
  },
  {
   "cell_type": "code",
   "execution_count": 8,
   "id": "68b3a5de-7d04-4dd4-99d7-d01a59e10fdc",
   "metadata": {},
   "outputs": [
    {
     "data": {
      "text/plain": [
       "{'neg': 0.0, 'neu': 0.444, 'pos': 0.556, 'compound': 0.3612}"
      ]
     },
     "execution_count": 8,
     "metadata": {},
     "output_type": "execute_result"
    }
   ],
   "source": [
    "sia.polarity_scores('Thank you Dad')"
   ]
  },
  {
   "cell_type": "markdown",
   "id": "09d534e5-87e8-4a39-8e8b-d9b630dac246",
   "metadata": {},
   "source": [
    "Try typing in a couple sentences to explore polarity scores"
   ]
  },
  {
   "cell_type": "code",
   "execution_count": null,
   "id": "e39dfdde-dd16-4525-90b7-51e89ea8134a",
   "metadata": {},
   "outputs": [],
   "source": []
  },
  {
   "cell_type": "markdown",
   "id": "fbe442e1-7b1c-4bd7-aee2-23a9746f7c82",
   "metadata": {},
   "source": [
    "sia.polarity_scores(':D')"
   ]
  },
  {
   "cell_type": "code",
   "execution_count": 9,
   "id": "1aae029d-df16-49dc-bc80-e2c14fcf982d",
   "metadata": {},
   "outputs": [
    {
     "data": {
      "text/plain": [
       "{'neg': 0.0, 'neu': 0.0, 'pos': 1.0, 'compound': 0.5106}"
      ]
     },
     "execution_count": 9,
     "metadata": {},
     "output_type": "execute_result"
    }
   ],
   "source": [
    "sia.polarity_scores(':D')"
   ]
  },
  {
   "cell_type": "code",
   "execution_count": 10,
   "id": "4892e59d-cb4b-464d-8fba-3defa42b954c",
   "metadata": {},
   "outputs": [
    {
     "data": {
      "text/plain": [
       "{'neg': 1.0, 'neu': 0.0, 'pos': 0.0, 'compound': -0.4404}"
      ]
     },
     "execution_count": 10,
     "metadata": {},
     "output_type": "execute_result"
    }
   ],
   "source": [
    "sia.polarity_scores(':(')"
   ]
  },
  {
   "cell_type": "code",
   "execution_count": 11,
   "id": "cb782224-9375-4146-a447-9762ccac6ffa",
   "metadata": {},
   "outputs": [
    {
     "data": {
      "text/plain": [
       "{'neg': 1.0, 'neu': 0.0, 'pos': 0.0, 'compound': -0.5719}"
      ]
     },
     "execution_count": 11,
     "metadata": {},
     "output_type": "execute_result"
    }
   ],
   "source": [
    "sia.polarity_scores('>:(')"
   ]
  },
  {
   "cell_type": "markdown",
   "id": "82698a31-c951-46d6-8a41-7c93904f7b8a",
   "metadata": {},
   "source": [
    "Negation"
   ]
  },
  {
   "cell_type": "code",
   "execution_count": 12,
   "id": "795e7e3e-4eca-443e-8d44-1d43f1141c92",
   "metadata": {},
   "outputs": [
    {
     "data": {
      "text/plain": [
       "{'neg': 0.0, 'neu': 0.4, 'pos': 0.6, 'compound': 0.4585}"
      ]
     },
     "execution_count": 12,
     "metadata": {},
     "output_type": "execute_result"
    }
   ],
   "source": [
    "sia.polarity_scores(\"I don't hate you\")"
   ]
  },
  {
   "cell_type": "code",
   "execution_count": 13,
   "id": "00f9f15f-256b-4381-bfd5-0fc5b7744f51",
   "metadata": {},
   "outputs": [
    {
     "data": {
      "text/plain": [
       "{'neg': 0.0, 'neu': 0.522, 'pos': 0.478, 'compound': 0.4122}"
      ]
     },
     "execution_count": 13,
     "metadata": {},
     "output_type": "execute_result"
    }
   ],
   "source": [
    "sia.polarity_scores(\"I don't not love you\")"
   ]
  },
  {
   "cell_type": "code",
   "execution_count": 14,
   "id": "270a909c-2233-478e-ae12-88a607f63b4b",
   "metadata": {},
   "outputs": [
    {
     "data": {
      "text/plain": [
       "{'neg': 0.0, 'neu': 0.192, 'pos': 0.808, 'compound': 0.6369}"
      ]
     },
     "execution_count": 14,
     "metadata": {},
     "output_type": "execute_result"
    }
   ],
   "source": [
    "sia.polarity_scores(\"I love you\")"
   ]
  },
  {
   "cell_type": "code",
   "execution_count": 15,
   "id": "1844741a-0ebd-49f7-959d-c86c091879ab",
   "metadata": {},
   "outputs": [
    {
     "data": {
      "text/plain": [
       "{'neg': 0.0, 'neu': 0.169, 'pos': 0.831, 'compound': 0.7125}"
      ]
     },
     "execution_count": 15,
     "metadata": {},
     "output_type": "execute_result"
    }
   ],
   "source": [
    "sia.polarity_scores(\"I LOVE you\")"
   ]
  },
  {
   "cell_type": "code",
   "execution_count": 16,
   "id": "58352a96-85a7-44f1-960d-0644d8ffcb0b",
   "metadata": {},
   "outputs": [
    {
     "data": {
      "text/plain": [
       "{'neg': 0.0, 'neu': 0.308, 'pos': 0.692, 'compound': 0.6697}"
      ]
     },
     "execution_count": 16,
     "metadata": {},
     "output_type": "execute_result"
    }
   ],
   "source": [
    "sia.polarity_scores(\"I really love you\")"
   ]
  },
  {
   "cell_type": "code",
   "execution_count": 17,
   "id": "6bce382e-f835-409c-a863-f54a638dada7",
   "metadata": {},
   "outputs": [
    {
     "data": {
      "text/plain": [
       "{'neg': 0.0, 'neu': 0.488, 'pos': 0.512, 'compound': 0.6369}"
      ]
     },
     "execution_count": 17,
     "metadata": {},
     "output_type": "execute_result"
    }
   ],
   "source": [
    "sia.polarity_scores(\"I am in love with you\")"
   ]
  },
  {
   "cell_type": "code",
   "execution_count": 18,
   "id": "44350d97-d710-4242-9902-437095bef368",
   "metadata": {},
   "outputs": [
    {
     "data": {
      "text/plain": [
       "{'neg': 0.0, 'neu': 0.528, 'pos': 0.472, 'compound': 0.6682}"
      ]
     },
     "execution_count": 18,
     "metadata": {},
     "output_type": "execute_result"
    }
   ],
   "source": [
    "sia.polarity_scores(\"I am so in love with you\")"
   ]
  },
  {
   "cell_type": "markdown",
   "id": "696d5094-d82c-489e-a71b-c8d4ab1db48a",
   "metadata": {},
   "source": [
    "Contrast"
   ]
  },
  {
   "cell_type": "code",
   "execution_count": 19,
   "id": "d0f3020e-954e-49b7-aff9-3d097bd1caf2",
   "metadata": {},
   "outputs": [
    {
     "data": {
      "text/plain": [
       "{'neg': 0.201, 'neu': 0.342, 'pos': 0.457, 'compound': 0.6124}"
      ]
     },
     "execution_count": 19,
     "metadata": {},
     "output_type": "execute_result"
    }
   ],
   "source": [
    "sia.polarity_scores(\"I usually hate shrimp but I loved this\")"
   ]
  },
  {
   "cell_type": "markdown",
   "id": "8c037ced-16cc-4e9c-9bcf-fab42e7ec0a3",
   "metadata": {},
   "source": [
    "The part after the but takes precendence"
   ]
  },
  {
   "cell_type": "code",
   "execution_count": 20,
   "id": "bc71d581-078a-471d-b26c-82b75edb7feb",
   "metadata": {},
   "outputs": [
    {
     "data": {
      "text/plain": [
       "{'neg': 0.319, 'neu': 0.345, 'pos': 0.336, 'compound': 0.0516}"
      ]
     },
     "execution_count": 20,
     "metadata": {},
     "output_type": "execute_result"
    }
   ],
   "source": [
    "sia.polarity_scores(\"I usually hate shrimp and I loved this\")"
   ]
  },
  {
   "cell_type": "code",
   "execution_count": 21,
   "id": "50a31387-3637-4b21-91c7-8b0e2a530fcf",
   "metadata": {},
   "outputs": [
    {
     "data": {
      "text/plain": [
       "{'neg': 0.352, 'neu': 0.381, 'pos': 0.267, 'compound': -0.2263}"
      ]
     },
     "execution_count": 21,
     "metadata": {},
     "output_type": "execute_result"
    }
   ],
   "source": [
    "sia.polarity_scores(\"I usually hate shrimp and I liked this\")"
   ]
  },
  {
   "cell_type": "markdown",
   "id": "e848a7b9-4330-4304-8b7d-857d4c84085d",
   "metadata": {},
   "source": [
    "## Cornell's movie data reviews\n",
    "\n",
    "https://www.cs.cornell.edu/people/pabo/movie-review-data/"
   ]
  },
  {
   "cell_type": "code",
   "execution_count": 22,
   "id": "c80cfb8b-af16-4f72-a946-b15a76760712",
   "metadata": {},
   "outputs": [],
   "source": [
    "# Open the data files\n",
    "# read the lines of the files\n",
    "# and for every line, convert it into an ASCII string\n",
    "\n",
    "with open('rt-polaritydata/rt-polarity.neg','rb') as f:\n",
    "    negReviews = f.readlines()\n",
    "    for i in range(len(negReviews)):\n",
    "        negReviews[i] = str(negReviews[i], 'ascii', errors='ignore')\n",
    "        \n",
    "with open('rt-polaritydata/rt-polarity.pos','rb') as f:\n",
    "    posReviews = f.readlines()\n",
    "    for i in range(len(posReviews)):\n",
    "        posReviews[i] = str(posReviews[i], 'ascii', errors='ignore')"
   ]
  },
  {
   "cell_type": "markdown",
   "id": "1fd76208-c301-428e-ae49-2cb0a64d13ac",
   "metadata": {},
   "source": [
    "We'll work with the data in Pandas.\n",
    "\n",
    "1. put the data into dataframes\n",
    "2. add a column for polarity scores\n",
    "3. concatenate the positive and negative reviews together into one collective dataframe"
   ]
  },
  {
   "cell_type": "code",
   "execution_count": 23,
   "id": "7e46343c-2be9-4831-ae2b-95647e0a5b20",
   "metadata": {},
   "outputs": [],
   "source": [
    "import pandas as pd"
   ]
  },
  {
   "cell_type": "code",
   "execution_count": 24,
   "id": "349c63bb-7dc1-4d30-ab28-e89d2604fb2c",
   "metadata": {},
   "outputs": [],
   "source": [
    "dfpos = pd.DataFrame({'Review':posReviews, 'Polarity':1})\n",
    "dfneg = pd.DataFrame({'Review':negReviews, 'Polarity':-1})"
   ]
  },
  {
   "cell_type": "code",
   "execution_count": 25,
   "id": "b84e9ff2-cbe5-4fa9-86ae-ac608299a3a3",
   "metadata": {},
   "outputs": [
    {
     "data": {
      "text/html": [
       "<div>\n",
       "<style scoped>\n",
       "    .dataframe tbody tr th:only-of-type {\n",
       "        vertical-align: middle;\n",
       "    }\n",
       "\n",
       "    .dataframe tbody tr th {\n",
       "        vertical-align: top;\n",
       "    }\n",
       "\n",
       "    .dataframe thead th {\n",
       "        text-align: right;\n",
       "    }\n",
       "</style>\n",
       "<table border=\"1\" class=\"dataframe\">\n",
       "  <thead>\n",
       "    <tr style=\"text-align: right;\">\n",
       "      <th></th>\n",
       "      <th>Review</th>\n",
       "      <th>Polarity</th>\n",
       "    </tr>\n",
       "  </thead>\n",
       "  <tbody>\n",
       "    <tr>\n",
       "      <th>0</th>\n",
       "      <td>the rock is destined to be the 21st century's ...</td>\n",
       "      <td>1</td>\n",
       "    </tr>\n",
       "    <tr>\n",
       "      <th>1</th>\n",
       "      <td>the gorgeously elaborate continuation of \" the...</td>\n",
       "      <td>1</td>\n",
       "    </tr>\n",
       "    <tr>\n",
       "      <th>2</th>\n",
       "      <td>effective but too-tepid biopic\\r\\n</td>\n",
       "      <td>1</td>\n",
       "    </tr>\n",
       "    <tr>\n",
       "      <th>3</th>\n",
       "      <td>if you sometimes like to go to the movies to h...</td>\n",
       "      <td>1</td>\n",
       "    </tr>\n",
       "    <tr>\n",
       "      <th>4</th>\n",
       "      <td>emerges as something rare , an issue movie tha...</td>\n",
       "      <td>1</td>\n",
       "    </tr>\n",
       "  </tbody>\n",
       "</table>\n",
       "</div>"
      ],
      "text/plain": [
       "                                              Review  Polarity\n",
       "0  the rock is destined to be the 21st century's ...         1\n",
       "1  the gorgeously elaborate continuation of \" the...         1\n",
       "2                 effective but too-tepid biopic\\r\\n         1\n",
       "3  if you sometimes like to go to the movies to h...         1\n",
       "4  emerges as something rare , an issue movie tha...         1"
      ]
     },
     "execution_count": 25,
     "metadata": {},
     "output_type": "execute_result"
    }
   ],
   "source": [
    "dfpos.head()"
   ]
  },
  {
   "cell_type": "code",
   "execution_count": 26,
   "id": "582859d0-24d6-4e6f-ba34-6325e39a28a6",
   "metadata": {},
   "outputs": [],
   "source": [
    "dfall = pd.concat([dfpos,dfneg], ignore_index=True)"
   ]
  },
  {
   "cell_type": "markdown",
   "id": "d0f6f91c-6a00-4aaf-a19e-275e6bee4a72",
   "metadata": {},
   "source": [
    "Let's look at a couple example entries."
   ]
  },
  {
   "cell_type": "code",
   "execution_count": 27,
   "id": "a36b4def-b355-4d0d-9534-ed1fa4f3e052",
   "metadata": {},
   "outputs": [
    {
     "data": {
      "text/html": [
       "<div>\n",
       "<style scoped>\n",
       "    .dataframe tbody tr th:only-of-type {\n",
       "        vertical-align: middle;\n",
       "    }\n",
       "\n",
       "    .dataframe tbody tr th {\n",
       "        vertical-align: top;\n",
       "    }\n",
       "\n",
       "    .dataframe thead th {\n",
       "        text-align: right;\n",
       "    }\n",
       "</style>\n",
       "<table border=\"1\" class=\"dataframe\">\n",
       "  <thead>\n",
       "    <tr style=\"text-align: right;\">\n",
       "      <th></th>\n",
       "      <th>Review</th>\n",
       "      <th>Polarity</th>\n",
       "    </tr>\n",
       "  </thead>\n",
       "  <tbody>\n",
       "    <tr>\n",
       "      <th>0</th>\n",
       "      <td>the rock is destined to be the 21st century's ...</td>\n",
       "      <td>1</td>\n",
       "    </tr>\n",
       "    <tr>\n",
       "      <th>1</th>\n",
       "      <td>the gorgeously elaborate continuation of \" the...</td>\n",
       "      <td>1</td>\n",
       "    </tr>\n",
       "    <tr>\n",
       "      <th>2</th>\n",
       "      <td>effective but too-tepid biopic\\r\\n</td>\n",
       "      <td>1</td>\n",
       "    </tr>\n",
       "    <tr>\n",
       "      <th>3</th>\n",
       "      <td>if you sometimes like to go to the movies to h...</td>\n",
       "      <td>1</td>\n",
       "    </tr>\n",
       "    <tr>\n",
       "      <th>4</th>\n",
       "      <td>emerges as something rare , an issue movie tha...</td>\n",
       "      <td>1</td>\n",
       "    </tr>\n",
       "  </tbody>\n",
       "</table>\n",
       "</div>"
      ],
      "text/plain": [
       "                                              Review  Polarity\n",
       "0  the rock is destined to be the 21st century's ...         1\n",
       "1  the gorgeously elaborate continuation of \" the...         1\n",
       "2                 effective but too-tepid biopic\\r\\n         1\n",
       "3  if you sometimes like to go to the movies to h...         1\n",
       "4  emerges as something rare , an issue movie tha...         1"
      ]
     },
     "execution_count": 27,
     "metadata": {},
     "output_type": "execute_result"
    }
   ],
   "source": [
    "dfall.head()"
   ]
  },
  {
   "cell_type": "code",
   "execution_count": 28,
   "id": "cf2b3e13-31ba-4651-8b70-1cfce1f1d252",
   "metadata": {},
   "outputs": [
    {
     "data": {
      "text/html": [
       "<div>\n",
       "<style scoped>\n",
       "    .dataframe tbody tr th:only-of-type {\n",
       "        vertical-align: middle;\n",
       "    }\n",
       "\n",
       "    .dataframe tbody tr th {\n",
       "        vertical-align: top;\n",
       "    }\n",
       "\n",
       "    .dataframe thead th {\n",
       "        text-align: right;\n",
       "    }\n",
       "</style>\n",
       "<table border=\"1\" class=\"dataframe\">\n",
       "  <thead>\n",
       "    <tr style=\"text-align: right;\">\n",
       "      <th></th>\n",
       "      <th>Review</th>\n",
       "      <th>Polarity</th>\n",
       "    </tr>\n",
       "  </thead>\n",
       "  <tbody>\n",
       "    <tr>\n",
       "      <th>10657</th>\n",
       "      <td>a terrible movie that some people will neverth...</td>\n",
       "      <td>-1</td>\n",
       "    </tr>\n",
       "    <tr>\n",
       "      <th>10658</th>\n",
       "      <td>there are many definitions of 'time waster' bu...</td>\n",
       "      <td>-1</td>\n",
       "    </tr>\n",
       "    <tr>\n",
       "      <th>10659</th>\n",
       "      <td>as it stands , crocodile hunter has the hurrie...</td>\n",
       "      <td>-1</td>\n",
       "    </tr>\n",
       "    <tr>\n",
       "      <th>10660</th>\n",
       "      <td>the thing looks like a made-for-home-video qui...</td>\n",
       "      <td>-1</td>\n",
       "    </tr>\n",
       "    <tr>\n",
       "      <th>10661</th>\n",
       "      <td>enigma is well-made , but it's just too dry an...</td>\n",
       "      <td>-1</td>\n",
       "    </tr>\n",
       "  </tbody>\n",
       "</table>\n",
       "</div>"
      ],
      "text/plain": [
       "                                                  Review  Polarity\n",
       "10657  a terrible movie that some people will neverth...        -1\n",
       "10658  there are many definitions of 'time waster' bu...        -1\n",
       "10659  as it stands , crocodile hunter has the hurrie...        -1\n",
       "10660  the thing looks like a made-for-home-video qui...        -1\n",
       "10661  enigma is well-made , but it's just too dry an...        -1"
      ]
     },
     "execution_count": 28,
     "metadata": {},
     "output_type": "execute_result"
    }
   ],
   "source": [
    "dfall.tail()"
   ]
  },
  {
   "cell_type": "markdown",
   "id": "e7f1b69f-1da0-4f6b-8100-6fbc78cf668d",
   "metadata": {},
   "source": [
    "Remember that `loc` is for indexing based on row and column labels, and that you can use Boolean indexing (i.e. you can use a true/false condition to retrieve specific rows or columns)."
   ]
  },
  {
   "cell_type": "code",
   "execution_count": 29,
   "id": "5f7f9442-bac1-4c57-a900-7a51bc17161a",
   "metadata": {
    "tags": []
   },
   "outputs": [
    {
     "data": {
      "text/plain": [
       "0       the rock is destined to be the 21st century's ...\n",
       "1       the gorgeously elaborate continuation of \" the...\n",
       "2                      effective but too-tepid biopic\\r\\n\n",
       "3       if you sometimes like to go to the movies to h...\n",
       "4       emerges as something rare , an issue movie tha...\n",
       "                              ...                        \n",
       "5326    both exuberantly romantic and serenely melanch...\n",
       "5327    mazel tov to a film about a family's joyous li...\n",
       "5328    standing in the shadows of motown is the best ...\n",
       "5329    it's nice to see piscopo again after all these...\n",
       "5330    provides a porthole into that noble , tremblin...\n",
       "Name: Review, Length: 5331, dtype: object"
      ]
     },
     "execution_count": 29,
     "metadata": {},
     "output_type": "execute_result"
    }
   ],
   "source": [
    "dfall.loc[dfall['Polarity']==1,'Review']"
   ]
  },
  {
   "cell_type": "code",
   "execution_count": 30,
   "id": "72092f7d-00f6-4f29-8baa-fa8fe79299f1",
   "metadata": {
    "tags": []
   },
   "outputs": [
    {
     "data": {
      "text/plain": [
       "5331                simplistic , silly and tedious . \\r\\n\n",
       "5332    it's so laddish and juvenile , only teenage bo...\n",
       "5333    exploitative and largely devoid of the depth o...\n",
       "5334    [garbus] discards the potential for pathologic...\n",
       "5335    a visually flashy but narratively opaque and e...\n",
       "Name: Review, dtype: object"
      ]
     },
     "execution_count": 30,
     "metadata": {},
     "output_type": "execute_result"
    }
   ],
   "source": [
    "dfall.loc[dfall['Polarity']==-1,'Review'][:5]"
   ]
  },
  {
   "cell_type": "markdown",
   "id": "80610af3-fafe-42a8-b28a-26b147ab279e",
   "metadata": {},
   "source": [
    "The following defines a function to return the Sentiment Intensity Analyzer's compound score for any review."
   ]
  },
  {
   "cell_type": "code",
   "execution_count": 31,
   "id": "580c3112-e8cb-4d2f-a38b-2571bcc2b2fb",
   "metadata": {},
   "outputs": [],
   "source": [
    "def getSentiment(review):\n",
    "    return sia.polarity_scores(review)['compound']"
   ]
  },
  {
   "cell_type": "code",
   "execution_count": 32,
   "id": "b8c5e4ad-fb09-419f-9251-452e502f354e",
   "metadata": {},
   "outputs": [],
   "source": [
    "# Test\n",
    "myreview = 'This movie tries to be Star Wars but fails miserably.'"
   ]
  },
  {
   "cell_type": "code",
   "execution_count": 33,
   "id": "aaeaa653-ec36-4066-958a-7615356e8b74",
   "metadata": {},
   "outputs": [
    {
     "data": {
      "text/plain": [
       "-0.8793"
      ]
     },
     "execution_count": 33,
     "metadata": {},
     "output_type": "execute_result"
    }
   ],
   "source": [
    "getSentiment(myreview)"
   ]
  },
  {
   "cell_type": "markdown",
   "id": "b6eef12a-b99f-4d56-a5cc-cac679cd0bb8",
   "metadata": {},
   "source": [
    "We're going to make a new list of the review scores from Vader.\n",
    "\n",
    "We'll use list comprehension to streamline this process."
   ]
  },
  {
   "cell_type": "code",
   "execution_count": 34,
   "id": "db9fba89-3fe5-4a42-8656-edb43c6f02a3",
   "metadata": {},
   "outputs": [
    {
     "data": {
      "text/plain": [
       "[1, 2, 3, 4]"
      ]
     },
     "execution_count": 34,
     "metadata": {},
     "output_type": "execute_result"
    }
   ],
   "source": [
    "# Example list comprehension\n",
    "[i for i in [1,2,3,4]]"
   ]
  },
  {
   "cell_type": "code",
   "execution_count": 35,
   "id": "a293330c-acbd-4916-8104-647bb995c521",
   "metadata": {},
   "outputs": [
    {
     "data": {
      "text/plain": [
       "[0, 1, 2, 3, 4]"
      ]
     },
     "execution_count": 35,
     "metadata": {},
     "output_type": "execute_result"
    }
   ],
   "source": [
    "[a for a in range(5)]"
   ]
  },
  {
   "cell_type": "code",
   "execution_count": 36,
   "id": "2bd90ace-71d0-4f32-b5c9-e6dd61267fc6",
   "metadata": {},
   "outputs": [
    {
     "data": {
      "text/plain": [
       "[6, 7, 8]"
      ]
     },
     "execution_count": 36,
     "metadata": {},
     "output_type": "execute_result"
    }
   ],
   "source": [
    "[x for x in [2,3,6,5,7,8,4] if x > 5]"
   ]
  },
  {
   "cell_type": "markdown",
   "id": "a4cfeb68-e328-4d9f-a511-3459979328ce",
   "metadata": {},
   "source": [
    "The following makes a list of Vader's review scores for every row of the dataframe `dfall` and adds the scores into a new column `VaderSentiment`"
   ]
  },
  {
   "cell_type": "code",
   "execution_count": 37,
   "id": "8903f397-5867-4319-8f98-24ce54decd81",
   "metadata": {},
   "outputs": [],
   "source": [
    "dfall['VaderSentiment'] = [getSentiment(review) for review in dfall['Review']]"
   ]
  },
  {
   "cell_type": "code",
   "execution_count": 38,
   "id": "810dc7ec-3ab5-4c40-b7f2-57307779ff80",
   "metadata": {},
   "outputs": [
    {
     "data": {
      "text/html": [
       "<div>\n",
       "<style scoped>\n",
       "    .dataframe tbody tr th:only-of-type {\n",
       "        vertical-align: middle;\n",
       "    }\n",
       "\n",
       "    .dataframe tbody tr th {\n",
       "        vertical-align: top;\n",
       "    }\n",
       "\n",
       "    .dataframe thead th {\n",
       "        text-align: right;\n",
       "    }\n",
       "</style>\n",
       "<table border=\"1\" class=\"dataframe\">\n",
       "  <thead>\n",
       "    <tr style=\"text-align: right;\">\n",
       "      <th></th>\n",
       "      <th>Review</th>\n",
       "      <th>Polarity</th>\n",
       "      <th>VaderSentiment</th>\n",
       "    </tr>\n",
       "  </thead>\n",
       "  <tbody>\n",
       "    <tr>\n",
       "      <th>0</th>\n",
       "      <td>the rock is destined to be the 21st century's ...</td>\n",
       "      <td>1</td>\n",
       "      <td>0.3612</td>\n",
       "    </tr>\n",
       "    <tr>\n",
       "      <th>1</th>\n",
       "      <td>the gorgeously elaborate continuation of \" the...</td>\n",
       "      <td>1</td>\n",
       "      <td>0.8069</td>\n",
       "    </tr>\n",
       "    <tr>\n",
       "      <th>2</th>\n",
       "      <td>effective but too-tepid biopic\\r\\n</td>\n",
       "      <td>1</td>\n",
       "      <td>0.2617</td>\n",
       "    </tr>\n",
       "    <tr>\n",
       "      <th>3</th>\n",
       "      <td>if you sometimes like to go to the movies to h...</td>\n",
       "      <td>1</td>\n",
       "      <td>0.8271</td>\n",
       "    </tr>\n",
       "    <tr>\n",
       "      <th>4</th>\n",
       "      <td>emerges as something rare , an issue movie tha...</td>\n",
       "      <td>1</td>\n",
       "      <td>0.6592</td>\n",
       "    </tr>\n",
       "  </tbody>\n",
       "</table>\n",
       "</div>"
      ],
      "text/plain": [
       "                                              Review  Polarity  VaderSentiment\n",
       "0  the rock is destined to be the 21st century's ...         1          0.3612\n",
       "1  the gorgeously elaborate continuation of \" the...         1          0.8069\n",
       "2                 effective but too-tepid biopic\\r\\n         1          0.2617\n",
       "3  if you sometimes like to go to the movies to h...         1          0.8271\n",
       "4  emerges as something rare , an issue movie tha...         1          0.6592"
      ]
     },
     "execution_count": 38,
     "metadata": {},
     "output_type": "execute_result"
    }
   ],
   "source": [
    "dfall.head()"
   ]
  },
  {
   "cell_type": "markdown",
   "id": "8562a817-43b6-432c-81ac-3fcf8d9ac837",
   "metadata": {},
   "source": [
    "Count the number of rows where Polarity = 1 and Vader Sentiment is > 0 (that is, where Vader would classify the sentiment as being positive)."
   ]
  },
  {
   "cell_type": "code",
   "execution_count": 39,
   "id": "c56e88cc-88ff-451b-89d9-5b3f0e0ae726",
   "metadata": {},
   "outputs": [
    {
     "data": {
      "text/plain": [
       "3704"
      ]
     },
     "execution_count": 39,
     "metadata": {},
     "output_type": "execute_result"
    }
   ],
   "source": [
    "dfall.loc[(dfall['Polarity']==1) & (dfall['VaderSentiment']>0),'Review'].count()"
   ]
  },
  {
   "cell_type": "markdown",
   "id": "6b55601a-edc2-404f-a832-eedf03078b15",
   "metadata": {},
   "source": [
    "We can quantify the percentage correctly classified by Vader as positive."
   ]
  },
  {
   "cell_type": "code",
   "execution_count": 40,
   "id": "fc15a9fe-3a63-48f5-8c1e-8524dfd57f20",
   "metadata": {},
   "outputs": [
    {
     "data": {
      "text/plain": [
       "0.6948039767398236"
      ]
     },
     "execution_count": 40,
     "metadata": {},
     "output_type": "execute_result"
    }
   ],
   "source": [
    "correct = dfall.loc[(dfall['Polarity']==1) & (dfall['VaderSentiment']>0),'Review'].count()\n",
    "total = dfall.loc[(dfall['Polarity']==1),'Review'].count()\n",
    "correct/total"
   ]
  },
  {
   "cell_type": "markdown",
   "id": "7938a0d9-003e-4729-9818-e50d54b72a33",
   "metadata": {},
   "source": [
    "And the percentage correctly classified as negative."
   ]
  },
  {
   "cell_type": "code",
   "execution_count": 41,
   "id": "7beb7700-3764-44ac-8a3b-322021b33936",
   "metadata": {},
   "outputs": [
    {
     "data": {
      "text/plain": [
       "0.40142562371037327"
      ]
     },
     "execution_count": 41,
     "metadata": {},
     "output_type": "execute_result"
    }
   ],
   "source": [
    "correct = dfall.loc[(dfall['Polarity']==-1) & (dfall['VaderSentiment']<0),'Review'].count()\n",
    "total = dfall.loc[(dfall['Polarity']==-1),'Review'].count()\n",
    "correct/total"
   ]
  },
  {
   "cell_type": "markdown",
   "id": "a47a2f00-8bfb-42e4-ab46-b041d1272828",
   "metadata": {},
   "source": [
    "Less than 50% correct for the negative sentiments!!  Worse than random chance.\n",
    "\n",
    "Let's check out a couple examples."
   ]
  },
  {
   "cell_type": "code",
   "execution_count": 42,
   "id": "036a3534-4779-4df6-92ae-bd51300230db",
   "metadata": {},
   "outputs": [
    {
     "name": "stdout",
     "output_type": "stream",
     "text": [
      "0.0258 : simplistic , silly and tedious . \n",
      "\n",
      "0.4404 : it's so laddish and juvenile , only teenage boys could possibly find it funny . \n",
      "\n",
      "0.0 : exploitative and largely devoid of the depth or sophistication that would make watching such a graphic treatment of the crimes bearable . \n",
      "\n",
      "-0.25 : [garbus] discards the potential for pathological study , exhuming instead , the skewed melodrama of the circumstantial situation . \n",
      "\n",
      "0.0 : a visually flashy but narratively opaque and emotionally vapid exercise in style and mystification . \n",
      "\n"
     ]
    }
   ],
   "source": [
    "for i in dfall.loc[(dfall['Polarity']==-1)][:5].index:\n",
    "    print(dfall.loc[i,'VaderSentiment'], ':', dfall.loc[i,'Review'])"
   ]
  },
  {
   "cell_type": "code",
   "execution_count": 43,
   "id": "c8877e8c-f1e1-41fb-9871-9fac77164f23",
   "metadata": {},
   "outputs": [
    {
     "data": {
      "text/plain": [
       "0.0"
      ]
     },
     "execution_count": 43,
     "metadata": {},
     "output_type": "execute_result"
    }
   ],
   "source": [
    "getSentiment('''exploitative and largely devoid of the depth or \n",
    "             sophistication that would make watching such a graphic \n",
    "             treatment of the crimes bearable''')"
   ]
  },
  {
   "cell_type": "markdown",
   "id": "dfc72f28-7b20-41bb-b3ff-aa093d940373",
   "metadata": {},
   "source": [
    "Let's look at the distribution of scores to see if that provides any insights."
   ]
  },
  {
   "cell_type": "code",
   "execution_count": 44,
   "id": "bca72de9-aa13-435c-90f1-f7956784e94f",
   "metadata": {},
   "outputs": [
    {
     "data": {
      "text/plain": [
       "<AxesSubplot:>"
      ]
     },
     "execution_count": 44,
     "metadata": {},
     "output_type": "execute_result"
    },
    {
     "data": {
      "image/png": "[encoded data removed]",
      "text/plain": [
       "<Figure size 432x288 with 1 Axes>"
      ]
     },
     "metadata": {
      "needs_background": "light"
     },
     "output_type": "display_data"
    }
   ],
   "source": [
    "dfall.loc[dfall['Polarity']==1, 'VaderSentiment'].hist()"
   ]
  },
  {
   "cell_type": "code",
   "execution_count": 45,
   "id": "74cf7b0b-9b6f-44d7-a248-d3036a435650",
   "metadata": {},
   "outputs": [
    {
     "data": {
      "text/plain": [
       "<AxesSubplot:>"
      ]
     },
     "execution_count": 45,
     "metadata": {},
     "output_type": "execute_result"
    },
    {
     "data": {
      "image/png": "[encoded data removed]",
      "text/plain": [
       "<Figure size 432x288 with 1 Axes>"
      ]
     },
     "metadata": {
      "needs_background": "light"
     },
     "output_type": "display_data"
    }
   ],
   "source": [
    "dfall.loc[dfall['Polarity']==-1, 'VaderSentiment'].hist()"
   ]
  },
  {
   "cell_type": "markdown",
   "id": "ceb5ee2c-b315-43a8-ab64-5ad45eb6cb26",
   "metadata": {},
   "source": [
    "The total accuracy is given by:"
   ]
  },
  {
   "cell_type": "code",
   "execution_count": 46,
   "id": "70131ba2-9c00-414b-a61c-29f8752315e5",
   "metadata": {},
   "outputs": [
    {
     "data": {
      "text/plain": [
       "0.5481148002250985"
      ]
     },
     "execution_count": 46,
     "metadata": {},
     "output_type": "execute_result"
    }
   ],
   "source": [
    "poscorrect = dfall.loc[(dfall['Polarity']==1) & (dfall['VaderSentiment']>0),'Review'].count()\n",
    "negcorrect = dfall.loc[(dfall['Polarity']==-1) & (dfall['VaderSentiment']<0),'Review'].count()\n",
    "total = dfall['Review'].count()\n",
    "(poscorrect + negcorrect)/total"
   ]
  },
  {
   "cell_type": "markdown",
   "id": "fa0943c1-439a-4c89-a3fe-ab3b9c9d3d35",
   "metadata": {},
   "source": [
    "We can encapsulate the essential code from above into a function to generalize the process."
   ]
  },
  {
   "cell_type": "code",
   "execution_count": 47,
   "id": "66a89691-f7ee-4fb8-8401-09bcd43c5b74",
   "metadata": {},
   "outputs": [],
   "source": [
    "def runScoring(dfall):\n",
    "    poscorrect = dfall.loc[(dfall['Polarity']==1) & (dfall['VaderSentiment']>0),'Review'].count()\n",
    "    postotal = dfall.loc[(dfall['Polarity']==1),'Review'].count()\n",
    "\n",
    "    negcorrect = dfall.loc[(dfall['Polarity']==-1) & (dfall['VaderSentiment']<0),'Review'].count()\n",
    "    negtotal = dfall.loc[(dfall['Polarity']==-1),'Review'].count()\n",
    "\n",
    "    total = dfall['Review'].count()\n",
    "\n",
    "    print('The accuracy for positive reviews is: ' + str(poscorrect/postotal*100) + '%')\n",
    "    print('The accuracy for negative reviews is: ' + str(negcorrect/negtotal*100) + '%')\n",
    "    print('The overall accuracy is: ' + str((poscorrect+negcorrect)/total*100) + '%')"
   ]
  },
  {
   "cell_type": "code",
   "execution_count": 48,
   "id": "48f4253c-07d2-4f92-8a93-e0d4041c4466",
   "metadata": {},
   "outputs": [
    {
     "name": "stdout",
     "output_type": "stream",
     "text": [
      "The accuracy for positive reviews is: 69.48039767398237%\n",
      "The accuracy for negative reviews is: 40.14256237103733%\n",
      "The overall accuracy is: 54.81148002250985%\n"
     ]
    }
   ],
   "source": [
    "runScoring(dfall)"
   ]
  },
  {
   "cell_type": "markdown",
   "id": "65611c10-11aa-4980-9b22-422c18afb2bd",
   "metadata": {},
   "source": [
    "# Sentiwordnet"
   ]
  },
  {
   "cell_type": "markdown",
   "id": "e463f141-23d6-446b-a747-2266b4943746",
   "metadata": {},
   "source": [
    "NLTK includes functionality for using Sentiwordnet, a lexical tool that includes information about words' synsets (words that are like synonyms) and thereby can be used to help assess sentiment."
   ]
  },
  {
   "cell_type": "code",
   "execution_count": 49,
   "id": "2c7afb25-8de9-49b3-815a-7e3263d619d7",
   "metadata": {},
   "outputs": [
    {
     "name": "stderr",
     "output_type": "stream",
     "text": [
      "[nltk_data] Downloading package sentiwordnet to\n",
      "[nltk_data]     c:\\Users\\chief\\.conda\\envs\\geoprj\\lib\\nltk_data...\n",
      "[nltk_data]   Package sentiwordnet is already up-to-date!\n"
     ]
    },
    {
     "data": {
      "text/plain": [
       "True"
      ]
     },
     "execution_count": 49,
     "metadata": {},
     "output_type": "execute_result"
    }
   ],
   "source": [
    "from nltk.corpus import sentiwordnet as swn\n",
    "nltk.download('sentiwordnet')"
   ]
  },
  {
   "cell_type": "code",
   "execution_count": 50,
   "id": "9dec00fd-32b4-4b00-ad00-d95c535adae3",
   "metadata": {},
   "outputs": [
    {
     "data": {
      "text/plain": [
       "[SentiSynset('funny_story.n.01'),\n",
       " SentiSynset('amusing.s.02'),\n",
       " SentiSynset('curious.s.01'),\n",
       " SentiSynset('fishy.s.02'),\n",
       " SentiSynset('funny.s.04')]"
      ]
     },
     "execution_count": 50,
     "metadata": {},
     "output_type": "execute_result"
    }
   ],
   "source": [
    "list(swn.senti_synsets('funny'))"
   ]
  },
  {
   "cell_type": "code",
   "execution_count": 51,
   "id": "3b3fa280-0118-4440-b595-92f2338573d2",
   "metadata": {},
   "outputs": [
    {
     "data": {
      "text/plain": [
       "SentiSynset('funny_story.n.01')"
      ]
     },
     "execution_count": 51,
     "metadata": {},
     "output_type": "execute_result"
    }
   ],
   "source": [
    "list(swn.senti_synsets('funny'))[0]"
   ]
  },
  {
   "cell_type": "code",
   "execution_count": 52,
   "id": "15e56419-b4a9-48f8-9776-f88673fec3fd",
   "metadata": {},
   "outputs": [
    {
     "data": {
      "text/plain": [
       "0.0"
      ]
     },
     "execution_count": 52,
     "metadata": {},
     "output_type": "execute_result"
    }
   ],
   "source": [
    "list(swn.senti_synsets('funny'))[0].pos_score()"
   ]
  },
  {
   "cell_type": "code",
   "execution_count": 53,
   "id": "b6230bae-cef7-4b44-add6-76928146e6c1",
   "metadata": {},
   "outputs": [
    {
     "data": {
      "text/plain": [
       "0.0"
      ]
     },
     "execution_count": 53,
     "metadata": {},
     "output_type": "execute_result"
    }
   ],
   "source": [
    "list(swn.senti_synsets('funny'))[0].neg_score()"
   ]
  },
  {
   "cell_type": "code",
   "execution_count": 54,
   "id": "2ae36376-9014-46a9-839a-c946fd8afdd7",
   "metadata": {},
   "outputs": [
    {
     "data": {
      "text/plain": [
       "1.0"
      ]
     },
     "execution_count": 54,
     "metadata": {},
     "output_type": "execute_result"
    }
   ],
   "source": [
    "list(swn.senti_synsets('funny'))[0].obj_score()"
   ]
  },
  {
   "cell_type": "code",
   "execution_count": 55,
   "id": "c3fd6108-7d0e-49c1-bbf5-ab0652c533d3",
   "metadata": {},
   "outputs": [
    {
     "name": "stdout",
     "output_type": "stream",
     "text": [
      "<funny_story.n.01: PosScore=0.0 NegScore=0.0>\n",
      "<amusing.s.02: PosScore=0.5 NegScore=0.0>\n",
      "<curious.s.01: PosScore=0.125 NegScore=0.375>\n",
      "<fishy.s.02: PosScore=0.0 NegScore=0.5>\n",
      "<funny.s.04: PosScore=0.0 NegScore=0.5>\n"
     ]
    }
   ],
   "source": [
    "for i in list(swn.senti_synsets('funny')):\n",
    "    print(i)"
   ]
  },
  {
   "cell_type": "markdown",
   "id": "eea0d0b8-2113-4806-b9cb-ae7c2a28d0dc",
   "metadata": {},
   "source": [
    "`wordnet` allows us to get definitions of the synsets"
   ]
  },
  {
   "cell_type": "code",
   "execution_count": 56,
   "id": "9ae94899-3309-456c-8caf-9d6df3ca5a36",
   "metadata": {},
   "outputs": [],
   "source": [
    "from nltk.corpus import wordnet"
   ]
  },
  {
   "cell_type": "code",
   "execution_count": 57,
   "id": "2e030668-8a70-4c67-98db-93b2e2298cad",
   "metadata": {},
   "outputs": [
    {
     "name": "stdout",
     "output_type": "stream",
     "text": [
      "Synset('funny_story.n.01') an account of an amusing incident (usually with a punch line)\n",
      "Synset('amusing.s.02') arousing or provoking laughter\n",
      "Synset('curious.s.01') beyond or deviating from the usual or expected\n",
      "Synset('fishy.s.02') not as expected\n",
      "Synset('funny.s.04') experiencing odd bodily sensations\n"
     ]
    }
   ],
   "source": [
    "for i in wordnet.synsets('funny'):\n",
    "    print(i,i.definition())"
   ]
  },
  {
   "cell_type": "markdown",
   "id": "b0650eaa-5d8b-4f84-8e5b-327f0abe8a4b",
   "metadata": {},
   "source": [
    "Consider one review:"
   ]
  },
  {
   "cell_type": "code",
   "execution_count": 58,
   "id": "32582e0c-8e1b-490b-b0ab-db8f95cc1bf3",
   "metadata": {},
   "outputs": [
    {
     "data": {
      "text/plain": [
       "'the rock is destined to be the 21st century\\'s new \" conan \" and that he\\'s going to make a splash even greater than arnold schwarzenegger , jean-claud van damme or steven segal . \\r\\n'"
      ]
     },
     "execution_count": 58,
     "metadata": {},
     "output_type": "execute_result"
    }
   ],
   "source": [
    "dfall.loc[0,'Review']"
   ]
  },
  {
   "cell_type": "markdown",
   "id": "62e870d3-3963-4d5c-8856-89466008c4bd",
   "metadata": {},
   "source": [
    "We could use the synset polarity scores of individual words in a sentence to manually score a review's sentiment.\n",
    "1. break up a sentence into words\n",
    "2. remove stopwords\n",
    "3. sum the synset scores of the words\n",
    "  * for each word, a simple first attempt is to take all the synsets and (a) add the positive score if the positive score is largest or (b) subtract the negative score if the negative score is largest, and then divide the total sum of all synset scores by the number of synsets."
   ]
  },
  {
   "cell_type": "code",
   "execution_count": 59,
   "id": "9ea9e5fe-284e-4a33-905f-a740a524b429",
   "metadata": {},
   "outputs": [],
   "source": [
    "from nltk.tokenize import sent_tokenize, word_tokenize\n",
    "from nltk.corpus import stopwords\n",
    "from string import punctuation\n",
    "myStopWords = list(punctuation) + stopwords.words('english')"
   ]
  },
  {
   "cell_type": "markdown",
   "id": "5580e781-c5e4-46ed-ab79-3e4ca7529b93",
   "metadata": {},
   "source": [
    "Example of breaking a review into a list of individual words:"
   ]
  },
  {
   "cell_type": "code",
   "execution_count": 60,
   "id": "f1d34d60-ad0d-41f8-a6a3-a53d9a6ed69c",
   "metadata": {
    "tags": []
   },
   "outputs": [
    {
     "data": {
      "text/plain": [
       "['the',\n",
       " 'rock',\n",
       " 'is',\n",
       " 'destined',\n",
       " 'to',\n",
       " 'be',\n",
       " 'the',\n",
       " '21st',\n",
       " 'century',\n",
       " \"'s\",\n",
       " 'new',\n",
       " '``',\n",
       " 'conan',\n",
       " '``',\n",
       " 'and',\n",
       " 'that',\n",
       " 'he',\n",
       " \"'s\",\n",
       " 'going',\n",
       " 'to',\n",
       " 'make',\n",
       " 'a',\n",
       " 'splash',\n",
       " 'even',\n",
       " 'greater',\n",
       " 'than',\n",
       " 'arnold',\n",
       " 'schwarzenegger',\n",
       " ',',\n",
       " 'jean-claud',\n",
       " 'van',\n",
       " 'damme',\n",
       " 'or',\n",
       " 'steven',\n",
       " 'segal',\n",
       " '.']"
      ]
     },
     "execution_count": 60,
     "metadata": {},
     "output_type": "execute_result"
    }
   ],
   "source": [
    "[w for w in word_tokenize(dfall.loc[0,'Review'].lower())]"
   ]
  },
  {
   "cell_type": "markdown",
   "id": "b3ba25a7-cfe8-4024-8566-609116599db3",
   "metadata": {},
   "source": [
    "The same list, but with stopwords removed:"
   ]
  },
  {
   "cell_type": "code",
   "execution_count": 61,
   "id": "02bf61c3-e16e-4a62-aba2-b8307bdbc49f",
   "metadata": {
    "tags": []
   },
   "outputs": [
    {
     "data": {
      "text/plain": [
       "['rock',\n",
       " 'destined',\n",
       " '21st',\n",
       " 'century',\n",
       " \"'s\",\n",
       " 'new',\n",
       " '``',\n",
       " 'conan',\n",
       " '``',\n",
       " \"'s\",\n",
       " 'going',\n",
       " 'make',\n",
       " 'splash',\n",
       " 'even',\n",
       " 'greater',\n",
       " 'arnold',\n",
       " 'schwarzenegger',\n",
       " 'jean-claud',\n",
       " 'van',\n",
       " 'damme',\n",
       " 'steven',\n",
       " 'segal']"
      ]
     },
     "execution_count": 61,
     "metadata": {},
     "output_type": "execute_result"
    }
   ],
   "source": [
    "[w for w in word_tokenize(dfall.loc[0,'Review'].lower()) if w not in myStopWords]"
   ]
  },
  {
   "cell_type": "markdown",
   "id": "7a2b8263-7de5-4bc4-a903-199f25a4f61b",
   "metadata": {},
   "source": [
    "Here's our function for getting the average synset scores of words in a review and summing them all up to get a polarity score for the review."
   ]
  },
  {
   "cell_type": "code",
   "execution_count": 62,
   "id": "62bd4364-09db-43aa-9236-714e8dbc1ebc",
   "metadata": {},
   "outputs": [],
   "source": [
    "def naiveSentiment(review):\n",
    "    reviewPolarity = 0.0\n",
    "    words = [w for w in word_tokenize(review.lower()) if w not in myStopWords]\n",
    "    for word in words:\n",
    "        sentScore = 0.0\n",
    "        if len(list(swn.senti_synsets(word))) > 0:\n",
    "            for i in list(swn.senti_synsets(word)):\n",
    "                if i.pos_score() > i.neg_score():\n",
    "                    sentScore += i.pos_score()\n",
    "                else:\n",
    "                    sentScore -= i.neg_score()\n",
    "            reviewPolarity += sentScore / len(list(swn.senti_synsets(word)))\n",
    "    \n",
    "    return reviewPolarity"
   ]
  },
  {
   "cell_type": "code",
   "execution_count": 63,
   "id": "162b1717-29de-403e-8771-951bef64b9a0",
   "metadata": {},
   "outputs": [
    {
     "data": {
      "text/plain": [
       "0.5020851289233642"
      ]
     },
     "execution_count": 63,
     "metadata": {},
     "output_type": "execute_result"
    }
   ],
   "source": [
    "naiveSentiment(dfall.loc[0,'Review'])"
   ]
  },
  {
   "cell_type": "markdown",
   "id": "d0cc4574-1239-4475-9b35-120765300176",
   "metadata": {},
   "source": [
    "Make a new column in our main dataframe that uses our sentiwordnet-based scoring system."
   ]
  },
  {
   "cell_type": "code",
   "execution_count": 64,
   "id": "42721eb5-b4ea-48ed-a471-3974faf2e6c8",
   "metadata": {},
   "outputs": [],
   "source": [
    "dfall['naiveSentiment'] = [naiveSentiment(review) for review in dfall['Review']]"
   ]
  },
  {
   "cell_type": "markdown",
   "id": "ce701e91-1ebd-4209-a7e4-4663848d9550",
   "metadata": {},
   "source": [
    "Copy the above `runScoring` for a final method assessment, but now add an extra variable for specifying the particular sentiment column to use."
   ]
  },
  {
   "cell_type": "code",
   "execution_count": 65,
   "id": "de60e0b8-ad80-4bfa-9aa5-3172bbe06946",
   "metadata": {},
   "outputs": [],
   "source": [
    "def runScoring(dfall,sentimentMethod):\n",
    "    poscorrect = dfall.loc[(dfall['Polarity']==1) & (dfall[sentimentMethod]>0),'Review'].count()\n",
    "    postotal = dfall.loc[(dfall['Polarity']==1),'Review'].count()\n",
    "\n",
    "    negcorrect = dfall.loc[(dfall['Polarity']==-1) & (dfall[sentimentMethod]<0),'Review'].count()\n",
    "    negtotal = dfall.loc[(dfall['Polarity']==-1),'Review'].count()\n",
    "\n",
    "    total = dfall['Review'].count()\n",
    "\n",
    "    print('The accuracy for positive reviews is: ' + str(poscorrect/postotal*100) + '%')\n",
    "    print('The accuracy for negative reviews is: ' + str(negcorrect/negtotal*100) + '%')\n",
    "    print('The overall accuracy is: ' + str((poscorrect+negcorrect)/total*100) + '%')"
   ]
  },
  {
   "cell_type": "code",
   "execution_count": 66,
   "id": "b3a143af-5902-4501-b2d2-fafc54dde048",
   "metadata": {},
   "outputs": [
    {
     "name": "stdout",
     "output_type": "stream",
     "text": [
      "The accuracy for positive reviews is: 69.48039767398237%\n",
      "The accuracy for negative reviews is: 40.14256237103733%\n",
      "The overall accuracy is: 54.81148002250985%\n"
     ]
    }
   ],
   "source": [
    "runScoring(dfall, 'VaderSentiment')"
   ]
  },
  {
   "cell_type": "code",
   "execution_count": 67,
   "id": "cffb3d15-ee7b-4008-b2c1-4defd629724a",
   "metadata": {},
   "outputs": [
    {
     "name": "stdout",
     "output_type": "stream",
     "text": [
      "The accuracy for positive reviews is: 69.91183642843744%\n",
      "The accuracy for negative reviews is: 50.87225661226786%\n",
      "The overall accuracy is: 60.39204652035265%\n"
     ]
    }
   ],
   "source": [
    "runScoring(dfall, 'naiveSentiment')"
   ]
  },
  {
   "cell_type": "markdown",
   "id": "cbd01565-f264-46a8-afc7-124c357d03aa",
   "metadata": {},
   "source": [
    "This method with synset scoring does a slightly better job at classification, though admittedly its method of approach is relatively simplistic.\n",
    "\n",
    "Let's again look at the distribution of scores for the reviews that have a real positive or negative polarity."
   ]
  },
  {
   "cell_type": "code",
   "execution_count": 68,
   "id": "48a80bcc-1ac2-462d-a61f-5a8f8afa8c38",
   "metadata": {},
   "outputs": [
    {
     "data": {
      "text/plain": [
       "<AxesSubplot:>"
      ]
     },
     "execution_count": 68,
     "metadata": {},
     "output_type": "execute_result"
    },
    {
     "data": {
      "image/png": "[encoded data removed]",
      "text/plain": [
       "<Figure size 432x288 with 1 Axes>"
      ]
     },
     "metadata": {
      "needs_background": "light"
     },
     "output_type": "display_data"
    }
   ],
   "source": [
    "dfall.loc[dfall['Polarity']==1, 'naiveSentiment'].hist()"
   ]
  },
  {
   "cell_type": "code",
   "execution_count": 69,
   "id": "e8d03c09-c33c-44c5-b116-1f84affa20d5",
   "metadata": {},
   "outputs": [
    {
     "data": {
      "text/plain": [
       "<AxesSubplot:>"
      ]
     },
     "execution_count": 69,
     "metadata": {},
     "output_type": "execute_result"
    },
    {
     "data": {
      "image/png": "[encoded data removed]",
      "text/plain": [
       "<Figure size 432x288 with 1 Axes>"
      ]
     },
     "metadata": {
      "needs_background": "light"
     },
     "output_type": "display_data"
    }
   ],
   "source": [
    "dfall.loc[dfall['Polarity']==-1, 'naiveSentiment'].hist()"
   ]
  },
  {
   "cell_type": "markdown",
   "id": "3511c6bf-2168-4f43-b76e-13d41d244340",
   "metadata": {},
   "source": [
    "There are many shortcomings.  But actually, one shortcoming is very easy to spot:  Vader properly accounts for negation while our naive sentiment scorer with synset averaging does not. "
   ]
  },
  {
   "cell_type": "code",
   "execution_count": 70,
   "id": "b7be3ccf-5ec5-4f50-aaf7-7123ea18ce57",
   "metadata": {},
   "outputs": [
    {
     "data": {
      "text/plain": [
       "-0.5423"
      ]
     },
     "execution_count": 70,
     "metadata": {},
     "output_type": "execute_result"
    }
   ],
   "source": [
    "getSentiment('this restaurant is lousy')"
   ]
  },
  {
   "cell_type": "code",
   "execution_count": 71,
   "id": "4e6bd98b-3ab9-40aa-b703-d442e53524cf",
   "metadata": {},
   "outputs": [
    {
     "data": {
      "text/plain": [
       "0.431"
      ]
     },
     "execution_count": 71,
     "metadata": {},
     "output_type": "execute_result"
    }
   ],
   "source": [
    "getSentiment('this restaurant is not lousy')"
   ]
  },
  {
   "cell_type": "code",
   "execution_count": 72,
   "id": "6f97e631-cd96-43a1-9bdf-541c66c42cba",
   "metadata": {},
   "outputs": [
    {
     "data": {
      "text/plain": [
       "-0.7083333333333334"
      ]
     },
     "execution_count": 72,
     "metadata": {},
     "output_type": "execute_result"
    }
   ],
   "source": [
    "naiveSentiment('this restaurant is lousy')"
   ]
  },
  {
   "cell_type": "code",
   "execution_count": 73,
   "id": "7d0a4450-7b62-42fc-8a29-f1c66058cd31",
   "metadata": {},
   "outputs": [
    {
     "data": {
      "text/plain": [
       "-0.7083333333333334"
      ]
     },
     "execution_count": 73,
     "metadata": {},
     "output_type": "execute_result"
    }
   ],
   "source": [
    "naiveSentiment('this restaurant is not lousy')"
   ]
  },
  {
   "cell_type": "markdown",
   "id": "8bf9c38f-2d2e-453f-a673-4b39cb8c2e54",
   "metadata": {},
   "source": [
    "Why is this?"
   ]
  },
  {
   "cell_type": "code",
   "execution_count": 74,
   "id": "8d3b15a3-0405-49be-a122-64ce734d9654",
   "metadata": {},
   "outputs": [
    {
     "name": "stdout",
     "output_type": "stream",
     "text": [
      "['!', '\"', '#', '$', '%', '&', \"'\", '(', ')', '*', '+', ',', '-', '.', '/', ':', ';', '<', '=', '>', '?', '@', '[', '\\\\', ']', '^', '_', '`', '{', '|', '}', '~', 'i', 'me', 'my', 'myself', 'we', 'our', 'ours', 'ourselves', 'you', \"you're\", \"you've\", \"you'll\", \"you'd\", 'your', 'yours', 'yourself', 'yourselves', 'he', 'him', 'his', 'himself', 'she', \"she's\", 'her', 'hers', 'herself', 'it', \"it's\", 'its', 'itself', 'they', 'them', 'their', 'theirs', 'themselves', 'what', 'which', 'who', 'whom', 'this', 'that', \"that'll\", 'these', 'those', 'am', 'is', 'are', 'was', 'were', 'be', 'been', 'being', 'have', 'has', 'had', 'having', 'do', 'does', 'did', 'doing', 'a', 'an', 'the', 'and', 'but', 'if', 'or', 'because', 'as', 'until', 'while', 'of', 'at', 'by', 'for', 'with', 'about', 'against', 'between', 'into', 'through', 'during', 'before', 'after', 'above', 'below', 'to', 'from', 'up', 'down', 'in', 'out', 'on', 'off', 'over', 'under', 'again', 'further', 'then', 'once', 'here', 'there', 'when', 'where', 'why', 'how', 'all', 'any', 'both', 'each', 'few', 'more', 'most', 'other', 'some', 'such', 'no', 'nor', 'not', 'only', 'own', 'same', 'so', 'than', 'too', 'very', 's', 't', 'can', 'will', 'just', 'don', \"don't\", 'should', \"should've\", 'now', 'd', 'll', 'm', 'o', 're', 've', 'y', 'ain', 'aren', \"aren't\", 'couldn', \"couldn't\", 'didn', \"didn't\", 'doesn', \"doesn't\", 'hadn', \"hadn't\", 'hasn', \"hasn't\", 'haven', \"haven't\", 'isn', \"isn't\", 'ma', 'mightn', \"mightn't\", 'mustn', \"mustn't\", 'needn', \"needn't\", 'shan', \"shan't\", 'shouldn', \"shouldn't\", 'wasn', \"wasn't\", 'weren', \"weren't\", 'won', \"won't\", 'wouldn', \"wouldn't\"]\n"
     ]
    }
   ],
   "source": [
    "print(myStopWords)"
   ]
  },
  {
   "cell_type": "markdown",
   "id": "c979303f-a0eb-43b3-a74c-69fdc59fd623",
   "metadata": {},
   "source": [
    "Note that \"not\" is in the stopwords -> it's been completely dropped before our naiveSentiment scorer ran."
   ]
  },
  {
   "cell_type": "markdown",
   "id": "5c406cc0-cff7-444f-b971-ad336a4d0b23",
   "metadata": {},
   "source": [
    "## Naive Bayes"
   ]
  },
  {
   "cell_type": "code",
   "execution_count": 75,
   "id": "af659473-ae24-43d9-91b1-e7cfaea07b3e",
   "metadata": {},
   "outputs": [
    {
     "data": {
      "text/html": [
       "<div>\n",
       "<style scoped>\n",
       "    .dataframe tbody tr th:only-of-type {\n",
       "        vertical-align: middle;\n",
       "    }\n",
       "\n",
       "    .dataframe tbody tr th {\n",
       "        vertical-align: top;\n",
       "    }\n",
       "\n",
       "    .dataframe thead th {\n",
       "        text-align: right;\n",
       "    }\n",
       "</style>\n",
       "<table border=\"1\" class=\"dataframe\">\n",
       "  <thead>\n",
       "    <tr style=\"text-align: right;\">\n",
       "      <th></th>\n",
       "      <th>Review</th>\n",
       "      <th>Polarity</th>\n",
       "      <th>VaderSentiment</th>\n",
       "      <th>naiveSentiment</th>\n",
       "    </tr>\n",
       "  </thead>\n",
       "  <tbody>\n",
       "    <tr>\n",
       "      <th>0</th>\n",
       "      <td>the rock is destined to be the 21st century's ...</td>\n",
       "      <td>1</td>\n",
       "      <td>0.3612</td>\n",
       "      <td>0.502085</td>\n",
       "    </tr>\n",
       "    <tr>\n",
       "      <th>1</th>\n",
       "      <td>the gorgeously elaborate continuation of \" the...</td>\n",
       "      <td>1</td>\n",
       "      <td>0.8069</td>\n",
       "      <td>0.686632</td>\n",
       "    </tr>\n",
       "    <tr>\n",
       "      <th>2</th>\n",
       "      <td>effective but too-tepid biopic\\r\\n</td>\n",
       "      <td>1</td>\n",
       "      <td>0.2617</td>\n",
       "      <td>0.270833</td>\n",
       "    </tr>\n",
       "    <tr>\n",
       "      <th>3</th>\n",
       "      <td>if you sometimes like to go to the movies to h...</td>\n",
       "      <td>1</td>\n",
       "      <td>0.8271</td>\n",
       "      <td>0.767344</td>\n",
       "    </tr>\n",
       "    <tr>\n",
       "      <th>4</th>\n",
       "      <td>emerges as something rare , an issue movie tha...</td>\n",
       "      <td>1</td>\n",
       "      <td>0.6592</td>\n",
       "      <td>0.908742</td>\n",
       "    </tr>\n",
       "    <tr>\n",
       "      <th>...</th>\n",
       "      <td>...</td>\n",
       "      <td>...</td>\n",
       "      <td>...</td>\n",
       "      <td>...</td>\n",
       "    </tr>\n",
       "    <tr>\n",
       "      <th>10657</th>\n",
       "      <td>a terrible movie that some people will neverth...</td>\n",
       "      <td>-1</td>\n",
       "      <td>-0.4767</td>\n",
       "      <td>-1.055373</td>\n",
       "    </tr>\n",
       "    <tr>\n",
       "      <th>10658</th>\n",
       "      <td>there are many definitions of 'time waster' bu...</td>\n",
       "      <td>-1</td>\n",
       "      <td>0.5927</td>\n",
       "      <td>0.302083</td>\n",
       "    </tr>\n",
       "    <tr>\n",
       "      <th>10659</th>\n",
       "      <td>as it stands , crocodile hunter has the hurrie...</td>\n",
       "      <td>-1</td>\n",
       "      <td>-0.7783</td>\n",
       "      <td>-0.961231</td>\n",
       "    </tr>\n",
       "    <tr>\n",
       "      <th>10660</th>\n",
       "      <td>the thing looks like a made-for-home-video qui...</td>\n",
       "      <td>-1</td>\n",
       "      <td>0.3612</td>\n",
       "      <td>0.218209</td>\n",
       "    </tr>\n",
       "    <tr>\n",
       "      <th>10661</th>\n",
       "      <td>enigma is well-made , but it's just too dry an...</td>\n",
       "      <td>-1</td>\n",
       "      <td>0.0000</td>\n",
       "      <td>0.608553</td>\n",
       "    </tr>\n",
       "  </tbody>\n",
       "</table>\n",
       "<p>10662 rows × 4 columns</p>\n",
       "</div>"
      ],
      "text/plain": [
       "                                                  Review  Polarity  \\\n",
       "0      the rock is destined to be the 21st century's ...         1   \n",
       "1      the gorgeously elaborate continuation of \" the...         1   \n",
       "2                     effective but too-tepid biopic\\r\\n         1   \n",
       "3      if you sometimes like to go to the movies to h...         1   \n",
       "4      emerges as something rare , an issue movie tha...         1   \n",
       "...                                                  ...       ...   \n",
       "10657  a terrible movie that some people will neverth...        -1   \n",
       "10658  there are many definitions of 'time waster' bu...        -1   \n",
       "10659  as it stands , crocodile hunter has the hurrie...        -1   \n",
       "10660  the thing looks like a made-for-home-video qui...        -1   \n",
       "10661  enigma is well-made , but it's just too dry an...        -1   \n",
       "\n",
       "       VaderSentiment  naiveSentiment  \n",
       "0              0.3612        0.502085  \n",
       "1              0.8069        0.686632  \n",
       "2              0.2617        0.270833  \n",
       "3              0.8271        0.767344  \n",
       "4              0.6592        0.908742  \n",
       "...               ...             ...  \n",
       "10657         -0.4767       -1.055373  \n",
       "10658          0.5927        0.302083  \n",
       "10659         -0.7783       -0.961231  \n",
       "10660          0.3612        0.218209  \n",
       "10661          0.0000        0.608553  \n",
       "\n",
       "[10662 rows x 4 columns]"
      ]
     },
     "execution_count": 75,
     "metadata": {},
     "output_type": "execute_result"
    }
   ],
   "source": [
    "dfall"
   ]
  },
  {
   "cell_type": "markdown",
   "id": "b752b658-1cb5-47a9-b7d9-c3861f0e5993",
   "metadata": {},
   "source": [
    "We can manually split our dataframe into training and test sets (and make sure that we keep a 50/50 split in each of positive/negative reviews)."
   ]
  },
  {
   "cell_type": "code",
   "execution_count": 76,
   "id": "8881bb85-91b3-41af-bb48-2c6c2f5c8c62",
   "metadata": {},
   "outputs": [],
   "source": [
    "trainNum = 2000\n",
    "testNum = 5331 - trainNum\n",
    "\n",
    "trainPosReviews = dfall.loc[dfall['Polarity']==1][:trainNum]\n",
    "testPosReviews = dfall.loc[dfall['Polarity']==1][trainNum:]\n",
    "\n",
    "trainNegReviews = dfall.loc[dfall['Polarity']==-1][:trainNum]\n",
    "testNegReviews = dfall.loc[dfall['Polarity']==-1][trainNum:]"
   ]
  },
  {
   "cell_type": "code",
   "execution_count": 77,
   "id": "b987cc49-d31b-4688-946f-fe76d55031ad",
   "metadata": {
    "tags": []
   },
   "outputs": [
    {
     "data": {
      "text/html": [
       "<div>\n",
       "<style scoped>\n",
       "    .dataframe tbody tr th:only-of-type {\n",
       "        vertical-align: middle;\n",
       "    }\n",
       "\n",
       "    .dataframe tbody tr th {\n",
       "        vertical-align: top;\n",
       "    }\n",
       "\n",
       "    .dataframe thead th {\n",
       "        text-align: right;\n",
       "    }\n",
       "</style>\n",
       "<table border=\"1\" class=\"dataframe\">\n",
       "  <thead>\n",
       "    <tr style=\"text-align: right;\">\n",
       "      <th></th>\n",
       "      <th>Review</th>\n",
       "      <th>Polarity</th>\n",
       "      <th>VaderSentiment</th>\n",
       "      <th>naiveSentiment</th>\n",
       "    </tr>\n",
       "  </thead>\n",
       "  <tbody>\n",
       "    <tr>\n",
       "      <th>0</th>\n",
       "      <td>the rock is destined to be the 21st century's ...</td>\n",
       "      <td>1</td>\n",
       "      <td>0.3612</td>\n",
       "      <td>0.502085</td>\n",
       "    </tr>\n",
       "    <tr>\n",
       "      <th>1</th>\n",
       "      <td>the gorgeously elaborate continuation of \" the...</td>\n",
       "      <td>1</td>\n",
       "      <td>0.8069</td>\n",
       "      <td>0.686632</td>\n",
       "    </tr>\n",
       "    <tr>\n",
       "      <th>2</th>\n",
       "      <td>effective but too-tepid biopic\\r\\n</td>\n",
       "      <td>1</td>\n",
       "      <td>0.2617</td>\n",
       "      <td>0.270833</td>\n",
       "    </tr>\n",
       "    <tr>\n",
       "      <th>3</th>\n",
       "      <td>if you sometimes like to go to the movies to h...</td>\n",
       "      <td>1</td>\n",
       "      <td>0.8271</td>\n",
       "      <td>0.767344</td>\n",
       "    </tr>\n",
       "    <tr>\n",
       "      <th>4</th>\n",
       "      <td>emerges as something rare , an issue movie tha...</td>\n",
       "      <td>1</td>\n",
       "      <td>0.6592</td>\n",
       "      <td>0.908742</td>\n",
       "    </tr>\n",
       "    <tr>\n",
       "      <th>...</th>\n",
       "      <td>...</td>\n",
       "      <td>...</td>\n",
       "      <td>...</td>\n",
       "      <td>...</td>\n",
       "    </tr>\n",
       "    <tr>\n",
       "      <th>1995</th>\n",
       "      <td>though it's not very well shot or composed or ...</td>\n",
       "      <td>1</td>\n",
       "      <td>-0.4991</td>\n",
       "      <td>0.244926</td>\n",
       "    </tr>\n",
       "    <tr>\n",
       "      <th>1996</th>\n",
       "      <td>the entire cast is extraordinarily good . \\r\\n</td>\n",
       "      <td>1</td>\n",
       "      <td>0.4404</td>\n",
       "      <td>0.275694</td>\n",
       "    </tr>\n",
       "    <tr>\n",
       "      <th>1997</th>\n",
       "      <td>yakusho , as always , is wonderful as the long...</td>\n",
       "      <td>1</td>\n",
       "      <td>0.1531</td>\n",
       "      <td>1.177564</td>\n",
       "    </tr>\n",
       "    <tr>\n",
       "      <th>1998</th>\n",
       "      <td>the film delivers what it promises : a look at...</td>\n",
       "      <td>1</td>\n",
       "      <td>0.3818</td>\n",
       "      <td>-0.105795</td>\n",
       "    </tr>\n",
       "    <tr>\n",
       "      <th>1999</th>\n",
       "      <td>young hanks and fisk , who vaguely resemble th...</td>\n",
       "      <td>1</td>\n",
       "      <td>0.7717</td>\n",
       "      <td>0.279704</td>\n",
       "    </tr>\n",
       "  </tbody>\n",
       "</table>\n",
       "<p>2000 rows × 4 columns</p>\n",
       "</div>"
      ],
      "text/plain": [
       "                                                 Review  Polarity  \\\n",
       "0     the rock is destined to be the 21st century's ...         1   \n",
       "1     the gorgeously elaborate continuation of \" the...         1   \n",
       "2                    effective but too-tepid biopic\\r\\n         1   \n",
       "3     if you sometimes like to go to the movies to h...         1   \n",
       "4     emerges as something rare , an issue movie tha...         1   \n",
       "...                                                 ...       ...   \n",
       "1995  though it's not very well shot or composed or ...         1   \n",
       "1996     the entire cast is extraordinarily good . \\r\\n         1   \n",
       "1997  yakusho , as always , is wonderful as the long...         1   \n",
       "1998  the film delivers what it promises : a look at...         1   \n",
       "1999  young hanks and fisk , who vaguely resemble th...         1   \n",
       "\n",
       "      VaderSentiment  naiveSentiment  \n",
       "0             0.3612        0.502085  \n",
       "1             0.8069        0.686632  \n",
       "2             0.2617        0.270833  \n",
       "3             0.8271        0.767344  \n",
       "4             0.6592        0.908742  \n",
       "...              ...             ...  \n",
       "1995         -0.4991        0.244926  \n",
       "1996          0.4404        0.275694  \n",
       "1997          0.1531        1.177564  \n",
       "1998          0.3818       -0.105795  \n",
       "1999          0.7717        0.279704  \n",
       "\n",
       "[2000 rows x 4 columns]"
      ]
     },
     "execution_count": 77,
     "metadata": {},
     "output_type": "execute_result"
    }
   ],
   "source": [
    "trainPosReviews"
   ]
  },
  {
   "cell_type": "markdown",
   "id": "8d244d74-0e9d-4777-9d35-b7d5431adc94",
   "metadata": {},
   "source": [
    "We're going to use word frequencies to get our probabilities for Bayesian estimation.\n",
    "\n",
    "The following makes lists of words found in the positive reviews and in the negative reviews (and drops stopwords).  It also makes a list of all words called `vocab`."
   ]
  },
  {
   "cell_type": "code",
   "execution_count": 78,
   "id": "98a50443-8e83-4441-a310-82f23f21d929",
   "metadata": {},
   "outputs": [],
   "source": [
    "posWords = []\n",
    "negWords = []\n",
    "vocab = []\n",
    "for i in trainPosReviews.index:\n",
    "    words = [w for w in word_tokenize(trainPosReviews.loc[i,'Review'].lower()) if w not in myStopWords]\n",
    "    for word in words:\n",
    "        if word not in posWords:\n",
    "            posWords.append(word)\n",
    "        if word not in vocab:\n",
    "            vocab.append(word)\n",
    "for i in trainNegReviews.index:\n",
    "    words = [w for w in word_tokenize(trainNegReviews.loc[i,'Review'].lower()) if w not in myStopWords]\n",
    "    for word in words:\n",
    "        if word not in negWords:\n",
    "            negWords.append(word)\n",
    "        if word not in vocab:\n",
    "            vocab.append(word)\n",
    "    "
   ]
  },
  {
   "cell_type": "code",
   "execution_count": 79,
   "id": "4e1701ba-4ac1-4b2a-b736-334755b158f1",
   "metadata": {
    "tags": []
   },
   "outputs": [
    {
     "data": {
      "text/plain": [
       "['rock',\n",
       " 'destined',\n",
       " '21st',\n",
       " 'century',\n",
       " \"'s\",\n",
       " 'new',\n",
       " '``',\n",
       " 'conan',\n",
       " 'going',\n",
       " 'make',\n",
       " 'splash',\n",
       " 'even',\n",
       " 'greater',\n",
       " 'arnold',\n",
       " 'schwarzenegger',\n",
       " 'jean-claud',\n",
       " 'van',\n",
       " 'damme',\n",
       " 'steven',\n",
       " 'segal',\n",
       " 'gorgeously',\n",
       " 'elaborate',\n",
       " 'continuation',\n",
       " 'lord',\n",
       " 'rings',\n",
       " 'trilogy',\n",
       " 'huge',\n",
       " 'column',\n",
       " 'words',\n",
       " 'adequately',\n",
       " 'describe',\n",
       " 'co-writer/director',\n",
       " 'peter',\n",
       " 'jackson',\n",
       " 'expanded',\n",
       " 'vision',\n",
       " 'j',\n",
       " 'r',\n",
       " 'tolkien',\n",
       " 'middle-earth',\n",
       " 'effective',\n",
       " 'too-tepid',\n",
       " 'biopic',\n",
       " 'sometimes',\n",
       " 'like',\n",
       " 'go',\n",
       " 'movies',\n",
       " 'fun',\n",
       " 'wasabi',\n",
       " 'good',\n",
       " 'place',\n",
       " 'start',\n",
       " 'emerges',\n",
       " 'something',\n",
       " 'rare',\n",
       " 'issue',\n",
       " 'movie',\n",
       " 'honest',\n",
       " 'keenly',\n",
       " 'observed',\n",
       " \"n't\",\n",
       " 'feel',\n",
       " 'one',\n",
       " 'film',\n",
       " 'provides',\n",
       " 'great',\n",
       " 'insight',\n",
       " 'neurotic',\n",
       " 'mindset',\n",
       " 'comics',\n",
       " '--',\n",
       " 'reached',\n",
       " 'absolute',\n",
       " 'top',\n",
       " 'game',\n",
       " 'offers',\n",
       " 'combination',\n",
       " 'entertainment',\n",
       " 'education',\n",
       " 'perhaps',\n",
       " 'picture',\n",
       " 'ever',\n",
       " 'made',\n",
       " 'literally',\n",
       " 'showed',\n",
       " 'road',\n",
       " 'hell',\n",
       " 'paved',\n",
       " 'intentions',\n",
       " 'steers',\n",
       " 'turns',\n",
       " 'snappy',\n",
       " 'screenplay',\n",
       " 'curls',\n",
       " 'edges',\n",
       " 'clever',\n",
       " 'want',\n",
       " 'hate',\n",
       " 'somehow',\n",
       " 'pulls',\n",
       " 'take',\n",
       " 'care',\n",
       " 'cat',\n",
       " 'refreshingly',\n",
       " 'different',\n",
       " 'slice',\n",
       " 'asian',\n",
       " 'cinema',\n",
       " 'well',\n",
       " 'worth',\n",
       " 'seeing',\n",
       " 'talking',\n",
       " 'singing',\n",
       " 'heads',\n",
       " 'really',\n",
       " 'surprises',\n",
       " 'wisegirls',\n",
       " 'low-key',\n",
       " 'quality',\n",
       " 'genuine',\n",
       " 'tenderness',\n",
       " 'wendigo',\n",
       " 'fed',\n",
       " 'eye',\n",
       " 'heart',\n",
       " 'mind',\n",
       " 'greatest',\n",
       " 'family-oriented',\n",
       " 'fantasy-adventure',\n",
       " 'ultimately',\n",
       " 'ponders',\n",
       " 'reasons',\n",
       " 'need',\n",
       " 'stories',\n",
       " 'much',\n",
       " 'utterly',\n",
       " 'compelling',\n",
       " \"'who\",\n",
       " 'wrote',\n",
       " 'reputation',\n",
       " 'famous',\n",
       " 'author',\n",
       " 'lived',\n",
       " 'comes',\n",
       " 'question',\n",
       " 'illuminating',\n",
       " 'overly',\n",
       " 'talky',\n",
       " 'documentary',\n",
       " 'masterpiece',\n",
       " 'four',\n",
       " 'years',\n",
       " 'making',\n",
       " 'ripe',\n",
       " 'enrapturing',\n",
       " 'beauty',\n",
       " 'tempt',\n",
       " 'willing',\n",
       " 'probe',\n",
       " 'inscrutable',\n",
       " 'mysteries',\n",
       " 'breath',\n",
       " 'fresh',\n",
       " 'air',\n",
       " 'true',\n",
       " 'sophistication',\n",
       " 'thoughtful',\n",
       " 'provocative',\n",
       " 'insistently',\n",
       " 'humanizing',\n",
       " 'cast',\n",
       " 'includes',\n",
       " 'actors',\n",
       " 'working',\n",
       " 'independent',\n",
       " 'lovely',\n",
       " 'amazing',\n",
       " 'involves',\n",
       " 'us',\n",
       " 'incisive',\n",
       " 'bleakly',\n",
       " 'amusing',\n",
       " 'lives',\n",
       " 'disturbing',\n",
       " 'frighteningly',\n",
       " 'evocative',\n",
       " 'assembly',\n",
       " 'imagery',\n",
       " 'hypnotic',\n",
       " 'music',\n",
       " 'composed',\n",
       " 'philip',\n",
       " 'glass',\n",
       " 'everyone',\n",
       " 'connect',\n",
       " 'nice',\n",
       " 'departure',\n",
       " 'standard',\n",
       " 'moviegoing',\n",
       " 'fare',\n",
       " 'scores',\n",
       " 'points',\n",
       " 'dedicated',\n",
       " 'good-hearted',\n",
       " 'professionalism',\n",
       " 'occasionally',\n",
       " 'melodramatic',\n",
       " 'also',\n",
       " 'extremely',\n",
       " 'spiderman',\n",
       " 'rocks',\n",
       " 'idealistic',\n",
       " 'love',\n",
       " 'story',\n",
       " 'brings',\n",
       " 'latent',\n",
       " '15-year-old',\n",
       " 'romantic',\n",
       " '95',\n",
       " 'minutes',\n",
       " 'treasure',\n",
       " 'planet',\n",
       " 'maintains',\n",
       " 'brisk',\n",
       " 'pace',\n",
       " 'races',\n",
       " 'familiar',\n",
       " 'however',\n",
       " 'lacks',\n",
       " 'grandeur',\n",
       " 'epic',\n",
       " 'often',\n",
       " 'associated',\n",
       " 'stevenson',\n",
       " 'tale',\n",
       " 'earlier',\n",
       " 'disney',\n",
       " 'efforts',\n",
       " 'helps',\n",
       " 'lil',\n",
       " 'bow',\n",
       " 'wow',\n",
       " 'tones',\n",
       " 'pint-sized',\n",
       " 'gangsta',\n",
       " 'act',\n",
       " 'play',\n",
       " 'someone',\n",
       " 'resembles',\n",
       " 'real',\n",
       " 'kid',\n",
       " 'guaranteed',\n",
       " 'move',\n",
       " 'anyone',\n",
       " 'shook',\n",
       " 'rattled',\n",
       " 'rolled',\n",
       " 'masterful',\n",
       " 'master',\n",
       " 'filmmaker',\n",
       " 'unique',\n",
       " 'deceptive',\n",
       " 'grimness',\n",
       " 'fatalist',\n",
       " 'worldview',\n",
       " 'light',\n",
       " 'cute',\n",
       " 'forgettable',\n",
       " 'way',\n",
       " 'effectively',\n",
       " 'teach',\n",
       " 'kids',\n",
       " 'dangers',\n",
       " 'drugs',\n",
       " 'think',\n",
       " 'projects',\n",
       " 'unfortunately',\n",
       " 'r-rated',\n",
       " 'paid',\n",
       " 'would',\n",
       " 'easy',\n",
       " 'give',\n",
       " 'crush',\n",
       " 'title',\n",
       " 'two',\n",
       " 'weddings',\n",
       " 'funeral',\n",
       " 'far',\n",
       " 'hugh',\n",
       " 'grant',\n",
       " 'whimsy',\n",
       " 'though',\n",
       " 'everything',\n",
       " 'might',\n",
       " 'literate',\n",
       " 'smart',\n",
       " 'never',\n",
       " 'took',\n",
       " 'always',\n",
       " 'seemed',\n",
       " 'static',\n",
       " 'cantet',\n",
       " 'perfectly',\n",
       " 'captures',\n",
       " 'hotel',\n",
       " 'lobbies',\n",
       " 'two-lane',\n",
       " 'highways',\n",
       " 'roadside',\n",
       " 'cafes',\n",
       " 'permeate',\n",
       " 'vincent',\n",
       " 'days',\n",
       " 'ms',\n",
       " 'fulford-wierzbicki',\n",
       " 'almost',\n",
       " 'spooky',\n",
       " 'sulky',\n",
       " 'calculating',\n",
       " 'lolita',\n",
       " 'turn',\n",
       " 'means',\n",
       " 'best',\n",
       " 'work',\n",
       " 'laissez-passer',\n",
       " 'distinguished',\n",
       " 'distinctive',\n",
       " 'effort',\n",
       " 'bona-fide',\n",
       " 'fascinating',\n",
       " 'replete',\n",
       " 'rewards',\n",
       " 'reap',\n",
       " 'bond',\n",
       " 'outings',\n",
       " 'recent',\n",
       " 'stunts',\n",
       " 'outlandish',\n",
       " 'border',\n",
       " 'cartoonlike',\n",
       " 'heavy',\n",
       " 'reliance',\n",
       " 'cgi',\n",
       " 'technology',\n",
       " 'beginning',\n",
       " 'creep',\n",
       " 'series',\n",
       " 'newton',\n",
       " 'draws',\n",
       " 'attention',\n",
       " 'magnet',\n",
       " 'acts',\n",
       " 'circles',\n",
       " 'around',\n",
       " 'better',\n",
       " 'known',\n",
       " 'co-star',\n",
       " 'mark',\n",
       " 'wahlberg',\n",
       " 'loses',\n",
       " 'bite',\n",
       " 'last-minute',\n",
       " 'happy',\n",
       " 'ending',\n",
       " 'less',\n",
       " 'plausible',\n",
       " 'rest',\n",
       " 'novel',\n",
       " 'ride',\n",
       " 'fuller',\n",
       " 'surely',\n",
       " 'called',\n",
       " 'gutsy',\n",
       " 'times',\n",
       " 'exhilarating',\n",
       " 'yarn',\n",
       " \"'compleja\",\n",
       " 'e',\n",
       " 'intelectualmente',\n",
       " 'retadora',\n",
       " 'el',\n",
       " 'ladrn',\n",
       " 'de',\n",
       " 'orqudeas',\n",
       " 'es',\n",
       " 'uno',\n",
       " 'esos',\n",
       " 'filmes',\n",
       " 'que',\n",
       " 'vale',\n",
       " 'la',\n",
       " 'pena',\n",
       " 'ver',\n",
       " 'precisamente',\n",
       " 'por',\n",
       " 'su',\n",
       " 'originalidad',\n",
       " 'makes',\n",
       " 'strong',\n",
       " 'case',\n",
       " 'importance',\n",
       " 'musicians',\n",
       " 'creating',\n",
       " 'motown',\n",
       " 'sound',\n",
       " 'karmen',\n",
       " 'moves',\n",
       " 'rhythm',\n",
       " 'lips',\n",
       " 'chanting',\n",
       " 'beat',\n",
       " 'long',\n",
       " 'braided',\n",
       " 'hair',\n",
       " 'little',\n",
       " 'wipe',\n",
       " 'away',\n",
       " 'jeweled',\n",
       " 'beads',\n",
       " 'sweat',\n",
       " 'gosling',\n",
       " 'performance',\n",
       " 'dwarfs',\n",
       " 'else',\n",
       " 'people',\n",
       " 'gives',\n",
       " 'glimpse',\n",
       " 'culture',\n",
       " 'know',\n",
       " 'tender',\n",
       " 'yet',\n",
       " 'lacerating',\n",
       " 'darkly',\n",
       " 'funny',\n",
       " 'fable',\n",
       " 'may',\n",
       " 'spoofing',\n",
       " 'target',\n",
       " 'old',\n",
       " \"'50\",\n",
       " 'giant',\n",
       " 'creature',\n",
       " 'features',\n",
       " 'acknowledges',\n",
       " 'celebrates',\n",
       " 'cheesiness',\n",
       " 'reason',\n",
       " 'get',\n",
       " 'kick',\n",
       " 'watching',\n",
       " 'today',\n",
       " 'engaging',\n",
       " 'overview',\n",
       " 'johnson',\n",
       " 'eccentric',\n",
       " 'career',\n",
       " 'ragged',\n",
       " 'cheap',\n",
       " 'unassuming',\n",
       " 'works',\n",
       " 'charisma',\n",
       " \"'d\",\n",
       " 'listen',\n",
       " 'reading',\n",
       " 'phone',\n",
       " 'book',\n",
       " 'sandra',\n",
       " 'bullock',\n",
       " 'likeable',\n",
       " 'nettelbeck',\n",
       " 'beautifully',\n",
       " 'orchestrates',\n",
       " 'transformation',\n",
       " 'chilly',\n",
       " 'self-absorbed',\n",
       " 'martha',\n",
       " 'begins',\n",
       " 'open',\n",
       " 'behind',\n",
       " 'snow',\n",
       " 'games',\n",
       " 'lovable',\n",
       " 'siberian',\n",
       " 'huskies',\n",
       " 'plus',\n",
       " 'sheep',\n",
       " 'dog',\n",
       " 'hosts',\n",
       " 'parka-wrapped',\n",
       " 'dose',\n",
       " 'everytime',\n",
       " 'undercover',\n",
       " 'brother',\n",
       " 'run',\n",
       " 'steam',\n",
       " 'finds',\n",
       " 'surprise',\n",
       " 'amuse',\n",
       " 'manages',\n",
       " 'original',\n",
       " 'rips',\n",
       " 'many',\n",
       " 'ideas',\n",
       " 'singer/composer',\n",
       " 'bryan',\n",
       " 'adams',\n",
       " 'contributes',\n",
       " 'slew',\n",
       " 'songs',\n",
       " 'potential',\n",
       " 'hits',\n",
       " 'simply',\n",
       " 'intrusive',\n",
       " 'whole',\n",
       " 'package',\n",
       " 'certainly',\n",
       " 'intended',\n",
       " 'er',\n",
       " 'spirit',\n",
       " 'piece',\n",
       " 'america',\n",
       " 'enough',\n",
       " 'plucky',\n",
       " 'british',\n",
       " 'eccentrics',\n",
       " 'hearts',\n",
       " 'gold',\n",
       " 'still',\n",
       " 'charming',\n",
       " 'whether',\n",
       " \"'re\",\n",
       " 'enlightened',\n",
       " 'derrida',\n",
       " 'lectures',\n",
       " 'self',\n",
       " 'undeniably',\n",
       " 'playful',\n",
       " 'fellow',\n",
       " 'pleasant',\n",
       " 'held',\n",
       " 'together',\n",
       " 'skilled',\n",
       " 'ensemble',\n",
       " 'american',\n",
       " 'troubled',\n",
       " 'teens',\n",
       " 'since',\n",
       " '1998',\n",
       " 'whatever',\n",
       " 'hit-or-miss',\n",
       " 'bringing',\n",
       " 'beloved',\n",
       " 'books',\n",
       " 'screen',\n",
       " 'tuck',\n",
       " 'everlasting',\n",
       " 'labour',\n",
       " 'involved',\n",
       " 'layered',\n",
       " 'richness',\n",
       " 'chiaroscuro',\n",
       " 'madness',\n",
       " 'astonishing',\n",
       " 'animated',\n",
       " 'subplot',\n",
       " 'depicts',\n",
       " 'inner',\n",
       " 'struggles',\n",
       " 'adolescent',\n",
       " 'heroes',\n",
       " 'insecure',\n",
       " 'uncontrolled',\n",
       " 'intense',\n",
       " 'invincible',\n",
       " 'werner',\n",
       " 'herzog',\n",
       " 'alive',\n",
       " 'living',\n",
       " 'morton',\n",
       " 'actress',\n",
       " 'portraying',\n",
       " 'complex',\n",
       " 'character',\n",
       " 'morvern',\n",
       " 'callar',\n",
       " 'grows',\n",
       " 'farther',\n",
       " 'meanders',\n",
       " 'shocking',\n",
       " 'part',\n",
       " 'charm',\n",
       " 'satin',\n",
       " 'rouge',\n",
       " 'avoids',\n",
       " 'obvious',\n",
       " 'humour',\n",
       " 'lightness',\n",
       " 'son',\n",
       " 'bride',\n",
       " 'half-hour',\n",
       " 'flattering',\n",
       " 'sense',\n",
       " 'mystery',\n",
       " 'quietness',\n",
       " 'simmering',\n",
       " 'psychological',\n",
       " 'drama',\n",
       " 'bursts',\n",
       " 'sudden',\n",
       " 'violence',\n",
       " 'startling',\n",
       " 'slow',\n",
       " 'buildup',\n",
       " 'preceded',\n",
       " 'taut',\n",
       " 'intelligent',\n",
       " 'coming-of-age',\n",
       " 'arduous',\n",
       " 'journey',\n",
       " 'sensitive',\n",
       " 'young',\n",
       " 'girl',\n",
       " 'foster',\n",
       " 'homes',\n",
       " 'fierce',\n",
       " 'struggle',\n",
       " 'pull',\n",
       " 'free',\n",
       " 'dangerous',\n",
       " 'domineering',\n",
       " 'mother',\n",
       " 'hold',\n",
       " 'truly',\n",
       " 'moving',\n",
       " 'experience',\n",
       " 'perfect',\n",
       " 'example',\n",
       " 'art',\n",
       " 'done',\n",
       " 'right',\n",
       " 'help',\n",
       " 'heal',\n",
       " 'clarify',\n",
       " 'comfort',\n",
       " 'delicately',\n",
       " 'deeply',\n",
       " 'felt',\n",
       " 'masterfully',\n",
       " 'stylized',\n",
       " 'triumph',\n",
       " 'maverick',\n",
       " 'director',\n",
       " 'deftly',\n",
       " 'wrought',\n",
       " 'suspense',\n",
       " 'whose',\n",
       " 'richer',\n",
       " 'shadings',\n",
       " 'coloring',\n",
       " 'rather',\n",
       " 'substance',\n",
       " 'appearance',\n",
       " 'treebeard',\n",
       " 'gollum',\n",
       " 'role',\n",
       " 'either',\n",
       " 'loving',\n",
       " 'rolling',\n",
       " 'eyes',\n",
       " 'loved',\n",
       " \"'performance\",\n",
       " 'incredible',\n",
       " 'ingeniously',\n",
       " 'constructed',\n",
       " 'memento',\n",
       " 'page-turner',\n",
       " 'ca',\n",
       " 'wait',\n",
       " 'see',\n",
       " 'happens',\n",
       " 'next',\n",
       " 'haneke',\n",
       " 'challenges',\n",
       " 'confront',\n",
       " 'reality',\n",
       " 'sexual',\n",
       " 'aberration',\n",
       " 'absorbing',\n",
       " 'originally',\n",
       " 'clarity',\n",
       " 'gone',\n",
       " 'year',\n",
       " 'benchmark',\n",
       " 'contenders',\n",
       " 'measured',\n",
       " 'painful',\n",
       " 'watch',\n",
       " 'viewers',\n",
       " 'chance',\n",
       " 'rewarded',\n",
       " 'accomplished',\n",
       " 'riveting',\n",
       " 'performances',\n",
       " 'albeit',\n",
       " 'depressing',\n",
       " 'view',\n",
       " 'iranian',\n",
       " 'rural',\n",
       " 'life',\n",
       " 'close',\n",
       " 'iraqi',\n",
       " 'imaginative',\n",
       " 'comedy/thriller',\n",
       " 'artsy',\n",
       " 'flourishes',\n",
       " 'aside',\n",
       " 'narc',\n",
       " 'gritty',\n",
       " 'gets',\n",
       " 'isle',\n",
       " 'preposterous',\n",
       " 'thoroughly',\n",
       " 'misogynistic',\n",
       " 'vistas',\n",
       " 'incredibly',\n",
       " 'beautiful',\n",
       " 'look',\n",
       " 'tok',\n",
       " 'orchestrate',\n",
       " 'buoyant',\n",
       " 'dance',\n",
       " 'death',\n",
       " 'process',\n",
       " 'demonstrate',\n",
       " 'lot',\n",
       " 'hong',\n",
       " 'kong',\n",
       " 'kapur',\n",
       " 'flair',\n",
       " 'landscapes',\n",
       " 'adventure',\n",
       " 'english-language',\n",
       " 'overpraised',\n",
       " 'elizabeth',\n",
       " 'blast',\n",
       " 'educational',\n",
       " 'energy',\n",
       " 'bouncy',\n",
       " 'animation',\n",
       " 'catchy',\n",
       " 'escort',\n",
       " 'entire',\n",
       " '85',\n",
       " 'sports',\n",
       " 'action',\n",
       " 'exciting',\n",
       " 'field',\n",
       " 'doug',\n",
       " 'liman',\n",
       " 'bourne',\n",
       " 'directs',\n",
       " 'traffic',\n",
       " 'wintry',\n",
       " 'locations',\n",
       " 'absorbs',\n",
       " 'spycraft',\n",
       " 'uses',\n",
       " 'damon',\n",
       " 'ability',\n",
       " 'focused',\n",
       " 'sincere',\n",
       " 'intact',\n",
       " 'katz',\n",
       " 'archival',\n",
       " 'footage',\n",
       " 'horrifying',\n",
       " 'documents',\n",
       " 'lynchings',\n",
       " 'photographs',\n",
       " 'reel-to-reel',\n",
       " 'recordings',\n",
       " 'meeropol',\n",
       " 'entertaining',\n",
       " 'children',\n",
       " 'create',\n",
       " 'song',\n",
       " 'history',\n",
       " 'powerful',\n",
       " 'anthropologically',\n",
       " 'detailed',\n",
       " 'realization',\n",
       " \"early-'80s\",\n",
       " 'suburbia',\n",
       " 'significant',\n",
       " 'without',\n",
       " 'overstated',\n",
       " 'mcfarlane',\n",
       " 'lifts',\n",
       " 'firmly',\n",
       " 'level',\n",
       " 'films',\n",
       " 'jarring',\n",
       " 'hard',\n",
       " 'back',\n",
       " 'boys',\n",
       " 'nothing',\n",
       " 'introduces',\n",
       " 'promising',\n",
       " 'unusual',\n",
       " 'kind',\n",
       " 'horror',\n",
       " 'normal',\n",
       " 'bromides',\n",
       " 'barely',\n",
       " 'sustain',\n",
       " 'interstitial',\n",
       " 'program',\n",
       " 'discovery',\n",
       " 'channel',\n",
       " 'imax',\n",
       " '3-d',\n",
       " 'clichs',\n",
       " 'disappear',\n",
       " 'vertiginous',\n",
       " 'perspectives',\n",
       " 'opened',\n",
       " 'photography',\n",
       " 'writer-director',\n",
       " 'burger',\n",
       " 'imaginatively',\n",
       " 'fans',\n",
       " 'embers',\n",
       " 'dormant',\n",
       " 'national',\n",
       " 'grief',\n",
       " 'curiosity',\n",
       " 'calcified',\n",
       " 'chronic',\n",
       " 'cynicism',\n",
       " 'fear',\n",
       " 'roller-coaster',\n",
       " 'enjoyed',\n",
       " 'time',\n",
       " 'favor',\n",
       " 'surprised',\n",
       " 'quickly',\n",
       " 'faded',\n",
       " 'memory',\n",
       " 'chicago',\n",
       " 'sophisticated',\n",
       " 'brash',\n",
       " 'sardonic',\n",
       " 'completely',\n",
       " 'joyful',\n",
       " 'execution',\n",
       " 'steve',\n",
       " 'irwin',\n",
       " 'method',\n",
       " 'ernest',\n",
       " 'hemmingway',\n",
       " 'accelerated',\n",
       " 'speed',\n",
       " 'volume',\n",
       " 'refreshing',\n",
       " 'korean',\n",
       " 'five',\n",
       " 'female',\n",
       " 'high',\n",
       " 'school',\n",
       " 'friends',\n",
       " 'face',\n",
       " 'uphill',\n",
       " 'battle',\n",
       " 'try',\n",
       " 'relationships',\n",
       " 'deeper',\n",
       " 'waters',\n",
       " 'surface',\n",
       " 'lovers-on-the-run',\n",
       " 'crime',\n",
       " 'flick',\n",
       " 'common',\n",
       " 'piesiewicz',\n",
       " 'kieslowski',\n",
       " 'double',\n",
       " 'veronique',\n",
       " 'values',\n",
       " 'enterprise',\n",
       " 'crew',\n",
       " 'previous',\n",
       " 'adventures',\n",
       " 'perils',\n",
       " 'again-courage',\n",
       " 'self-sacrifice',\n",
       " 'patience',\n",
       " 'pressure',\n",
       " 'possible',\n",
       " 'sequel',\n",
       " 'outshine',\n",
       " 'sl2',\n",
       " 'comedy',\n",
       " 'operates',\n",
       " 'rules',\n",
       " 'self-contained',\n",
       " 'universe',\n",
       " '4',\n",
       " '2',\n",
       " 'couples',\n",
       " '2000',\n",
       " 'miles',\n",
       " 'pabst',\n",
       " 'blue',\n",
       " 'ribbon',\n",
       " 'beer',\n",
       " 'drink',\n",
       " 'ultimate',\n",
       " 'redneck',\n",
       " 'road-trip',\n",
       " 'filled',\n",
       " 'pure',\n",
       " 'wonderment',\n",
       " 'excitement',\n",
       " 'seen',\n",
       " 'du',\n",
       " 'sarcasm',\n",
       " 'tempting',\n",
       " 'regard',\n",
       " 'mr',\n",
       " 'andrew',\n",
       " 'collaborators',\n",
       " 'oddballs',\n",
       " 'earnhart',\n",
       " 'quizzical',\n",
       " 'allows',\n",
       " 'finally',\n",
       " 'artists',\n",
       " 'feel-good',\n",
       " 'term',\n",
       " 'edited',\n",
       " 'shot',\n",
       " 'syncopated',\n",
       " 'style',\n",
       " 'mimicking',\n",
       " 'subjects',\n",
       " 'pray',\n",
       " 'idea',\n",
       " 'head',\n",
       " 'rousing',\n",
       " 'invigorating',\n",
       " 'lacking',\n",
       " 'mtv',\n",
       " 'puffery',\n",
       " 'mostly',\n",
       " 'engrossing',\n",
       " 'psychologically',\n",
       " 'resonant',\n",
       " 'suspenser',\n",
       " 'memory-as-identity',\n",
       " 'obviation',\n",
       " 'secret',\n",
       " 'intermittent',\n",
       " 'unease',\n",
       " 'reaffirming',\n",
       " 'long-held',\n",
       " 'illusions',\n",
       " 'indeed',\n",
       " 'erasing',\n",
       " 'recasts',\n",
       " 'hip-hop',\n",
       " 'metaphor',\n",
       " 'scope',\n",
       " 'ambition',\n",
       " 'accomplishment',\n",
       " 'takes',\n",
       " 'kurys',\n",
       " 'dramatic',\n",
       " 'gut-wrenching',\n",
       " 'impact',\n",
       " 'holocaust',\n",
       " 'mainly',\n",
       " 'told',\n",
       " 'cube',\n",
       " 'personal',\n",
       " 'revelations',\n",
       " 'regarding',\n",
       " 'shop',\n",
       " 'big',\n",
       " 'iconic',\n",
       " 'characters',\n",
       " 'gambol',\n",
       " 'fluidly',\n",
       " 'results',\n",
       " 'gentle',\n",
       " 'compassionate',\n",
       " 'healing',\n",
       " 'somewhere',\n",
       " 'short',\n",
       " 'tremors',\n",
       " 'modern',\n",
       " 'b-scene',\n",
       " ...]"
      ]
     },
     "execution_count": 79,
     "metadata": {},
     "output_type": "execute_result"
    }
   ],
   "source": [
    "# Here is the list of all words retained:\n",
    "vocab"
   ]
  },
  {
   "cell_type": "markdown",
   "id": "a7e5941b-9575-4e43-ab5a-71b75e9ac14a",
   "metadata": {},
   "source": [
    "Each review is made into a \"feature vector\".  This vector is a long dictionary -- every word in the total `vocab` list is a key and for each key, the value is set to `1` if the word is in the review and to `0` if the word is not in the review."
   ]
  },
  {
   "cell_type": "code",
   "execution_count": 80,
   "id": "630f3a83-8046-4fbe-904a-ec3a8151a5ba",
   "metadata": {},
   "outputs": [],
   "source": [
    "def makeFeatureVector(review):\n",
    "    words = [w for w in word_tokenize(review.lower()) if w not in myStopWords]\n",
    "    featureVector = {}\n",
    "    for word in vocab:\n",
    "        if word in words:\n",
    "            featureVector[word] = 1\n",
    "        else:\n",
    "            featureVector[word] = 0\n",
    "    return featureVector"
   ]
  },
  {
   "cell_type": "markdown",
   "id": "6d088554-a51f-421e-8611-61e2758ef433",
   "metadata": {},
   "source": [
    "Here's an example of the feature vector for a review that reads \"This is my favorite movie\""
   ]
  },
  {
   "cell_type": "code",
   "execution_count": 81,
   "id": "590f0a1f-231c-45f3-bdfd-28757cef8cf9",
   "metadata": {
    "tags": []
   },
   "outputs": [
    {
     "data": {
      "text/plain": [
       "{'rock': 0,\n",
       " 'destined': 0,\n",
       " '21st': 0,\n",
       " 'century': 0,\n",
       " \"'s\": 0,\n",
       " 'new': 0,\n",
       " '``': 0,\n",
       " 'conan': 0,\n",
       " 'going': 0,\n",
       " 'make': 0,\n",
       " 'splash': 0,\n",
       " 'even': 0,\n",
       " 'greater': 0,\n",
       " 'arnold': 0,\n",
       " 'schwarzenegger': 0,\n",
       " 'jean-claud': 0,\n",
       " 'van': 0,\n",
       " 'damme': 0,\n",
       " 'steven': 0,\n",
       " 'segal': 0,\n",
       " 'gorgeously': 0,\n",
       " 'elaborate': 0,\n",
       " 'continuation': 0,\n",
       " 'lord': 0,\n",
       " 'rings': 0,\n",
       " 'trilogy': 0,\n",
       " 'huge': 0,\n",
       " 'column': 0,\n",
       " 'words': 0,\n",
       " 'adequately': 0,\n",
       " 'describe': 0,\n",
       " 'co-writer/director': 0,\n",
       " 'peter': 0,\n",
       " 'jackson': 0,\n",
       " 'expanded': 0,\n",
       " 'vision': 0,\n",
       " 'j': 0,\n",
       " 'r': 0,\n",
       " 'tolkien': 0,\n",
       " 'middle-earth': 0,\n",
       " 'effective': 0,\n",
       " 'too-tepid': 0,\n",
       " 'biopic': 0,\n",
       " 'sometimes': 0,\n",
       " 'like': 0,\n",
       " 'go': 0,\n",
       " 'movies': 0,\n",
       " 'fun': 0,\n",
       " 'wasabi': 0,\n",
       " 'good': 0,\n",
       " 'place': 0,\n",
       " 'start': 0,\n",
       " 'emerges': 0,\n",
       " 'something': 0,\n",
       " 'rare': 0,\n",
       " 'issue': 0,\n",
       " 'movie': 1,\n",
       " 'honest': 0,\n",
       " 'keenly': 0,\n",
       " 'observed': 0,\n",
       " \"n't\": 0,\n",
       " 'feel': 0,\n",
       " 'one': 0,\n",
       " 'film': 0,\n",
       " 'provides': 0,\n",
       " 'great': 0,\n",
       " 'insight': 0,\n",
       " 'neurotic': 0,\n",
       " 'mindset': 0,\n",
       " 'comics': 0,\n",
       " '--': 0,\n",
       " 'reached': 0,\n",
       " 'absolute': 0,\n",
       " 'top': 0,\n",
       " 'game': 0,\n",
       " 'offers': 0,\n",
       " 'combination': 0,\n",
       " 'entertainment': 0,\n",
       " 'education': 0,\n",
       " 'perhaps': 0,\n",
       " 'picture': 0,\n",
       " 'ever': 0,\n",
       " 'made': 0,\n",
       " 'literally': 0,\n",
       " 'showed': 0,\n",
       " 'road': 0,\n",
       " 'hell': 0,\n",
       " 'paved': 0,\n",
       " 'intentions': 0,\n",
       " 'steers': 0,\n",
       " 'turns': 0,\n",
       " 'snappy': 0,\n",
       " 'screenplay': 0,\n",
       " 'curls': 0,\n",
       " 'edges': 0,\n",
       " 'clever': 0,\n",
       " 'want': 0,\n",
       " 'hate': 0,\n",
       " 'somehow': 0,\n",
       " 'pulls': 0,\n",
       " 'take': 0,\n",
       " 'care': 0,\n",
       " 'cat': 0,\n",
       " 'refreshingly': 0,\n",
       " 'different': 0,\n",
       " 'slice': 0,\n",
       " 'asian': 0,\n",
       " 'cinema': 0,\n",
       " 'well': 0,\n",
       " 'worth': 0,\n",
       " 'seeing': 0,\n",
       " 'talking': 0,\n",
       " 'singing': 0,\n",
       " 'heads': 0,\n",
       " 'really': 0,\n",
       " 'surprises': 0,\n",
       " 'wisegirls': 0,\n",
       " 'low-key': 0,\n",
       " 'quality': 0,\n",
       " 'genuine': 0,\n",
       " 'tenderness': 0,\n",
       " 'wendigo': 0,\n",
       " 'fed': 0,\n",
       " 'eye': 0,\n",
       " 'heart': 0,\n",
       " 'mind': 0,\n",
       " 'greatest': 0,\n",
       " 'family-oriented': 0,\n",
       " 'fantasy-adventure': 0,\n",
       " 'ultimately': 0,\n",
       " 'ponders': 0,\n",
       " 'reasons': 0,\n",
       " 'need': 0,\n",
       " 'stories': 0,\n",
       " 'much': 0,\n",
       " 'utterly': 0,\n",
       " 'compelling': 0,\n",
       " \"'who\": 0,\n",
       " 'wrote': 0,\n",
       " 'reputation': 0,\n",
       " 'famous': 0,\n",
       " 'author': 0,\n",
       " 'lived': 0,\n",
       " 'comes': 0,\n",
       " 'question': 0,\n",
       " 'illuminating': 0,\n",
       " 'overly': 0,\n",
       " 'talky': 0,\n",
       " 'documentary': 0,\n",
       " 'masterpiece': 0,\n",
       " 'four': 0,\n",
       " 'years': 0,\n",
       " 'making': 0,\n",
       " 'ripe': 0,\n",
       " 'enrapturing': 0,\n",
       " 'beauty': 0,\n",
       " 'tempt': 0,\n",
       " 'willing': 0,\n",
       " 'probe': 0,\n",
       " 'inscrutable': 0,\n",
       " 'mysteries': 0,\n",
       " 'breath': 0,\n",
       " 'fresh': 0,\n",
       " 'air': 0,\n",
       " 'true': 0,\n",
       " 'sophistication': 0,\n",
       " 'thoughtful': 0,\n",
       " 'provocative': 0,\n",
       " 'insistently': 0,\n",
       " 'humanizing': 0,\n",
       " 'cast': 0,\n",
       " 'includes': 0,\n",
       " 'actors': 0,\n",
       " 'working': 0,\n",
       " 'independent': 0,\n",
       " 'lovely': 0,\n",
       " 'amazing': 0,\n",
       " 'involves': 0,\n",
       " 'us': 0,\n",
       " 'incisive': 0,\n",
       " 'bleakly': 0,\n",
       " 'amusing': 0,\n",
       " 'lives': 0,\n",
       " 'disturbing': 0,\n",
       " 'frighteningly': 0,\n",
       " 'evocative': 0,\n",
       " 'assembly': 0,\n",
       " 'imagery': 0,\n",
       " 'hypnotic': 0,\n",
       " 'music': 0,\n",
       " 'composed': 0,\n",
       " 'philip': 0,\n",
       " 'glass': 0,\n",
       " 'everyone': 0,\n",
       " 'connect': 0,\n",
       " 'nice': 0,\n",
       " 'departure': 0,\n",
       " 'standard': 0,\n",
       " 'moviegoing': 0,\n",
       " 'fare': 0,\n",
       " 'scores': 0,\n",
       " 'points': 0,\n",
       " 'dedicated': 0,\n",
       " 'good-hearted': 0,\n",
       " 'professionalism': 0,\n",
       " 'occasionally': 0,\n",
       " 'melodramatic': 0,\n",
       " 'also': 0,\n",
       " 'extremely': 0,\n",
       " 'spiderman': 0,\n",
       " 'rocks': 0,\n",
       " 'idealistic': 0,\n",
       " 'love': 0,\n",
       " 'story': 0,\n",
       " 'brings': 0,\n",
       " 'latent': 0,\n",
       " '15-year-old': 0,\n",
       " 'romantic': 0,\n",
       " '95': 0,\n",
       " 'minutes': 0,\n",
       " 'treasure': 0,\n",
       " 'planet': 0,\n",
       " 'maintains': 0,\n",
       " 'brisk': 0,\n",
       " 'pace': 0,\n",
       " 'races': 0,\n",
       " 'familiar': 0,\n",
       " 'however': 0,\n",
       " 'lacks': 0,\n",
       " 'grandeur': 0,\n",
       " 'epic': 0,\n",
       " 'often': 0,\n",
       " 'associated': 0,\n",
       " 'stevenson': 0,\n",
       " 'tale': 0,\n",
       " 'earlier': 0,\n",
       " 'disney': 0,\n",
       " 'efforts': 0,\n",
       " 'helps': 0,\n",
       " 'lil': 0,\n",
       " 'bow': 0,\n",
       " 'wow': 0,\n",
       " 'tones': 0,\n",
       " 'pint-sized': 0,\n",
       " 'gangsta': 0,\n",
       " 'act': 0,\n",
       " 'play': 0,\n",
       " 'someone': 0,\n",
       " 'resembles': 0,\n",
       " 'real': 0,\n",
       " 'kid': 0,\n",
       " 'guaranteed': 0,\n",
       " 'move': 0,\n",
       " 'anyone': 0,\n",
       " 'shook': 0,\n",
       " 'rattled': 0,\n",
       " 'rolled': 0,\n",
       " 'masterful': 0,\n",
       " 'master': 0,\n",
       " 'filmmaker': 0,\n",
       " 'unique': 0,\n",
       " 'deceptive': 0,\n",
       " 'grimness': 0,\n",
       " 'fatalist': 0,\n",
       " 'worldview': 0,\n",
       " 'light': 0,\n",
       " 'cute': 0,\n",
       " 'forgettable': 0,\n",
       " 'way': 0,\n",
       " 'effectively': 0,\n",
       " 'teach': 0,\n",
       " 'kids': 0,\n",
       " 'dangers': 0,\n",
       " 'drugs': 0,\n",
       " 'think': 0,\n",
       " 'projects': 0,\n",
       " 'unfortunately': 0,\n",
       " 'r-rated': 0,\n",
       " 'paid': 0,\n",
       " 'would': 0,\n",
       " 'easy': 0,\n",
       " 'give': 0,\n",
       " 'crush': 0,\n",
       " 'title': 0,\n",
       " 'two': 0,\n",
       " 'weddings': 0,\n",
       " 'funeral': 0,\n",
       " 'far': 0,\n",
       " 'hugh': 0,\n",
       " 'grant': 0,\n",
       " 'whimsy': 0,\n",
       " 'though': 0,\n",
       " 'everything': 0,\n",
       " 'might': 0,\n",
       " 'literate': 0,\n",
       " 'smart': 0,\n",
       " 'never': 0,\n",
       " 'took': 0,\n",
       " 'always': 0,\n",
       " 'seemed': 0,\n",
       " 'static': 0,\n",
       " 'cantet': 0,\n",
       " 'perfectly': 0,\n",
       " 'captures': 0,\n",
       " 'hotel': 0,\n",
       " 'lobbies': 0,\n",
       " 'two-lane': 0,\n",
       " 'highways': 0,\n",
       " 'roadside': 0,\n",
       " 'cafes': 0,\n",
       " 'permeate': 0,\n",
       " 'vincent': 0,\n",
       " 'days': 0,\n",
       " 'ms': 0,\n",
       " 'fulford-wierzbicki': 0,\n",
       " 'almost': 0,\n",
       " 'spooky': 0,\n",
       " 'sulky': 0,\n",
       " 'calculating': 0,\n",
       " 'lolita': 0,\n",
       " 'turn': 0,\n",
       " 'means': 0,\n",
       " 'best': 0,\n",
       " 'work': 0,\n",
       " 'laissez-passer': 0,\n",
       " 'distinguished': 0,\n",
       " 'distinctive': 0,\n",
       " 'effort': 0,\n",
       " 'bona-fide': 0,\n",
       " 'fascinating': 0,\n",
       " 'replete': 0,\n",
       " 'rewards': 0,\n",
       " 'reap': 0,\n",
       " 'bond': 0,\n",
       " 'outings': 0,\n",
       " 'recent': 0,\n",
       " 'stunts': 0,\n",
       " 'outlandish': 0,\n",
       " 'border': 0,\n",
       " 'cartoonlike': 0,\n",
       " 'heavy': 0,\n",
       " 'reliance': 0,\n",
       " 'cgi': 0,\n",
       " 'technology': 0,\n",
       " 'beginning': 0,\n",
       " 'creep': 0,\n",
       " 'series': 0,\n",
       " 'newton': 0,\n",
       " 'draws': 0,\n",
       " 'attention': 0,\n",
       " 'magnet': 0,\n",
       " 'acts': 0,\n",
       " 'circles': 0,\n",
       " 'around': 0,\n",
       " 'better': 0,\n",
       " 'known': 0,\n",
       " 'co-star': 0,\n",
       " 'mark': 0,\n",
       " 'wahlberg': 0,\n",
       " 'loses': 0,\n",
       " 'bite': 0,\n",
       " 'last-minute': 0,\n",
       " 'happy': 0,\n",
       " 'ending': 0,\n",
       " 'less': 0,\n",
       " 'plausible': 0,\n",
       " 'rest': 0,\n",
       " 'novel': 0,\n",
       " 'ride': 0,\n",
       " 'fuller': 0,\n",
       " 'surely': 0,\n",
       " 'called': 0,\n",
       " 'gutsy': 0,\n",
       " 'times': 0,\n",
       " 'exhilarating': 0,\n",
       " 'yarn': 0,\n",
       " \"'compleja\": 0,\n",
       " 'e': 0,\n",
       " 'intelectualmente': 0,\n",
       " 'retadora': 0,\n",
       " 'el': 0,\n",
       " 'ladrn': 0,\n",
       " 'de': 0,\n",
       " 'orqudeas': 0,\n",
       " 'es': 0,\n",
       " 'uno': 0,\n",
       " 'esos': 0,\n",
       " 'filmes': 0,\n",
       " 'que': 0,\n",
       " 'vale': 0,\n",
       " 'la': 0,\n",
       " 'pena': 0,\n",
       " 'ver': 0,\n",
       " 'precisamente': 0,\n",
       " 'por': 0,\n",
       " 'su': 0,\n",
       " 'originalidad': 0,\n",
       " 'makes': 0,\n",
       " 'strong': 0,\n",
       " 'case': 0,\n",
       " 'importance': 0,\n",
       " 'musicians': 0,\n",
       " 'creating': 0,\n",
       " 'motown': 0,\n",
       " 'sound': 0,\n",
       " 'karmen': 0,\n",
       " 'moves': 0,\n",
       " 'rhythm': 0,\n",
       " 'lips': 0,\n",
       " 'chanting': 0,\n",
       " 'beat': 0,\n",
       " 'long': 0,\n",
       " 'braided': 0,\n",
       " 'hair': 0,\n",
       " 'little': 0,\n",
       " 'wipe': 0,\n",
       " 'away': 0,\n",
       " 'jeweled': 0,\n",
       " 'beads': 0,\n",
       " 'sweat': 0,\n",
       " 'gosling': 0,\n",
       " 'performance': 0,\n",
       " 'dwarfs': 0,\n",
       " 'else': 0,\n",
       " 'people': 0,\n",
       " 'gives': 0,\n",
       " 'glimpse': 0,\n",
       " 'culture': 0,\n",
       " 'know': 0,\n",
       " 'tender': 0,\n",
       " 'yet': 0,\n",
       " 'lacerating': 0,\n",
       " 'darkly': 0,\n",
       " 'funny': 0,\n",
       " 'fable': 0,\n",
       " 'may': 0,\n",
       " 'spoofing': 0,\n",
       " 'target': 0,\n",
       " 'old': 0,\n",
       " \"'50\": 0,\n",
       " 'giant': 0,\n",
       " 'creature': 0,\n",
       " 'features': 0,\n",
       " 'acknowledges': 0,\n",
       " 'celebrates': 0,\n",
       " 'cheesiness': 0,\n",
       " 'reason': 0,\n",
       " 'get': 0,\n",
       " 'kick': 0,\n",
       " 'watching': 0,\n",
       " 'today': 0,\n",
       " 'engaging': 0,\n",
       " 'overview': 0,\n",
       " 'johnson': 0,\n",
       " 'eccentric': 0,\n",
       " 'career': 0,\n",
       " 'ragged': 0,\n",
       " 'cheap': 0,\n",
       " 'unassuming': 0,\n",
       " 'works': 0,\n",
       " 'charisma': 0,\n",
       " \"'d\": 0,\n",
       " 'listen': 0,\n",
       " 'reading': 0,\n",
       " 'phone': 0,\n",
       " 'book': 0,\n",
       " 'sandra': 0,\n",
       " 'bullock': 0,\n",
       " 'likeable': 0,\n",
       " 'nettelbeck': 0,\n",
       " 'beautifully': 0,\n",
       " 'orchestrates': 0,\n",
       " 'transformation': 0,\n",
       " 'chilly': 0,\n",
       " 'self-absorbed': 0,\n",
       " 'martha': 0,\n",
       " 'begins': 0,\n",
       " 'open': 0,\n",
       " 'behind': 0,\n",
       " 'snow': 0,\n",
       " 'games': 0,\n",
       " 'lovable': 0,\n",
       " 'siberian': 0,\n",
       " 'huskies': 0,\n",
       " 'plus': 0,\n",
       " 'sheep': 0,\n",
       " 'dog': 0,\n",
       " 'hosts': 0,\n",
       " 'parka-wrapped': 0,\n",
       " 'dose': 0,\n",
       " 'everytime': 0,\n",
       " 'undercover': 0,\n",
       " 'brother': 0,\n",
       " 'run': 0,\n",
       " 'steam': 0,\n",
       " 'finds': 0,\n",
       " 'surprise': 0,\n",
       " 'amuse': 0,\n",
       " 'manages': 0,\n",
       " 'original': 0,\n",
       " 'rips': 0,\n",
       " 'many': 0,\n",
       " 'ideas': 0,\n",
       " 'singer/composer': 0,\n",
       " 'bryan': 0,\n",
       " 'adams': 0,\n",
       " 'contributes': 0,\n",
       " 'slew': 0,\n",
       " 'songs': 0,\n",
       " 'potential': 0,\n",
       " 'hits': 0,\n",
       " 'simply': 0,\n",
       " 'intrusive': 0,\n",
       " 'whole': 0,\n",
       " 'package': 0,\n",
       " 'certainly': 0,\n",
       " 'intended': 0,\n",
       " 'er': 0,\n",
       " 'spirit': 0,\n",
       " 'piece': 0,\n",
       " 'america': 0,\n",
       " 'enough': 0,\n",
       " 'plucky': 0,\n",
       " 'british': 0,\n",
       " 'eccentrics': 0,\n",
       " 'hearts': 0,\n",
       " 'gold': 0,\n",
       " 'still': 0,\n",
       " 'charming': 0,\n",
       " 'whether': 0,\n",
       " \"'re\": 0,\n",
       " 'enlightened': 0,\n",
       " 'derrida': 0,\n",
       " 'lectures': 0,\n",
       " 'self': 0,\n",
       " 'undeniably': 0,\n",
       " 'playful': 0,\n",
       " 'fellow': 0,\n",
       " 'pleasant': 0,\n",
       " 'held': 0,\n",
       " 'together': 0,\n",
       " 'skilled': 0,\n",
       " 'ensemble': 0,\n",
       " 'american': 0,\n",
       " 'troubled': 0,\n",
       " 'teens': 0,\n",
       " 'since': 0,\n",
       " '1998': 0,\n",
       " 'whatever': 0,\n",
       " 'hit-or-miss': 0,\n",
       " 'bringing': 0,\n",
       " 'beloved': 0,\n",
       " 'books': 0,\n",
       " 'screen': 0,\n",
       " 'tuck': 0,\n",
       " 'everlasting': 0,\n",
       " 'labour': 0,\n",
       " 'involved': 0,\n",
       " 'layered': 0,\n",
       " 'richness': 0,\n",
       " 'chiaroscuro': 0,\n",
       " 'madness': 0,\n",
       " 'astonishing': 0,\n",
       " 'animated': 0,\n",
       " 'subplot': 0,\n",
       " 'depicts': 0,\n",
       " 'inner': 0,\n",
       " 'struggles': 0,\n",
       " 'adolescent': 0,\n",
       " 'heroes': 0,\n",
       " 'insecure': 0,\n",
       " 'uncontrolled': 0,\n",
       " 'intense': 0,\n",
       " 'invincible': 0,\n",
       " 'werner': 0,\n",
       " 'herzog': 0,\n",
       " 'alive': 0,\n",
       " 'living': 0,\n",
       " 'morton': 0,\n",
       " 'actress': 0,\n",
       " 'portraying': 0,\n",
       " 'complex': 0,\n",
       " 'character': 0,\n",
       " 'morvern': 0,\n",
       " 'callar': 0,\n",
       " 'grows': 0,\n",
       " 'farther': 0,\n",
       " 'meanders': 0,\n",
       " 'shocking': 0,\n",
       " 'part': 0,\n",
       " 'charm': 0,\n",
       " 'satin': 0,\n",
       " 'rouge': 0,\n",
       " 'avoids': 0,\n",
       " 'obvious': 0,\n",
       " 'humour': 0,\n",
       " 'lightness': 0,\n",
       " 'son': 0,\n",
       " 'bride': 0,\n",
       " 'half-hour': 0,\n",
       " 'flattering': 0,\n",
       " 'sense': 0,\n",
       " 'mystery': 0,\n",
       " 'quietness': 0,\n",
       " 'simmering': 0,\n",
       " 'psychological': 0,\n",
       " 'drama': 0,\n",
       " 'bursts': 0,\n",
       " 'sudden': 0,\n",
       " 'violence': 0,\n",
       " 'startling': 0,\n",
       " 'slow': 0,\n",
       " 'buildup': 0,\n",
       " 'preceded': 0,\n",
       " 'taut': 0,\n",
       " 'intelligent': 0,\n",
       " 'coming-of-age': 0,\n",
       " 'arduous': 0,\n",
       " 'journey': 0,\n",
       " 'sensitive': 0,\n",
       " 'young': 0,\n",
       " 'girl': 0,\n",
       " 'foster': 0,\n",
       " 'homes': 0,\n",
       " 'fierce': 0,\n",
       " 'struggle': 0,\n",
       " 'pull': 0,\n",
       " 'free': 0,\n",
       " 'dangerous': 0,\n",
       " 'domineering': 0,\n",
       " 'mother': 0,\n",
       " 'hold': 0,\n",
       " 'truly': 0,\n",
       " 'moving': 0,\n",
       " 'experience': 0,\n",
       " 'perfect': 0,\n",
       " 'example': 0,\n",
       " 'art': 0,\n",
       " 'done': 0,\n",
       " 'right': 0,\n",
       " 'help': 0,\n",
       " 'heal': 0,\n",
       " 'clarify': 0,\n",
       " 'comfort': 0,\n",
       " 'delicately': 0,\n",
       " 'deeply': 0,\n",
       " 'felt': 0,\n",
       " 'masterfully': 0,\n",
       " 'stylized': 0,\n",
       " 'triumph': 0,\n",
       " 'maverick': 0,\n",
       " 'director': 0,\n",
       " 'deftly': 0,\n",
       " 'wrought': 0,\n",
       " 'suspense': 0,\n",
       " 'whose': 0,\n",
       " 'richer': 0,\n",
       " 'shadings': 0,\n",
       " 'coloring': 0,\n",
       " 'rather': 0,\n",
       " 'substance': 0,\n",
       " 'appearance': 0,\n",
       " 'treebeard': 0,\n",
       " 'gollum': 0,\n",
       " 'role': 0,\n",
       " 'either': 0,\n",
       " 'loving': 0,\n",
       " 'rolling': 0,\n",
       " 'eyes': 0,\n",
       " 'loved': 0,\n",
       " \"'performance\": 0,\n",
       " 'incredible': 0,\n",
       " 'ingeniously': 0,\n",
       " 'constructed': 0,\n",
       " 'memento': 0,\n",
       " 'page-turner': 0,\n",
       " 'ca': 0,\n",
       " 'wait': 0,\n",
       " 'see': 0,\n",
       " 'happens': 0,\n",
       " 'next': 0,\n",
       " 'haneke': 0,\n",
       " 'challenges': 0,\n",
       " 'confront': 0,\n",
       " 'reality': 0,\n",
       " 'sexual': 0,\n",
       " 'aberration': 0,\n",
       " 'absorbing': 0,\n",
       " 'originally': 0,\n",
       " 'clarity': 0,\n",
       " 'gone': 0,\n",
       " 'year': 0,\n",
       " 'benchmark': 0,\n",
       " 'contenders': 0,\n",
       " 'measured': 0,\n",
       " 'painful': 0,\n",
       " 'watch': 0,\n",
       " 'viewers': 0,\n",
       " 'chance': 0,\n",
       " 'rewarded': 0,\n",
       " 'accomplished': 0,\n",
       " 'riveting': 0,\n",
       " 'performances': 0,\n",
       " 'albeit': 0,\n",
       " 'depressing': 0,\n",
       " 'view': 0,\n",
       " 'iranian': 0,\n",
       " 'rural': 0,\n",
       " 'life': 0,\n",
       " 'close': 0,\n",
       " 'iraqi': 0,\n",
       " 'imaginative': 0,\n",
       " 'comedy/thriller': 0,\n",
       " 'artsy': 0,\n",
       " 'flourishes': 0,\n",
       " 'aside': 0,\n",
       " 'narc': 0,\n",
       " 'gritty': 0,\n",
       " 'gets': 0,\n",
       " 'isle': 0,\n",
       " 'preposterous': 0,\n",
       " 'thoroughly': 0,\n",
       " 'misogynistic': 0,\n",
       " 'vistas': 0,\n",
       " 'incredibly': 0,\n",
       " 'beautiful': 0,\n",
       " 'look': 0,\n",
       " 'tok': 0,\n",
       " 'orchestrate': 0,\n",
       " 'buoyant': 0,\n",
       " 'dance': 0,\n",
       " 'death': 0,\n",
       " 'process': 0,\n",
       " 'demonstrate': 0,\n",
       " 'lot': 0,\n",
       " 'hong': 0,\n",
       " 'kong': 0,\n",
       " 'kapur': 0,\n",
       " 'flair': 0,\n",
       " 'landscapes': 0,\n",
       " 'adventure': 0,\n",
       " 'english-language': 0,\n",
       " 'overpraised': 0,\n",
       " 'elizabeth': 0,\n",
       " 'blast': 0,\n",
       " 'educational': 0,\n",
       " 'energy': 0,\n",
       " 'bouncy': 0,\n",
       " 'animation': 0,\n",
       " 'catchy': 0,\n",
       " 'escort': 0,\n",
       " 'entire': 0,\n",
       " '85': 0,\n",
       " 'sports': 0,\n",
       " 'action': 0,\n",
       " 'exciting': 0,\n",
       " 'field': 0,\n",
       " 'doug': 0,\n",
       " 'liman': 0,\n",
       " 'bourne': 0,\n",
       " 'directs': 0,\n",
       " 'traffic': 0,\n",
       " 'wintry': 0,\n",
       " 'locations': 0,\n",
       " 'absorbs': 0,\n",
       " 'spycraft': 0,\n",
       " 'uses': 0,\n",
       " 'damon': 0,\n",
       " 'ability': 0,\n",
       " 'focused': 0,\n",
       " 'sincere': 0,\n",
       " 'intact': 0,\n",
       " 'katz': 0,\n",
       " 'archival': 0,\n",
       " 'footage': 0,\n",
       " 'horrifying': 0,\n",
       " 'documents': 0,\n",
       " 'lynchings': 0,\n",
       " 'photographs': 0,\n",
       " 'reel-to-reel': 0,\n",
       " 'recordings': 0,\n",
       " 'meeropol': 0,\n",
       " 'entertaining': 0,\n",
       " 'children': 0,\n",
       " 'create': 0,\n",
       " 'song': 0,\n",
       " 'history': 0,\n",
       " 'powerful': 0,\n",
       " 'anthropologically': 0,\n",
       " 'detailed': 0,\n",
       " 'realization': 0,\n",
       " \"early-'80s\": 0,\n",
       " 'suburbia': 0,\n",
       " 'significant': 0,\n",
       " 'without': 0,\n",
       " 'overstated': 0,\n",
       " 'mcfarlane': 0,\n",
       " 'lifts': 0,\n",
       " 'firmly': 0,\n",
       " 'level': 0,\n",
       " 'films': 0,\n",
       " 'jarring': 0,\n",
       " 'hard': 0,\n",
       " 'back': 0,\n",
       " 'boys': 0,\n",
       " 'nothing': 0,\n",
       " 'introduces': 0,\n",
       " 'promising': 0,\n",
       " 'unusual': 0,\n",
       " 'kind': 0,\n",
       " 'horror': 0,\n",
       " 'normal': 0,\n",
       " 'bromides': 0,\n",
       " 'barely': 0,\n",
       " 'sustain': 0,\n",
       " 'interstitial': 0,\n",
       " 'program': 0,\n",
       " 'discovery': 0,\n",
       " 'channel': 0,\n",
       " 'imax': 0,\n",
       " '3-d': 0,\n",
       " 'clichs': 0,\n",
       " 'disappear': 0,\n",
       " 'vertiginous': 0,\n",
       " 'perspectives': 0,\n",
       " 'opened': 0,\n",
       " 'photography': 0,\n",
       " 'writer-director': 0,\n",
       " 'burger': 0,\n",
       " 'imaginatively': 0,\n",
       " 'fans': 0,\n",
       " 'embers': 0,\n",
       " 'dormant': 0,\n",
       " 'national': 0,\n",
       " 'grief': 0,\n",
       " 'curiosity': 0,\n",
       " 'calcified': 0,\n",
       " 'chronic': 0,\n",
       " 'cynicism': 0,\n",
       " 'fear': 0,\n",
       " 'roller-coaster': 0,\n",
       " 'enjoyed': 0,\n",
       " 'time': 0,\n",
       " 'favor': 0,\n",
       " 'surprised': 0,\n",
       " 'quickly': 0,\n",
       " 'faded': 0,\n",
       " 'memory': 0,\n",
       " 'chicago': 0,\n",
       " 'sophisticated': 0,\n",
       " 'brash': 0,\n",
       " 'sardonic': 0,\n",
       " 'completely': 0,\n",
       " 'joyful': 0,\n",
       " 'execution': 0,\n",
       " 'steve': 0,\n",
       " 'irwin': 0,\n",
       " 'method': 0,\n",
       " 'ernest': 0,\n",
       " 'hemmingway': 0,\n",
       " 'accelerated': 0,\n",
       " 'speed': 0,\n",
       " 'volume': 0,\n",
       " 'refreshing': 0,\n",
       " 'korean': 0,\n",
       " 'five': 0,\n",
       " 'female': 0,\n",
       " 'high': 0,\n",
       " 'school': 0,\n",
       " 'friends': 0,\n",
       " 'face': 0,\n",
       " 'uphill': 0,\n",
       " 'battle': 0,\n",
       " 'try': 0,\n",
       " 'relationships': 0,\n",
       " 'deeper': 0,\n",
       " 'waters': 0,\n",
       " 'surface': 0,\n",
       " 'lovers-on-the-run': 0,\n",
       " 'crime': 0,\n",
       " 'flick': 0,\n",
       " 'common': 0,\n",
       " 'piesiewicz': 0,\n",
       " 'kieslowski': 0,\n",
       " 'double': 0,\n",
       " 'veronique': 0,\n",
       " 'values': 0,\n",
       " 'enterprise': 0,\n",
       " 'crew': 0,\n",
       " 'previous': 0,\n",
       " 'adventures': 0,\n",
       " 'perils': 0,\n",
       " 'again-courage': 0,\n",
       " 'self-sacrifice': 0,\n",
       " 'patience': 0,\n",
       " 'pressure': 0,\n",
       " 'possible': 0,\n",
       " 'sequel': 0,\n",
       " 'outshine': 0,\n",
       " 'sl2': 0,\n",
       " 'comedy': 0,\n",
       " 'operates': 0,\n",
       " 'rules': 0,\n",
       " 'self-contained': 0,\n",
       " 'universe': 0,\n",
       " '4': 0,\n",
       " '2': 0,\n",
       " 'couples': 0,\n",
       " '2000': 0,\n",
       " 'miles': 0,\n",
       " 'pabst': 0,\n",
       " 'blue': 0,\n",
       " 'ribbon': 0,\n",
       " 'beer': 0,\n",
       " 'drink': 0,\n",
       " 'ultimate': 0,\n",
       " 'redneck': 0,\n",
       " 'road-trip': 0,\n",
       " 'filled': 0,\n",
       " 'pure': 0,\n",
       " 'wonderment': 0,\n",
       " 'excitement': 0,\n",
       " 'seen': 0,\n",
       " 'du': 0,\n",
       " 'sarcasm': 0,\n",
       " 'tempting': 0,\n",
       " 'regard': 0,\n",
       " 'mr': 0,\n",
       " 'andrew': 0,\n",
       " 'collaborators': 0,\n",
       " 'oddballs': 0,\n",
       " 'earnhart': 0,\n",
       " 'quizzical': 0,\n",
       " 'allows': 0,\n",
       " 'finally': 0,\n",
       " 'artists': 0,\n",
       " 'feel-good': 0,\n",
       " 'term': 0,\n",
       " 'edited': 0,\n",
       " 'shot': 0,\n",
       " 'syncopated': 0,\n",
       " 'style': 0,\n",
       " 'mimicking': 0,\n",
       " 'subjects': 0,\n",
       " 'pray': 0,\n",
       " 'idea': 0,\n",
       " 'head': 0,\n",
       " 'rousing': 0,\n",
       " 'invigorating': 0,\n",
       " 'lacking': 0,\n",
       " 'mtv': 0,\n",
       " 'puffery': 0,\n",
       " 'mostly': 0,\n",
       " 'engrossing': 0,\n",
       " 'psychologically': 0,\n",
       " 'resonant': 0,\n",
       " 'suspenser': 0,\n",
       " 'memory-as-identity': 0,\n",
       " 'obviation': 0,\n",
       " 'secret': 0,\n",
       " 'intermittent': 0,\n",
       " 'unease': 0,\n",
       " 'reaffirming': 0,\n",
       " 'long-held': 0,\n",
       " 'illusions': 0,\n",
       " 'indeed': 0,\n",
       " 'erasing': 0,\n",
       " 'recasts': 0,\n",
       " 'hip-hop': 0,\n",
       " 'metaphor': 0,\n",
       " 'scope': 0,\n",
       " 'ambition': 0,\n",
       " 'accomplishment': 0,\n",
       " 'takes': 0,\n",
       " 'kurys': 0,\n",
       " 'dramatic': 0,\n",
       " 'gut-wrenching': 0,\n",
       " 'impact': 0,\n",
       " 'holocaust': 0,\n",
       " 'mainly': 0,\n",
       " 'told': 0,\n",
       " 'cube': 0,\n",
       " 'personal': 0,\n",
       " 'revelations': 0,\n",
       " 'regarding': 0,\n",
       " 'shop': 0,\n",
       " 'big': 0,\n",
       " 'iconic': 0,\n",
       " 'characters': 0,\n",
       " 'gambol': 0,\n",
       " 'fluidly': 0,\n",
       " 'results': 0,\n",
       " 'gentle': 0,\n",
       " 'compassionate': 0,\n",
       " 'healing': 0,\n",
       " 'somewhere': 0,\n",
       " 'short': 0,\n",
       " 'tremors': 0,\n",
       " 'modern': 0,\n",
       " 'b-scene': 0,\n",
       " ...}"
      ]
     },
     "execution_count": 81,
     "metadata": {},
     "output_type": "execute_result"
    }
   ],
   "source": [
    "makeFeatureVector('This is my favorite movie')"
   ]
  },
  {
   "cell_type": "markdown",
   "id": "becb1e26-7146-4b79-a361-f6cb0dbd41ec",
   "metadata": {},
   "source": [
    "Make our training data by making a list that contains the review strings and their respective Polarity scores."
   ]
  },
  {
   "cell_type": "code",
   "execution_count": 82,
   "id": "f2cde1c8-5443-448e-aa65-40de4f11a33c",
   "metadata": {},
   "outputs": [],
   "source": [
    "trainingData = []\n",
    "for i in trainPosReviews.index:\n",
    "    trainingData.append((trainPosReviews.loc[i,'Review'],trainPosReviews.loc[i,'Polarity']))\n",
    "for i in trainNegReviews.index:\n",
    "    trainingData.append((trainNegReviews.loc[i,'Review'],trainNegReviews.loc[i,'Polarity']))"
   ]
  },
  {
   "cell_type": "markdown",
   "id": "add3d1b9-6980-43ff-b5eb-402fd6ae78d7",
   "metadata": {},
   "source": [
    "Here are the first five items of our training data:"
   ]
  },
  {
   "cell_type": "code",
   "execution_count": 83,
   "id": "c9620c48-13d6-44db-bed4-f411fe0c9b06",
   "metadata": {},
   "outputs": [
    {
     "data": {
      "text/plain": [
       "[('the rock is destined to be the 21st century\\'s new \" conan \" and that he\\'s going to make a splash even greater than arnold schwarzenegger , jean-claud van damme or steven segal . \\r\\n',\n",
       "  1),\n",
       " ('the gorgeously elaborate continuation of \" the lord of the rings \" trilogy is so huge that a column of words cannot adequately describe co-writer/director peter jackson\\'s expanded vision of j . r . r . tolkien\\'s middle-earth . \\r\\n',\n",
       "  1),\n",
       " ('effective but too-tepid biopic\\r\\n', 1),\n",
       " ('if you sometimes like to go to the movies to have fun , wasabi is a good place to start . \\r\\n',\n",
       "  1),\n",
       " (\"emerges as something rare , an issue movie that's so honest and keenly observed that it doesn't feel like one . \\r\\n\",\n",
       "  1)]"
      ]
     },
     "execution_count": 83,
     "metadata": {},
     "output_type": "execute_result"
    }
   ],
   "source": [
    "trainingData[:5]"
   ]
  },
  {
   "cell_type": "markdown",
   "id": "dff3d76f-41e8-4f8e-b35d-49fcda91899d",
   "metadata": {},
   "source": [
    "And here's an example negative review contained in our training data:"
   ]
  },
  {
   "cell_type": "code",
   "execution_count": 84,
   "id": "23eb4bfc-313d-4153-82f9-ff2624b5ac79",
   "metadata": {},
   "outputs": [
    {
     "data": {
      "text/plain": [
       "(' . . . a weak and ineffective ghost story without a conclusion or pay off . \\r\\n',\n",
       " -1)"
      ]
     },
     "execution_count": 84,
     "metadata": {},
     "output_type": "execute_result"
    }
   ],
   "source": [
    "trainingData[2500]"
   ]
  },
  {
   "cell_type": "markdown",
   "id": "99fce073-55d3-4e10-b17a-871c119cd861",
   "metadata": {},
   "source": [
    "As part of our steps to pre-process the data, we need to convert each review in our training data into a feature vector.\n",
    "\n",
    "To do this, we can use `nltk.classify.apply_features`.  We pass in our training dataset, as well as the function that we have defined above to make a feature vector out of a review, `makeFeatureVector`.  `apply_features` applies the function to convert every review contained in the training dataset into a feature vector, and the result gets returned and then stored into our new variable `trainingFeatureVectors`."
   ]
  },
  {
   "cell_type": "code",
   "execution_count": 85,
   "id": "1d29d867-6c3e-4e36-bba5-f1c965129737",
   "metadata": {},
   "outputs": [],
   "source": [
    "trainingFeatureVectors = nltk.classify.apply_features(makeFeatureVector, trainingData)"
   ]
  },
  {
   "cell_type": "markdown",
   "id": "277d7a0b-a9d9-40d4-816a-f66b7cc8a228",
   "metadata": {},
   "source": [
    "Here's how the first review turned out:"
   ]
  },
  {
   "cell_type": "code",
   "execution_count": 86,
   "id": "d983aacc-d270-465d-b94c-73a45f022c2a",
   "metadata": {
    "tags": []
   },
   "outputs": [
    {
     "data": {
      "text/plain": [
       "({'rock': 1,\n",
       "  'destined': 1,\n",
       "  '21st': 1,\n",
       "  'century': 1,\n",
       "  \"'s\": 1,\n",
       "  'new': 1,\n",
       "  '``': 1,\n",
       "  'conan': 1,\n",
       "  'going': 1,\n",
       "  'make': 1,\n",
       "  'splash': 1,\n",
       "  'even': 1,\n",
       "  'greater': 1,\n",
       "  'arnold': 1,\n",
       "  'schwarzenegger': 1,\n",
       "  'jean-claud': 1,\n",
       "  'van': 1,\n",
       "  'damme': 1,\n",
       "  'steven': 1,\n",
       "  'segal': 1,\n",
       "  'gorgeously': 0,\n",
       "  'elaborate': 0,\n",
       "  'continuation': 0,\n",
       "  'lord': 0,\n",
       "  'rings': 0,\n",
       "  'trilogy': 0,\n",
       "  'huge': 0,\n",
       "  'column': 0,\n",
       "  'words': 0,\n",
       "  'adequately': 0,\n",
       "  'describe': 0,\n",
       "  'co-writer/director': 0,\n",
       "  'peter': 0,\n",
       "  'jackson': 0,\n",
       "  'expanded': 0,\n",
       "  'vision': 0,\n",
       "  'j': 0,\n",
       "  'r': 0,\n",
       "  'tolkien': 0,\n",
       "  'middle-earth': 0,\n",
       "  'effective': 0,\n",
       "  'too-tepid': 0,\n",
       "  'biopic': 0,\n",
       "  'sometimes': 0,\n",
       "  'like': 0,\n",
       "  'go': 0,\n",
       "  'movies': 0,\n",
       "  'fun': 0,\n",
       "  'wasabi': 0,\n",
       "  'good': 0,\n",
       "  'place': 0,\n",
       "  'start': 0,\n",
       "  'emerges': 0,\n",
       "  'something': 0,\n",
       "  'rare': 0,\n",
       "  'issue': 0,\n",
       "  'movie': 0,\n",
       "  'honest': 0,\n",
       "  'keenly': 0,\n",
       "  'observed': 0,\n",
       "  \"n't\": 0,\n",
       "  'feel': 0,\n",
       "  'one': 0,\n",
       "  'film': 0,\n",
       "  'provides': 0,\n",
       "  'great': 0,\n",
       "  'insight': 0,\n",
       "  'neurotic': 0,\n",
       "  'mindset': 0,\n",
       "  'comics': 0,\n",
       "  '--': 0,\n",
       "  'reached': 0,\n",
       "  'absolute': 0,\n",
       "  'top': 0,\n",
       "  'game': 0,\n",
       "  'offers': 0,\n",
       "  'combination': 0,\n",
       "  'entertainment': 0,\n",
       "  'education': 0,\n",
       "  'perhaps': 0,\n",
       "  'picture': 0,\n",
       "  'ever': 0,\n",
       "  'made': 0,\n",
       "  'literally': 0,\n",
       "  'showed': 0,\n",
       "  'road': 0,\n",
       "  'hell': 0,\n",
       "  'paved': 0,\n",
       "  'intentions': 0,\n",
       "  'steers': 0,\n",
       "  'turns': 0,\n",
       "  'snappy': 0,\n",
       "  'screenplay': 0,\n",
       "  'curls': 0,\n",
       "  'edges': 0,\n",
       "  'clever': 0,\n",
       "  'want': 0,\n",
       "  'hate': 0,\n",
       "  'somehow': 0,\n",
       "  'pulls': 0,\n",
       "  'take': 0,\n",
       "  'care': 0,\n",
       "  'cat': 0,\n",
       "  'refreshingly': 0,\n",
       "  'different': 0,\n",
       "  'slice': 0,\n",
       "  'asian': 0,\n",
       "  'cinema': 0,\n",
       "  'well': 0,\n",
       "  'worth': 0,\n",
       "  'seeing': 0,\n",
       "  'talking': 0,\n",
       "  'singing': 0,\n",
       "  'heads': 0,\n",
       "  'really': 0,\n",
       "  'surprises': 0,\n",
       "  'wisegirls': 0,\n",
       "  'low-key': 0,\n",
       "  'quality': 0,\n",
       "  'genuine': 0,\n",
       "  'tenderness': 0,\n",
       "  'wendigo': 0,\n",
       "  'fed': 0,\n",
       "  'eye': 0,\n",
       "  'heart': 0,\n",
       "  'mind': 0,\n",
       "  'greatest': 0,\n",
       "  'family-oriented': 0,\n",
       "  'fantasy-adventure': 0,\n",
       "  'ultimately': 0,\n",
       "  'ponders': 0,\n",
       "  'reasons': 0,\n",
       "  'need': 0,\n",
       "  'stories': 0,\n",
       "  'much': 0,\n",
       "  'utterly': 0,\n",
       "  'compelling': 0,\n",
       "  \"'who\": 0,\n",
       "  'wrote': 0,\n",
       "  'reputation': 0,\n",
       "  'famous': 0,\n",
       "  'author': 0,\n",
       "  'lived': 0,\n",
       "  'comes': 0,\n",
       "  'question': 0,\n",
       "  'illuminating': 0,\n",
       "  'overly': 0,\n",
       "  'talky': 0,\n",
       "  'documentary': 0,\n",
       "  'masterpiece': 0,\n",
       "  'four': 0,\n",
       "  'years': 0,\n",
       "  'making': 0,\n",
       "  'ripe': 0,\n",
       "  'enrapturing': 0,\n",
       "  'beauty': 0,\n",
       "  'tempt': 0,\n",
       "  'willing': 0,\n",
       "  'probe': 0,\n",
       "  'inscrutable': 0,\n",
       "  'mysteries': 0,\n",
       "  'breath': 0,\n",
       "  'fresh': 0,\n",
       "  'air': 0,\n",
       "  'true': 0,\n",
       "  'sophistication': 0,\n",
       "  'thoughtful': 0,\n",
       "  'provocative': 0,\n",
       "  'insistently': 0,\n",
       "  'humanizing': 0,\n",
       "  'cast': 0,\n",
       "  'includes': 0,\n",
       "  'actors': 0,\n",
       "  'working': 0,\n",
       "  'independent': 0,\n",
       "  'lovely': 0,\n",
       "  'amazing': 0,\n",
       "  'involves': 0,\n",
       "  'us': 0,\n",
       "  'incisive': 0,\n",
       "  'bleakly': 0,\n",
       "  'amusing': 0,\n",
       "  'lives': 0,\n",
       "  'disturbing': 0,\n",
       "  'frighteningly': 0,\n",
       "  'evocative': 0,\n",
       "  'assembly': 0,\n",
       "  'imagery': 0,\n",
       "  'hypnotic': 0,\n",
       "  'music': 0,\n",
       "  'composed': 0,\n",
       "  'philip': 0,\n",
       "  'glass': 0,\n",
       "  'everyone': 0,\n",
       "  'connect': 0,\n",
       "  'nice': 0,\n",
       "  'departure': 0,\n",
       "  'standard': 0,\n",
       "  'moviegoing': 0,\n",
       "  'fare': 0,\n",
       "  'scores': 0,\n",
       "  'points': 0,\n",
       "  'dedicated': 0,\n",
       "  'good-hearted': 0,\n",
       "  'professionalism': 0,\n",
       "  'occasionally': 0,\n",
       "  'melodramatic': 0,\n",
       "  'also': 0,\n",
       "  'extremely': 0,\n",
       "  'spiderman': 0,\n",
       "  'rocks': 0,\n",
       "  'idealistic': 0,\n",
       "  'love': 0,\n",
       "  'story': 0,\n",
       "  'brings': 0,\n",
       "  'latent': 0,\n",
       "  '15-year-old': 0,\n",
       "  'romantic': 0,\n",
       "  '95': 0,\n",
       "  'minutes': 0,\n",
       "  'treasure': 0,\n",
       "  'planet': 0,\n",
       "  'maintains': 0,\n",
       "  'brisk': 0,\n",
       "  'pace': 0,\n",
       "  'races': 0,\n",
       "  'familiar': 0,\n",
       "  'however': 0,\n",
       "  'lacks': 0,\n",
       "  'grandeur': 0,\n",
       "  'epic': 0,\n",
       "  'often': 0,\n",
       "  'associated': 0,\n",
       "  'stevenson': 0,\n",
       "  'tale': 0,\n",
       "  'earlier': 0,\n",
       "  'disney': 0,\n",
       "  'efforts': 0,\n",
       "  'helps': 0,\n",
       "  'lil': 0,\n",
       "  'bow': 0,\n",
       "  'wow': 0,\n",
       "  'tones': 0,\n",
       "  'pint-sized': 0,\n",
       "  'gangsta': 0,\n",
       "  'act': 0,\n",
       "  'play': 0,\n",
       "  'someone': 0,\n",
       "  'resembles': 0,\n",
       "  'real': 0,\n",
       "  'kid': 0,\n",
       "  'guaranteed': 0,\n",
       "  'move': 0,\n",
       "  'anyone': 0,\n",
       "  'shook': 0,\n",
       "  'rattled': 0,\n",
       "  'rolled': 0,\n",
       "  'masterful': 0,\n",
       "  'master': 0,\n",
       "  'filmmaker': 0,\n",
       "  'unique': 0,\n",
       "  'deceptive': 0,\n",
       "  'grimness': 0,\n",
       "  'fatalist': 0,\n",
       "  'worldview': 0,\n",
       "  'light': 0,\n",
       "  'cute': 0,\n",
       "  'forgettable': 0,\n",
       "  'way': 0,\n",
       "  'effectively': 0,\n",
       "  'teach': 0,\n",
       "  'kids': 0,\n",
       "  'dangers': 0,\n",
       "  'drugs': 0,\n",
       "  'think': 0,\n",
       "  'projects': 0,\n",
       "  'unfortunately': 0,\n",
       "  'r-rated': 0,\n",
       "  'paid': 0,\n",
       "  'would': 0,\n",
       "  'easy': 0,\n",
       "  'give': 0,\n",
       "  'crush': 0,\n",
       "  'title': 0,\n",
       "  'two': 0,\n",
       "  'weddings': 0,\n",
       "  'funeral': 0,\n",
       "  'far': 0,\n",
       "  'hugh': 0,\n",
       "  'grant': 0,\n",
       "  'whimsy': 0,\n",
       "  'though': 0,\n",
       "  'everything': 0,\n",
       "  'might': 0,\n",
       "  'literate': 0,\n",
       "  'smart': 0,\n",
       "  'never': 0,\n",
       "  'took': 0,\n",
       "  'always': 0,\n",
       "  'seemed': 0,\n",
       "  'static': 0,\n",
       "  'cantet': 0,\n",
       "  'perfectly': 0,\n",
       "  'captures': 0,\n",
       "  'hotel': 0,\n",
       "  'lobbies': 0,\n",
       "  'two-lane': 0,\n",
       "  'highways': 0,\n",
       "  'roadside': 0,\n",
       "  'cafes': 0,\n",
       "  'permeate': 0,\n",
       "  'vincent': 0,\n",
       "  'days': 0,\n",
       "  'ms': 0,\n",
       "  'fulford-wierzbicki': 0,\n",
       "  'almost': 0,\n",
       "  'spooky': 0,\n",
       "  'sulky': 0,\n",
       "  'calculating': 0,\n",
       "  'lolita': 0,\n",
       "  'turn': 0,\n",
       "  'means': 0,\n",
       "  'best': 0,\n",
       "  'work': 0,\n",
       "  'laissez-passer': 0,\n",
       "  'distinguished': 0,\n",
       "  'distinctive': 0,\n",
       "  'effort': 0,\n",
       "  'bona-fide': 0,\n",
       "  'fascinating': 0,\n",
       "  'replete': 0,\n",
       "  'rewards': 0,\n",
       "  'reap': 0,\n",
       "  'bond': 0,\n",
       "  'outings': 0,\n",
       "  'recent': 0,\n",
       "  'stunts': 0,\n",
       "  'outlandish': 0,\n",
       "  'border': 0,\n",
       "  'cartoonlike': 0,\n",
       "  'heavy': 0,\n",
       "  'reliance': 0,\n",
       "  'cgi': 0,\n",
       "  'technology': 0,\n",
       "  'beginning': 0,\n",
       "  'creep': 0,\n",
       "  'series': 0,\n",
       "  'newton': 0,\n",
       "  'draws': 0,\n",
       "  'attention': 0,\n",
       "  'magnet': 0,\n",
       "  'acts': 0,\n",
       "  'circles': 0,\n",
       "  'around': 0,\n",
       "  'better': 0,\n",
       "  'known': 0,\n",
       "  'co-star': 0,\n",
       "  'mark': 0,\n",
       "  'wahlberg': 0,\n",
       "  'loses': 0,\n",
       "  'bite': 0,\n",
       "  'last-minute': 0,\n",
       "  'happy': 0,\n",
       "  'ending': 0,\n",
       "  'less': 0,\n",
       "  'plausible': 0,\n",
       "  'rest': 0,\n",
       "  'novel': 0,\n",
       "  'ride': 0,\n",
       "  'fuller': 0,\n",
       "  'surely': 0,\n",
       "  'called': 0,\n",
       "  'gutsy': 0,\n",
       "  'times': 0,\n",
       "  'exhilarating': 0,\n",
       "  'yarn': 0,\n",
       "  \"'compleja\": 0,\n",
       "  'e': 0,\n",
       "  'intelectualmente': 0,\n",
       "  'retadora': 0,\n",
       "  'el': 0,\n",
       "  'ladrn': 0,\n",
       "  'de': 0,\n",
       "  'orqudeas': 0,\n",
       "  'es': 0,\n",
       "  'uno': 0,\n",
       "  'esos': 0,\n",
       "  'filmes': 0,\n",
       "  'que': 0,\n",
       "  'vale': 0,\n",
       "  'la': 0,\n",
       "  'pena': 0,\n",
       "  'ver': 0,\n",
       "  'precisamente': 0,\n",
       "  'por': 0,\n",
       "  'su': 0,\n",
       "  'originalidad': 0,\n",
       "  'makes': 0,\n",
       "  'strong': 0,\n",
       "  'case': 0,\n",
       "  'importance': 0,\n",
       "  'musicians': 0,\n",
       "  'creating': 0,\n",
       "  'motown': 0,\n",
       "  'sound': 0,\n",
       "  'karmen': 0,\n",
       "  'moves': 0,\n",
       "  'rhythm': 0,\n",
       "  'lips': 0,\n",
       "  'chanting': 0,\n",
       "  'beat': 0,\n",
       "  'long': 0,\n",
       "  'braided': 0,\n",
       "  'hair': 0,\n",
       "  'little': 0,\n",
       "  'wipe': 0,\n",
       "  'away': 0,\n",
       "  'jeweled': 0,\n",
       "  'beads': 0,\n",
       "  'sweat': 0,\n",
       "  'gosling': 0,\n",
       "  'performance': 0,\n",
       "  'dwarfs': 0,\n",
       "  'else': 0,\n",
       "  'people': 0,\n",
       "  'gives': 0,\n",
       "  'glimpse': 0,\n",
       "  'culture': 0,\n",
       "  'know': 0,\n",
       "  'tender': 0,\n",
       "  'yet': 0,\n",
       "  'lacerating': 0,\n",
       "  'darkly': 0,\n",
       "  'funny': 0,\n",
       "  'fable': 0,\n",
       "  'may': 0,\n",
       "  'spoofing': 0,\n",
       "  'target': 0,\n",
       "  'old': 0,\n",
       "  \"'50\": 0,\n",
       "  'giant': 0,\n",
       "  'creature': 0,\n",
       "  'features': 0,\n",
       "  'acknowledges': 0,\n",
       "  'celebrates': 0,\n",
       "  'cheesiness': 0,\n",
       "  'reason': 0,\n",
       "  'get': 0,\n",
       "  'kick': 0,\n",
       "  'watching': 0,\n",
       "  'today': 0,\n",
       "  'engaging': 0,\n",
       "  'overview': 0,\n",
       "  'johnson': 0,\n",
       "  'eccentric': 0,\n",
       "  'career': 0,\n",
       "  'ragged': 0,\n",
       "  'cheap': 0,\n",
       "  'unassuming': 0,\n",
       "  'works': 0,\n",
       "  'charisma': 0,\n",
       "  \"'d\": 0,\n",
       "  'listen': 0,\n",
       "  'reading': 0,\n",
       "  'phone': 0,\n",
       "  'book': 0,\n",
       "  'sandra': 0,\n",
       "  'bullock': 0,\n",
       "  'likeable': 0,\n",
       "  'nettelbeck': 0,\n",
       "  'beautifully': 0,\n",
       "  'orchestrates': 0,\n",
       "  'transformation': 0,\n",
       "  'chilly': 0,\n",
       "  'self-absorbed': 0,\n",
       "  'martha': 0,\n",
       "  'begins': 0,\n",
       "  'open': 0,\n",
       "  'behind': 0,\n",
       "  'snow': 0,\n",
       "  'games': 0,\n",
       "  'lovable': 0,\n",
       "  'siberian': 0,\n",
       "  'huskies': 0,\n",
       "  'plus': 0,\n",
       "  'sheep': 0,\n",
       "  'dog': 0,\n",
       "  'hosts': 0,\n",
       "  'parka-wrapped': 0,\n",
       "  'dose': 0,\n",
       "  'everytime': 0,\n",
       "  'undercover': 0,\n",
       "  'brother': 0,\n",
       "  'run': 0,\n",
       "  'steam': 0,\n",
       "  'finds': 0,\n",
       "  'surprise': 0,\n",
       "  'amuse': 0,\n",
       "  'manages': 0,\n",
       "  'original': 0,\n",
       "  'rips': 0,\n",
       "  'many': 0,\n",
       "  'ideas': 0,\n",
       "  'singer/composer': 0,\n",
       "  'bryan': 0,\n",
       "  'adams': 0,\n",
       "  'contributes': 0,\n",
       "  'slew': 0,\n",
       "  'songs': 0,\n",
       "  'potential': 0,\n",
       "  'hits': 0,\n",
       "  'simply': 0,\n",
       "  'intrusive': 0,\n",
       "  'whole': 0,\n",
       "  'package': 0,\n",
       "  'certainly': 0,\n",
       "  'intended': 0,\n",
       "  'er': 0,\n",
       "  'spirit': 0,\n",
       "  'piece': 0,\n",
       "  'america': 0,\n",
       "  'enough': 0,\n",
       "  'plucky': 0,\n",
       "  'british': 0,\n",
       "  'eccentrics': 0,\n",
       "  'hearts': 0,\n",
       "  'gold': 0,\n",
       "  'still': 0,\n",
       "  'charming': 0,\n",
       "  'whether': 0,\n",
       "  \"'re\": 0,\n",
       "  'enlightened': 0,\n",
       "  'derrida': 0,\n",
       "  'lectures': 0,\n",
       "  'self': 0,\n",
       "  'undeniably': 0,\n",
       "  'playful': 0,\n",
       "  'fellow': 0,\n",
       "  'pleasant': 0,\n",
       "  'held': 0,\n",
       "  'together': 0,\n",
       "  'skilled': 0,\n",
       "  'ensemble': 0,\n",
       "  'american': 0,\n",
       "  'troubled': 0,\n",
       "  'teens': 0,\n",
       "  'since': 0,\n",
       "  '1998': 0,\n",
       "  'whatever': 0,\n",
       "  'hit-or-miss': 0,\n",
       "  'bringing': 0,\n",
       "  'beloved': 0,\n",
       "  'books': 0,\n",
       "  'screen': 0,\n",
       "  'tuck': 0,\n",
       "  'everlasting': 0,\n",
       "  'labour': 0,\n",
       "  'involved': 0,\n",
       "  'layered': 0,\n",
       "  'richness': 0,\n",
       "  'chiaroscuro': 0,\n",
       "  'madness': 0,\n",
       "  'astonishing': 0,\n",
       "  'animated': 0,\n",
       "  'subplot': 0,\n",
       "  'depicts': 0,\n",
       "  'inner': 0,\n",
       "  'struggles': 0,\n",
       "  'adolescent': 0,\n",
       "  'heroes': 0,\n",
       "  'insecure': 0,\n",
       "  'uncontrolled': 0,\n",
       "  'intense': 0,\n",
       "  'invincible': 0,\n",
       "  'werner': 0,\n",
       "  'herzog': 0,\n",
       "  'alive': 0,\n",
       "  'living': 0,\n",
       "  'morton': 0,\n",
       "  'actress': 0,\n",
       "  'portraying': 0,\n",
       "  'complex': 0,\n",
       "  'character': 0,\n",
       "  'morvern': 0,\n",
       "  'callar': 0,\n",
       "  'grows': 0,\n",
       "  'farther': 0,\n",
       "  'meanders': 0,\n",
       "  'shocking': 0,\n",
       "  'part': 0,\n",
       "  'charm': 0,\n",
       "  'satin': 0,\n",
       "  'rouge': 0,\n",
       "  'avoids': 0,\n",
       "  'obvious': 0,\n",
       "  'humour': 0,\n",
       "  'lightness': 0,\n",
       "  'son': 0,\n",
       "  'bride': 0,\n",
       "  'half-hour': 0,\n",
       "  'flattering': 0,\n",
       "  'sense': 0,\n",
       "  'mystery': 0,\n",
       "  'quietness': 0,\n",
       "  'simmering': 0,\n",
       "  'psychological': 0,\n",
       "  'drama': 0,\n",
       "  'bursts': 0,\n",
       "  'sudden': 0,\n",
       "  'violence': 0,\n",
       "  'startling': 0,\n",
       "  'slow': 0,\n",
       "  'buildup': 0,\n",
       "  'preceded': 0,\n",
       "  'taut': 0,\n",
       "  'intelligent': 0,\n",
       "  'coming-of-age': 0,\n",
       "  'arduous': 0,\n",
       "  'journey': 0,\n",
       "  'sensitive': 0,\n",
       "  'young': 0,\n",
       "  'girl': 0,\n",
       "  'foster': 0,\n",
       "  'homes': 0,\n",
       "  'fierce': 0,\n",
       "  'struggle': 0,\n",
       "  'pull': 0,\n",
       "  'free': 0,\n",
       "  'dangerous': 0,\n",
       "  'domineering': 0,\n",
       "  'mother': 0,\n",
       "  'hold': 0,\n",
       "  'truly': 0,\n",
       "  'moving': 0,\n",
       "  'experience': 0,\n",
       "  'perfect': 0,\n",
       "  'example': 0,\n",
       "  'art': 0,\n",
       "  'done': 0,\n",
       "  'right': 0,\n",
       "  'help': 0,\n",
       "  'heal': 0,\n",
       "  'clarify': 0,\n",
       "  'comfort': 0,\n",
       "  'delicately': 0,\n",
       "  'deeply': 0,\n",
       "  'felt': 0,\n",
       "  'masterfully': 0,\n",
       "  'stylized': 0,\n",
       "  'triumph': 0,\n",
       "  'maverick': 0,\n",
       "  'director': 0,\n",
       "  'deftly': 0,\n",
       "  'wrought': 0,\n",
       "  'suspense': 0,\n",
       "  'whose': 0,\n",
       "  'richer': 0,\n",
       "  'shadings': 0,\n",
       "  'coloring': 0,\n",
       "  'rather': 0,\n",
       "  'substance': 0,\n",
       "  'appearance': 0,\n",
       "  'treebeard': 0,\n",
       "  'gollum': 0,\n",
       "  'role': 0,\n",
       "  'either': 0,\n",
       "  'loving': 0,\n",
       "  'rolling': 0,\n",
       "  'eyes': 0,\n",
       "  'loved': 0,\n",
       "  \"'performance\": 0,\n",
       "  'incredible': 0,\n",
       "  'ingeniously': 0,\n",
       "  'constructed': 0,\n",
       "  'memento': 0,\n",
       "  'page-turner': 0,\n",
       "  'ca': 0,\n",
       "  'wait': 0,\n",
       "  'see': 0,\n",
       "  'happens': 0,\n",
       "  'next': 0,\n",
       "  'haneke': 0,\n",
       "  'challenges': 0,\n",
       "  'confront': 0,\n",
       "  'reality': 0,\n",
       "  'sexual': 0,\n",
       "  'aberration': 0,\n",
       "  'absorbing': 0,\n",
       "  'originally': 0,\n",
       "  'clarity': 0,\n",
       "  'gone': 0,\n",
       "  'year': 0,\n",
       "  'benchmark': 0,\n",
       "  'contenders': 0,\n",
       "  'measured': 0,\n",
       "  'painful': 0,\n",
       "  'watch': 0,\n",
       "  'viewers': 0,\n",
       "  'chance': 0,\n",
       "  'rewarded': 0,\n",
       "  'accomplished': 0,\n",
       "  'riveting': 0,\n",
       "  'performances': 0,\n",
       "  'albeit': 0,\n",
       "  'depressing': 0,\n",
       "  'view': 0,\n",
       "  'iranian': 0,\n",
       "  'rural': 0,\n",
       "  'life': 0,\n",
       "  'close': 0,\n",
       "  'iraqi': 0,\n",
       "  'imaginative': 0,\n",
       "  'comedy/thriller': 0,\n",
       "  'artsy': 0,\n",
       "  'flourishes': 0,\n",
       "  'aside': 0,\n",
       "  'narc': 0,\n",
       "  'gritty': 0,\n",
       "  'gets': 0,\n",
       "  'isle': 0,\n",
       "  'preposterous': 0,\n",
       "  'thoroughly': 0,\n",
       "  'misogynistic': 0,\n",
       "  'vistas': 0,\n",
       "  'incredibly': 0,\n",
       "  'beautiful': 0,\n",
       "  'look': 0,\n",
       "  'tok': 0,\n",
       "  'orchestrate': 0,\n",
       "  'buoyant': 0,\n",
       "  'dance': 0,\n",
       "  'death': 0,\n",
       "  'process': 0,\n",
       "  'demonstrate': 0,\n",
       "  'lot': 0,\n",
       "  'hong': 0,\n",
       "  'kong': 0,\n",
       "  'kapur': 0,\n",
       "  'flair': 0,\n",
       "  'landscapes': 0,\n",
       "  'adventure': 0,\n",
       "  'english-language': 0,\n",
       "  'overpraised': 0,\n",
       "  'elizabeth': 0,\n",
       "  'blast': 0,\n",
       "  'educational': 0,\n",
       "  'energy': 0,\n",
       "  'bouncy': 0,\n",
       "  'animation': 0,\n",
       "  'catchy': 0,\n",
       "  'escort': 0,\n",
       "  'entire': 0,\n",
       "  '85': 0,\n",
       "  'sports': 0,\n",
       "  'action': 0,\n",
       "  'exciting': 0,\n",
       "  'field': 0,\n",
       "  'doug': 0,\n",
       "  'liman': 0,\n",
       "  'bourne': 0,\n",
       "  'directs': 0,\n",
       "  'traffic': 0,\n",
       "  'wintry': 0,\n",
       "  'locations': 0,\n",
       "  'absorbs': 0,\n",
       "  'spycraft': 0,\n",
       "  'uses': 0,\n",
       "  'damon': 0,\n",
       "  'ability': 0,\n",
       "  'focused': 0,\n",
       "  'sincere': 0,\n",
       "  'intact': 0,\n",
       "  'katz': 0,\n",
       "  'archival': 0,\n",
       "  'footage': 0,\n",
       "  'horrifying': 0,\n",
       "  'documents': 0,\n",
       "  'lynchings': 0,\n",
       "  'photographs': 0,\n",
       "  'reel-to-reel': 0,\n",
       "  'recordings': 0,\n",
       "  'meeropol': 0,\n",
       "  'entertaining': 0,\n",
       "  'children': 0,\n",
       "  'create': 0,\n",
       "  'song': 0,\n",
       "  'history': 0,\n",
       "  'powerful': 0,\n",
       "  'anthropologically': 0,\n",
       "  'detailed': 0,\n",
       "  'realization': 0,\n",
       "  \"early-'80s\": 0,\n",
       "  'suburbia': 0,\n",
       "  'significant': 0,\n",
       "  'without': 0,\n",
       "  'overstated': 0,\n",
       "  'mcfarlane': 0,\n",
       "  'lifts': 0,\n",
       "  'firmly': 0,\n",
       "  'level': 0,\n",
       "  'films': 0,\n",
       "  'jarring': 0,\n",
       "  'hard': 0,\n",
       "  'back': 0,\n",
       "  'boys': 0,\n",
       "  'nothing': 0,\n",
       "  'introduces': 0,\n",
       "  'promising': 0,\n",
       "  'unusual': 0,\n",
       "  'kind': 0,\n",
       "  'horror': 0,\n",
       "  'normal': 0,\n",
       "  'bromides': 0,\n",
       "  'barely': 0,\n",
       "  'sustain': 0,\n",
       "  'interstitial': 0,\n",
       "  'program': 0,\n",
       "  'discovery': 0,\n",
       "  'channel': 0,\n",
       "  'imax': 0,\n",
       "  '3-d': 0,\n",
       "  'clichs': 0,\n",
       "  'disappear': 0,\n",
       "  'vertiginous': 0,\n",
       "  'perspectives': 0,\n",
       "  'opened': 0,\n",
       "  'photography': 0,\n",
       "  'writer-director': 0,\n",
       "  'burger': 0,\n",
       "  'imaginatively': 0,\n",
       "  'fans': 0,\n",
       "  'embers': 0,\n",
       "  'dormant': 0,\n",
       "  'national': 0,\n",
       "  'grief': 0,\n",
       "  'curiosity': 0,\n",
       "  'calcified': 0,\n",
       "  'chronic': 0,\n",
       "  'cynicism': 0,\n",
       "  'fear': 0,\n",
       "  'roller-coaster': 0,\n",
       "  'enjoyed': 0,\n",
       "  'time': 0,\n",
       "  'favor': 0,\n",
       "  'surprised': 0,\n",
       "  'quickly': 0,\n",
       "  'faded': 0,\n",
       "  'memory': 0,\n",
       "  'chicago': 0,\n",
       "  'sophisticated': 0,\n",
       "  'brash': 0,\n",
       "  'sardonic': 0,\n",
       "  'completely': 0,\n",
       "  'joyful': 0,\n",
       "  'execution': 0,\n",
       "  'steve': 0,\n",
       "  'irwin': 0,\n",
       "  'method': 0,\n",
       "  'ernest': 0,\n",
       "  'hemmingway': 0,\n",
       "  'accelerated': 0,\n",
       "  'speed': 0,\n",
       "  'volume': 0,\n",
       "  'refreshing': 0,\n",
       "  'korean': 0,\n",
       "  'five': 0,\n",
       "  'female': 0,\n",
       "  'high': 0,\n",
       "  'school': 0,\n",
       "  'friends': 0,\n",
       "  'face': 0,\n",
       "  'uphill': 0,\n",
       "  'battle': 0,\n",
       "  'try': 0,\n",
       "  'relationships': 0,\n",
       "  'deeper': 0,\n",
       "  'waters': 0,\n",
       "  'surface': 0,\n",
       "  'lovers-on-the-run': 0,\n",
       "  'crime': 0,\n",
       "  'flick': 0,\n",
       "  'common': 0,\n",
       "  'piesiewicz': 0,\n",
       "  'kieslowski': 0,\n",
       "  'double': 0,\n",
       "  'veronique': 0,\n",
       "  'values': 0,\n",
       "  'enterprise': 0,\n",
       "  'crew': 0,\n",
       "  'previous': 0,\n",
       "  'adventures': 0,\n",
       "  'perils': 0,\n",
       "  'again-courage': 0,\n",
       "  'self-sacrifice': 0,\n",
       "  'patience': 0,\n",
       "  'pressure': 0,\n",
       "  'possible': 0,\n",
       "  'sequel': 0,\n",
       "  'outshine': 0,\n",
       "  'sl2': 0,\n",
       "  'comedy': 0,\n",
       "  'operates': 0,\n",
       "  'rules': 0,\n",
       "  'self-contained': 0,\n",
       "  'universe': 0,\n",
       "  '4': 0,\n",
       "  '2': 0,\n",
       "  'couples': 0,\n",
       "  '2000': 0,\n",
       "  'miles': 0,\n",
       "  'pabst': 0,\n",
       "  'blue': 0,\n",
       "  'ribbon': 0,\n",
       "  'beer': 0,\n",
       "  'drink': 0,\n",
       "  'ultimate': 0,\n",
       "  'redneck': 0,\n",
       "  'road-trip': 0,\n",
       "  'filled': 0,\n",
       "  'pure': 0,\n",
       "  'wonderment': 0,\n",
       "  'excitement': 0,\n",
       "  'seen': 0,\n",
       "  'du': 0,\n",
       "  'sarcasm': 0,\n",
       "  'tempting': 0,\n",
       "  'regard': 0,\n",
       "  'mr': 0,\n",
       "  'andrew': 0,\n",
       "  'collaborators': 0,\n",
       "  'oddballs': 0,\n",
       "  'earnhart': 0,\n",
       "  'quizzical': 0,\n",
       "  'allows': 0,\n",
       "  'finally': 0,\n",
       "  'artists': 0,\n",
       "  'feel-good': 0,\n",
       "  'term': 0,\n",
       "  'edited': 0,\n",
       "  'shot': 0,\n",
       "  'syncopated': 0,\n",
       "  'style': 0,\n",
       "  'mimicking': 0,\n",
       "  'subjects': 0,\n",
       "  'pray': 0,\n",
       "  'idea': 0,\n",
       "  'head': 0,\n",
       "  'rousing': 0,\n",
       "  'invigorating': 0,\n",
       "  'lacking': 0,\n",
       "  'mtv': 0,\n",
       "  'puffery': 0,\n",
       "  'mostly': 0,\n",
       "  'engrossing': 0,\n",
       "  'psychologically': 0,\n",
       "  'resonant': 0,\n",
       "  'suspenser': 0,\n",
       "  'memory-as-identity': 0,\n",
       "  'obviation': 0,\n",
       "  'secret': 0,\n",
       "  'intermittent': 0,\n",
       "  'unease': 0,\n",
       "  'reaffirming': 0,\n",
       "  'long-held': 0,\n",
       "  'illusions': 0,\n",
       "  'indeed': 0,\n",
       "  'erasing': 0,\n",
       "  'recasts': 0,\n",
       "  'hip-hop': 0,\n",
       "  'metaphor': 0,\n",
       "  'scope': 0,\n",
       "  'ambition': 0,\n",
       "  'accomplishment': 0,\n",
       "  'takes': 0,\n",
       "  'kurys': 0,\n",
       "  'dramatic': 0,\n",
       "  'gut-wrenching': 0,\n",
       "  'impact': 0,\n",
       "  'holocaust': 0,\n",
       "  'mainly': 0,\n",
       "  'told': 0,\n",
       "  'cube': 0,\n",
       "  'personal': 0,\n",
       "  'revelations': 0,\n",
       "  'regarding': 0,\n",
       "  'shop': 0,\n",
       "  'big': 0,\n",
       "  'iconic': 0,\n",
       "  'characters': 0,\n",
       "  'gambol': 0,\n",
       "  'fluidly': 0,\n",
       "  'results': 0,\n",
       "  'gentle': 0,\n",
       "  'compassionate': 0,\n",
       "  'healing': 0,\n",
       "  'somewhere': 0,\n",
       "  'short': 0,\n",
       "  'tremors': 0,\n",
       "  'modern': 0,\n",
       "  'b-scene': 0,\n",
       "  ...},\n",
       " 1)"
      ]
     },
     "execution_count": 86,
     "metadata": {},
     "output_type": "execute_result"
    }
   ],
   "source": [
    "trainingFeatureVectors[0]"
   ]
  },
  {
   "cell_type": "markdown",
   "id": "22c1f683-e701-4c0e-aedd-3d06407fe6fa",
   "metadata": {},
   "source": [
    "NLTK has a module `NaiveBayesClassifier`.  Rather than using `fit` as we are used to from scikit-learn, here we use the `train` method.  Furthermore, the data passed into the `train` method has both the independent variable (the review's feature vector) and the dependent variable (the polarity score)."
   ]
  },
  {
   "cell_type": "code",
   "execution_count": 87,
   "id": "85485af7-d0ee-47d8-a20b-cdf82d356756",
   "metadata": {},
   "outputs": [],
   "source": [
    "trainedClassifier = nltk.NaiveBayesClassifier.train(trainingFeatureVectors)"
   ]
  },
  {
   "cell_type": "markdown",
   "id": "4b191f23-4059-4801-92e5-6af441614e1e",
   "metadata": {},
   "source": [
    "Now that we have trained our classifier, we can use it to predict the sentiment score of any review.\n",
    "\n",
    "To make a prediction, we need to convert the review into a feature vector and then pass that feature vector into our trained classifier to get the prediction.\n",
    "\n",
    "The following functions carries out those two steps:"
   ]
  },
  {
   "cell_type": "code",
   "execution_count": 88,
   "id": "9457f2b4-83e8-4c1f-9cd8-fd4094a06fbd",
   "metadata": {},
   "outputs": [],
   "source": [
    "def naiveBayesSentimentCalculator(review):\n",
    "    problemFeatureVector = makeFeatureVector(review)\n",
    "    return trainedClassifier.classify(problemFeatureVector)"
   ]
  },
  {
   "cell_type": "markdown",
   "id": "753d628a-e2b5-4060-820e-ceb70734479d",
   "metadata": {},
   "source": [
    "Here are two test examples:"
   ]
  },
  {
   "cell_type": "code",
   "execution_count": 89,
   "id": "a08eace4-0a93-400e-8be9-c51c9fd8196a",
   "metadata": {},
   "outputs": [
    {
     "data": {
      "text/plain": [
       "1"
      ]
     },
     "execution_count": 89,
     "metadata": {},
     "output_type": "execute_result"
    }
   ],
   "source": [
    "naiveBayesSentimentCalculator(\"What an awesome movie\")"
   ]
  },
  {
   "cell_type": "code",
   "execution_count": 90,
   "id": "6a4f4aef-c8d4-4074-a2fe-5f711f4d96fe",
   "metadata": {},
   "outputs": [
    {
     "data": {
      "text/plain": [
       "-1"
      ]
     },
     "execution_count": 90,
     "metadata": {},
     "output_type": "execute_result"
    }
   ],
   "source": [
    "naiveBayesSentimentCalculator(\"What a terrible movie\")"
   ]
  },
  {
   "cell_type": "markdown",
   "id": "e1cc3759-f183-4b5f-973a-120987653c12",
   "metadata": {},
   "source": [
    "As you can see, since our Polarity scores were 1 and -1, our classifier gives us 1 and -1 as possible classes."
   ]
  },
  {
   "cell_type": "markdown",
   "id": "399ffc80-7824-4c77-92ce-bf77538f854a",
   "metadata": {},
   "source": [
    "To quantify how our classifier performs, we now pass in the test data to produce predicted sentiment scores that we can compare against the actual test data's Polarity."
   ]
  },
  {
   "cell_type": "code",
   "execution_count": 91,
   "id": "281458c6-6a2b-4627-b431-d74354bbea76",
   "metadata": {},
   "outputs": [],
   "source": [
    "testPosReviews['naiveBayesSentiment'] = [naiveBayesSentimentCalculator(review) for review in testPosReviews['Review']]\n",
    "testNegReviews['naiveBayesSentiment'] = [naiveBayesSentimentCalculator(review) for review in testNegReviews['Review']]"
   ]
  },
  {
   "cell_type": "markdown",
   "id": "9880e6f7-dca1-40c1-a913-0e5b8fb76b68",
   "metadata": {},
   "source": [
    "The following function assesses the accuracy of our Naives Bayes classifier."
   ]
  },
  {
   "cell_type": "code",
   "execution_count": 92,
   "id": "e6a58b6d-7d2e-4368-94e5-e4de3cfa1d8b",
   "metadata": {},
   "outputs": [],
   "source": [
    "def runScoringNB():\n",
    "    poscorrect = testPosReviews.loc[(testPosReviews['Polarity']==1) & (testPosReviews['naiveBayesSentiment']==1),'Review'].count()\n",
    "    postotal = testPosReviews.loc[(testPosReviews['Polarity']==1),'Review'].count()\n",
    "\n",
    "    negcorrect = testNegReviews.loc[(testNegReviews['Polarity']==-1) & (testNegReviews['naiveBayesSentiment']==-1),'Review'].count()\n",
    "    negtotal = testNegReviews.loc[(testNegReviews['Polarity']==-1),'Review'].count()\n",
    "\n",
    "    total = testPosReviews['Review'].count() + testNegReviews['Review'].count()\n",
    "\n",
    "    print('The accuracy for positive reviews is: ' + str(poscorrect/postotal*100) + '%')\n",
    "    print('The accuracy for negative reviews is: ' + str(negcorrect/negtotal*100) + '%')\n",
    "    print('The overall accuracy is: ' + str((poscorrect+negcorrect)/total*100) + '%')"
   ]
  },
  {
   "cell_type": "code",
   "execution_count": 93,
   "id": "d46d7887-fa9f-4357-8540-3126f79d4d14",
   "metadata": {},
   "outputs": [
    {
     "name": "stdout",
     "output_type": "stream",
     "text": [
      "The accuracy for positive reviews is: 69.48039767398237%\n",
      "The accuracy for negative reviews is: 40.14256237103733%\n",
      "The overall accuracy is: 54.81148002250985%\n",
      "The accuracy for positive reviews is: 69.91183642843744%\n",
      "The accuracy for negative reviews is: 50.87225661226786%\n",
      "The overall accuracy is: 60.39204652035265%\n",
      "The accuracy for positive reviews is: 73.13119183428401%\n",
      "The accuracy for negative reviews is: 74.99249474632242%\n",
      "The overall accuracy is: 74.06184329030322%\n"
     ]
    }
   ],
   "source": [
    "runScoring(dfall, 'VaderSentiment')\n",
    "runScoring(dfall, 'naiveSentiment')\n",
    "runScoringNB()"
   ]
  },
  {
   "cell_type": "markdown",
   "id": "a1b02812-f1e4-42fe-bf7c-a5882e28b5f2",
   "metadata": {},
   "source": [
    "The accuracy here is starting to improve!"
   ]
  }
 ],
 "metadata": {
  "kernelspec": {
   "display_name": "Python 3.9.13 ('geoprj')",
   "language": "python",
   "name": "python3"
  },
  "language_info": {
   "codemirror_mode": {
    "name": "ipython",
    "version": 3
   },
   "file_extension": ".py",
   "mimetype": "text/x-python",
   "name": "python",
   "nbconvert_exporter": "python",
   "pygments_lexer": "ipython3",
   "version": "3.9.13"
  },
  "vscode": {
   "interpreter": {
    "hash": "23234625f55973f7a58126a35d86facfdbb1213f4cf262be4a4984331c60271a"
   }
  }
 },
 "nbformat": 4,
 "nbformat_minor": 5
}
