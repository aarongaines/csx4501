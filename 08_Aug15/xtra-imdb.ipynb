{
 "cells": [
  {
   "cell_type": "markdown",
   "id": "784ff60b-1f17-47e1-a23e-380227d52e8b",
   "metadata": {},
   "source": [
    "# Sentiment Analysis with Neural Networks\n",
    "\n",
    "Acknowledgement for this notebook goes to Chollet's \"Deep Learning with Python\""
   ]
  },
  {
   "cell_type": "code",
   "execution_count": null,
   "id": "decc8fcd-1709-4959-a2af-135546ddf16c",
   "metadata": {},
   "outputs": [],
   "source": [
    "from tensorflow import keras"
   ]
  },
  {
   "cell_type": "markdown",
   "id": "e74dd21c-00c8-4671-a6d6-d2d85638d83c",
   "metadata": {},
   "source": [
    "# Getting the data\n",
    "\n",
    "Keras already has an IMDB dataset for us to play around with (and one that's conveniently already split up into training and testing data).\n",
    "* [Documentation for Keras's IMBD movie review sentiment classification dataset](https://keras.io/api/datasets/imdb/)"
   ]
  },
  {
   "cell_type": "code",
   "execution_count": null,
   "id": "0b73e722-16e6-4548-8498-925fff52456b",
   "metadata": {},
   "outputs": [],
   "source": [
    "from keras.datasets import imdb\n",
    "(train_data, train_labels), (test_data, test_labels) = imdb.load_data(num_words=1500)"
   ]
  },
  {
   "cell_type": "markdown",
   "id": "d2e14e5c-76c0-4ca7-94f8-2cfbddb27ec0",
   "metadata": {},
   "source": [
    "Let's look at some of the data."
   ]
  },
  {
   "cell_type": "code",
   "execution_count": null,
   "id": "58329f11-840d-4472-9442-08bb2755f42b",
   "metadata": {},
   "outputs": [],
   "source": [
    "print(train_data[0])"
   ]
  },
  {
   "cell_type": "code",
   "execution_count": null,
   "id": "60c9b3ac-a6d6-40e6-bacd-7429ee845752",
   "metadata": {},
   "outputs": [],
   "source": [
    "train_labels[0]"
   ]
  },
  {
   "cell_type": "markdown",
   "id": "9974a718-0b0d-4d43-a59a-7e6816d005b9",
   "metadata": {},
   "source": [
    "The reviews are currently strings of numbers.  We can use `get_word_index` to retrieve the correspondence between words and numbers, and we can reverse it if we want to see what word corresponds to a particular numerical index."
   ]
  },
  {
   "cell_type": "code",
   "execution_count": null,
   "id": "8b7be15a-879f-4d2a-a6d1-8a309bf4f578",
   "metadata": {},
   "outputs": [],
   "source": [
    "word_index = imdb.get_word_index()\n",
    "reverse_word_index = dict([(value, key) for (key, value) in word_index.items()])"
   ]
  },
  {
   "cell_type": "code",
   "execution_count": null,
   "id": "63252d35-e4c8-4f4a-9f09-f10bae58429a",
   "metadata": {},
   "outputs": [],
   "source": [
    "print(reverse_word_index[19])"
   ]
  },
  {
   "cell_type": "code",
   "execution_count": null,
   "id": "60fa520a-2472-43c2-a0ec-f3b5c24e5855",
   "metadata": {},
   "outputs": [],
   "source": [
    "reverse_word_index.get(34701-3)"
   ]
  },
  {
   "cell_type": "code",
   "execution_count": null,
   "id": "d2e0297d-5c59-47cb-a6f6-9c042839de7b",
   "metadata": {},
   "outputs": [],
   "source": [
    "reverse_word_index.get(2)"
   ]
  },
  {
   "cell_type": "markdown",
   "id": "3db192a8-50b0-420c-8d7d-cdc319f533e8",
   "metadata": {},
   "source": [
    "This `reverse_word_index` is useful, for example, if we want to actually read a review rather than see it as a list of numbers.\n",
    "* One slight catch is that the indexing starts with an offset of 3, since the 0, 1, and 2 are used for other purposes (see the docs)."
   ]
  },
  {
   "cell_type": "code",
   "execution_count": null,
   "id": "c96c4409-5c8e-4223-99be-bb9d249c59f9",
   "metadata": {},
   "outputs": [],
   "source": [
    "dataitem = 0\n",
    "' '.join([reverse_word_index.get(i-3, '?') for i in train_data[dataitem]])"
   ]
  },
  {
   "cell_type": "markdown",
   "id": "0c774d6f-601c-4889-928a-cab9dfbe3c7b",
   "metadata": {},
   "source": [
    "We'll need to have consistent array inputs to our neural network.\n",
    "* Create word vectors that are 1500 elements long (the total number of words), and that have 0 or 1 at each location, depending on whether the word at that particular index is in the review."
   ]
  },
  {
   "cell_type": "code",
   "execution_count": null,
   "id": "e8d94660-38a3-4693-909b-df81f2f2c32b",
   "metadata": {},
   "outputs": [],
   "source": [
    "import numpy as np"
   ]
  },
  {
   "cell_type": "code",
   "execution_count": null,
   "id": "a98df8e4-24eb-4876-a716-ce127a78c4de",
   "metadata": {},
   "outputs": [],
   "source": [
    "def vectorize_sequences(sequences, dimension=1500):\n",
    "    results = np.zeros((len(sequences), dimension))\n",
    "    for i, sequence in enumerate(sequences):\n",
    "        results[i, sequence] = 1.\n",
    "    return results"
   ]
  },
  {
   "cell_type": "code",
   "execution_count": null,
   "id": "5fbcf8d4-be01-40c2-b640-78e3896b35ad",
   "metadata": {},
   "outputs": [],
   "source": [
    "x_train = vectorize_sequences(train_data)\n",
    "x_test = vectorize_sequences(test_data)"
   ]
  },
  {
   "cell_type": "code",
   "execution_count": null,
   "id": "af71e1e1-23f9-4dfb-8297-f850cef38d70",
   "metadata": {},
   "outputs": [],
   "source": [
    "x_train[0]"
   ]
  },
  {
   "cell_type": "code",
   "execution_count": null,
   "id": "433126c8-4fd0-49ae-9adf-d328f60bc717",
   "metadata": {},
   "outputs": [],
   "source": [
    "x_train[0].sum()"
   ]
  },
  {
   "cell_type": "code",
   "execution_count": null,
   "id": "53956f7b-6f93-4196-b1b5-2441289c703a",
   "metadata": {},
   "outputs": [],
   "source": [
    "len(x_train[0])"
   ]
  },
  {
   "cell_type": "code",
   "execution_count": null,
   "id": "a6ad9692-1378-4438-bcf7-d889997a9132",
   "metadata": {},
   "outputs": [],
   "source": [
    "train_labels[0]"
   ]
  },
  {
   "cell_type": "markdown",
   "id": "b6ab3888-b652-4226-8a25-c6fedca47f8c",
   "metadata": {},
   "source": [
    "Let's also convert our labels into floats, as the network will output floats (the probability of being a 0 or 1 rather than a strict 0 or 1 output)."
   ]
  },
  {
   "cell_type": "code",
   "execution_count": null,
   "id": "2a3c6030-e4bf-4d21-917f-a4a678341017",
   "metadata": {},
   "outputs": [],
   "source": [
    "y_train = np.asarray(train_labels).astype('float32')\n",
    "y_test = np.asarray(test_labels).astype('float32')"
   ]
  },
  {
   "cell_type": "code",
   "execution_count": null,
   "id": "86ccc023-1b59-445b-b37f-dd26a9f9bf8b",
   "metadata": {},
   "outputs": [],
   "source": [
    "y_train[0]"
   ]
  },
  {
   "cell_type": "markdown",
   "id": "4a6e8e03-dc1a-410f-92d4-84aee2c1f5e8",
   "metadata": {},
   "source": [
    "## Build our network"
   ]
  },
  {
   "cell_type": "code",
   "execution_count": null,
   "id": "f06266a0-130a-4b63-af37-34126f9b8103",
   "metadata": {},
   "outputs": [],
   "source": [
    "from keras import models\n",
    "from keras import layers"
   ]
  },
  {
   "cell_type": "code",
   "execution_count": null,
   "id": "6e96bb3e-ef28-45d2-905b-c169747fa855",
   "metadata": {},
   "outputs": [],
   "source": [
    "model = models.Sequential()\n",
    "model.add(layers.Dense(16, activation='relu', input_shape=(1500,)))\n",
    "model.add(layers.Dense(16, activation='relu'))\n",
    "model.add(layers.Dense(1, activation='sigmoid'))"
   ]
  },
  {
   "cell_type": "code",
   "execution_count": null,
   "id": "3a39010d-e224-4d11-b0d1-c747efae466a",
   "metadata": {},
   "outputs": [],
   "source": [
    "model.compile(optimizer='rmsprop',\n",
    "              loss='binary_crossentropy',\n",
    "              metrics=['accuracy'])"
   ]
  },
  {
   "cell_type": "code",
   "execution_count": null,
   "id": "4d3b34bd-8029-4be8-9af0-1f040c37480a",
   "metadata": {},
   "outputs": [],
   "source": [
    "# model.compile(optimizer=optimizers.RMSprop(lr=0.001),\n",
    "# loss='binary_crossentropy',\n",
    "# metrics=['accuracy'])\n",
    "\n",
    "# -or-\n",
    "\n",
    "# from keras import losses\n",
    "# from keras import metrics\n",
    "\n",
    "# model.compile(optimizer=optimizers.RMSprop(lr=0.001),\n",
    "# loss=losses.binary_crossentropy,\n",
    "# metrics=[metrics.binary_accuracy])"
   ]
  },
  {
   "cell_type": "markdown",
   "id": "12bccdb7-289d-4ed6-a323-82cb0bcac06e",
   "metadata": {},
   "source": [
    "We are going to make a validation set too, so that we can use it to determine how the model training is performing after each epoch."
   ]
  },
  {
   "cell_type": "code",
   "execution_count": null,
   "id": "f6180590-244f-454f-b62c-cca802d5cd2a",
   "metadata": {},
   "outputs": [],
   "source": [
    "x_val = x_train[:10000]\n",
    "partial_x_train = x_train[10000:]"
   ]
  },
  {
   "cell_type": "code",
   "execution_count": null,
   "id": "23e50b58-8fac-4a86-b8d9-c1ff62a28aae",
   "metadata": {},
   "outputs": [],
   "source": [
    "y_val = y_train[:10000]\n",
    "partial_y_train = y_train[10000:]"
   ]
  },
  {
   "cell_type": "code",
   "execution_count": null,
   "id": "c7dfd106-e49a-4dc5-9bb3-2ac5e223419c",
   "metadata": {},
   "outputs": [],
   "source": [
    "history = model.fit(partial_x_train,\n",
    "                    partial_y_train,\n",
    "                    epochs=20,\n",
    "                    batch_size=512,\n",
    "                    validation_data=(x_val, y_val))"
   ]
  },
  {
   "cell_type": "code",
   "execution_count": null,
   "id": "05d44cc2-8c66-4154-8e82-c8fb8add52ee",
   "metadata": {},
   "outputs": [],
   "source": [
    "history_dict = history.history\n",
    "history_dict.keys()"
   ]
  },
  {
   "cell_type": "code",
   "execution_count": null,
   "id": "164afe55-39b7-405f-a8e9-6fc795cc6c02",
   "metadata": {},
   "outputs": [],
   "source": [
    "import matplotlib.pyplot as plt\n",
    "\n",
    "history_dict = history.history\n",
    "loss_values = history_dict['loss']\n",
    "val_loss_values = history_dict['val_loss']\n",
    "\n",
    "epochs = range(1, len(loss_values) + 1)\n",
    "\n",
    "plt.plot(epochs, loss_values, 'bo', label='Training loss')\n",
    "plt.plot(epochs, val_loss_values, 'b', label='Validation loss')\n",
    "plt.title('Training and validation loss')\n",
    "plt.xlabel('Epochs')\n",
    "plt.ylabel('Loss')\n",
    "plt.legend()\n",
    "\n",
    "plt.show()"
   ]
  },
  {
   "cell_type": "code",
   "execution_count": null,
   "id": "df3ea3f6-22b2-4bbf-9c65-ece389af9a14",
   "metadata": {},
   "outputs": [],
   "source": [
    "acc_values = history_dict['accuracy']\n",
    "val_acc_values = history_dict['val_accuracy']\n",
    "\n",
    "plt.plot(epochs, acc_values, 'bo', label='Training acc')\n",
    "plt.plot(epochs, val_acc_values, 'b', label='Validation acc')\n",
    "plt.title('Training and validation accuracy')\n",
    "plt.xlabel('Epochs')\n",
    "plt.ylabel('Loss')\n",
    "plt.legend()\n",
    "\n",
    "plt.show()"
   ]
  },
  {
   "cell_type": "markdown",
   "id": "8c2e4bd1-ee67-4080-a73b-beca2d12c210",
   "metadata": {},
   "source": [
    "It looks like the validation loss was the lowest at either epoch 4 or epoch 6.  After that the model gets overfit pretty badly.\n",
    "\n",
    "We'll retrain the model only to epoch 4, and then assess the accuracy of that trained model."
   ]
  },
  {
   "cell_type": "code",
   "execution_count": null,
   "id": "623de596-8089-475e-a560-ed63d902a839",
   "metadata": {},
   "outputs": [],
   "source": [
    "model = keras.Sequential([\n",
    "    layers.Dense(16, activation=\"relu\"),\n",
    "    layers.Dense(16, activation=\"relu\"),\n",
    "    layers.Dense(1, activation=\"sigmoid\")\n",
    "])\n",
    "model.compile(optimizer=\"rmsprop\",\n",
    "              loss=\"binary_crossentropy\",\n",
    "              metrics=[\"accuracy\"])\n",
    "model.fit(x_train, y_train, epochs=4, batch_size=512)\n",
    "results = model.evaluate(x_test, y_test)"
   ]
  },
  {
   "cell_type": "code",
   "execution_count": null,
   "id": "926ae52f-0fbf-4abd-9d86-f0640e7a8515",
   "metadata": {},
   "outputs": [],
   "source": [
    "results"
   ]
  },
  {
   "cell_type": "markdown",
   "id": "b0bdf4ab-5369-40be-96c9-c150d2ea0d95",
   "metadata": {},
   "source": [
    "Let's look at an example sentiment classification."
   ]
  },
  {
   "cell_type": "code",
   "execution_count": null,
   "id": "06ae4618-835d-4678-9eb4-91ba08b466da",
   "metadata": {},
   "outputs": [],
   "source": [
    "dataitem = 0\n",
    "' '.join([reverse_word_index.get(i, '?') for i in test_data[dataitem]])"
   ]
  },
  {
   "cell_type": "code",
   "execution_count": null,
   "id": "9fe20a51-2499-47cd-a30a-923376e66cec",
   "metadata": {},
   "outputs": [],
   "source": [
    "sample = 10\n",
    "print(model.predict(x_test[sample].reshape(-1,1500)))\n",
    "print(y_test[sample])\n",
    "print(' '.join([reverse_word_index.get(i, '?') for i in test_data[sample]]))"
   ]
  }
 ],
 "metadata": {
  "kernelspec": {
   "display_name": "Python 3 (ipykernel)",
   "language": "python",
   "name": "python3"
  },
  "language_info": {
   "codemirror_mode": {
    "name": "ipython",
    "version": 3
   },
   "file_extension": ".py",
   "mimetype": "text/x-python",
   "name": "python",
   "nbconvert_exporter": "python",
   "pygments_lexer": "ipython3",
   "version": "3.9.6"
  }
 },
 "nbformat": 4,
 "nbformat_minor": 5
}
