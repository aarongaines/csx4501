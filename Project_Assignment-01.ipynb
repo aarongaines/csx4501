{
 "cells": [
  {
   "cell_type": "markdown",
   "metadata": {},
   "source": [
    "# Project - Assignment 1"
   ]
  },
  {
   "cell_type": "markdown",
   "metadata": {},
   "source": [
    "### Step 1:\n",
    "\n",
    "Identify possible research questions and data."
   ]
  },
  {
   "cell_type": "markdown",
   "metadata": {},
   "source": [
    "1. **Topics**\n",
    "    - *Groundwater quality*\n",
    "        - Is it possible to model groundwater quality over time using avaliable data?\n",
    "        - Do areas with poor water quality coincide with cleanup sites, underground storage tanks and hazardous waste sites?\n",
    "    - *COVID-19*\n",
    "        - What types of data are best able to model and predict COVID-19.\n",
    "2. **Data**\n",
    "    1. Groundwater quality\n",
    "        - *Well data:* to help normalize sample data\n",
    "            - construction information (type, build parameters)\n",
    "                - [GeoTracker](https://geotracker.waterboards.ca.gov/data_download_by_county \"Download ESI Data\")\n",
    "            - [depth to water]()\n",
    "        - *NHD and WBD data* - to identify areas of connected surface contamination  \n",
    "            - [WBD]()\n",
    "            - [NHD]()\n",
    "        - *DEM elevation data* - to check for accuracy in well data\n",
    "            - [USGS 3DEP]()\n",
    "        - *Aquifer data* - to identify areas of contained groundwater\n",
    "        - *Sample data* - to help model water quality\n",
    "            - [GeoTracker](https://geotracker.waterboards.ca.gov/data_download_by_county \"Download ESI Data\")\n",
    "            - [GAMA]()\n",
    "        - *Contamination sources* - to correlate to groundwater quality.\n",
    "    2. COVID-19"
   ]
  },
  {
   "cell_type": "markdown",
   "metadata": {},
   "source": [
    "### Step 2:\n",
    "\n",
    "Identify and download at least one dataset that will begin to guide research."
   ]
  },
  {
   "cell_type": "markdown",
   "metadata": {},
   "source": [
    "### Step 3:\n",
    "\n",
    "Create GitHub repo and add project proposal to README.md file."
   ]
  },
  {
   "cell_type": "markdown",
   "metadata": {},
   "source": [
    "#### Proposal Requirements:\n",
    "\n",
    "1. Intro to research question.\n",
    "2. Explanaition of the research qeustion's importance.\n",
    "3. A preliminary description of potential data sources with links.\n",
    "4. A scope that explains the intended analysis and resulting visualizations.\n",
    "5. A paragraph of what insights are expected to be gained."
   ]
  },
  {
   "cell_type": "markdown",
   "metadata": {},
   "source": []
  }
 ],
 "metadata": {
  "kernelspec": {
   "display_name": "Python 3.9.13 ('geoprj')",
   "language": "python",
   "name": "python3"
  },
  "language_info": {
   "name": "python",
   "version": "3.9.13"
  },
  "orig_nbformat": 4,
  "vscode": {
   "interpreter": {
    "hash": "23234625f55973f7a58126a35d86facfdbb1213f4cf262be4a4984331c60271a"
   }
  }
 },
 "nbformat": 4,
 "nbformat_minor": 2
}
